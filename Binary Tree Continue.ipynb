{
 "cells": [
  {
   "cell_type": "markdown",
   "metadata": {},
   "source": [
    "# Summation"
   ]
  },
  {
   "cell_type": "markdown",
   "metadata": {},
   "source": [
    "# Diagonal Sum of a Binary Tree"
   ]
  },
  {
   "cell_type": "code",
   "execution_count": 1,
   "metadata": {},
   "outputs": [
    {
     "name": "stdout",
     "output_type": "stream",
     "text": [
      "9\n",
      "19\n",
      "42\n"
     ]
    }
   ],
   "source": [
    "class Node:\n",
    "    def __init__(self,data):\n",
    "        self.data=data\n",
    "        self.left=None\n",
    "        self.right=None\n",
    "\n",
    "def getDiagonalSum(root):\n",
    "    if root is None:\n",
    "        print(0)\n",
    "        return\n",
    "    queue=[]\n",
    "    queue.append(root)\n",
    "    queue.append(None)\n",
    "    total=0\n",
    "    while queue:\n",
    "        temp=queue.pop(0)\n",
    "        if temp:\n",
    "            while temp:\n",
    "                total+=temp.data\n",
    "                if temp.left:\n",
    "                    queue.append(temp.left)\n",
    "                temp=temp.right\n",
    "        else:\n",
    "            if len(queue):\n",
    "                queue.append(None)\n",
    "            print(total)\n",
    "            # stack.append(total)\n",
    "            total=0\n",
    "    # return total\n",
    "\n",
    "if __name__ == '__main__':\n",
    "    root=Node(1)\n",
    "    root.left=Node(2)\n",
    "    root.right=Node(3)\n",
    "    root.left.left=Node(9)\n",
    "    root.left.right=Node(6)\n",
    "    root.right.left=Node(4)\n",
    "    root.right.right=Node(5)\n",
    "    root.left.left.right=Node(10)\n",
    "    root.left.right.left=Node(11)\n",
    "    root.right.left.left=Node(12)\n",
    "    root.right.left.right=Node(7)\n",
    "    getDiagonalSum(root)\n"
   ]
  },
  {
   "cell_type": "markdown",
   "metadata": {},
   "source": [
    "This solution is for the slope +1, for slope -1, we can store the left child in queue and process the right child. Fot bottom up approach use stack"
   ]
  },
  {
   "cell_type": "markdown",
   "metadata": {},
   "source": [
    "Another solution based on map"
   ]
  },
  {
   "cell_type": "code",
   "execution_count": 2,
   "metadata": {},
   "outputs": [
    {
     "name": "stdout",
     "output_type": "stream",
     "text": [
      "{0: [1, 3, 5], 1: [2, 6, 4, 7], 2: [9, 10, 11, 12]}\n",
      "9\n",
      "19\n",
      "42\n"
     ]
    }
   ],
   "source": [
    "class Node:\n",
    "    def __init__(self,data):\n",
    "        self.data=data\n",
    "        self.left=None\n",
    "        self.right=None\n",
    "\n",
    "def getDiagonalSumUtil(root,map,level):\n",
    "    if root is None:\n",
    "        return\n",
    "    if level in map:\n",
    "        map[level].append(root.data)\n",
    "    else:\n",
    "        map[level]=[root.data]\n",
    "    getDiagonalSumUtil(root.left,map,level+1)\n",
    "    getDiagonalSumUtil(root.right,map,level)\n",
    "\n",
    "def getDiagonalSum(root):\n",
    "    map={}\n",
    "    getDiagonalSumUtil(root,map,0)\n",
    "    print(map)\n",
    "    for i in map:\n",
    "        print(sum(map[i]))\n",
    "\n",
    "if __name__ == '__main__':\n",
    "    root=Node(1)\n",
    "    root.left=Node(2)\n",
    "    root.right=Node(3)\n",
    "    root.left.left=Node(9)\n",
    "    root.left.right=Node(6)\n",
    "    root.right.left=Node(4)\n",
    "    root.right.right=Node(5)\n",
    "    root.left.left.right=Node(10)\n",
    "    root.left.right.left=Node(11)\n",
    "    root.right.left.left=Node(12)\n",
    "    root.right.left.right=Node(7)\n",
    "    getDiagonalSum(root)\n"
   ]
  },
  {
   "cell_type": "markdown",
   "metadata": {},
   "source": [
    "Time Complexity O(n) and Space Complelxity O(n)"
   ]
  },
  {
   "cell_type": "markdown",
   "metadata": {},
   "source": [
    "# Find if there is a pair in tree with sum equals to root’s data"
   ]
  },
  {
   "cell_type": "markdown",
   "metadata": {},
   "source": [
    "Use hashing."
   ]
  },
  {
   "cell_type": "code",
   "execution_count": 6,
   "metadata": {},
   "outputs": [
    {
     "name": "stdout",
     "output_type": "stream",
     "text": [
      "True\n"
     ]
    }
   ],
   "source": [
    "class Node:\n",
    "    def __init__(self,data):\n",
    "        self.data=data\n",
    "        self.left=None\n",
    "        self.right=None\n",
    "\n",
    "def doesPairExistsUtil(root,key,hash):\n",
    "    if root is None:\n",
    "        return False\n",
    "    temp=key-root.data\n",
    "    # print(hash,root.data,temp)\n",
    "    if temp in hash:\n",
    "        return True\n",
    "    hash.add(root.data)\n",
    "    return doesPairExistsUtil(root.left,key,hash) or doesPairExistsUtil(root.right,key,hash)\n",
    "\n",
    "def doesPairExists(root,key):\n",
    "    if root is None:\n",
    "        return False\n",
    "    if root.left is None and root.right is None:\n",
    "        return False\n",
    "    hash=set()\n",
    "    return doesPairExistsUtil(root,key,hash)\n",
    "\n",
    "if __name__ == '__main__':\n",
    "    root=Node(5)\n",
    "    root.left=Node(2)\n",
    "    root.right=Node(3)\n",
    "    root.left.left=Node(1)\n",
    "    root.left.right=Node(4)\n",
    "    root.left.right.left=Node(6)\n",
    "    root.left.right.right=Node(8)\n",
    "    print(doesPairExists(root,root.data))\n"
   ]
  },
  {
   "cell_type": "markdown",
   "metadata": {},
   "source": [
    "# Find if there is a pair in root to a leaf path with sum equals to root’s data"
   ]
  },
  {
   "cell_type": "code",
   "execution_count": 9,
   "metadata": {},
   "outputs": [
    {
     "name": "stdout",
     "output_type": "stream",
     "text": [
      "False\n"
     ]
    }
   ],
   "source": [
    "class Node:\n",
    "    def __init__(self,data):\n",
    "        self.data=data\n",
    "        self.left=None\n",
    "        self.right=None\n",
    "\n",
    "def doesPairExistsUtil(root,key,hash):\n",
    "    if root is None:\n",
    "        return False\n",
    "    temp=key-root.data\n",
    "    # print(hash,root.data,temp)\n",
    "    if temp in hash:\n",
    "        return True\n",
    "    hash.add(root.data)\n",
    "    res=doesPairExistsUtil(root.left,key,hash) or doesPairExistsUtil(root.right,key,hash)\n",
    "    hash.remove(root.data)\n",
    "    return res\n",
    "\n",
    "def doesPairExists(root,key):\n",
    "    if root is None:\n",
    "        return False\n",
    "    if root.left is None and root.right is None:\n",
    "        return False\n",
    "    hash=set()\n",
    "    return doesPairExistsUtil(root,key,hash)\n",
    "\n",
    "if __name__ == '__main__':\n",
    "    root=Node(5)\n",
    "    root.left=Node(2)\n",
    "    root.right=Node(3)\n",
    "    root.left.left=Node(1)\n",
    "    root.left.right=Node(4)\n",
    "    root.left.right.left=Node(6)\n",
    "    root.left.right.right=Node(8)\n",
    "    print(doesPairExists(root,root.data))\n"
   ]
  },
  {
   "cell_type": "markdown",
   "metadata": {},
   "source": [
    "# Print all root to leaf paths that have a pair with sum equals to root’s data."
   ]
  },
  {
   "cell_type": "code",
   "execution_count": 11,
   "metadata": {},
   "outputs": [
    {
     "name": "stdout",
     "output_type": "stream",
     "text": [
      "8 5 7 1 20\n",
      "8 5 7 1 21\n",
      "8 4 11 3 5\n"
     ]
    }
   ],
   "source": [
    "class Node:\n",
    "    def __init__(self,data):\n",
    "        self.data=data\n",
    "        self.left=None\n",
    "        self.right=None\n",
    "\n",
    "def printRootToLeaf(root,hash):\n",
    "    if root is None:\n",
    "        return\n",
    "    hash.append(root.data)\n",
    "    if root.left is None and root.right is None:\n",
    "        print(\" \".join(map(str,hash)))\n",
    "    printRootToLeaf(root.left,hash)\n",
    "    printRootToLeaf(root.right,hash)\n",
    "    # hash.pop(root.data)\n",
    "    hash.pop()\n",
    "\n",
    "\n",
    "def doesPairExistsUtil(root,key,hash):\n",
    "    if root is None:\n",
    "        return False\n",
    "    temp=key-root.data\n",
    "    # print(hash,root.data,temp)\n",
    "    if temp in hash:\n",
    "        # print(hash,root.data)\n",
    "        printRootToLeaf(root,hash)\n",
    "        return\n",
    "    hash.append(root.data)\n",
    "    doesPairExistsUtil(root.left,key,hash)\n",
    "    doesPairExistsUtil(root.right,key,hash)\n",
    "    # hash.pop(root.data)\n",
    "    hash.pop()\n",
    "    # return res\n",
    "\n",
    "def doesPairExists(root,key):\n",
    "    if root is None:\n",
    "        return False\n",
    "    if root.left is None and root.right is None:\n",
    "        return False\n",
    "    hash=[]\n",
    "    # return doesPairExistsUtil(root,key,hash)\n",
    "    doesPairExistsUtil(root,key,hash)\n",
    "\n",
    "if __name__ == '__main__':\n",
    "    # root=Node(5)\n",
    "    # root.left=Node(2)\n",
    "    # root.right=Node(3)\n",
    "    # root.left.left=Node(1)\n",
    "    # root.left.right=Node(4)\n",
    "    # root.left.right.left=Node(6)\n",
    "    # root.left.right.right=Node(8)\n",
    "    root = Node(8)\n",
    "    root.left = Node(5)\n",
    "    root.right = Node(4)\n",
    "    root.left.left = Node(9)\n",
    "    root.left.right = Node(7)\n",
    "    root.left.right.left = Node(1)\n",
    "    root.left.right.right = Node(12)\n",
    "    root.left.right.right.right = Node(2)\n",
    "    root.right.right = Node(11)\n",
    "    root.right.right.left = Node(3)\n",
    "    root.right.right.left.right = Node(5)\n",
    "    root.left.right.left.left = Node(20)\n",
    "    root.left.right.left.right = Node(21)\n",
    "    doesPairExists(root,root.data)\n"
   ]
  },
  {
   "cell_type": "markdown",
   "metadata": {},
   "source": [
    "# Sum of nodes on the longest path from root to leaf node"
   ]
  },
  {
   "cell_type": "code",
   "execution_count": 13,
   "metadata": {},
   "outputs": [
    {
     "name": "stdout",
     "output_type": "stream",
     "text": [
      "29\n"
     ]
    }
   ],
   "source": [
    "class Node:\n",
    "    def __init__(self,data):\n",
    "        self.data=data\n",
    "        self.left=None\n",
    "        self.right=None\n",
    "\n",
    "def getSumUtil(root,total,level,result):\n",
    "    if root is None:\n",
    "        return\n",
    "    # path.append(root.data)\n",
    "    total[0]+=root.data\n",
    "    if level==result[1]:\n",
    "        result[0]=max(result[0],total[0])\n",
    "        result[1]=level\n",
    "    elif level>result[1]:\n",
    "        result[1]=level\n",
    "        result[0]=total[0]\n",
    "    getSumUtil(root.left,total,level+1,result)\n",
    "    getSumUtil(root.right,total,level+1,result)\n",
    "    total[0]-=root.data\n",
    "    # path.pop()\n",
    "\n",
    "def getSum(root):\n",
    "    level=0\n",
    "    result=[0,0]\n",
    "    total=[0]\n",
    "    # path=[]\n",
    "    getSumUtil(root,total,level,result)\n",
    "    print(result[0])\n",
    "if __name__ == '__main__':\n",
    "    root=Node(4)\n",
    "    root.left=Node(2)\n",
    "    root.right=Node(5)\n",
    "    root.left.left=Node(7)\n",
    "    # root.left.left.left=Node(20)\n",
    "    root.left.right=Node(1)\n",
    "    root.left.right.left=Node(6)\n",
    "    root.left.right.left.left=Node(16)\n",
    "    root.right.left=Node(2)\n",
    "    root.right.right=Node(3)\n",
    "    getSum(root)\n"
   ]
  },
  {
   "cell_type": "markdown",
   "metadata": {},
   "source": [
    "Another Approach->"
   ]
  },
  {
   "cell_type": "code",
   "execution_count": 3,
   "metadata": {},
   "outputs": [
    {
     "name": "stdout",
     "output_type": "stream",
     "text": [
      "13\n"
     ]
    }
   ],
   "source": [
    "class Node:\n",
    "    def __init__(self,data):\n",
    "        self.data=data\n",
    "        self.left=None\n",
    "        self.right=None\n",
    "\n",
    "def getLongestPathSum(root):\n",
    "    h=[0]\n",
    "    currHeight=0\n",
    "    total=[0]\n",
    "    currSum=0\n",
    "    getLongestPathSumUtil(root,h,currHeight,total,currSum)\n",
    "    print(total[0])\n",
    "\n",
    "def getLongestPathSumUtil(root,h,currHeight,total,currSum):\n",
    "    if root is None:\n",
    "        return\n",
    "    currSum+=root.data\n",
    "    if currHeight>=h[0]:\n",
    "        h[0]=currHeight\n",
    "        if currSum>total[0]:\n",
    "            total[0]=currSum\n",
    "    getLongestPathSumUtil(root.left,h,currHeight+1,total,currSum)\n",
    "    getLongestPathSumUtil(root.right,h,currHeight+1,total,currSum)\n",
    "\n",
    "if __name__ == '__main__':\n",
    "    root=Node(4)\n",
    "    root.left=Node(2)\n",
    "    root.right=Node(5)\n",
    "    root.left.left=Node(7)\n",
    "    root.left.right=Node(1)\n",
    "    root.right.left=Node(2)\n",
    "    root.right.right=Node(3)\n",
    "    root.left.right.left=Node(6)\n",
    "    getLongestPathSum(root)\n"
   ]
  },
  {
   "cell_type": "markdown",
   "metadata": {},
   "source": [
    "Time Complexity O(n)"
   ]
  },
  {
   "cell_type": "markdown",
   "metadata": {},
   "source": [
    "# Remove all nodes which don’t lie in any path with sum>= k"
   ]
  },
  {
   "cell_type": "markdown",
   "metadata": {},
   "source": [
    "<pre>\n",
    "Given a binary tree, a complete path is defined as a path from root to a leaf. The sum of all nodes on that path is defined as the sum of that path. Given a number K, you have to remove (prune the tree) all nodes which don’t lie in any path with sum>=k.\n",
    "\n",
    "Note: A node can be part of multiple paths. So we have to delete it only in case when all paths from it have sum less than K.\n",
    "</pre>"
   ]
  },
  {
   "cell_type": "code",
   "execution_count": 15,
   "metadata": {},
   "outputs": [
    {
     "name": "stdout",
     "output_type": "stream",
     "text": [
      "8 4 9 2 12 5 1 6 3 10 11 7 \n",
      "2 12 5 1 3 10 11 7 "
     ]
    }
   ],
   "source": [
    "class Node:\n",
    "    def __init__(self,data):\n",
    "        self.data=data\n",
    "        self.left=None\n",
    "        self.right=None\n",
    "\n",
    "def isLeaf(root):\n",
    "    if root.left is None and root.right is None:\n",
    "        return True\n",
    "    return False\n",
    "\n",
    "def pruneTreeUtil(root,value,total):\n",
    "    if root is None:\n",
    "        return\n",
    "    value[0]+=root.data\n",
    "    # if isLeaf(root) and value[0]<total:\n",
    "    #     value[0]-=root.data\n",
    "    #     return None\n",
    "    root.left=pruneTreeUtil(root.left,value,total)\n",
    "    root.right=pruneTreeUtil(root.right,value,total)\n",
    "    if isLeaf(root) and value[0]<total:\n",
    "        value[0]-=root.data\n",
    "        return None\n",
    "    value[0]-=root.data\n",
    "    return root\n",
    "\n",
    "def pruneTree(root,total):\n",
    "    value=[0]\n",
    "    root=pruneTreeUtil(root,value,total)\n",
    "    return root\n",
    "def inorder(root):\n",
    "    if root is None:\n",
    "        return\n",
    "    inorder(root.left)\n",
    "    print(root.data,end=\" \")\n",
    "    inorder(root.right)\n",
    "\n",
    "if __name__ == '__main__':\n",
    "    root = Node(1)\n",
    "    root.left = Node(2)\n",
    "    root.right = Node(3)\n",
    "    root.left.left = Node(4)\n",
    "    root.left.right = Node(5)\n",
    "    root.right.left = Node(6)\n",
    "    root.right.right = Node(7)\n",
    "    root.left.left.left = Node(8)\n",
    "    root.left.left.right = Node(9)\n",
    "    root.left.right.left = Node(12)\n",
    "    root.right.right.left = Node(10)\n",
    "    root.right.right.left.right = Node(11)\n",
    "    # root.left.left.right.left = Node(13)\n",
    "    # root.left.left.right.right = Node(14)\n",
    "    # root.left.left.right.right.left = Node(15)\n",
    "    inorder(root)\n",
    "    print()\n",
    "    root=pruneTree(root,20)\n",
    "    inorder(root)\n"
   ]
  },
  {
   "cell_type": "markdown",
   "metadata": {},
   "source": [
    "<pre>\n",
    "Another Approach -> The above code can be simplified using the fact that nodes are deleted in bottom up manner. The idea is to keep reducing the sum when traversing down. When we reach a leaf and sum is greater than the leaf’s data, then we delete the leaf. Note that deleting nodes may convert a non-leaf node to a leaf node and if the data for the converted leaf node is less than the current sum, then the converted leaf should also be deleted.\n",
    "</pre>"
   ]
  },
  {
   "cell_type": "code",
   "execution_count": 16,
   "metadata": {},
   "outputs": [
    {
     "name": "stdout",
     "output_type": "stream",
     "text": [
      "8 4 9 2 12 5 1 6 3 10 11 7 \n",
      "2 12 5 1 3 10 11 7 "
     ]
    }
   ],
   "source": [
    "class Node:\n",
    "    def __init__(self,data):\n",
    "        self.data=data\n",
    "        self.left=None\n",
    "        self.right=None\n",
    "\n",
    "def isLeaf(root):\n",
    "    if root.left is None and root.right is None:\n",
    "        return True\n",
    "    return False\n",
    "\n",
    "def pruneTree(root,value):\n",
    "    if root is None:\n",
    "        return\n",
    "    root.left=pruneTree(root.left,value-root.data)\n",
    "    root.right=pruneTree(root.right,value-root.data)\n",
    "    if isLeaf(root) and value>root.data:\n",
    "        return None\n",
    "    return root\n",
    "\n",
    "def inorder(root):\n",
    "    if root is None:\n",
    "        return\n",
    "    inorder(root.left)\n",
    "    print(root.data,end=\" \")\n",
    "    inorder(root.right)\n",
    "\n",
    "if __name__ == '__main__':\n",
    "    root = Node(1)\n",
    "    root.left = Node(2)\n",
    "    root.right = Node(3)\n",
    "    root.left.left = Node(4)\n",
    "    root.left.right = Node(5)\n",
    "    root.right.left = Node(6)\n",
    "    root.right.right = Node(7)\n",
    "    root.left.left.left = Node(8)\n",
    "    root.left.left.right = Node(9)\n",
    "    root.left.right.left = Node(12)\n",
    "    root.right.right.left = Node(10)\n",
    "    root.right.right.left.right = Node(11)\n",
    "    # root.left.left.right.left = Node(13)\n",
    "    # root.left.left.right.right = Node(14)\n",
    "    # root.left.left.right.right.left = Node(15)\n",
    "    inorder(root)\n",
    "    print()\n",
    "    root=pruneTree(root,20)\n",
    "    inorder(root)\n"
   ]
  },
  {
   "cell_type": "markdown",
   "metadata": {},
   "source": [
    "Another Approach->"
   ]
  },
  {
   "cell_type": "code",
   "execution_count": 6,
   "metadata": {},
   "outputs": [
    {
     "name": "stdout",
     "output_type": "stream",
     "text": [
      "8 4 13 9 15 14 2 12 5 1 6 3 10 11 7 \n",
      "After Pruning\n",
      "4 13 9 15 14 2 12 5 1 3 10 11 7 "
     ]
    }
   ],
   "source": [
    "class Node:\n",
    "    def __init__(self,data):\n",
    "        self.data=data\n",
    "        self.left=None\n",
    "        self.right=None\n",
    "\n",
    "def inorder(root):\n",
    "    if root is None:\n",
    "        return\n",
    "    inorder(root.left)\n",
    "    print(root.data,end=\" \")\n",
    "    inorder(root.right)\n",
    "\n",
    "def isLeaf(root):\n",
    "    if root.left is None and root.right is None:\n",
    "        return True\n",
    "    return False\n",
    "\n",
    "def removeNodesUtil(root,k,currSum):\n",
    "    if root is None:\n",
    "        return\n",
    "    currSum+=root.data\n",
    "    if isLeaf(root):\n",
    "        if currSum<k:\n",
    "            return None\n",
    "        else:\n",
    "            return root\n",
    "    root.left=removeNodesUtil(root.left,k,currSum)\n",
    "    root.right=removeNodesUtil(root.right,k,currSum)\n",
    "    if isLeaf(root) and currSum<k:\n",
    "        return None\n",
    "    return root\n",
    "\n",
    "def removeNodes(root,k):\n",
    "    removeNodesUtil(root,k,0)\n",
    "\n",
    "if __name__ == '__main__':\n",
    "    root=Node(1)\n",
    "    root.left=Node(2)\n",
    "    root.right=Node(3)\n",
    "    root.left.left=Node(4)\n",
    "    root.left.right=Node(5)\n",
    "    root.left.right.left=Node(12)\n",
    "    root.right.left=Node(6)\n",
    "    root.right.right=Node(7)\n",
    "    root.left.left.left=Node(8)\n",
    "    root.left.left.right=Node(9)\n",
    "    root.left.left.right.left=Node(13)\n",
    "    root.left.left.right.right=Node(14)\n",
    "    root.left.left.right.right.left=Node(15)\n",
    "    root.right.right.left=Node(10)\n",
    "    root.right.right.left.right=Node(11)\n",
    "    inorder(root)\n",
    "    print()\n",
    "    k=20\n",
    "    removeNodes(root,k)\n",
    "    print(\"After Pruning\")\n",
    "    inorder(root)\n"
   ]
  },
  {
   "cell_type": "markdown",
   "metadata": {},
   "source": [
    "Time Complexity O(n)"
   ]
  },
  {
   "cell_type": "markdown",
   "metadata": {},
   "source": [
    "# Find the maximum path sum between two leaves of a binary tree"
   ]
  },
  {
   "cell_type": "markdown",
   "metadata": {},
   "source": [
    "Given a binary tree in which each node element contains a number. Find the maximum possible sum from one leaf node to another.\n",
    "The maximum sum path may or may not go through root."
   ]
  },
  {
   "cell_type": "markdown",
   "metadata": {},
   "source": [
    "<pre>\n",
    "We can find the maximum sum using single traversal of binary tree. The idea is to maintain two values in recursive calls\n",
    "1) Maximum root to leaf path sum for the subtree rooted under current node.\n",
    "2) The maximum path sum between leaves (desired output).\n",
    "\n",
    "For every visited node X, we find the maximum root to leaf sum in left and right subtrees of X. We add the two values with X->data, and compare the sum with maximum path sum found so far.\n",
    "</pre>"
   ]
  },
  {
   "cell_type": "code",
   "execution_count": 2,
   "metadata": {},
   "outputs": [
    {
     "name": "stdout",
     "output_type": "stream",
     "text": [
      "27\n"
     ]
    }
   ],
   "source": [
    "class Node:\n",
    "    def __init__(self,data):\n",
    "        self.data=data\n",
    "        self.left=None\n",
    "        self.right=None\n",
    "\n",
    "def getLongestSumPathUtil(root,total):\n",
    "    if root is None:\n",
    "        return 0\n",
    "    left=getLongestSumPathUtil(root.left,total)\n",
    "    right=getLongestSumPathUtil(root.right,total)\n",
    "    if left+right+root.data>total[0]:\n",
    "        total[0]=left+right+root.data\n",
    "    return max(left,right)+root.data\n",
    "\n",
    "def getLongestSumPath(root):\n",
    "    if root.left is None or root.right is None:\n",
    "        return float('-infinity')\n",
    "    total=[0]\n",
    "    getLongestSumPathUtil(root,total)\n",
    "    return total[0]\n",
    "\n",
    "if __name__ == '__main__':\n",
    "    root=Node(-15)\n",
    "    root.left=Node(5)\n",
    "    root.right=Node(6)\n",
    "    root.left.left=Node(-8)\n",
    "    root.left.right=Node(1)\n",
    "    root.left.left.left=Node(2)\n",
    "    root.left.left.right=Node(6)\n",
    "    root.right.left=Node(3)\n",
    "    root.right.right=Node(9)\n",
    "    root.right.right.right=Node(0)\n",
    "    root.right.right.right.left=Node(4)\n",
    "    root.right.right.right.right=Node(-1)\n",
    "    root.right.right.right.right.left=Node(10)\n",
    "    print(getLongestSumPath(root))\n"
   ]
  },
  {
   "cell_type": "markdown",
   "metadata": {},
   "source": [
    "# Find the maximum sum leaf to root path in a Binary Tree"
   ]
  },
  {
   "cell_type": "markdown",
   "metadata": {},
   "source": [
    "First Find the target Leaf node and then print the path"
   ]
  },
  {
   "cell_type": "code",
   "execution_count": 2,
   "metadata": {},
   "outputs": [
    {
     "name": "stdout",
     "output_type": "stream",
     "text": [
      "7\n",
      "10\n"
     ]
    }
   ],
   "source": [
    "class Node:\n",
    "    def __init__(self,data):\n",
    "        self.data=data\n",
    "        self.left=None\n",
    "        self.right=None\n",
    "\n",
    "def isLeaf(root):\n",
    "    if root.left is None and root.right is None:\n",
    "        return True\n",
    "    return False\n",
    "\n",
    "def getMaxSumPathUtil(root,total,result,leaf):\n",
    "    if root is None:\n",
    "        return\n",
    "    total[0]+=root.data\n",
    "    if isLeaf(root):\n",
    "        if total[0]>result[0]:\n",
    "            result[0]=total[0]\n",
    "            leaf[0]=root\n",
    "        total[0]-=root.data\n",
    "        return\n",
    "    getMaxSumPathUtil(root.left,total,result,leaf)\n",
    "    getMaxSumPathUtil(root.right,total,result,leaf)\n",
    "    total[0]-=root.data\n",
    "\n",
    "def getPath(root,leafNode):\n",
    "    '''\n",
    "    if root is None:\n",
    "        return False\n",
    "    path.append(root.data)\n",
    "    if root==leafNode:\n",
    "        return True\n",
    "    result=getPath(root.left,leafNode,path) or getPath(root.right,leafNode,path)\n",
    "    if result:\n",
    "        return True\n",
    "    path.pop()\n",
    "    return False\n",
    "    '''\n",
    "\n",
    "    if root is None:\n",
    "        return False\n",
    "    if root==leafNode or getPath(root.left,leafNode) or getPath(root.right,leafNode):\n",
    "        print(root.data)\n",
    "        return True\n",
    "    return False\n",
    "\n",
    "\n",
    "\n",
    "def getMaxSumPath(root):\n",
    "    total=[0]\n",
    "    result=[0]\n",
    "    leaf=[None]\n",
    "    # path=[]\n",
    "    getMaxSumPathUtil(root,total,result,leaf)\n",
    "    # print(result[0],leaf[0].data)\n",
    "    getPath(root,leaf[0])\n",
    "    # while path:\n",
    "    #     print(path.pop(),end=\" \")\n",
    "\n",
    "if __name__ == '__main__':\n",
    "    root=Node(10)\n",
    "    root.left=Node(-2)\n",
    "    root.right=Node(7)\n",
    "    root.left.left=Node(8)\n",
    "    root.left.right=Node(-4)\n",
    "    getMaxSumPath(root)\n"
   ]
  },
  {
   "cell_type": "markdown",
   "metadata": {},
   "source": [
    "# Maximum sum of nodes in Binary tree such that no two are adjacent"
   ]
  },
  {
   "cell_type": "code",
   "execution_count": 1,
   "metadata": {},
   "outputs": [
    {
     "name": "stdout",
     "output_type": "stream",
     "text": [
      "21\n"
     ]
    }
   ],
   "source": [
    "class Node:\n",
    "    def __init__(self,data):\n",
    "        self.data=data\n",
    "        self.left=None\n",
    "        self.right=None\n",
    "\n",
    "def getGrandChilrenSum(root,map):\n",
    "    total=0\n",
    "    if root.left:\n",
    "        total+=getMaxSumUtil(root.left.left,map)\n",
    "        total+=getMaxSumUtil(root.left.right,map)\n",
    "    if root.right:\n",
    "        total+=getMaxSumUtil(root.right.left,map)\n",
    "        total+=getMaxSumUtil(root.right.right,map)\n",
    "    return total\n",
    "\n",
    "\n",
    "def getMaxSumUtil(root,map):\n",
    "    if root is None:\n",
    "        return 0\n",
    "    if root in map:\n",
    "        return map[root]\n",
    "    inc=root.data+getGrandChilrenSum(root,map)\n",
    "    exc=getMaxSumUtil(root.left,map)+getMaxSumUtil(root.right,map)\n",
    "\n",
    "    map[root]=max(inc,exc)\n",
    "    return map[root]\n",
    "\n",
    "def getMaxSum(root):\n",
    "    map={}\n",
    "    return getMaxSumUtil(root,map)\n",
    "\n",
    "\n",
    "if __name__ == '__main__':\n",
    "    # root=Node(1)\n",
    "    # root.left=Node(2)\n",
    "    # root.right=Node(3)\n",
    "    # root.left.left=Node(1)\n",
    "    # root.right.left=Node(4)\n",
    "    # root.right.right=Node(5)\n",
    "\n",
    "    root = Node(10)\n",
    "    root.left = Node(1)\n",
    "    root.left.left = Node(2)\n",
    "    root.left.left.left = Node(1)\n",
    "    root.left.right = Node(3)\n",
    "    root.left.right.left = Node(4)\n",
    "    root.left.right.right = Node(5)\n",
    "    print(getMaxSum(root))\n"
   ]
  },
  {
   "cell_type": "markdown",
   "metadata": {},
   "source": [
    "# Maximum sum from a tree with adjacent levels not allowed"
   ]
  },
  {
   "cell_type": "code",
   "execution_count": 4,
   "metadata": {},
   "outputs": [
    {
     "name": "stdout",
     "output_type": "stream",
     "text": [
      "89\n"
     ]
    }
   ],
   "source": [
    "class Node:\n",
    "    def __init__(self,data):\n",
    "        self.data=data\n",
    "        self.left=None\n",
    "        self.right=None\n",
    "\n",
    "def getMaxAlternateSumUtil(root,map):\n",
    "    if root is None:\n",
    "        return 0\n",
    "    if root in map:\n",
    "        return map[root]\n",
    "    total=0\n",
    "    total+=root.data\n",
    "    if root.left:\n",
    "        total+=getMaxAlternateSumUtil(root.left.left,map)\n",
    "        total+=getMaxAlternateSumUtil(root.left.right,map)\n",
    "    if root.right:\n",
    "        total+=getMaxAlternateSumUtil(root.right.left,map)\n",
    "        total+=getMaxAlternateSumUtil(root.right.right,map)\n",
    "    map[root]=total\n",
    "    return map[root]\n",
    "\n",
    "def getMaxAlternateSum(root):\n",
    "    map={}\n",
    "    return max(getMaxAlternateSumUtil(root,map),getMaxAlternateSumUtil(root.left,map)+getMaxAlternateSumUtil(root.right,map))\n",
    "\n",
    "\n",
    "if __name__ == '__main__':\n",
    "    # root=Node(1)\n",
    "    # root.left=Node(2)\n",
    "    # root.right=Node(3)\n",
    "    # root.right.left=Node(4)\n",
    "    # root.right.left.right=Node(5)\n",
    "    # root.right.left.right.left=Node(6)\n",
    "    root=Node(1)\n",
    "    root.left=Node(2)\n",
    "    root.right=Node(3)\n",
    "    root.left.left=Node(4)\n",
    "    root.right.left=Node(5)\n",
    "    root.right.right=Node(6)\n",
    "    root.left.left.left=Node(17)\n",
    "    root.left.left.right=Node(18)\n",
    "    root.right.left.left=Node(19)\n",
    "    root.right.right.left=Node(30)\n",
    "    root.left.left.left.left=Node(11)\n",
    "    root.left.left.right.left=Node(12)\n",
    "    root.left.left.right.right=Node(13)\n",
    "\n",
    "\n",
    "\n",
    "\n",
    "    print(getMaxAlternateSum(root))\n"
   ]
  },
  {
   "cell_type": "markdown",
   "metadata": {},
   "source": [
    "Anonther Approach->Using Level Order"
   ]
  },
  {
   "cell_type": "code",
   "execution_count": 2,
   "metadata": {},
   "outputs": [
    {
     "name": "stdout",
     "output_type": "stream",
     "text": [
      "89\n"
     ]
    }
   ],
   "source": [
    "class Node:\n",
    "    def __init__(self,data):\n",
    "        self.data=data\n",
    "        self.left=None\n",
    "        self.right=None\n",
    "\n",
    "def getMaxSum(root):\n",
    "    if root is None:\n",
    "        return\n",
    "    if root.left is None and root.right is None:\n",
    "        return root.data\n",
    "    queue=[]\n",
    "    queue.append(root)\n",
    "    level=0\n",
    "    oddLevelSum=0\n",
    "    evenLevelSum=0\n",
    "    while queue:\n",
    "        level+=1\n",
    "        size=len(queue)\n",
    "        for i in range(size):\n",
    "            element=queue.pop(0)\n",
    "            if level%2==0:\n",
    "                evenLevelSum+=element.data\n",
    "            else:\n",
    "                oddLevelSum+=element.data\n",
    "            if element.left:\n",
    "                queue.append(element.left)\n",
    "            if element.right:\n",
    "                queue.append(element.right)\n",
    "    return max(oddLevelSum,evenLevelSum)\n",
    "\n",
    "if __name__ == '__main__':\n",
    "    # root=Node(1)\n",
    "    # root.left=Node(2)\n",
    "    # root.right=Node(3)\n",
    "    # root.right.left=Node(4)\n",
    "    # root.right.left.right=Node(5)\n",
    "    # root.right.left.right.left=Node(6)\n",
    "    root=Node(1)\n",
    "    root.left=Node(2)\n",
    "    root.right=Node(3)\n",
    "    root.left.left=Node(4)\n",
    "    root.left.left.left=Node(17)\n",
    "    root.left.left.right=Node(18)\n",
    "    root.left.left.left.left=Node(11)\n",
    "    root.left.left.right.left=Node(12)\n",
    "    root.left.left.right.right=Node(13)\n",
    "    root.right.left=Node(5)\n",
    "    root.right.right=Node(6)\n",
    "    root.right.left.left=Node(19)\n",
    "    root.right.right.left=Node(30)\n",
    "\n",
    "\n",
    "    print(getMaxSum(root))\n"
   ]
  },
  {
   "cell_type": "markdown",
   "metadata": {},
   "source": [
    "# Find largest subtree sum in a treem"
   ]
  },
  {
   "cell_type": "code",
   "execution_count": 6,
   "metadata": {},
   "outputs": [
    {
     "name": "stdout",
     "output_type": "stream",
     "text": [
      "The MaxSum Subtree is\n",
      "4 -2 5 \n",
      "7\n"
     ]
    }
   ],
   "source": [
    "class Node:\n",
    "    def __init__(self,data):\n",
    "        self.data=data\n",
    "        self.left=None\n",
    "        self.right=None\n",
    "\n",
    "def getMaxSubtreeSumUtil(root,maxSoFar,maxTillHere,resultNode):\n",
    "    if root is None:\n",
    "        return 0\n",
    "    left=getMaxSubtreeSumUtil(root.left,maxSoFar,maxTillHere,resultNode)\n",
    "    right=getMaxSubtreeSumUtil(root.right,maxSoFar,maxTillHere,resultNode)\n",
    "    if root.data+left+right>maxSoFar[0]:\n",
    "        maxSoFar[0]=root.data+left+right\n",
    "        resultNode[0]=root\n",
    "    return root.data+left+right\n",
    "\n",
    "def inorder(root):\n",
    "    if root is None:\n",
    "        return\n",
    "    inorder(root.left)\n",
    "    print(root.data,end=\" \")\n",
    "    inorder(root.right)\n",
    "\n",
    "def getMaxSubtreeSum(root):\n",
    "    maxSoFar=[0]\n",
    "    maxTillHere=[0]\n",
    "    resultNode=[None]\n",
    "    getMaxSubtreeSumUtil(root,maxSoFar,maxTillHere,resultNode)\n",
    "    print('The MaxSum Subtree is')\n",
    "    inorder(resultNode[0])\n",
    "    print()\n",
    "    return (maxSoFar[0])\n",
    "\n",
    "if __name__ == '__main__':\n",
    "    # root=Node(1)\n",
    "    # root.left=Node(2)\n",
    "    # root.right=Node(3)\n",
    "    # root.left.left=Node(4)\n",
    "    # root.left.right=Node(5)\n",
    "    # root.right.left=Node(6)\n",
    "    # root.right.right=Node(7)\n",
    "    root=Node(1)\n",
    "    root.left=Node(-2)\n",
    "    root.right=Node(3)\n",
    "    root.left.left=Node(4)\n",
    "    root.left.right=Node(5)\n",
    "    root.right.left=Node(-6)\n",
    "    root.right.right=Node(2)\n",
    "    print(getMaxSubtreeSum(root))\n"
   ]
  },
  {
   "cell_type": "markdown",
   "metadata": {},
   "source": [
    "# Print all k-sum paths in a binary tree | Important"
   ]
  },
  {
   "cell_type": "code",
   "execution_count": 8,
   "metadata": {},
   "outputs": [
    {
     "name": "stdout",
     "output_type": "stream",
     "text": [
      "1 3 1\n",
      "1 -1 4 1\n",
      "1 -1 5\n",
      "3 2\n",
      "3 1 1\n",
      "-1 4 2\n",
      "4 1\n",
      "5\n"
     ]
    }
   ],
   "source": [
    "class Node:\n",
    "    def __init__(self,data):\n",
    "        self.data=data\n",
    "        self.left=None\n",
    "        self.right=None\n",
    "\n",
    "def printPath(path):\n",
    "    print(\" \".join(map(str,path)))\n",
    "\n",
    "def printKSumPathsUtil(root,k,path,total):\n",
    "    if root is None:\n",
    "        return\n",
    "    path.append(root.data)\n",
    "    total[0]+=root.data\n",
    "    if total[0]==k:\n",
    "        printPath(path)\n",
    "    printKSumPathsUtil(root.left,k,path,total)\n",
    "    printKSumPathsUtil(root.right,k,path,total)\n",
    "    total[0]-=root.data\n",
    "    path.pop()\n",
    "\n",
    "\n",
    "def printKSumPaths(root,k):\n",
    "    if root is None:\n",
    "        return\n",
    "    path=[]\n",
    "    total=[0]\n",
    "    printKSumPathsUtil(root,k,path,total)\n",
    "    printKSumPaths(root.left,k)\n",
    "    printKSumPaths(root.right,k)\n",
    "\n",
    "if __name__ == '__main__':\n",
    "    root=Node(1)\n",
    "    root.left=Node(3)\n",
    "    root.right=Node(-1)\n",
    "    root.left.left=Node(2)\n",
    "    root.left.right=Node(1)\n",
    "    root.left.right.left=Node(1)\n",
    "    root.right.left=Node(4)\n",
    "    root.right.right=Node(5)\n",
    "    root.right.left.left=Node(1)\n",
    "    root.right.left.right=Node(2)\n",
    "    root.right.right.right=Node(6)\n",
    "    printKSumPaths(root,5)\n"
   ]
  },
  {
   "cell_type": "markdown",
   "metadata": {},
   "source": [
    "Another Approach"
   ]
  },
  {
   "cell_type": "code",
   "execution_count": 9,
   "metadata": {},
   "outputs": [
    {
     "name": "stdout",
     "output_type": "stream",
     "text": [
      "3 2 \n",
      "3 1 1 \n",
      "1 3 1 \n",
      "4 1 \n",
      "1 -1 4 1 \n",
      "-1 4 2 \n",
      "5 \n",
      "1 -1 5 \n"
     ]
    }
   ],
   "source": [
    "class Node:\n",
    "    def __init__(self,data):\n",
    "        self.data=data\n",
    "        self.left=None\n",
    "        self.right=None\n",
    "\n",
    "def printPath(path,i):\n",
    "    for j in range(i,len(path)):\n",
    "        print(path[j],end=\" \")\n",
    "    print()\n",
    "\n",
    "def printKSumPathsUtil(root,k,path):\n",
    "    if root is None:\n",
    "        return\n",
    "    path.append(root.data)\n",
    "    printKSumPathsUtil(root.left,k,path)\n",
    "    printKSumPathsUtil(root.right,k,path)\n",
    "    total=0\n",
    "    for i in range(len(path)-1,-1,-1):\n",
    "        total+=path[i]\n",
    "        if total==k:\n",
    "            printPath(path,i)\n",
    "    path.pop()\n",
    "\n",
    "\n",
    "def printKSumPaths(root,k):\n",
    "    path=[]\n",
    "    printKSumPathsUtil(root,k,path)\n",
    "\n",
    "if __name__ == '__main__':\n",
    "    root=Node(1)\n",
    "    root.left=Node(3)\n",
    "    root.right=Node(-1)\n",
    "    root.left.left=Node(2)\n",
    "    root.left.right=Node(1)\n",
    "    root.left.right.left=Node(1)\n",
    "    root.right.left=Node(4)\n",
    "    root.right.right=Node(5)\n",
    "    root.right.left.left=Node(1)\n",
    "    root.right.left.right=Node(2)\n",
    "    root.right.right.right=Node(6)\n",
    "    printKSumPaths(root,5)\n"
   ]
  },
  {
   "cell_type": "markdown",
   "metadata": {},
   "source": [
    "# Sum of heights of all individual nodes in a binary tree"
   ]
  },
  {
   "cell_type": "markdown",
   "metadata": {},
   "source": [
    "Given a binary tree, find the sum of heights of all individual nodes in the tree."
   ]
  },
  {
   "cell_type": "code",
   "execution_count": 3,
   "metadata": {},
   "outputs": [
    {
     "name": "stdout",
     "output_type": "stream",
     "text": [
      "8\n"
     ]
    }
   ],
   "source": [
    "class Node:\n",
    "    def __init__(self,data):\n",
    "        self.data=data\n",
    "        self.left=None\n",
    "        self.right=None\n",
    "\n",
    "def getSumOfHeights(root,result):\n",
    "    if root is None:\n",
    "        return 0\n",
    "    left=getSumOfHeights(root.left,result)\n",
    "    right=getSumOfHeights(root.right,result)\n",
    "    result[0]+=1+max(left,right)\n",
    "    return 1+max(left,right)\n",
    "\n",
    "if __name__ == '__main__':\n",
    "    root=Node(1)\n",
    "    root.left=Node(2)\n",
    "    root.right=Node(3)\n",
    "    root.left.left=Node(4)\n",
    "    root.left.right=Node(5)\n",
    "    result=[0]\n",
    "    getSumOfHeights(root,result)\n",
    "    print(result[0])\n"
   ]
  },
  {
   "cell_type": "markdown",
   "metadata": {},
   "source": [
    "Time Complexity O(n)"
   ]
  },
  {
   "cell_type": "markdown",
   "metadata": {},
   "source": [
    "# Subtree with given sum in a Binary Tree"
   ]
  },
  {
   "cell_type": "code",
   "execution_count": 4,
   "metadata": {},
   "outputs": [
    {
     "name": "stdout",
     "output_type": "stream",
     "text": [
      "8 6 "
     ]
    }
   ],
   "source": [
    "class Node:\n",
    "    def __init__(self,data):\n",
    "        self.data=data\n",
    "        self.left=None\n",
    "        self.right=None\n",
    "\n",
    "def getSubtreeWithGivenSum(root,k):\n",
    "    resultNode=[None]\n",
    "    getSubtreeWithGivenSumUtil(root,k,resultNode)\n",
    "    return resultNode[0]\n",
    "\n",
    "def getSubtreeWithGivenSumUtil(root,k,resultNode):\n",
    "    if root is None:\n",
    "        return 0\n",
    "    left=getSubtreeWithGivenSumUtil(root.left,k,resultNode)\n",
    "    right=getSubtreeWithGivenSumUtil(root.right,k,resultNode)\n",
    "    if left==k:\n",
    "        resultNode[0]=root.left\n",
    "    elif right==k:\n",
    "        resultNode[0]=root.right\n",
    "    elif root.data+left+right==k:\n",
    "        resultNode[0]=root\n",
    "    return root.data+left+right\n",
    "\n",
    "def inorder(root):\n",
    "    if root is None:\n",
    "        return\n",
    "    inorder(root.left)\n",
    "    print(root.data,end=\" \")\n",
    "    inorder(root.right)\n",
    "\n",
    "if __name__ == '__main__':\n",
    "    root=Node(1)\n",
    "    root.left=Node(3)\n",
    "    root.right=Node(6)\n",
    "    root.left.left=Node(5)\n",
    "    root.left.right=Node(9)\n",
    "    root.right.left=Node(8)\n",
    "    k=17\n",
    "    k=14\n",
    "    result=getSubtreeWithGivenSum(root,k)\n",
    "    inorder(result)\n"
   ]
  },
  {
   "cell_type": "markdown",
   "metadata": {},
   "source": [
    "# Count subtrees that sum up to a given value x only using single recursive function"
   ]
  },
  {
   "cell_type": "code",
   "execution_count": 5,
   "metadata": {},
   "outputs": [
    {
     "name": "stdout",
     "output_type": "stream",
     "text": [
      "2\n"
     ]
    }
   ],
   "source": [
    "class Node:\n",
    "    def __init__(self,data):\n",
    "        self.data=data\n",
    "        self.left=None\n",
    "        self.right=None\n",
    "\n",
    "def getCountSubtreeWithGivenSum(root,k):\n",
    "    count=[0]\n",
    "    getCountSubtreeWithGivenSumUtil(root,k,count)\n",
    "    return count[0]\n",
    "\n",
    "def getCountSubtreeWithGivenSumUtil(root,k,count):\n",
    "    if root is None:\n",
    "        return 0\n",
    "    left=getCountSubtreeWithGivenSumUtil(root.left,k,count)\n",
    "    right=getCountSubtreeWithGivenSumUtil(root.right,k,count)\n",
    "    if root.data+left+right==k:\n",
    "        count[0]+=1\n",
    "    return root.data+left+right\n",
    "\n",
    "def inorder(root):\n",
    "    if root is None:\n",
    "        return\n",
    "    inorder(root.left)\n",
    "    print(root.data,end=\" \")\n",
    "    inorder(root.right)\n",
    "\n",
    "if __name__ == '__main__':\n",
    "    root=Node(5)\n",
    "    root.left=Node(-10)\n",
    "    root.right=Node(3)\n",
    "    root.left.left=Node(9)\n",
    "    root.left.right=Node(8)\n",
    "    root.right.left=Node(-4)\n",
    "    root.right.right=Node(7)\n",
    "    k=7\n",
    "    result=getCountSubtreeWithGivenSum(root,k)\n",
    "    print(result)\n"
   ]
  },
  {
   "cell_type": "markdown",
   "metadata": {},
   "source": [
    "# Sum of nodes at maximum depth of a Binary Tree"
   ]
  },
  {
   "cell_type": "code",
   "execution_count": 6,
   "metadata": {},
   "outputs": [
    {
     "name": "stdout",
     "output_type": "stream",
     "text": [
      "22\n"
     ]
    }
   ],
   "source": [
    "class Node:\n",
    "    def __init__(self,data):\n",
    "        self.data=data\n",
    "        self.left=None\n",
    "        self.right=None\n",
    "\n",
    "def getMaxSumDepth(root):\n",
    "    if root is None:\n",
    "        return 0\n",
    "    queue=[]\n",
    "    queue.append(root)\n",
    "    while queue:\n",
    "        total=0\n",
    "        size=len(queue)\n",
    "        for i in range(size):\n",
    "            element=queue.pop(0)\n",
    "            total+=element.data\n",
    "            if element.left:\n",
    "                queue.append(element.left)\n",
    "            if element.right:\n",
    "                queue.append(element.right)\n",
    "    return total\n",
    "\n",
    "\n",
    "if __name__ == '__main__':\n",
    "    root=Node(1)\n",
    "    root.left=Node(2)\n",
    "    root.right=Node(3)\n",
    "    root.left.left=Node(4)\n",
    "    root.left.right=Node(5)\n",
    "    root.right.left=Node(6)\n",
    "    root.right.right=Node(7)\n",
    "    print(getMaxSumDepth(root))\n"
   ]
  },
  {
   "cell_type": "markdown",
   "metadata": {},
   "source": [
    "# Difference between sums of odd level and even level nodes of a Binary Tree"
   ]
  },
  {
   "cell_type": "markdown",
   "metadata": {},
   "source": [
    "level order traversal"
   ]
  },
  {
   "cell_type": "markdown",
   "metadata": {},
   "source": [
    "# Maximum spiral sum in Binary Tree"
   ]
  },
  {
   "cell_type": "markdown",
   "metadata": {},
   "source": [
    "Approach-> Get the Spiral Order and then apply Kadane's algorithm"
   ]
  },
  {
   "cell_type": "code",
   "execution_count": 7,
   "metadata": {},
   "outputs": [
    {
     "name": "stdout",
     "output_type": "stream",
     "text": [
      "7\n"
     ]
    }
   ],
   "source": [
    "class Node:\n",
    "    def __init__(self,data):\n",
    "        self.data=data\n",
    "        self.left=None\n",
    "        self.right=None\n",
    "\n",
    "def getMaxSpiralSum(root):\n",
    "    spiralOrder=[]\n",
    "    queue1=[]\n",
    "    queue2=[]\n",
    "    rightToLeft=True\n",
    "    queue1.append(root)\n",
    "    while queue1:\n",
    "        size=len(queue1)\n",
    "        for i in range(size):\n",
    "            element=queue1.pop(0)\n",
    "            if rightToLeft:\n",
    "                queue2.append(element.data)\n",
    "            else:\n",
    "                spiralOrder.append(element.data)\n",
    "            if element.left:\n",
    "                queue1.append(element.left)\n",
    "            if element.right:\n",
    "                queue1.append(element.right)\n",
    "        if rightToLeft:\n",
    "            while queue2:\n",
    "                spiralOrder.append(queue2.pop())\n",
    "        rightToLeft=not rightToLeft\n",
    "\n",
    "    maxSoFar=0\n",
    "    maxSum=float('-infinity')\n",
    "    for i in range(len(spiralOrder)):\n",
    "        maxSoFar+=spiralOrder[i]\n",
    "        if maxSoFar>maxSum:\n",
    "            maxSum=maxSoFar\n",
    "        if maxSoFar<0:\n",
    "            maxSoFar=0\n",
    "    return maxSum\n",
    "\n",
    "if __name__ == '__main__':\n",
    "    root=Node(-2)\n",
    "    root.left=Node(-3)\n",
    "    root.right=Node(4)\n",
    "    root.left.left=Node(5)\n",
    "    root.left.right=Node(1)\n",
    "    root.right.left=Node(-2)\n",
    "    root.right.right=Node(-1)\n",
    "    root.left.left.left=Node(-3)\n",
    "    root.right.right.right=Node(2)\n",
    "    print(getMaxSpiralSum(root))\n"
   ]
  },
  {
   "cell_type": "markdown",
   "metadata": {},
   "source": [
    "# Sum of nodes at k-th level in a tree represented as string"
   ]
  },
  {
   "cell_type": "code",
   "execution_count": 8,
   "metadata": {},
   "outputs": [
    {
     "name": "stdout",
     "output_type": "stream",
     "text": [
      "14\n",
      "9\n"
     ]
    }
   ],
   "source": [
    "def getSumOfNodes(s,k):\n",
    "    level=-1\n",
    "    total=0\n",
    "    for i in s:\n",
    "        if i=='(':\n",
    "            level+=1\n",
    "        elif i==')':\n",
    "            level-=1\n",
    "        else:\n",
    "            if level==k:\n",
    "                total+=int(i)\n",
    "    return total\n",
    "\n",
    "\n",
    "\n",
    "if __name__ == '__main__':\n",
    "    s=\"(0(5(6()())(4()(9()())))(7(1()())(3()())))\"\n",
    "    k=2\n",
    "    print(getSumOfNodes(s,k))\n",
    "    s=\"(8(3(2()())(6(5()())()))(5(10()())(7(13()())())))\"\n",
    "    k=3\n",
    "    print(getSumOfNodes(s,k))\n"
   ]
  },
  {
   "cell_type": "markdown",
   "metadata": {},
   "source": [
    "# Sum of all leaf nodes of binary tree"
   ]
  },
  {
   "cell_type": "markdown",
   "metadata": {},
   "source": [
    "Inorder Traversal"
   ]
  },
  {
   "cell_type": "markdown",
   "metadata": {},
   "source": [
    "# Sum of leaf nodes at minimum level"
   ]
  },
  {
   "cell_type": "markdown",
   "metadata": {},
   "source": [
    "Approach-> Use Level Order Traversal till the first leaf level"
   ]
  },
  {
   "cell_type": "code",
   "execution_count": 9,
   "metadata": {},
   "outputs": [
    {
     "name": "stdout",
     "output_type": "stream",
     "text": [
      "11\n"
     ]
    }
   ],
   "source": [
    "class Node:\n",
    "    def __init__(self,data):\n",
    "        self.data=data\n",
    "        self.left=None\n",
    "        self.right=None\n",
    "\n",
    "def isLeaf(root):\n",
    "    if root.left is None and root.right is None:\n",
    "        return True\n",
    "    return False\n",
    "\n",
    "def getMinimalLeafSum(root):\n",
    "    if root is None:\n",
    "        return 0\n",
    "    if root.left is None and root.right is None:\n",
    "        return root.data\n",
    "    queue=[]\n",
    "    isFound=False\n",
    "    total=0\n",
    "    queue.append(root)\n",
    "    while queue and not isFound:\n",
    "        size=len(queue)\n",
    "        for i in range(size):\n",
    "            element=queue.pop(0)\n",
    "            if isLeaf(element):\n",
    "                total+=element.data\n",
    "                isFound=True\n",
    "            if element.left:\n",
    "                queue.append(element.left)\n",
    "            if element.right:\n",
    "                queue.append(element.right)\n",
    "    return total\n",
    "\n",
    "if __name__ == '__main__':\n",
    "    root=Node(1)\n",
    "    root.left=Node(2)\n",
    "    root.right=Node(3)\n",
    "    root.left.left=Node(4)\n",
    "    root.left.right=Node(5)\n",
    "    root.right.left=Node(6)\n",
    "    root.right.right=Node(7)\n",
    "    root.left.right.left=Node(8)\n",
    "    root.right.left.right=Node(9)\n",
    "    print(getMinimalLeafSum(root))\n"
   ]
  },
  {
   "cell_type": "markdown",
   "metadata": {},
   "source": [
    "# Root to leaf path sum equal to a given number"
   ]
  },
  {
   "cell_type": "code",
   "execution_count": 10,
   "metadata": {},
   "outputs": [
    {
     "name": "stdout",
     "output_type": "stream",
     "text": [
      "[10, 8, 3]\n",
      "[10, 8, 5]\n",
      "[10, 2, 2]\n"
     ]
    }
   ],
   "source": [
    "class Node:\n",
    "    def __init__(self,data):\n",
    "        self.data=data\n",
    "        self.left=None\n",
    "        self.right=None\n",
    "\n",
    "def getRootToLeafPathSumUtil(root,k,currSum,path):\n",
    "    if root is None:\n",
    "        return\n",
    "    currSum+=root.data\n",
    "    path.append(root.data)\n",
    "    if isLeaf(root) and currSum==k:\n",
    "        print(path)\n",
    "    getRootToLeafPathSumUtil(root.left,k,currSum,path)\n",
    "    getRootToLeafPathSumUtil(root.right,k,currSum,path)\n",
    "    path.pop()\n",
    "\n",
    "def isLeaf(root):\n",
    "    if root.left is None and root.right is None:\n",
    "        return True\n",
    "    return False\n",
    "\n",
    "\n",
    "def getRootToLeafPathSum(root,k):\n",
    "    path=[]\n",
    "    getRootToLeafPathSumUtil(root,k,0,path)\n",
    "\n",
    "if __name__ == '__main__':\n",
    "    root=Node(10)\n",
    "    root.left=Node(8)\n",
    "    root.right=Node(2)\n",
    "    root.left.left=Node(3)\n",
    "    root.left.right=Node(5)\n",
    "    root.right.left=Node(2)\n",
    "    k=21\n",
    "    getRootToLeafPathSum(root,k)\n",
    "    k=23\n",
    "    getRootToLeafPathSum(root,k)\n",
    "    k=14\n",
    "    getRootToLeafPathSum(root,k)\n"
   ]
  },
  {
   "cell_type": "markdown",
   "metadata": {},
   "source": [
    "# Sum of all the numbers that are formed from root to leaf paths"
   ]
  },
  {
   "cell_type": "code",
   "execution_count": 11,
   "metadata": {},
   "outputs": [
    {
     "name": "stdout",
     "output_type": "stream",
     "text": [
      "13997\n"
     ]
    }
   ],
   "source": [
    "class Node:\n",
    "    def __init__(self,data):\n",
    "        self.data=data\n",
    "        self.left=None\n",
    "        self.right=None\n",
    "\n",
    "def isLeaf(root):\n",
    "    if root.left is None and root.right is None:\n",
    "        return True\n",
    "    return False\n",
    "\n",
    "def getSumUtil(root,currSum,total):\n",
    "    if root is None:\n",
    "        return\n",
    "    currSum=currSum*10+root.data\n",
    "\n",
    "    if isLeaf(root):\n",
    "        total[0]+=currSum\n",
    "    getSumUtil(root.left,currSum,total)\n",
    "    getSumUtil(root.right,currSum,total)\n",
    "\n",
    "def getSum(root):\n",
    "    total=[0]\n",
    "    getSumUtil(root,0,total)\n",
    "    return total[0]\n",
    "\n",
    "if __name__ == '__main__':\n",
    "    root=Node(6)\n",
    "    root.left=Node(3)\n",
    "    root.right=Node(5)\n",
    "    root.left.left=Node(2)\n",
    "    root.left.right=Node(5)\n",
    "    root.left.right.left=Node(7)\n",
    "    root.left.right.right=Node(4)\n",
    "    root.right.right=Node(4)\n",
    "    print(getSum(root))\n"
   ]
  },
  {
   "cell_type": "markdown",
   "metadata": {},
   "source": [
    "Time Complexity O(n)"
   ]
  },
  {
   "cell_type": "markdown",
   "metadata": {},
   "source": [
    "# Vertical Sum in a given Binary Tree"
   ]
  },
  {
   "cell_type": "markdown",
   "metadata": {},
   "source": [
    "Approach-> Hashing"
   ]
  },
  {
   "cell_type": "code",
   "execution_count": 1,
   "metadata": {},
   "outputs": [
    {
     "name": "stdout",
     "output_type": "stream",
     "text": [
      "4\n",
      "2\n",
      "12\n",
      "3\n",
      "7\n"
     ]
    }
   ],
   "source": [
    "class Node:\n",
    "    def __init__(self,data):\n",
    "        self.data=data\n",
    "        self.left=None\n",
    "        self.right=None\n",
    "\n",
    "def getVerticalSumUtil(root,map,currLevel):\n",
    "    if root is None:\n",
    "        return\n",
    "    if currLevel in map:\n",
    "        map[currLevel].append(root.data)\n",
    "    else:\n",
    "        map[currLevel]=[root.data]\n",
    "    getVerticalSumUtil(root.left,map,currLevel-1)\n",
    "    getVerticalSumUtil(root.right,map,currLevel+1)\n",
    "\n",
    "def getVerticalSum(root):\n",
    "    map={}\n",
    "    getVerticalSumUtil(root,map,0)\n",
    "    for index,value in enumerate(sorted(map)):\n",
    "        print(sum(map[value]))\n",
    "\n",
    "if __name__ == '__main__':\n",
    "    root=Node(1)\n",
    "    root.left=Node(2)\n",
    "    root.right=Node(3)\n",
    "    root.left.left=Node(4)\n",
    "    root.left.right=Node(5)\n",
    "    root.right.left=Node(6)\n",
    "    root.right.right=Node(7)\n",
    "    getVerticalSum(root)\n"
   ]
  },
  {
   "cell_type": "markdown",
   "metadata": {},
   "source": [
    "# Vertical Sum in Binary Tree | Space Optimized Approach"
   ]
  },
  {
   "cell_type": "markdown",
   "metadata": {},
   "source": [
    "Hashing based solution requires a Hash Table to be maintained. We know that hashing requires more space than the number of entries in it. In this post, Doubly Linked List based solution is discussed. The solution discussed here requires only n nodes of linked list where n is total number of vertical lines in binary tree."
   ]
  },
  {
   "cell_type": "code",
   "execution_count": 2,
   "metadata": {},
   "outputs": [
    {
     "name": "stdout",
     "output_type": "stream",
     "text": [
      "4 2 12 3 7 "
     ]
    }
   ],
   "source": [
    "class Node:\n",
    "    def __init__(self,data):\n",
    "        self.data=data\n",
    "        self.left=None\n",
    "        self.right=None\n",
    "\n",
    "class lNode:\n",
    "    def __init__(self,data):\n",
    "        self.data=data\n",
    "        self.prev=None\n",
    "        self.next=None\n",
    "\n",
    "def getVerticalSumUtil(root,lnode):\n",
    "    if root is None:\n",
    "        return\n",
    "    lnode.data+=root.data\n",
    "    if root.left:\n",
    "        if lnode.prev is None:\n",
    "            lnode.prev=lNode(0)\n",
    "            lnode.prev.next=lnode\n",
    "        getVerticalSumUtil(root.left,lnode.prev)\n",
    "    if root.right:\n",
    "        if lnode.next is None:\n",
    "            lnode.next=lNode(0)\n",
    "            lnode.next.prev=lnode\n",
    "        getVerticalSumUtil(root.right,lnode.next)\n",
    "\n",
    "def getVerticalSum(root):\n",
    "    lnode=lNode(0)\n",
    "    getVerticalSumUtil(root,lnode)\n",
    "    while lnode.prev:\n",
    "        lnode=lnode.prev\n",
    "    temp=lnode\n",
    "    while temp:\n",
    "        print(temp.data,end=\" \")\n",
    "        temp=temp.next\n",
    "\n",
    "if __name__ == '__main__':\n",
    "    root=Node(1)\n",
    "    root.left=Node(2)\n",
    "    root.right=Node(3)\n",
    "    root.left.left=Node(4)\n",
    "    root.left.right=Node(5)\n",
    "    root.right.left=Node(6)\n",
    "    root.right.right=Node(7)\n",
    "    getVerticalSum(root)\n"
   ]
  },
  {
   "cell_type": "markdown",
   "metadata": {},
   "source": [
    "# Replace each node in binary tree with the sum of its inorder predecessor and successor"
   ]
  },
  {
   "cell_type": "code",
   "execution_count": 3,
   "metadata": {},
   "outputs": [
    {
     "name": "stdout",
     "output_type": "stream",
     "text": [
      "4 2 5 1 6 3 7 \n",
      "2 9 3 11 4 13 3 "
     ]
    }
   ],
   "source": [
    "class Node:\n",
    "    def __init__(self,data):\n",
    "        self.data=data\n",
    "        self.left=None\n",
    "        self.right=None\n",
    "\n",
    "def storeInorder(root,arr):\n",
    "    if root is None:\n",
    "        return\n",
    "    storeInorder(root.left,arr)\n",
    "    arr.append(root.data)\n",
    "    storeInorder(root.right,arr)\n",
    "\n",
    "def replaceNodes(root,arr,index):\n",
    "    if root is None:\n",
    "        return\n",
    "    replaceNodes(root.left,arr,index)\n",
    "    root.data=arr[index[0]-1]+arr[index[0]+1]\n",
    "    index[0]+=1\n",
    "    replaceNodes(root.right,arr,index)\n",
    "\n",
    "def sumInorderPredecessorSuccessor(root):\n",
    "    arr=[0]\n",
    "    storeInorder(root,arr)\n",
    "    arr.append(0)\n",
    "    index=[1]\n",
    "    replaceNodes(root,arr,index)\n",
    "\n",
    "def inorder(root):\n",
    "    if root is None:\n",
    "        return\n",
    "    inorder(root.left)\n",
    "    print(root.data,end=\" \")\n",
    "    inorder(root.right)\n",
    "\n",
    "if __name__ == '__main__':\n",
    "    root=Node(1)\n",
    "    root.left=Node(2)\n",
    "    root.right=Node(3)\n",
    "    root.left.left=Node(4)\n",
    "    root.left.right=Node(5)\n",
    "    root.right.left=Node(6)\n",
    "    root.right.right=Node(7)\n",
    "    inorder(root)\n",
    "    print()\n",
    "    sumInorderPredecessorSuccessor(root)\n",
    "    inorder(root)\n"
   ]
  },
  {
   "cell_type": "markdown",
   "metadata": {},
   "source": [
    "<h1><center>Lowest Common Ancestor</center></h1>"
   ]
  },
  {
   "cell_type": "markdown",
   "metadata": {},
   "source": [
    "# Lowest Common Ancestor in a Binary Tree"
   ]
  },
  {
   "cell_type": "markdown",
   "metadata": {},
   "source": [
    "Let T be a rooted tree. The lowest common ancestor between two nodes n1 and n2 is defined as the lowest node in T that has both n1 and n2 as descendants"
   ]
  },
  {
   "cell_type": "markdown",
   "metadata": {},
   "source": [
    "Computation of lowest common ancestors may be useful, for instance, as part of a procedure for determining the distance between pairs of nodes in a tree: the distance from n1 to n2 can be computed as the distance from the root to n1, plus the distance from the root to n2, minus twice the distance from the root to their lowest common ancestor."
   ]
  },
  {
   "cell_type": "markdown",
   "metadata": {},
   "source": [
    "Approach1-> By finding the paths of n1 and n2 from root"
   ]
  },
  {
   "cell_type": "code",
   "execution_count": 1,
   "metadata": {},
   "outputs": [
    {
     "name": "stdout",
     "output_type": "stream",
     "text": [
      "LCA of 4,5 is 2\n",
      "LCA of 4,6 is 1\n",
      "LCA of 3,4 is 1\n",
      "LCA of 2,4 is 2\n"
     ]
    }
   ],
   "source": [
    "class Node:\n",
    "    def __init__(self,data):\n",
    "        self.data=data\n",
    "        self.left=None\n",
    "        self.right=None\n",
    "\n",
    "def findPath(root,n,path):\n",
    "    if root is None:\n",
    "        return False\n",
    "    path.append(root.data)\n",
    "    if root.data==n:\n",
    "        return True\n",
    "    if findPath(root.left, n, path) or findPath(root.right,n,path):\n",
    "        return True\n",
    "    path.pop()\n",
    "    return False\n",
    "\n",
    "def findLCA(root,n1,n2):\n",
    "    if root is None:\n",
    "        return\n",
    "    path1=[]\n",
    "    path2=[]\n",
    "    if findPath(root, n1, path1)==False or findPath(root, n2, path2)==False:\n",
    "        return 'LCA NOT FOUND'\n",
    "    i=0\n",
    "    while i<len(path1) and i<len(path2):\n",
    "        if path1[i]!=path2[i]:\n",
    "            break\n",
    "        i+=1\n",
    "    return path1[i-1]\n",
    "\n",
    "\n",
    "if __name__ == '__main__':\n",
    "    root=Node(1)\n",
    "    root.left=Node(2)\n",
    "    root.right=Node(3)\n",
    "    root.left.left=Node(4)\n",
    "    root.left.right=Node(5)\n",
    "    root.right.left=Node(6)\n",
    "    root.right.right=Node(7)\n",
    "    print(f\"LCA of 4,5 is {findLCA(root,4,5)}\")\n",
    "    print(f\"LCA of 4,6 is {findLCA(root,4,6)}\")\n",
    "    print(f\"LCA of 3,4 is {findLCA(root,3,4)}\")\n",
    "    print(f\"LCA of 2,4 is {findLCA(root,2,4)}\")\n"
   ]
  },
  {
   "cell_type": "markdown",
   "metadata": {},
   "source": [
    "Approach2-> Using Single Traversal"
   ]
  },
  {
   "cell_type": "markdown",
   "metadata": {},
   "source": [
    "The idea is to traverse the tree starting from the root. If any of the given keys (n1 and n2) matches with the root, then the root is LCA (assuming that both keys are present). If the root doesn’t match with any of the keys, we recur for the left and right subtree. The node which has one key present in its left subtree and the other key present in the right subtree is the LCA. If both keys lie in the left subtree, then the left subtree has LCA also, otherwise, LCA lies in the right subtree. "
   ]
  },
  {
   "cell_type": "code",
   "execution_count": 2,
   "metadata": {},
   "outputs": [
    {
     "name": "stdout",
     "output_type": "stream",
     "text": [
      "LCA of 4,5 is 2\n",
      "LCA of 4,6 is 1\n",
      "LCA of 3,4 is 1\n",
      "LCA of 2,4 is 2\n"
     ]
    }
   ],
   "source": [
    "class Node:\n",
    "    def __init__(self,data):\n",
    "        self.data=data\n",
    "        self.left=None\n",
    "        self.right=None\n",
    "\n",
    "def findLCA(root,n1,n2):\n",
    "    if root is None:\n",
    "        return None\n",
    "    if root.data==n1 or root.data==n2:\n",
    "        return root.data\n",
    "    left=findLCA(root.left,n1,n2)\n",
    "    right=findLCA(root.right,n1,n2)\n",
    "    if left and right:\n",
    "        return root.data\n",
    "    return left if left is not None else right\n",
    "\n",
    "\n",
    "if __name__ == '__main__':\n",
    "    root=Node(1)\n",
    "    root.left=Node(2)\n",
    "    root.right=Node(3)\n",
    "    root.left.left=Node(4)\n",
    "    root.left.right=Node(5)\n",
    "    root.right.left=Node(6)\n",
    "    root.right.right=Node(7)\n",
    "    print(f\"LCA of 4,5 is {findLCA(root,4,5)}\")\n",
    "    print(f\"LCA of 4,6 is {findLCA(root,4,6)}\")\n",
    "    print(f\"LCA of 3,4 is {findLCA(root,3,4)}\")\n",
    "    print(f\"LCA of 2,4 is {findLCA(root,2,4)}\")\n"
   ]
  },
  {
   "cell_type": "markdown",
   "metadata": {},
   "source": [
    "Time Complexity O(n)"
   ]
  },
  {
   "cell_type": "markdown",
   "metadata": {},
   "source": [
    "But this method does not provide correct results for the cases where one of the keky is not present. In this case the key which is present in the tree is returned as the LCA"
   ]
  },
  {
   "cell_type": "code",
   "execution_count": 1,
   "metadata": {},
   "outputs": [
    {
     "name": "stdout",
     "output_type": "stream",
     "text": [
      "LCA of 4,5 is 2\n",
      "LCA of 4,6 is 1\n",
      "LCA of 3,4 is 1\n",
      "LCA of 2,4 is 2\n"
     ]
    }
   ],
   "source": [
    "class Node:\n",
    "    def __init__(self,data):\n",
    "        self.data=data\n",
    "        self.left=None\n",
    "        self.right=None\n",
    "\n",
    "def findLCAUtil(root,n1,n2,v):\n",
    "    if root is None:\n",
    "        return None\n",
    "    if root.data==n1:\n",
    "        v[0]=True\n",
    "        return root\n",
    "    if root.data==n2:\n",
    "        v[1]=True\n",
    "        return root\n",
    "    left=findLCAUtil(root.left,n1,n2,v)\n",
    "    right=findLCAUtil(root.right,n1,n2,v)\n",
    "    if left and right:\n",
    "        return root\n",
    "    return left if left is not None else right\n",
    "\n",
    "def find(root,key):\n",
    "    if root is None:\n",
    "        return False\n",
    "    if root.data==key or find(root.left,key) or find(root.right,key):\n",
    "        return True\n",
    "    return False\n",
    "\n",
    "def findLCA(root,n1,n2):\n",
    "    v=[False,False]\n",
    "    lca=findLCAUtil(root,n1,n2,v)\n",
    "    if (v[0] and v[1]) or (v[0] and find(lca,n2)) or (v[1] and find(lca,n1)):\n",
    "        return lca.data\n",
    "    return None\n",
    "\n",
    "if __name__ == '__main__':\n",
    "    root=Node(1)\n",
    "    root.left=Node(2)\n",
    "    root.right=Node(3)\n",
    "    root.left.left=Node(4)\n",
    "    root.left.right=Node(5)\n",
    "    root.right.left=Node(6)\n",
    "    root.right.right=Node(7)\n",
    "    print(f\"LCA of 4,5 is {findLCA(root,4,5)}\")\n",
    "    print(f\"LCA of 4,6 is {findLCA(root,4,6)}\")\n",
    "    print(f\"LCA of 3,4 is {findLCA(root,3,4)}\")\n",
    "    print(f\"LCA of 2,4 is {findLCA(root,2,4)}\")\n"
   ]
  },
  {
   "cell_type": "code",
   "execution_count": null,
   "metadata": {},
   "outputs": [],
   "source": []
  }
 ],
 "metadata": {
  "kernelspec": {
   "display_name": "Python 3",
   "language": "python",
   "name": "python3"
  },
  "language_info": {
   "codemirror_mode": {
    "name": "ipython",
    "version": 3
   },
   "file_extension": ".py",
   "mimetype": "text/x-python",
   "name": "python",
   "nbconvert_exporter": "python",
   "pygments_lexer": "ipython3",
   "version": "3.7.6"
  }
 },
 "nbformat": 4,
 "nbformat_minor": 4
}
