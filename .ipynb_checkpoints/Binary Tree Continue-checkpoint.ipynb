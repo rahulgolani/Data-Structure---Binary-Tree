{
 "cells": [
  {
   "cell_type": "markdown",
   "metadata": {},
   "source": [
    "# Summation"
   ]
  },
  {
   "cell_type": "code",
   "execution_count": 1,
   "metadata": {},
   "outputs": [],
   "source": [
    "# Diagonal Sum of a Binary Tree"
   ]
  },
  {
   "cell_type": "code",
   "execution_count": 2,
   "metadata": {},
   "outputs": [
    {
     "name": "stdout",
     "output_type": "stream",
     "text": [
      "9\n",
      "19\n",
      "42\n"
     ]
    }
   ],
   "source": [
    "class Node:\n",
    "    def __init__(self,data):\n",
    "        self.data=data\n",
    "        self.left=None\n",
    "        self.right=None\n",
    "\n",
    "def getDiagonalSum(root):\n",
    "    if root is None:\n",
    "        print(0)\n",
    "        return\n",
    "    queue=[]\n",
    "    stack=[]\n",
    "    queue.append(root)\n",
    "    queue.append(None)\n",
    "    total=0\n",
    "    while queue:\n",
    "        temp=queue.pop(0)\n",
    "        if temp:\n",
    "            while temp:\n",
    "                total+=temp.data\n",
    "                if temp.left:\n",
    "                    queue.append(temp.left)\n",
    "                temp=temp.right\n",
    "        else:\n",
    "            if len(queue):\n",
    "                queue.append(None)\n",
    "            print(total)\n",
    "            # stack.append(total)\n",
    "            total=0\n",
    "    # return total\n",
    "\n",
    "if __name__ == '__main__':\n",
    "    root=Node(1)\n",
    "    root.left=Node(2)\n",
    "    root.right=Node(3)\n",
    "    root.left.left=Node(9)\n",
    "    root.left.right=Node(6)\n",
    "    root.right.left=Node(4)\n",
    "    root.right.right=Node(5)\n",
    "    root.left.left.right=Node(10)\n",
    "    root.left.right.left=Node(11)\n",
    "    root.right.left.left=Node(12)\n",
    "    root.right.left.right=Node(7)\n",
    "    getDiagonalSum(root)\n"
   ]
  },
  {
   "cell_type": "markdown",
   "metadata": {},
   "source": [
    "This solution is for the slope +1, for slope -1, we can store the left child in queue and process the right child. Fot bottom up approach use stack"
   ]
  },
  {
   "cell_type": "code",
   "execution_count": 4,
   "metadata": {},
   "outputs": [],
   "source": [
    "# Find if there is a pair in tree with sum equals to root’s data"
   ]
  },
  {
   "cell_type": "markdown",
   "metadata": {},
   "source": [
    "Use hashing."
   ]
  },
  {
   "cell_type": "code",
   "execution_count": 6,
   "metadata": {},
   "outputs": [
    {
     "name": "stdout",
     "output_type": "stream",
     "text": [
      "True\n"
     ]
    }
   ],
   "source": [
    "class Node:\n",
    "    def __init__(self,data):\n",
    "        self.data=data\n",
    "        self.left=None\n",
    "        self.right=None\n",
    "\n",
    "def doesPairExistsUtil(root,key,hash):\n",
    "    if root is None:\n",
    "        return False\n",
    "    temp=key-root.data\n",
    "    # print(hash,root.data,temp)\n",
    "    if temp in hash:\n",
    "        return True\n",
    "    hash.add(root.data)\n",
    "    return doesPairExistsUtil(root.left,key,hash) or doesPairExistsUtil(root.right,key,hash)\n",
    "\n",
    "def doesPairExists(root,key):\n",
    "    if root is None:\n",
    "        return False\n",
    "    if root.left is None and root.right is None:\n",
    "        return False\n",
    "    hash=set()\n",
    "    return doesPairExistsUtil(root,key,hash)\n",
    "\n",
    "if __name__ == '__main__':\n",
    "    root=Node(5)\n",
    "    root.left=Node(2)\n",
    "    root.right=Node(3)\n",
    "    root.left.left=Node(1)\n",
    "    root.left.right=Node(4)\n",
    "    root.left.right.left=Node(6)\n",
    "    root.left.right.right=Node(8)\n",
    "    print(doesPairExists(root,root.data))\n"
   ]
  },
  {
   "cell_type": "code",
   "execution_count": 8,
   "metadata": {},
   "outputs": [],
   "source": [
    "# Find if there is a pair in root to a leaf path with sum equals to root’s data"
   ]
  },
  {
   "cell_type": "code",
   "execution_count": 9,
   "metadata": {},
   "outputs": [
    {
     "name": "stdout",
     "output_type": "stream",
     "text": [
      "False\n"
     ]
    }
   ],
   "source": [
    "class Node:\n",
    "    def __init__(self,data):\n",
    "        self.data=data\n",
    "        self.left=None\n",
    "        self.right=None\n",
    "\n",
    "def doesPairExistsUtil(root,key,hash):\n",
    "    if root is None:\n",
    "        return False\n",
    "    temp=key-root.data\n",
    "    # print(hash,root.data,temp)\n",
    "    if temp in hash:\n",
    "        return True\n",
    "    hash.add(root.data)\n",
    "    res=doesPairExistsUtil(root.left,key,hash) or doesPairExistsUtil(root.right,key,hash)\n",
    "    hash.remove(root.data)\n",
    "    return res\n",
    "\n",
    "def doesPairExists(root,key):\n",
    "    if root is None:\n",
    "        return False\n",
    "    if root.left is None and root.right is None:\n",
    "        return False\n",
    "    hash=set()\n",
    "    return doesPairExistsUtil(root,key,hash)\n",
    "\n",
    "if __name__ == '__main__':\n",
    "    root=Node(5)\n",
    "    root.left=Node(2)\n",
    "    root.right=Node(3)\n",
    "    root.left.left=Node(1)\n",
    "    root.left.right=Node(4)\n",
    "    root.left.right.left=Node(6)\n",
    "    root.left.right.right=Node(8)\n",
    "    print(doesPairExists(root,root.data))\n"
   ]
  },
  {
   "cell_type": "code",
   "execution_count": 10,
   "metadata": {},
   "outputs": [],
   "source": [
    "# Print all root to leaf paths that have a pair with sum equals to root’s data."
   ]
  },
  {
   "cell_type": "code",
   "execution_count": 11,
   "metadata": {},
   "outputs": [
    {
     "name": "stdout",
     "output_type": "stream",
     "text": [
      "8 5 7 1 20\n",
      "8 5 7 1 21\n",
      "8 4 11 3 5\n"
     ]
    }
   ],
   "source": [
    "class Node:\n",
    "    def __init__(self,data):\n",
    "        self.data=data\n",
    "        self.left=None\n",
    "        self.right=None\n",
    "\n",
    "def printRootToLeaf(root,hash):\n",
    "    if root is None:\n",
    "        return\n",
    "    hash.append(root.data)\n",
    "    if root.left is None and root.right is None:\n",
    "        print(\" \".join(map(str,hash)))\n",
    "    printRootToLeaf(root.left,hash)\n",
    "    printRootToLeaf(root.right,hash)\n",
    "    # hash.pop(root.data)\n",
    "    hash.pop()\n",
    "\n",
    "\n",
    "def doesPairExistsUtil(root,key,hash):\n",
    "    if root is None:\n",
    "        return False\n",
    "    temp=key-root.data\n",
    "    # print(hash,root.data,temp)\n",
    "    if temp in hash:\n",
    "        # print(hash,root.data)\n",
    "        printRootToLeaf(root,hash)\n",
    "        return\n",
    "    hash.append(root.data)\n",
    "    doesPairExistsUtil(root.left,key,hash)\n",
    "    doesPairExistsUtil(root.right,key,hash)\n",
    "    # hash.pop(root.data)\n",
    "    hash.pop()\n",
    "    # return res\n",
    "\n",
    "def doesPairExists(root,key):\n",
    "    if root is None:\n",
    "        return False\n",
    "    if root.left is None and root.right is None:\n",
    "        return False\n",
    "    hash=[]\n",
    "    # return doesPairExistsUtil(root,key,hash)\n",
    "    doesPairExistsUtil(root,key,hash)\n",
    "\n",
    "if __name__ == '__main__':\n",
    "    # root=Node(5)\n",
    "    # root.left=Node(2)\n",
    "    # root.right=Node(3)\n",
    "    # root.left.left=Node(1)\n",
    "    # root.left.right=Node(4)\n",
    "    # root.left.right.left=Node(6)\n",
    "    # root.left.right.right=Node(8)\n",
    "    root = Node(8)\n",
    "    root.left = Node(5)\n",
    "    root.right = Node(4)\n",
    "    root.left.left = Node(9)\n",
    "    root.left.right = Node(7)\n",
    "    root.left.right.left = Node(1)\n",
    "    root.left.right.right = Node(12)\n",
    "    root.left.right.right.right = Node(2)\n",
    "    root.right.right = Node(11)\n",
    "    root.right.right.left = Node(3)\n",
    "    root.right.right.left.right = Node(5)\n",
    "    root.left.right.left.left = Node(20)\n",
    "    root.left.right.left.right = Node(21)\n",
    "    doesPairExists(root,root.data)\n"
   ]
  },
  {
   "cell_type": "code",
   "execution_count": 12,
   "metadata": {},
   "outputs": [],
   "source": [
    "# Sum of nodes on the longest path from root to leaf node"
   ]
  },
  {
   "cell_type": "code",
   "execution_count": 13,
   "metadata": {},
   "outputs": [
    {
     "name": "stdout",
     "output_type": "stream",
     "text": [
      "29\n"
     ]
    }
   ],
   "source": [
    "class Node:\n",
    "    def __init__(self,data):\n",
    "        self.data=data\n",
    "        self.left=None\n",
    "        self.right=None\n",
    "\n",
    "def getSumUtil(root,total,level,result):\n",
    "    if root is None:\n",
    "        return\n",
    "    # path.append(root.data)\n",
    "    total[0]+=root.data\n",
    "    if level==result[1]:\n",
    "        result[0]=max(result[0],total[0])\n",
    "        result[1]=level\n",
    "    elif level>result[1]:\n",
    "        result[1]=level\n",
    "        result[0]=total[0]\n",
    "    getSumUtil(root.left,total,level+1,result)\n",
    "    getSumUtil(root.right,total,level+1,result)\n",
    "    total[0]-=root.data\n",
    "    # path.pop()\n",
    "\n",
    "def getSum(root):\n",
    "    level=0\n",
    "    result=[0,0]\n",
    "    total=[0]\n",
    "    # path=[]\n",
    "    getSumUtil(root,total,level,result)\n",
    "    print(result[0])\n",
    "if __name__ == '__main__':\n",
    "    root=Node(4)\n",
    "    root.left=Node(2)\n",
    "    root.right=Node(5)\n",
    "    root.left.left=Node(7)\n",
    "    # root.left.left.left=Node(20)\n",
    "    root.left.right=Node(1)\n",
    "    root.left.right.left=Node(6)\n",
    "    root.left.right.left.left=Node(16)\n",
    "    root.right.left=Node(2)\n",
    "    root.right.right=Node(3)\n",
    "    getSum(root)\n"
   ]
  },
  {
   "cell_type": "code",
   "execution_count": 14,
   "metadata": {},
   "outputs": [],
   "source": [
    "# Remove all nodes which don’t lie in any path with sum>= k"
   ]
  },
  {
   "cell_type": "markdown",
   "metadata": {},
   "source": [
    "<pre>\n",
    "Given a binary tree, a complete path is defined as a path from root to a leaf. The sum of all nodes on that path is defined as the sum of that path. Given a number K, you have to remove (prune the tree) all nodes which don’t lie in any path with sum>=k.\n",
    "\n",
    "Note: A node can be part of multiple paths. So we have to delete it only in case when all paths from it have sum less than K.\n",
    "</pre>"
   ]
  },
  {
   "cell_type": "code",
   "execution_count": 15,
   "metadata": {},
   "outputs": [
    {
     "name": "stdout",
     "output_type": "stream",
     "text": [
      "8 4 9 2 12 5 1 6 3 10 11 7 \n",
      "2 12 5 1 3 10 11 7 "
     ]
    }
   ],
   "source": [
    "class Node:\n",
    "    def __init__(self,data):\n",
    "        self.data=data\n",
    "        self.left=None\n",
    "        self.right=None\n",
    "\n",
    "def isLeaf(root):\n",
    "    if root.left is None and root.right is None:\n",
    "        return True\n",
    "    return False\n",
    "\n",
    "def pruneTreeUtil(root,value,total):\n",
    "    if root is None:\n",
    "        return\n",
    "    value[0]+=root.data\n",
    "    # if isLeaf(root) and value[0]<total:\n",
    "    #     value[0]-=root.data\n",
    "    #     return None\n",
    "    root.left=pruneTreeUtil(root.left,value,total)\n",
    "    root.right=pruneTreeUtil(root.right,value,total)\n",
    "    if isLeaf(root) and value[0]<total:\n",
    "        value[0]-=root.data\n",
    "        return None\n",
    "    value[0]-=root.data\n",
    "    return root\n",
    "\n",
    "def pruneTree(root,total):\n",
    "    value=[0]\n",
    "    root=pruneTreeUtil(root,value,total)\n",
    "    return root\n",
    "def inorder(root):\n",
    "    if root is None:\n",
    "        return\n",
    "    inorder(root.left)\n",
    "    print(root.data,end=\" \")\n",
    "    inorder(root.right)\n",
    "\n",
    "if __name__ == '__main__':\n",
    "    root = Node(1)\n",
    "    root.left = Node(2)\n",
    "    root.right = Node(3)\n",
    "    root.left.left = Node(4)\n",
    "    root.left.right = Node(5)\n",
    "    root.right.left = Node(6)\n",
    "    root.right.right = Node(7)\n",
    "    root.left.left.left = Node(8)\n",
    "    root.left.left.right = Node(9)\n",
    "    root.left.right.left = Node(12)\n",
    "    root.right.right.left = Node(10)\n",
    "    root.right.right.left.right = Node(11)\n",
    "    # root.left.left.right.left = Node(13)\n",
    "    # root.left.left.right.right = Node(14)\n",
    "    # root.left.left.right.right.left = Node(15)\n",
    "    inorder(root)\n",
    "    print()\n",
    "    root=pruneTree(root,20)\n",
    "    inorder(root)\n"
   ]
  },
  {
   "cell_type": "markdown",
   "metadata": {},
   "source": [
    "<pre>\n",
    "Another Approach -> The above code can be simplified using the fact that nodes are deleted in bottom up manner. The idea is to keep reducing the sum when traversing down. When we reach a leaf and sum is greater than the leaf’s data, then we delete the leaf. Note that deleting nodes may convert a non-leaf node to a leaf node and if the data for the converted leaf node is less than the current sum, then the converted leaf should also be deleted.\n",
    "</pre>"
   ]
  },
  {
   "cell_type": "code",
   "execution_count": 16,
   "metadata": {},
   "outputs": [
    {
     "name": "stdout",
     "output_type": "stream",
     "text": [
      "8 4 9 2 12 5 1 6 3 10 11 7 \n",
      "2 12 5 1 3 10 11 7 "
     ]
    }
   ],
   "source": [
    "class Node:\n",
    "    def __init__(self,data):\n",
    "        self.data=data\n",
    "        self.left=None\n",
    "        self.right=None\n",
    "\n",
    "def isLeaf(root):\n",
    "    if root.left is None and root.right is None:\n",
    "        return True\n",
    "    return False\n",
    "\n",
    "def pruneTree(root,value):\n",
    "    if root is None:\n",
    "        return\n",
    "    root.left=pruneTree(root.left,value-root.data)\n",
    "    root.right=pruneTree(root.right,value-root.data)\n",
    "    if isLeaf(root) and value>root.data:\n",
    "        return None\n",
    "    return root\n",
    "\n",
    "def inorder(root):\n",
    "    if root is None:\n",
    "        return\n",
    "    inorder(root.left)\n",
    "    print(root.data,end=\" \")\n",
    "    inorder(root.right)\n",
    "\n",
    "if __name__ == '__main__':\n",
    "    root = Node(1)\n",
    "    root.left = Node(2)\n",
    "    root.right = Node(3)\n",
    "    root.left.left = Node(4)\n",
    "    root.left.right = Node(5)\n",
    "    root.right.left = Node(6)\n",
    "    root.right.right = Node(7)\n",
    "    root.left.left.left = Node(8)\n",
    "    root.left.left.right = Node(9)\n",
    "    root.left.right.left = Node(12)\n",
    "    root.right.right.left = Node(10)\n",
    "    root.right.right.left.right = Node(11)\n",
    "    # root.left.left.right.left = Node(13)\n",
    "    # root.left.left.right.right = Node(14)\n",
    "    # root.left.left.right.right.left = Node(15)\n",
    "    inorder(root)\n",
    "    print()\n",
    "    root=pruneTree(root,20)\n",
    "    inorder(root)\n"
   ]
  },
  {
   "cell_type": "code",
   "execution_count": 1,
   "metadata": {},
   "outputs": [],
   "source": [
    "# Find the maximum path sum between two leaves of a binary tree"
   ]
  },
  {
   "cell_type": "markdown",
   "metadata": {},
   "source": [
    "Given a binary tree in which each node element contains a number. Find the maximum possible sum from one leaf node to another.\n",
    "The maximum sum path may or may not go through root."
   ]
  },
  {
   "cell_type": "markdown",
   "metadata": {},
   "source": [
    "<pre>\n",
    "We can find the maximum sum using single traversal of binary tree. The idea is to maintain two values in recursive calls\n",
    "1) Maximum root to leaf path sum for the subtree rooted under current node.\n",
    "2) The maximum path sum between leaves (desired output).\n",
    "\n",
    "For every visited node X, we find the maximum root to leaf sum in left and right subtrees of X. We add the two values with X->data, and compare the sum with maximum path sum found so far.\n",
    "</pre>"
   ]
  },
  {
   "cell_type": "code",
   "execution_count": 2,
   "metadata": {},
   "outputs": [
    {
     "name": "stdout",
     "output_type": "stream",
     "text": [
      "27\n"
     ]
    }
   ],
   "source": [
    "class Node:\n",
    "    def __init__(self,data):\n",
    "        self.data=data\n",
    "        self.left=None\n",
    "        self.right=None\n",
    "\n",
    "def getLongestSumPathUtil(root,total):\n",
    "    if root is None:\n",
    "        return 0\n",
    "    left=getLongestSumPathUtil(root.left,total)\n",
    "    right=getLongestSumPathUtil(root.right,total)\n",
    "    if left+right+root.data>total[0]:\n",
    "        total[0]=left+right+root.data\n",
    "    return max(left,right)+root.data\n",
    "\n",
    "def getLongestSumPath(root):\n",
    "    if root.left is None or root.right is None:\n",
    "        return float('-infinity')\n",
    "    total=[0]\n",
    "    getLongestSumPathUtil(root,total)\n",
    "    return total[0]\n",
    "\n",
    "if __name__ == '__main__':\n",
    "    root=Node(-15)\n",
    "    root.left=Node(5)\n",
    "    root.right=Node(6)\n",
    "    root.left.left=Node(-8)\n",
    "    root.left.right=Node(1)\n",
    "    root.left.left.left=Node(2)\n",
    "    root.left.left.right=Node(6)\n",
    "    root.right.left=Node(3)\n",
    "    root.right.right=Node(9)\n",
    "    root.right.right.right=Node(0)\n",
    "    root.right.right.right.left=Node(4)\n",
    "    root.right.right.right.right=Node(-1)\n",
    "    root.right.right.right.right.left=Node(10)\n",
    "    print(getLongestSumPath(root))\n"
   ]
  },
  {
   "cell_type": "code",
   "execution_count": null,
   "metadata": {},
   "outputs": [],
   "source": []
  }
 ],
 "metadata": {
  "kernelspec": {
   "display_name": "Python 3",
   "language": "python",
   "name": "python3"
  },
  "language_info": {
   "codemirror_mode": {
    "name": "ipython",
    "version": 3
   },
   "file_extension": ".py",
   "mimetype": "text/x-python",
   "name": "python",
   "nbconvert_exporter": "python",
   "pygments_lexer": "ipython3",
   "version": "3.7.6"
  }
 },
 "nbformat": 4,
 "nbformat_minor": 4
}
