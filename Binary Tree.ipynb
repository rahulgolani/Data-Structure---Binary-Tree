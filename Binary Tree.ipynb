{
 "cells": [
  {
   "cell_type": "markdown",
   "metadata": {},
   "source": [
    "A tree whose elements have at most 2 children is called a binary tree"
   ]
  },
  {
   "cell_type": "code",
   "execution_count": 3,
   "metadata": {},
   "outputs": [],
   "source": [
    "# Trees are hierarchical data structures."
   ]
  },
  {
   "cell_type": "code",
   "execution_count": 2,
   "metadata": {},
   "outputs": [],
   "source": [
    "# Why Trees?"
   ]
  },
  {
   "cell_type": "markdown",
   "metadata": {},
   "source": [
    "1. One reason to use trees might be because you want to store information that naturally forms a hierarchy. For example, the file system on a computer:\n",
    "file system\n",
    "<p>-----------</p>\n",
    "<p>     /    <-- root</p>\n",
    "<p>  /      \\</p>\n",
    "<p>...       home</p>\n",
    "<p>      /          \\</p>\n",
    "<p>   ugrad        course</p>\n",
    "<p>    /       /      |     \\</p>\n",
    "<p>  ...      cs101  cs112  cs113</p>  \n",
    "2. Trees (with some ordering e.g., BST) provide moderate access/search (quicker than Linked List and slower than arrays).\n",
    "3. Trees provide moderate insertion/deletion (quicker than Arrays and slower than Unordered Linked Lists).\n",
    "4. Like Linked Lists and unlike Arrays, Trees don’t have an upper limit on number of nodes as nodes are linked using pointers."
   ]
  },
  {
   "cell_type": "markdown",
   "metadata": {},
   "source": [
    "Main applications of trees include:\n",
    "1. Manipulate hierarchical data.\n",
    "2. Make information easy to search (see tree traversal).\n",
    "3. Router algorithms"
   ]
  },
  {
   "cell_type": "code",
   "execution_count": 4,
   "metadata": {},
   "outputs": [],
   "source": [
    "# Node Structure"
   ]
  },
  {
   "cell_type": "code",
   "execution_count": 5,
   "metadata": {},
   "outputs": [],
   "source": [
    "class Node:\n",
    "    def __init__(self,data):\n",
    "        self.data=data\n",
    "        self.left=None\n",
    "        self.right=None"
   ]
  },
  {
   "cell_type": "code",
   "execution_count": 6,
   "metadata": {},
   "outputs": [],
   "source": [
    "# Properties of Binary Tree"
   ]
  },
  {
   "cell_type": "markdown",
   "metadata": {},
   "source": [
    "1) The maximum number of nodes at level ‘i’ of a binary tree is 2^i [if i starts from 0 and i-1 if i starts from 1].<br><br>\n",
    "Here level is number of nodes on path from root to the node (including root and node). Level of root is 0.\n",
    "This can be proved by induction.\n",
    "For root, l = 0, number of nodes = 2^0 = 1\n",
    "Assume that maximum number of nodes on level l is 2^l\n",
    "Since in Binary tree every node has at most 2 children, next level would have twice nodes, i.e. 2 * 2^l"
   ]
  },
  {
   "cell_type": "markdown",
   "metadata": {},
   "source": [
    "2) Maximum number of nodes in a binary tree of height ‘h’ is 2^h – 1.<br><br>\n",
    "Here height of a tree is maximum number of nodes on root to leaf path. Height of a tree with single node is considered as 1.\n",
    "This result can be derived from point 2 above. A tree has maximum nodes if all levels have maximum nodes. So maximum number of nodes in a binary tree of height h is 1 + 2 + 4 + .. + 2h-1. This is a simple geometric series with h terms and sum of this series is 2h – 1.\n",
    "In some books, height of the root is considered as 0. In this convention, the above formula becomes 2h+1 – 1"
   ]
  },
  {
   "cell_type": "markdown",
   "metadata": {},
   "source": [
    "3) In a Binary Tree with N nodes, minimum possible height or minimum number of levels is Log2(N+1)"
   ]
  },
  {
   "cell_type": "markdown",
   "metadata": {},
   "source": [
    "4) In Binary tree where every node has 0 or 2 children, number of leaf nodes is always one more than nodes with two children.\n",
    "<br><br>\n",
    "   L = T + 1\n",
    "Where L = Number of leaf nodes\n",
    "      T = Number of internal nodes with two children"
   ]
  },
  {
   "cell_type": "code",
   "execution_count": 7,
   "metadata": {},
   "outputs": [],
   "source": [
    "# Types of Binary Tree"
   ]
  },
  {
   "cell_type": "markdown",
   "metadata": {},
   "source": [
    "Full Binary Tree - A Binary Tree is full if every node has 0 or 2 children. Following are examples of a full binary tree. We can also say a full binary tree is a binary tree in which all nodes except leaves have two children."
   ]
  },
  {
   "cell_type": "markdown",
   "metadata": {},
   "source": [
    "Complete Binary Tree - A Binary Tree is complete Binary Tree if all levels are completely filled except possibly the last level and the last level has all keys as left as possible"
   ]
  },
  {
   "cell_type": "markdown",
   "metadata": {},
   "source": [
    "Perfect Binary Tree - A Binary tree is Perfect Binary Tree in which all internal nodes have two children and all leaves are at the same level."
   ]
  },
  {
   "cell_type": "markdown",
   "metadata": {},
   "source": [
    "Balanced Binary Tree - \n",
    "A binary tree is balanced if the height of the tree is O(Log n) where n is the number of nodes. For Example, AVL tree maintains O(Log n) height by making sure that the difference between heights of left and right subtrees is atmost 1. Red-Black trees maintain O(Log n) height by making sure that the number of Black nodes on every root to leaf paths are same and there are no adjacent red nodes. Balanced Binary Search trees are performance wise good as they provide O(log n) time for search, insert and delete.\n",
    "\n"
   ]
  },
  {
   "cell_type": "markdown",
   "metadata": {},
   "source": [
    "A degenerate (or pathological) tree - A Tree where every internal node has one child. Such trees are performance-wise same as linked list.(skewed)"
   ]
  },
  {
   "cell_type": "code",
   "execution_count": 8,
   "metadata": {},
   "outputs": [],
   "source": [
    "# Handshaking Lemma and Interesting Tree Properties"
   ]
  },
  {
   "cell_type": "markdown",
   "metadata": {},
   "source": [
    "What is Handshaking Lemma?<br><br>\n",
    "Handshaking lemma is about undirected graph. In every finite undirected graph number of vertices with odd degree is always even. The handshaking lemma is a consequence of the degree sum formula (also sometimes called the handshaking lemma)<br><br>\n",
    "Summation of  deg(v) = 2 * |E|<br><br>\n",
    "deg(even vertices) + deg(odd vertices)= even(since 2*E will always be even)<br><br>\n",
    "we know summation of even degree will be even<br><br>\n",
    "so even + ___ = even<br><br>\n",
    "so the summation of degree of odd degree vertices has to be even . Therefore odd + odd=even.\n",
    "Hence we conclude hat vertices with odd degree is always even."
   ]
  },
  {
   "cell_type": "code",
   "execution_count": null,
   "metadata": {},
   "outputs": [],
   "source": []
  }
 ],
 "metadata": {
  "kernelspec": {
   "display_name": "Python 3",
   "language": "python",
   "name": "python3"
  },
  "language_info": {
   "codemirror_mode": {
    "name": "ipython",
    "version": 3
   },
   "file_extension": ".py",
   "mimetype": "text/x-python",
   "name": "python",
   "nbconvert_exporter": "python",
   "pygments_lexer": "ipython3",
   "version": "3.7.6"
  }
 },
 "nbformat": 4,
 "nbformat_minor": 4
}
