{
 "cells": [
  {
   "cell_type": "markdown",
   "metadata": {},
   "source": [
    "A tree whose elements have at most 2 children is called a binary tree"
   ]
  },
  {
   "cell_type": "markdown",
   "metadata": {},
   "source": [
    "Trees are hierarchical data structures."
   ]
  },
  {
   "cell_type": "markdown",
   "metadata": {},
   "source": [
    "# Why Trees?"
   ]
  },
  {
   "cell_type": "markdown",
   "metadata": {},
   "source": [
    "1. One reason to use trees might be because you want to store information that naturally forms a hierarchy. For example, the file system on a computer:\n",
    "file system\n",
    "<p>-----------</p>\n",
    "<p>     /    <-- root</p>\n",
    "<p>  /      \\</p>\n",
    "<p>...       home</p>\n",
    "<p>      /          \\</p>\n",
    "<p>   ugrad        course</p>\n",
    "<p>    /       /      |     \\</p>\n",
    "<p>  ...      cs101  cs112  cs113</p>  \n",
    "2. Trees (with some ordering e.g., BST) provide moderate access/search (quicker than Linked List and slower than arrays).\n",
    "3. Trees provide moderate insertion/deletion (quicker than Arrays and slower than Unordered Linked Lists).\n",
    "4. Like Linked Lists and unlike Arrays, Trees don’t have an upper limit on number of nodes as nodes are linked using pointers."
   ]
  },
  {
   "cell_type": "markdown",
   "metadata": {},
   "source": [
    "Main applications of trees include:\n",
    "1. Manipulate hierarchical data.\n",
    "2. Make information easy to search (see tree traversal).\n",
    "3. Router algorithms"
   ]
  },
  {
   "cell_type": "markdown",
   "metadata": {},
   "source": [
    "# Node Structure"
   ]
  },
  {
   "cell_type": "code",
   "execution_count": 9,
   "metadata": {},
   "outputs": [],
   "source": [
    "class Node:\n",
    "    def __init__(self,data):\n",
    "        self.data=data\n",
    "        self.left=None\n",
    "        self.right=None"
   ]
  },
  {
   "cell_type": "markdown",
   "metadata": {},
   "source": [
    "# Properties of Binary Tree"
   ]
  },
  {
   "cell_type": "markdown",
   "metadata": {},
   "source": [
    "1) The maximum number of nodes at level ‘i’ of a binary tree is 2^i [if i starts from 0 and i-1 if i starts from 1].<br><br>\n",
    "Here level is number of nodes on path from root to the node (including root and node). Level of root is 0.\n",
    "This can be proved by induction.\n",
    "For root, l = 0, number of nodes = 2^0 = 1\n",
    "Assume that maximum number of nodes on level l is 2^l\n",
    "Since in Binary tree every node has at most 2 children, next level would have twice nodes, i.e. 2 * 2^l"
   ]
  },
  {
   "cell_type": "markdown",
   "metadata": {},
   "source": [
    "2) Maximum number of nodes in a binary tree of height ‘h’ is 2<sup>h</sup> – 1.<br><br>\n",
    "Here height of a tree is maximum number of nodes on root to leaf path. Height of a tree with single node is considered as 1.\n",
    "This result can be derived from point 2 above. A tree has maximum nodes if all levels have maximum nodes. So maximum number of nodes in a binary tree of height h is 1 + 2 + 4 + .. + 2h-1. This is a simple geometric series with h terms and sum of this series is 2h – 1.\n",
    "In some books, height of the root is considered as 0. In this convention, the above formula becomes 2h+1 – 1"
   ]
  },
  {
   "cell_type": "markdown",
   "metadata": {},
   "source": [
    "3) In a Binary Tree with N nodes, minimum possible height or minimum number of levels is Log2(N+1)"
   ]
  },
  {
   "cell_type": "markdown",
   "metadata": {},
   "source": [
    "4) In Binary tree where every node has 0 or 2 children, number of leaf nodes is always one more than nodes with two children.\n",
    "<br><br>\n",
    "   L = T + 1\n",
    "Where L = Number of leaf nodes\n",
    "      T = Number of internal nodes with two children"
   ]
  },
  {
   "cell_type": "markdown",
   "metadata": {},
   "source": [
    "# Types of Binary Tree"
   ]
  },
  {
   "cell_type": "markdown",
   "metadata": {},
   "source": [
    "Full Binary Tree - A Binary Tree is full if every node has 0 or 2 children. Following are examples of a full binary tree. We can also say a full binary tree is a binary tree in which all nodes except leaves have two children."
   ]
  },
  {
   "cell_type": "markdown",
   "metadata": {},
   "source": [
    "Complete Binary Tree - A Binary Tree is complete Binary Tree if all levels are completely filled except possibly the last level and the last level has all keys as left as possible"
   ]
  },
  {
   "cell_type": "markdown",
   "metadata": {},
   "source": [
    "Perfect Binary Tree - A Binary tree is Perfect Binary Tree in which all internal nodes have two children and all leaves are at the same level."
   ]
  },
  {
   "cell_type": "markdown",
   "metadata": {},
   "source": [
    "Balanced Binary Tree - \n",
    "A binary tree is balanced if the height of the tree is O(Log n) where n is the number of nodes. For Example, AVL tree maintains O(Log n) height by making sure that the difference between heights of left and right subtrees is atmost 1. Red-Black trees maintain O(Log n) height by making sure that the number of Black nodes on every root to leaf paths are same and there are no adjacent red nodes. Balanced Binary Search trees are performance wise good as they provide O(log n) time for search, insert and delete.\n",
    "\n"
   ]
  },
  {
   "cell_type": "markdown",
   "metadata": {},
   "source": [
    "A degenerate (or pathological) tree - A Tree where every internal node has one child. Such trees are performance-wise same as linked list.(skewed)"
   ]
  },
  {
   "cell_type": "markdown",
   "metadata": {},
   "source": [
    "# Handshaking Lemma and Interesting Tree Properties"
   ]
  },
  {
   "cell_type": "markdown",
   "metadata": {},
   "source": [
    "What is Handshaking Lemma?<br><br>\n",
    "Handshaking lemma is about undirected graph. In every finite undirected graph number of vertices with odd degree is always even. The handshaking lemma is a consequence of the degree sum formula (also sometimes called the handshaking lemma)<br><br>\n",
    "Summation of  deg(v) = 2 * |E|<br><br>\n",
    "deg(even vertices) + deg(odd vertices)= even(since 2*E will always be even)<br><br>\n",
    "we know summation of even degree will be even<br><br>\n",
    "so even + ___ = even<br><br>\n",
    "so the summation of degree of odd degree vertices has to be even . Therefore odd + odd=even.\n",
    "Hence we conclude hat vertices with odd degree is always even."
   ]
  },
  {
   "cell_type": "markdown",
   "metadata": {},
   "source": [
    "<strong>How is Handshaking Lemma useful in Tree Data structure?</strong>\n",
    "<br><br>\n",
    "Following are some interesting facts that can be proved using Handshaking lemma.\n",
    "<br><br>\n",
    "<b>1) In a k-ary tree where every node has either 0 or k children, following property is always true.</b>\n",
    "<br><br>\n",
    "<p>\n",
    "<b>L = (k - 1)*I + 1</b><br>\n",
    "Where L = Number of leaf nodes\n",
    "      I = Number of internal nodes  <br><br>\n",
    "Proof:\n",
    "Proof can be divided in two cases.\n",
    "\n",
    "Case 1 (Root is Leaf):There is only one node in tree. The above formula is true for single node as L = 1, I = 0.\n",
    "\n",
    "Case 2 (Root is Internal Node): For trees with more than 1 nodes, root is always internal node. The above formula can be proved using Handshaking Lemma for this case. A tree is an undirected acyclic graph.\n",
    "\n",
    "Total number of edges in Tree is number of nodes minus 1, i.e., |E| = L + I – 1.\n",
    "\n",
    "All internal nodes except root in the given type of tree have degree k + 1. Root has degree k. All leaves have degree 1. Applying the Handshaking lemma to such trees, we get following relation.\n",
    "\n",
    "  Sum of all degrees  = 2 * (Sum of Edges)\n",
    "\n",
    "  Sum of degrees of leaves + \n",
    "  Sum of degrees for Internal Node except root + \n",
    "  Root's degree = 2 * (No. of nodes - 1)\n",
    "\n",
    "  Putting values of above terms,   \n",
    "  L + (I-1)*(k+1) + k = 2 * (L + I - 1) \n",
    "  L + k*I - k + I -1 + k = 2*L  + 2I - 2\n",
    "  L + K*I + I - 1 = 2*L + 2*I - 2\n",
    "  K*I + 1 - I = L\n",
    "  (K-1)*I + 1 = L   </p>"
   ]
  },
  {
   "cell_type": "markdown",
   "metadata": {},
   "source": [
    "<b>2) In Binary tree, number of leaf nodes is always one more than nodes with two children.</b>"
   ]
  },
  {
   "cell_type": "markdown",
   "metadata": {},
   "source": [
    "Can be proved from above by putting k=2"
   ]
  },
  {
   "cell_type": "markdown",
   "metadata": {},
   "source": [
    "# Enumeration of Binary Trees"
   ]
  },
  {
   "cell_type": "markdown",
   "metadata": {},
   "source": [
    "A Binary Tree is labeled if every node is assigned a label and a Binary Tree is unlabeled if nodes are not assigned any label."
   ]
  },
  {
   "cell_type": "markdown",
   "metadata": {},
   "source": [
    "How many different Unlabeled Binary Trees can be there with n nodes?"
   ]
  },
  {
   "cell_type": "markdown",
   "metadata": {},
   "source": [
    "The idea is to consider all possible pair of counts for nodes in left and right subtrees and multiply the counts for a particular pair. Finally add results of all pairs.<br><br>\n",
    "<p>\n",
    "For example, let T(n) be count for n nodes.\n",
    "T(0) = 1  [There is only 1 empty tree]\n",
    "T(1) = 1\n",
    "T(2) = 2\n",
    "\n",
    "T(3) =  T(0)*T(2) + T(1)*T(1) + T(2)*T(0) = 1*2 + 1*1 + 2*1 = 5\n",
    "\n",
    "T(4) =  T(0)*T(3) + T(1)*T(2) + T(2)*T(1) + T(3)*T(0)\n",
    "     =  1*5 + 1*2 + 2*1 + 5*1 \n",
    "     =  14 \n",
    "\n",
    "T(n)=E{i=1} to {n} T(i-1)T(n-i)=E{i=0} to {n-1}  T(i)T(n-i-1)=C_n\n",
    "Here,\n",
    "T(i-1) represents number of nodes on the left-sub-tree\n",
    "T(n−i-1) represents number of nodes on the right-sub-tree\n",
    "\n",
    "n’th Catalan Number can also be evaluated using direct formula.\n",
    "\n",
    "   T(n) = (2n)! / (n+1)!n!\n",
    "\n",
    "Number of Binary Search Trees (BST) with n nodes is also same as number of unlabeled trees. The reason for this is simple, in BST also we can make any key as root, If root is i’th key in sorted order, then i-1 keys can go on one side and (n-i) keys can go on other side. \n",
    "    \n",
    "How many labeled Binary Trees can be there with n nodes?\n",
    "To count labeled trees, we can use above count for unlabeled trees. The idea is simple, every unlabeled tree with n nodes can create n! different labeled trees by assigning different permutations of labels to all nodes.\n",
    "\n",
    "Therefore,\n",
    "\n",
    "Number of Labeled Tees = (Number of unlabeled trees) * n!\n",
    "                       = [(2n)! / (n+1)!n!]  × n!    \n",
    "    \n",
    "</p>"
   ]
  },
  {
   "cell_type": "code",
   "execution_count": 1,
   "metadata": {},
   "outputs": [
    {
     "name": "stdout",
     "output_type": "stream",
     "text": [
      "14\n"
     ]
    }
   ],
   "source": [
    "#Enumerate Unlabelled Binary Trees\n",
    "\n",
    "def getNumber(n):\n",
    "    res=[0 for i in range(n+1)]\n",
    "    res[0]=1 #empty tree\n",
    "    res[1]=1 #1 tree\n",
    "    res[2]=2 #2 trees with 1 node as left child and another node as right child\n",
    "    for i in range(3,n+1):#n\n",
    "        for j in range(i):#i\n",
    "            res[i]+=res[j]*res[i-j-1]  #Catalan Number equation.Cn=Summation of Cn*Cn-i-1\n",
    "\n",
    "    return res[i]\n",
    "\n",
    "if __name__ == '__main__':\n",
    "    n=4\n",
    "    print(getNumber(n))\n"
   ]
  },
  {
   "cell_type": "markdown",
   "metadata": {},
   "source": [
    "# Insertion in Binary Tree"
   ]
  },
  {
   "cell_type": "code",
   "execution_count": 14,
   "metadata": {},
   "outputs": [
    {
     "name": "stdout",
     "output_type": "stream",
     "text": [
      "7 11 10 15 9 8 \n",
      "7 11 12 10 15 9 8 "
     ]
    }
   ],
   "source": [
    "class Node:\n",
    "    def __init__(self,data):\n",
    "        self.data=data\n",
    "        self.left=None\n",
    "        self.right=None\n",
    "\n",
    "def inorder(root):\n",
    "    if root is None:\n",
    "        return\n",
    "    inorder(root.left)\n",
    "    print(root.data,end=\" \")\n",
    "    inorder(root.right)\n",
    "\n",
    "\n",
    "def insert(root,data):\n",
    "    if root is None:\n",
    "        root=Node(data)\n",
    "        return\n",
    "    q=[]\n",
    "    q.append(root)\n",
    "    while q:\n",
    "        temp=q.pop(0)\n",
    "        if temp.left is None:\n",
    "            temp.left=Node(data)\n",
    "            break\n",
    "        else:\n",
    "            q.append(temp.left)\n",
    "        if temp.right is None:\n",
    "            temp.right=Node(data)\n",
    "            break\n",
    "        else:\n",
    "            q.append(temp.right)\n",
    "\n",
    "if __name__ == '__main__':\n",
    "    root = Node(10)\n",
    "    root.left = Node(11)\n",
    "    root.left.left = Node(7)\n",
    "    root.right = Node(9)\n",
    "    root.right.left = Node(15)\n",
    "    root.right.right = Node(8)\n",
    "    inorder(root)\n",
    "    insert(root,12)\n",
    "    print()\n",
    "    inorder(root)\n"
   ]
  },
  {
   "cell_type": "markdown",
   "metadata": {},
   "source": [
    "Time-O(n)"
   ]
  },
  {
   "cell_type": "markdown",
   "metadata": {},
   "source": [
    "# Deletion in a Binary Tree"
   ]
  },
  {
   "cell_type": "markdown",
   "metadata": {},
   "source": [
    "Given a binary tree, delete a node from it by making sure that tree shrinks from the bottom (i.e. the deleted node is replaced by bottom most and rightmost node). Here we do not have any order among elements, so we replace with last element."
   ]
  },
  {
   "cell_type": "code",
   "execution_count": 2,
   "metadata": {},
   "outputs": [
    {
     "name": "stdout",
     "output_type": "stream",
     "text": [
      "7 11 12 10 15 9 8 \n",
      "7 11 12 8 15 9 "
     ]
    }
   ],
   "source": [
    "import gc\n",
    "class Node:\n",
    "    def __init__(self,data):\n",
    "        self.data=data\n",
    "        self.left=None\n",
    "        self.right=None\n",
    "\n",
    "def delete(root,key):\n",
    "    if root is None:\n",
    "        return\n",
    "    if root.left is None and root.right is None:\n",
    "        if root.data==key:\n",
    "            return None\n",
    "        else:\n",
    "            return root\n",
    "    keyNode=None\n",
    "    queue=[]\n",
    "    queue.append(root)\n",
    "    while queue:\n",
    "        temp=queue.pop(0)\n",
    "        if temp.data==key:\n",
    "            keyNode=temp\n",
    "        if temp.left:\n",
    "            queue.append(temp.left)\n",
    "        if temp.right:\n",
    "            queue.append(temp.right)\n",
    "    if keyNode:\n",
    "        x=temp.data\n",
    "        deleteDeepest(root,temp)\n",
    "        keyNode.data=x\n",
    "    return root\n",
    "\n",
    "def deleteDeepest(root,node):\n",
    "    queue=[]\n",
    "    queue.append(root)\n",
    "    while queue:\n",
    "        temp=queue.pop(0)\n",
    "        if temp==node:\n",
    "            temp=None\n",
    "            return\n",
    "        if temp.right:\n",
    "            if temp.right is node:\n",
    "                temp.right=None\n",
    "                return\n",
    "            else:\n",
    "                queue.append(temp.right)\n",
    "        if temp.left:\n",
    "            if temp.left is node:\n",
    "                temp.left=None\n",
    "                return\n",
    "            else:\n",
    "                queue.append(temp.left)\n",
    "\n",
    "def inorder(root):\n",
    "    if root is None:\n",
    "        return\n",
    "    inorder(root.left)\n",
    "    print(root.data,end=\" \")\n",
    "    inorder(root.right)\n",
    "\n",
    "if __name__ == '__main__':\n",
    "    root = Node(10)\n",
    "    root.left = Node(11)\n",
    "    root.left.left = Node(7)\n",
    "    root.left.right = Node(12)\n",
    "    root.right = Node(9)\n",
    "    root.right.left = Node(15)\n",
    "    root.right.right = Node(8)\n",
    "    inorder(root)\n",
    "    print()\n",
    "    root=delete(root,10)\n",
    "    inorder(root)\n"
   ]
  },
  {
   "cell_type": "markdown",
   "metadata": {},
   "source": [
    "We can also replace node’s data that is to be deleted with any node whose left and right child points to NULL [Just in case of BST] but we only use deepest node in order to maintain the Balance of a binary tree"
   ]
  },
  {
   "cell_type": "markdown",
   "metadata": {},
   "source": [
    "Time Complexity- O(n) to find the node and O(n) to delete the node -- O(n)"
   ]
  },
  {
   "cell_type": "markdown",
   "metadata": {},
   "source": [
    "# BFS vs DFS for Binary Tree"
   ]
  },
  {
   "cell_type": "markdown",
   "metadata": {},
   "source": [
    "Breadth First Traversal (Or Level Order Traversal)"
   ]
  },
  {
   "cell_type": "markdown",
   "metadata": {},
   "source": [
    "Depth First Traversals\n",
    "Inorder Traversal (Left-Root-Right)\n",
    "Preorder Traversal (Root-Left-Right)\n",
    "Postorder Traversal (Left-Right-Root)"
   ]
  },
  {
   "cell_type": "markdown",
   "metadata": {},
   "source": [
    "<strong>Is there any difference in terms of Time Complexity?</strong>\n",
    "All four traversals require O(n) time as they visit every node exactly once."
   ]
  },
  {
   "cell_type": "markdown",
   "metadata": {},
   "source": [
    "<strong>Is there any difference in terms of Extra Space?</strong><br>\n",
    "There is difference in terms of extra space required.\n",
    "\n",
    "Extra Space required for Level Order Traversal is O(w) where w is maximum width of Binary Tree. In level order traversal, queue one by one stores nodes of different level.\n",
    "Extra Space required for Depth First Traversals is O(h) where h is maximum height of Binary Tree. In Depth First Traversals, stack (or function call stack) stores all ancestors of a node."
   ]
  },
  {
   "cell_type": "markdown",
   "metadata": {},
   "source": [
    "Maximum Width of a Binary Tree at depth (or height) h can be 2<sup>h</sup> where h starts from 0. So the maximum number of nodes can be at the last level. And worst case occurs when Binary Tree is a perfect Binary Tree with numbers of nodes like 1, 3, 7, 15, …etc. In worst case, value of 2<sup>h</sup> is Ceil(n/2).\n",
    "<br>\n",
    "Height for a Balanced Binary Tree is O(Log n). Worst case occurs for skewed tree and worst case height becomes O(n).\n",
    "<br>\n",
    "So in worst case extra space required is O(n) for both. But worst cases occur for different types of trees."
   ]
  },
  {
   "cell_type": "markdown",
   "metadata": {},
   "source": [
    "<strong>It is evident from above points that extra space required for Level order traversal is likely to be more when tree is more balanced and extra space for Depth First Traversal is likely to be more when tree is less balanced.</strong>"
   ]
  },
  {
   "cell_type": "markdown",
   "metadata": {},
   "source": [
    "So if our problem is to search something that is more likely to closer to root, we would prefer BFS. And if the target node is close to a leaf, we would prefer DFS."
   ]
  },
  {
   "cell_type": "markdown",
   "metadata": {},
   "source": [
    "# Binary Tree (Array implementation)"
   ]
  },
  {
   "cell_type": "markdown",
   "metadata": {},
   "source": [
    "Parent will be put in index p.<br>\n",
    "Left Child will be put in 2*p+1<br>\n",
    "Right Cild will be put in 2*p+2<br>"
   ]
  },
  {
   "cell_type": "code",
   "execution_count": 21,
   "metadata": {},
   "outputs": [
    {
     "name": "stdout",
     "output_type": "stream",
     "text": [
      "A B C D E F - - - - "
     ]
    }
   ],
   "source": [
    "class Tree:\n",
    "\n",
    "    def __init__(self,size):\n",
    "        self.tree=[None for i in range(size)]\n",
    "\n",
    "    def setRoot(self,key):\n",
    "        self.tree[0]=key\n",
    "\n",
    "    def setLeft(self,key,parent):\n",
    "        if self.tree[parent]!=None:\n",
    "            self.tree[2*parent+1]=key\n",
    "        else:\n",
    "            print('Cannot set child as no parent found')\n",
    "\n",
    "    def setRight(self,key,parent):\n",
    "        if self.tree[parent]!=None:\n",
    "            self.tree[2*parent+2]=key\n",
    "        else:\n",
    "            print('Cannot set child as no parent found')\n",
    "\n",
    "    def printTree(self):\n",
    "        for i in self.tree:\n",
    "            if i!=None:\n",
    "                print(i,end=\" \")\n",
    "            else:\n",
    "                print('-',end=\" \")\n",
    "\n",
    "if __name__ == '__main__':\n",
    "    tree=Tree(10)\n",
    "    tree.setRoot('A')\n",
    "    tree.setLeft('B',0)\n",
    "    tree.setRight('C',0)\n",
    "    tree.setLeft('D',1)\n",
    "    tree.setRight('E',1)\n",
    "    tree.setLeft('F',2)\n",
    "\n",
    "    tree.printTree()\n",
    "# Index starts from 0"
   ]
  },
  {
   "cell_type": "markdown",
   "metadata": {},
   "source": [
    "# Applications of tree data structure"
   ]
  },
  {
   "cell_type": "markdown",
   "metadata": {},
   "source": [
    "Store hierarchical data, like folder structure, organization structure, XML/HTML data.<br>\n",
    "Binary Search Tree is a tree that allows fast search, insert, delete on a sorted data. It also allows finding closest item<br>\n",
    "Heap is a tree data structure which is implemented using arrays and used to implement priority queues.<br>\n",
    "B-Tree and B+ Tree : They are used to implement indexing in databases.<br>\n",
    "Syntax Tree: Used in Compilers.<br>\n",
    "K-D Tree: A space partitioning tree used to organize points in K dimensional space.<br>\n",
    "Trie : Used to implement dictionaries with prefix lookup.<br>\n",
    "Suffix Tree : For quick pattern searching in a fixed text.<br>\n",
    "Spanning Trees and shortest path trees are used in routers and bridges respectively in computer networks<br>"
   ]
  },
  {
   "cell_type": "markdown",
   "metadata": {},
   "source": [
    "# Applications of Minimum Spanning Tree Problem"
   ]
  },
  {
   "cell_type": "markdown",
   "metadata": {},
   "source": [
    "Network design.<br><br>\n",
    "– telephone, electrical, hydraulic, TV cable, computer, road\n",
    "<br>\n",
    "The standard application is to a problem like phone network design. You have a business with several offices; you want to lease phone lines to connect them up with each other; and the phone company charges different amounts of money to connect different pairs of cities. You want a set of lines that connects all your offices with a minimum total cost. It should be a spanning tree, since if a network isn’t a tree you can always remove some edges and save money."
   ]
  },
  {
   "cell_type": "markdown",
   "metadata": {},
   "source": [
    "Cluster analysis\n",
    "<br>\n",
    "k clustering problem can be viewed as finding an MST and deleting the k-1 most\n",
    "expensive edges."
   ]
  },
  {
   "cell_type": "markdown",
   "metadata": {},
   "source": [
    "# Continuous Tree"
   ]
  },
  {
   "cell_type": "markdown",
   "metadata": {},
   "source": [
    "A tree is Continuous tree if in each root to leaf path, absolute difference between keys of two adjacent is 1. We are given a binary tree, we need to check if tree is continuous or not."
   ]
  },
  {
   "cell_type": "code",
   "execution_count": 28,
   "metadata": {},
   "outputs": [
    {
     "name": "stdout",
     "output_type": "stream",
     "text": [
      "1 2 3 3 4 5 True\n",
      "6 5 4 7 8 10 False\n"
     ]
    }
   ],
   "source": [
    "class Node:\n",
    "    def __init__(self,data):\n",
    "        self.data=data\n",
    "        self.left=None\n",
    "        self.right=None\n",
    "\n",
    "def inorder(root):\n",
    "    if root is None:\n",
    "        return\n",
    "    inorder(root.left)\n",
    "    print(root.data,end=\" \")\n",
    "    inorder(root.right)\n",
    "\n",
    "def isContinuous(root):\n",
    "    if root is None:\n",
    "        return True\n",
    "    if root.left is None and root.right is None:\n",
    "        return True\n",
    "    if root.left is None:\n",
    "        return abs(root.data-root.right.data)==1 and isContinuous(root.right)\n",
    "    if root.right is None:\n",
    "        return abs(root.data-root.left.data)==1 and isContinuous(root.left)\n",
    "    return abs(root.data-root.left.data)==1 and abs(root.data-root.right.data)==1 and isContinuous(root.right) and isContinuous(root.left)\n",
    "\n",
    "if __name__==\"__main__\":\n",
    "    root=Node(3)\n",
    "    root.left=Node(2)\n",
    "    root.right=Node(4)\n",
    "    root.left.left=Node(1)\n",
    "    root.left.right=Node(3)\n",
    "    root.right.right=Node(5)\n",
    "    inorder(root)\n",
    "    print(isContinuous(root))\n",
    "    root=Node(7)\n",
    "    root.left=Node(5)\n",
    "    root.right=Node(8)\n",
    "    root.left.left=Node(6)\n",
    "    root.left.right=Node(4)\n",
    "    root.right.right=Node(10)\n",
    "    inorder(root)\n",
    "    print(isContinuous(root))"
   ]
  },
  {
   "cell_type": "markdown",
   "metadata": {},
   "source": [
    "# Convert Tree into its equivalent Mirror Tree"
   ]
  },
  {
   "cell_type": "markdown",
   "metadata": {},
   "source": [
    "PostOrder Traversal"
   ]
  },
  {
   "cell_type": "code",
   "execution_count": 3,
   "metadata": {},
   "outputs": [
    {
     "name": "stdout",
     "output_type": "stream",
     "text": [
      "4 2 5 1 3 \n",
      "3 1 5 2 4 "
     ]
    }
   ],
   "source": [
    "class Node:\n",
    "    def __init__(self,data):\n",
    "        self.data=data\n",
    "        self.left=None\n",
    "        self.right=None\n",
    "\n",
    "def toMirror(root):\n",
    "    if root is None:\n",
    "        return\n",
    "\n",
    "    toMirror(root.left)\n",
    "    toMirror(root.right)\n",
    "    temp=root.left\n",
    "    root.left=root.right\n",
    "    root.right=temp\n",
    "\n",
    "def inorder(root):\n",
    "    if root is None:\n",
    "        return\n",
    "    inorder(root.left)\n",
    "    print(root.data,end=\" \")\n",
    "    inorder(root.right)\n",
    "\n",
    "if __name__ == '__main__':\n",
    "    root = Node(1)\n",
    "    root.left = Node(2)\n",
    "    root.right = Node(3)\n",
    "    root.left.left = Node(4)\n",
    "    root.left.right = Node(5)\n",
    "\n",
    "    inorder(root)\n",
    "    print()\n",
    "    toMirror(root)\n",
    "    inorder(root)\n"
   ]
  },
  {
   "cell_type": "markdown",
   "metadata": {},
   "source": [
    "Time Complexity O(n)"
   ]
  },
  {
   "cell_type": "markdown",
   "metadata": {},
   "source": [
    "# Foldable Binary Trees"
   ]
  },
  {
   "cell_type": "markdown",
   "metadata": {},
   "source": [
    "A tree can be folded if left and right subtrees of the tree are structure wise mirror image of each other. An empty tree is considered as foldable."
   ]
  },
  {
   "cell_type": "code",
   "execution_count": 34,
   "metadata": {},
   "outputs": [
    {
     "name": "stdout",
     "output_type": "stream",
     "text": [
      "7 9 10 11 15 \n",
      "True\n"
     ]
    }
   ],
   "source": [
    "class Node:\n",
    "    def __init__(self,data):\n",
    "        self.data=data\n",
    "        self.left=None\n",
    "        self.right=None\n",
    "\n",
    "def isFoldable(root):\n",
    "    if root is None:\n",
    "        return True\n",
    "    if root.left is None and root.right is None:\n",
    "        return True\n",
    "    return isFoldableUtil(root.left,root.right)\n",
    "\n",
    "def isFoldableUtil(a,b):\n",
    "    if a is None and b is None:\n",
    "        return True\n",
    "    if a is not None and b is not None:\n",
    "        return isFoldableUtil(a.left,b.right) and isFoldableUtil(a.right,b.left)\n",
    "    return False\n",
    "\n",
    "def inorder(root):\n",
    "    if root is None:\n",
    "        return \n",
    "    inorder(root.left)\n",
    "    print(root.data,end=\" \")\n",
    "    inorder(root.right)\n",
    "    \n",
    "if __name__==\"__main__\":\n",
    "    root=Node(10)\n",
    "    root.left=Node(7)\n",
    "    root.right=Node(15)\n",
    "    root.left.right=Node(9)\n",
    "    root.right.left=Node(11)\n",
    "    inorder(root)\n",
    "    print()\n",
    "    print(isFoldable(root))"
   ]
  },
  {
   "cell_type": "markdown",
   "metadata": {},
   "source": [
    "Another approach could be to convert the left sub tree to its mirror image and see ig the left and righ sub trees have the same structure"
   ]
  },
  {
   "cell_type": "code",
   "execution_count": 37,
   "metadata": {},
   "outputs": [
    {
     "name": "stdout",
     "output_type": "stream",
     "text": [
      "7 9 10 11 15 \n",
      "True\n"
     ]
    }
   ],
   "source": [
    "class Node:\n",
    "    def __init__(self,data):\n",
    "        self.data=data\n",
    "        self.left=None\n",
    "        self.right=None\n",
    "\n",
    "def toMirror(root):\n",
    "    if root is None:\n",
    "        return\n",
    "    toMirror(root.left)\n",
    "    toMirror(root.right)\n",
    "    temp=root.left\n",
    "    root.left=root.right\n",
    "    root.right=temp\n",
    "        \n",
    "        \n",
    "def isFoldable(root):\n",
    "    if root is None:\n",
    "        return True\n",
    "    if root.left is None and root.right is None:\n",
    "        return True\n",
    "    toMirror(root.left)\n",
    "    result= isStructSame(root.left,root.right)\n",
    "    toMirror(root.left)\n",
    "    return result\n",
    "\n",
    "def isStructSame(a,b):\n",
    "    if a is None and b is None:\n",
    "        return True\n",
    "    if a is not None and b is not None:\n",
    "        return isStructSame(a.left,b.left) and isStructSame(a.right,b.right)\n",
    "    return False\n",
    "\n",
    "def inorder(root):\n",
    "    if root is None:\n",
    "        return \n",
    "    inorder(root.left)\n",
    "    print(root.data,end=\" \")\n",
    "    inorder(root.right)\n",
    "    \n",
    "if __name__==\"__main__\":\n",
    "    root=Node(10)\n",
    "    root.left=Node(7)\n",
    "    root.right=Node(15)\n",
    "    root.left.right=Node(9)\n",
    "    root.right.left=Node(11)\n",
    "    inorder(root)\n",
    "    print()\n",
    "    print(isFoldable(root))"
   ]
  },
  {
   "cell_type": "markdown",
   "metadata": {},
   "source": [
    "Time Complexity-O(n)"
   ]
  },
  {
   "cell_type": "markdown",
   "metadata": {},
   "source": [
    "# Expression Tree"
   ]
  },
  {
   "cell_type": "markdown",
   "metadata": {},
   "source": [
    "Expression tree is a binary tree in which each internal node corresponds to operator and each leaf node corresponds to operand"
   ]
  },
  {
   "cell_type": "markdown",
   "metadata": {},
   "source": [
    "Construction of Expression Tree:<br>\n",
    "Now For constructing expression tree we use a stack. We loop through input expression and do following for every character.<br>\n",
    "1) If character is operand push that into stack<br>\n",
    "2) If character is operator pop two values from stack make them its child and push current node again.<br>\n",
    "At the end only element of stack will be root of expression tree."
   ]
  },
  {
   "cell_type": "code",
   "execution_count": 2,
   "metadata": {},
   "outputs": [
    {
     "name": "stdout",
     "output_type": "stream",
     "text": [
      "a + b - e * f * g "
     ]
    }
   ],
   "source": [
    "class Node:\n",
    "    def __init__(self,data):\n",
    "        self.data=data\n",
    "        self.left=None\n",
    "        self.right=None\n",
    "\n",
    "def inorder(root):\n",
    "    if root is None:\n",
    "        return\n",
    "    inorder(root.left)\n",
    "    print(root.data,end=\" \")\n",
    "    inorder(root.right)\n",
    "\n",
    "def isOperator(char):\n",
    "    if char == '+' or char == '-' or char == '*' or char == '/' or char == '^':\n",
    "        return True\n",
    "    return False\n",
    "\n",
    "def convertExpression(expression):\n",
    "    stack=[]\n",
    "    for char in expression:\n",
    "        if not isOperator(char):\n",
    "            stack.append(Node(char))\n",
    "        else:\n",
    "            op1=stack.pop()\n",
    "            op2=stack.pop()\n",
    "            parent=Node(char)\n",
    "            parent.left=op2\n",
    "            parent.right=op1\n",
    "            stack.append(parent)\n",
    "    root=stack.pop()\n",
    "    return root\n",
    "if __name__ == '__main__':\n",
    "    expression=\"ab+ef*g*-\"\n",
    "    root=convertExpression(expression)\n",
    "    inorder(root)\n"
   ]
  },
  {
   "cell_type": "markdown",
   "metadata": {},
   "source": [
    "# Evaluation of Expression Tree"
   ]
  },
  {
   "cell_type": "code",
   "execution_count": 4,
   "metadata": {},
   "outputs": [
    {
     "name": "stdout",
     "output_type": "stream",
     "text": [
      "100\n",
      "110\n"
     ]
    }
   ],
   "source": [
    "class Node:\n",
    "    def __init__(self,data):\n",
    "        self.data=data\n",
    "        self.left=None\n",
    "        self.right=None\n",
    "\n",
    "def inorder(root):\n",
    "    if root is None:\n",
    "        return\n",
    "    inorder(root.left)\n",
    "    print(root.data,end=\" \")\n",
    "    inorder(root.right)\n",
    "\n",
    "def evaluateExpression(root):\n",
    "    if root.data.isdigit():\n",
    "        return int(root.data)\n",
    "    op1=evaluateExpression(root.left)\n",
    "    op2=evaluateExpression(root.right)\n",
    "    # print(op1,op2,root.data)\n",
    "    result=evaluate(op1,op2,root.data)\n",
    "    # root.data=str(result)\n",
    "    # return root.data\n",
    "    # print(result)\n",
    "    return result\n",
    "\n",
    "def evaluate(op1,op2,op):\n",
    "    if op==\"+\":\n",
    "        return op1+op2\n",
    "    if op==\"-\":\n",
    "        return op1-op2\n",
    "    if op==\"*\":\n",
    "        return op1*op2\n",
    "    if op==\"/\":\n",
    "        return op1//op2\n",
    "    if op==\"^\":\n",
    "        return op1**op2\n",
    "\n",
    "if __name__ == '__main__':\n",
    "    root=Node('+')\n",
    "    root.left=Node('*')\n",
    "    root.right=Node('-')\n",
    "    root.left.left=Node('5')\n",
    "    root.left.right=Node('4')\n",
    "    root.right.left=Node('100')\n",
    "    root.right.right=Node('20')\n",
    "    # inorder(root)\n",
    "    print(evaluateExpression(root))\n",
    "    # inorder(root)\n",
    "    root = Node('+')\n",
    "    root.left = Node('*')\n",
    "    root.left.left = Node('5')\n",
    "    root.left.right = Node('4')\n",
    "    root.right = Node('-')\n",
    "    root.right.left = Node('100')\n",
    "    root.right.right = Node('/')\n",
    "    root.right.right.left = Node('20')\n",
    "    root.right.right.right = Node('2')\n",
    "    print(evaluateExpression(root))\n"
   ]
  },
  {
   "cell_type": "markdown",
   "metadata": {},
   "source": [
    "# Symmetric Tree (Mirror Image of itself)"
   ]
  },
  {
   "cell_type": "markdown",
   "metadata": {},
   "source": [
    "Value should be same "
   ]
  },
  {
   "cell_type": "code",
   "execution_count": 4,
   "metadata": {},
   "outputs": [
    {
     "name": "stdout",
     "output_type": "stream",
     "text": [
      "True\n"
     ]
    }
   ],
   "source": [
    "class Node:\n",
    "    def __init__(self,data):\n",
    "        self.data=data\n",
    "        self.left=None\n",
    "        self.right=None\n",
    "\n",
    "def isSymmetricTree(root):\n",
    "    if root is None:\n",
    "        return True\n",
    "    if root.left is None and root.right is None:\n",
    "        return True\n",
    "    return isSymmetricTreeUtil(root.left,root.right)\n",
    "\n",
    "def isSymmetricTreeUtil(a,b):\n",
    "    if a is None and b is None:\n",
    "        return True\n",
    "    if a is None or b is None:\n",
    "        return False\n",
    "    return a.data==b.data and isSymmetricTreeUtil(a.left,b.right) and isSymmetricTreeUtil(a.right,b.left)\n",
    "\n",
    "if __name__ == '__main__':\n",
    "    root=Node(1)\n",
    "    root.left=Node(2)\n",
    "    root.right=Node(2)\n",
    "    root.left.left=Node(3)\n",
    "    # root.left.right=Node(3)\n",
    "    root.left.right=Node(4)\n",
    "    root.right.left=Node(4)\n",
    "    root.right.right=Node(3)\n",
    "    print(isSymmetricTree(root))\n"
   ]
  },
  {
   "cell_type": "markdown",
   "metadata": {},
   "source": [
    "# Check for Symmetric Binary Tree (Iterative Approach)"
   ]
  },
  {
   "cell_type": "code",
   "execution_count": 8,
   "metadata": {},
   "outputs": [
    {
     "name": "stdout",
     "output_type": "stream",
     "text": [
      "True\n"
     ]
    }
   ],
   "source": [
    "class Node:\n",
    "    def __init__(self,data):\n",
    "        self.data=data\n",
    "        self.left=None\n",
    "        self.right=None\n",
    "\n",
    "def isSymmetric(root):\n",
    "    if root is None:\n",
    "        return True\n",
    "    if root.left is None and root.right is None:\n",
    "        return True\n",
    "    if root.left is None or root.right is None:\n",
    "        return False\n",
    "    queue=[]\n",
    "    queue.append(root.left)\n",
    "    queue.append(root.right)\n",
    "    while queue:\n",
    "\n",
    "        leftChild=queue.pop(0)\n",
    "        rightChild=queue.pop(0)\n",
    "\n",
    "        if leftChild.data!=rightChild.data:\n",
    "            return False\n",
    "        if leftChild.left and rightChild.right:\n",
    "            queue.append(leftChild.left)\n",
    "            queue.append(rightChild.right)\n",
    "        elif leftChild.left or rightChild.right:\n",
    "            return False\n",
    "        if leftChild.right and rightChild.left:\n",
    "            queue.append(leftChild.right)\n",
    "            queue.append(rightChild.left)\n",
    "        elif leftChild.right or rightChild.left:\n",
    "            return False\n",
    "    return True\n",
    "\n",
    "if __name__ == '__main__':\n",
    "    root=Node(1)\n",
    "    root.left=Node(2)\n",
    "    root.right=Node(2)\n",
    "    root.left.left=Node(3)\n",
    "    root.right.right=Node(3)\n",
    "    root.left.right=Node(4)\n",
    "    root.right.left=Node(4)\n",
    "    print(isSymmetric(root))\n"
   ]
  },
  {
   "cell_type": "markdown",
   "metadata": {},
   "source": [
    "<center><h1>Tree Traversals</h1></center>"
   ]
  },
  {
   "cell_type": "markdown",
   "metadata": {},
   "source": [
    "# Tree Traversals (Inorder, Preorder and Postorder)"
   ]
  },
  {
   "cell_type": "code",
   "execution_count": 10,
   "metadata": {},
   "outputs": [
    {
     "name": "stdout",
     "output_type": "stream",
     "text": [
      "4 2 5 1 3 \n",
      "1 2 4 5 3 \n",
      "4 5 2 3 1 "
     ]
    }
   ],
   "source": [
    "class Node:\n",
    "    def __init__(self,data):\n",
    "        self.data=data\n",
    "        self.left=None\n",
    "        self.right=None\n",
    "\n",
    "def inorder(root):\n",
    "    if root is None:\n",
    "        return\n",
    "    inorder(root.left)\n",
    "    print(root.data,end=\" \")\n",
    "    inorder(root.right)\n",
    "\n",
    "def preorder(root):\n",
    "    if root is None:\n",
    "        return\n",
    "    print(root.data,end=\" \")\n",
    "    preorder(root.left)\n",
    "    preorder(root.right)\n",
    "\n",
    "def postorder(root):\n",
    "    if root is None:\n",
    "        return\n",
    "    postorder(root.left)\n",
    "    postorder(root.right)\n",
    "    print(root.data,end=\" \")\n",
    "\n",
    "if __name__ == '__main__':\n",
    "    root=Node(1)\n",
    "    root.left=Node(2)\n",
    "    root.right=Node(3)\n",
    "    root.left.left=Node(4)\n",
    "    root.left.right=Node(5)\n",
    "    inorder(root)\n",
    "    print()\n",
    "    preorder(root)\n",
    "    print()\n",
    "    postorder(root)\n"
   ]
  },
  {
   "cell_type": "markdown",
   "metadata": {},
   "source": [
    "Uses of Inorder<br>\n",
    "In case of binary search trees (BST), Inorder traversal gives nodes in non-decreasing order. To get nodes of BST in non-increasing order, a variation of Inorder traversal where Inorder traversal s reversed can be used."
   ]
  },
  {
   "cell_type": "markdown",
   "metadata": {},
   "source": [
    "Uses of Preorder<br>\n",
    "Preorder traversal is used to create a copy of the tree. Preorder traversal is also used to get prefix expression on of an expression tree (Polish Notation)"
   ]
  },
  {
   "cell_type": "markdown",
   "metadata": {},
   "source": [
    "Uses of Postorder<br>\n",
    "Postorder traversal is used to delete the tree. Please see the question for deletion of tree for details. Postorder traversal is also useful to get the postfix expression of an expression tree(Reverse Polish Notation)"
   ]
  },
  {
   "cell_type": "markdown",
   "metadata": {},
   "source": [
    "# Tree Traversals (Level Order)"
   ]
  },
  {
   "cell_type": "code",
   "execution_count": 12,
   "metadata": {},
   "outputs": [
    {
     "name": "stdout",
     "output_type": "stream",
     "text": [
      "1 2 3 4 5 "
     ]
    }
   ],
   "source": [
    "class Node:\n",
    "    def __init__(self,data):\n",
    "        self.data=data\n",
    "        self.left=None\n",
    "        self.right=None\n",
    "\n",
    "def LOT(root):\n",
    "    if root is None:\n",
    "        return\n",
    "    \n",
    "    queue=[]\n",
    "    queue.append(root)\n",
    "    while queue:\n",
    "        temp=queue.pop(0)\n",
    "        print(temp.data,end=\" \")\n",
    "        if temp.left:\n",
    "            queue.append(temp.left)\n",
    "        if temp.right:\n",
    "            queue.append(temp.right)\n",
    "\n",
    "if __name__ == '__main__':\n",
    "    root=Node(1)\n",
    "    root.left=Node(2)\n",
    "    root.right=Node(3)\n",
    "    root.left.left=Node(4)\n",
    "    root.left.right=Node(5)\n",
    "    LOT(root)\n"
   ]
  },
  {
   "cell_type": "markdown",
   "metadata": {},
   "source": [
    "# Inorder Tree Traversal without Recursion"
   ]
  },
  {
   "cell_type": "code",
   "execution_count": 15,
   "metadata": {},
   "outputs": [
    {
     "name": "stdout",
     "output_type": "stream",
     "text": [
      "4 2 5 1 3 "
     ]
    }
   ],
   "source": [
    "class Node:\n",
    "    def __init__(self,data):\n",
    "        self.data=data\n",
    "        self.left=None\n",
    "        self.right=None\n",
    "\n",
    "def inorder(root):\n",
    "    if root is None:\n",
    "        return\n",
    "    \n",
    "    stack=[]\n",
    "    curr=root\n",
    "    while True:\n",
    "        if curr is not None:\n",
    "            stack.append(curr)\n",
    "            curr=curr.left\n",
    "        elif stack:\n",
    "            curr=stack.pop()\n",
    "            print(curr.data,end=\" \")\n",
    "            curr=curr.right\n",
    "        else:\n",
    "            break\n",
    "\n",
    "if __name__ == '__main__':\n",
    "    root = Node(1)\n",
    "    root.left = Node(2)\n",
    "    root.right = Node(3)\n",
    "    root.left.left = Node(4)\n",
    "    root.left.right = Node(5)\n",
    "    inorder(root)"
   ]
  },
  {
   "cell_type": "markdown",
   "metadata": {},
   "source": [
    "Time Complexity O(n)"
   ]
  },
  {
   "cell_type": "markdown",
   "metadata": {},
   "source": [
    "# Inorder Tree Traversal without recursion and without stack! (Morris Traversal)"
   ]
  },
  {
   "cell_type": "code",
   "execution_count": 19,
   "metadata": {},
   "outputs": [
    {
     "name": "stdout",
     "output_type": "stream",
     "text": [
      "4 2 5 1 3 "
     ]
    }
   ],
   "source": [
    "class Node:\n",
    "    def __init__(self,data):\n",
    "        self.data=data\n",
    "        self.left=None\n",
    "        self.right=None\n",
    "\n",
    "def inorer(root):\n",
    "    curr=root\n",
    "    while curr:\n",
    "        if curr.left is None:\n",
    "            print(curr.data,end=\" \")\n",
    "            curr=curr.right\n",
    "        else:\n",
    "            pre=curr.left\n",
    "            while pre.right is not None and pre.right!=curr:\n",
    "                pre=pre.right\n",
    "            if pre.right is None:\n",
    "                pre.right=curr\n",
    "                curr=curr.left\n",
    "            else:\n",
    "                print(curr.data,end=\" \")\n",
    "                curr=curr.right\n",
    "                pre.right=None\n",
    "\n",
    "if __name__ == '__main__':\n",
    "    root=Node(1)\n",
    "    root.left=Node(2)\n",
    "    root.right=Node(3)\n",
    "    root.left.left=Node(4)\n",
    "    root.left.right=Node(5)\n",
    "    inorer(root)\n"
   ]
  },
  {
   "cell_type": "markdown",
   "metadata": {},
   "source": [
    "# Print Postorder traversal from given Inorder and Preorder traversals"
   ]
  },
  {
   "cell_type": "markdown",
   "metadata": {},
   "source": [
    "Concept->\n",
    "<br>\n",
    "Root is always the first item in preorder traversal<br>\n",
    "Search root in in[], all elements before root in in[] are elements of left subtree and all elements after root are elements of right subtree.<br>\n",
    "In pre[], all elements after index of root in in[] are elements of right subtree. And elements before index (including the element at index and excluding the first element) are elements of left subtree"
   ]
  },
  {
   "cell_type": "code",
   "execution_count": 23,
   "metadata": {},
   "outputs": [
    {
     "name": "stdout",
     "output_type": "stream",
     "text": [
      "4 5 2 6 3 1 "
     ]
    }
   ],
   "source": [
    "def printPostOrder(inorder,preorder,n):\n",
    "    if preorder[0] in inorder:\n",
    "        root=inorder.index(preorder[0])\n",
    "    if root!=0:\n",
    "        printPostOrder(inorder[:root],preorder[1:root+1],len(inorder[:root]))\n",
    "    if root!=n-1:\n",
    "        printPostOrder(inorder[root+1:],preorder[root+1:],len(inorder[root+1:]))\n",
    "    print(preorder[0],end=\" \")\n",
    "\n",
    "if __name__==\"__main__\":\n",
    "    inorder=[4, 2, 5, 1, 3, 6]\n",
    "    preorder=[1, 2, 4, 5, 3, 6]\n",
    "    n=len(inorder)\n",
    "    printPostOrder(inorder,preorder,n)"
   ]
  },
  {
   "cell_type": "markdown",
   "metadata": {},
   "source": [
    "Time Complexity-> O(n^2) because the function visits every node once and to find the index the loop runs n times"
   ]
  },
  {
   "cell_type": "markdown",
   "metadata": {},
   "source": [
    "Use hashing to store the indexes of the elements in inorder"
   ]
  },
  {
   "cell_type": "code",
   "execution_count": 33,
   "metadata": {},
   "outputs": [
    {
     "name": "stdout",
     "output_type": "stream",
     "text": [
      "4 5 2 6 3 1 "
     ]
    }
   ],
   "source": [
    "def printPostOrderUtil(inorder,preorder,low,high,n,inorderInd):\n",
    "    if low>high or getPreIndex()>=n:\n",
    "        return\n",
    "    \n",
    "    if preorder[getPreIndex()] in inorder:\n",
    "        #root=inorder.index(preorder[0])\n",
    "        root=inorderInd[preorder[getPreIndex()]]\n",
    "    incrementPreIndex()\n",
    "    \n",
    "    if root!=low:\n",
    "        printPostOrderUtil(inorder,preorder,low,root-1,n,inorderInd)\n",
    "    if root!=high:\n",
    "        printPostOrderUtil(inorder,preorder,root+1,high,n,inorderInd)\n",
    "    print(inorder[root],end=\" \")\n",
    "\n",
    "def incrementPreIndex():\n",
    "    printPostOrder.preIndex+=1\n",
    "    \n",
    "def getPreIndex():\n",
    "    return printPostOrder.preIndex\n",
    "    \n",
    "def printPostOrder(inorder,preorder,n):\n",
    "    printPostOrder.preIndex=0\n",
    "    inorderInd={}\n",
    "    for i in range(len(inorder)):\n",
    "        inorderInd[inorder[i]]=i\n",
    "    #print(inorderInd)\n",
    "    printPostOrderUtil(inorder,preorder,0,n-1,n,inorderInd)\n",
    "    \n",
    "if __name__==\"__main__\":\n",
    "    inorder=[4, 2, 5, 1, 3, 6]\n",
    "    preorder=[1, 2, 4, 5, 3, 6]\n",
    "    n=len(inorder)\n",
    "    printPostOrder(inorder,preorder,n)"
   ]
  },
  {
   "cell_type": "markdown",
   "metadata": {},
   "source": [
    "Time Complexity-> O(n)"
   ]
  },
  {
   "cell_type": "markdown",
   "metadata": {},
   "source": [
    "# Construct BST from Preorder Traversal "
   ]
  },
  {
   "cell_type": "code",
   "execution_count": 5,
   "metadata": {},
   "outputs": [
    {
     "name": "stdout",
     "output_type": "stream",
     "text": [
      "30 35 40 80 100 "
     ]
    }
   ],
   "source": [
    "class Node:\n",
    "    def __init__(self,data):\n",
    "        self.data=data\n",
    "        self.left=None\n",
    "        self.right=None\n",
    "\n",
    "def getpreIndex():\n",
    "    return constructTree.preIndex\n",
    "\n",
    "def incrementpreIndex():\n",
    "    constructTree.preIndex+=1\n",
    "    #return constructTree.preIndex[0]\n",
    "\n",
    "def constructTreeUtil(pre,low,high,size):\n",
    "    if getpreIndex()>=size or low>high:\n",
    "        return None\n",
    "    root=Node(pre[getpreIndex()])\n",
    "    incrementpreIndex()\n",
    "    if low == high:\n",
    "        return root\n",
    "\n",
    "    for i in range(getpreIndex(),high+1):\n",
    "        if pre[i]>root.data:\n",
    "            break\n",
    "\n",
    "    root.left=constructTreeUtil(pre,getpreIndex(),i-1,size)\n",
    "    root.right=constructTreeUtil(pre,i,high,size)\n",
    "    return root\n",
    "\n",
    "def inorder(root):\n",
    "    if root is None:\n",
    "        return\n",
    "    inorder(root.left)\n",
    "    print(root.data,end=\" \")\n",
    "    inorder(root.right)\n",
    "\n",
    "def constructTree(pre):\n",
    "    constructTree.preIndex=0\n",
    "    size=len(pre)\n",
    "    root=constructTreeUtil(pre,0,size-1,size)\n",
    "    return root\n",
    "\n",
    "if __name__ == '__main__':\n",
    "    pre=[40,30,35,80,100]\n",
    "    root=constructTree(pre)\n",
    "    inorder(root)\n"
   ]
  },
  {
   "cell_type": "markdown",
   "metadata": {},
   "source": [
    "Time Complexity O(n^2)"
   ]
  },
  {
   "cell_type": "markdown",
   "metadata": {},
   "source": [
    "Another Approach -> USING MIN MAX RANGE"
   ]
  },
  {
   "cell_type": "code",
   "execution_count": 6,
   "metadata": {},
   "outputs": [
    {
     "name": "stdout",
     "output_type": "stream",
     "text": [
      "30 35 40 80 100 "
     ]
    }
   ],
   "source": [
    "class Node:\n",
    "    def __init__(self,data):\n",
    "        self.data=data\n",
    "        self.left=None\n",
    "        self.right=None\n",
    "\n",
    "INTMIN=float('-infinity')\n",
    "INTMAX=float('infinity')\n",
    "\n",
    "def getpreIndex():\n",
    "    return constructTree.preIndex\n",
    "\n",
    "def incrementpreIndex():\n",
    "    constructTree.preIndex+=1\n",
    "\n",
    "def constructTreeUtil(pre,key,mini,maxi,size):\n",
    "    if getpreIndex()>=size:\n",
    "        return None\n",
    "    root=None\n",
    "    if key > mini and key<maxi:\n",
    "        root=Node(key)\n",
    "        incrementpreIndex()\n",
    "        if getpreIndex()<size:\n",
    "            root.left=constructTreeUtil(pre,pre[getpreIndex()],mini,key,size)\n",
    "            root.right=constructTreeUtil(pre,pre[getpreIndex()],key,maxi,size)\n",
    "    return root\n",
    "\n",
    "def constructTree(pre):\n",
    "    constructTree.preIndex=0\n",
    "    size=len(pre)\n",
    "    root=constructTreeUtil(pre,pre[getpreIndex()],INTMIN,INTMAX,size)\n",
    "    return root\n",
    "\n",
    "def inorder(root):\n",
    "    if root is None:\n",
    "        return\n",
    "    inorder(root.left)\n",
    "    print(root.data,end=\" \")\n",
    "    inorder(root.right)\n",
    "\n",
    "if __name__ == '__main__':\n",
    "    pre=[40,30,35,80,100]\n",
    "    root=constructTree(pre)\n",
    "    inorder(root)\n"
   ]
  },
  {
   "cell_type": "markdown",
   "metadata": {},
   "source": [
    "# Find postorder traversal of BST from preorder traversal"
   ]
  },
  {
   "cell_type": "code",
   "execution_count": 41,
   "metadata": {},
   "outputs": [
    {
     "name": "stdout",
     "output_type": "stream",
     "text": [
      "1 7 5 50 40 10 "
     ]
    }
   ],
   "source": [
    "def printPostOrderUtil(preorder,low,high,n):\n",
    "    if low>high or getPreIndex()>=n:\n",
    "        return\n",
    "    \n",
    "    root=preorder[getPreIndex()]\n",
    "    incrementPreIndex()\n",
    "    if low==high:\n",
    "        print(root,end=\" \")\n",
    "        return\n",
    "    if getPreIndex()<n:\n",
    "        for i in range(getPreIndex(),high+1):\n",
    "            if preorder[i]>root:\n",
    "                break\n",
    "        printPostOrderUtil(preorder,getPreIndex(),i-1,n)\n",
    "        printPostOrderUtil(preorder,i,high,n)\n",
    "    print(root,end=\" \")\n",
    "\n",
    "def incrementPreIndex():\n",
    "    printPostOrder.preIndex+=1\n",
    "    \n",
    "def getPreIndex():\n",
    "    return printPostOrder.preIndex\n",
    "    \n",
    "def printPostOrder(preorder,low,high,n):\n",
    "    printPostOrder.preIndex=0\n",
    "    printPostOrderUtil(preorder,low,high,n)\n",
    "    \n",
    "if __name__==\"__main__\":\n",
    "    preorder=[10,5,1,7,40,50]\n",
    "    n=len(preorder)\n",
    "    printPostOrder(preorder,0,n-1,n)"
   ]
  },
  {
   "cell_type": "markdown",
   "metadata": {},
   "source": [
    "Time Complexity-> O(n^2) because it takes O(n) time to find the position from which right subtree starts. This happens for evey node"
   ]
  },
  {
   "cell_type": "markdown",
   "metadata": {},
   "source": [
    "Efficient Approach is to use ranging"
   ]
  },
  {
   "cell_type": "code",
   "execution_count": 44,
   "metadata": {},
   "outputs": [
    {
     "name": "stdout",
     "output_type": "stream",
     "text": [
      "1 7 5 50 40 10 "
     ]
    }
   ],
   "source": [
    "INTMIN=float('-infinity')\n",
    "INTMAX=float('infinity')\n",
    "\n",
    "def printPostOrderUtil(preorder,key,low,high,n):\n",
    "    if getPreIndex()>=n:\n",
    "        return\n",
    "    \n",
    "    if key>low and key<high:\n",
    "        root=key\n",
    "        incrementPreIndex()\n",
    "        if getPreIndex()<n:\n",
    "            printPostOrderUtil(preorder,preorder[getPreIndex()],low,key,n)\n",
    "            printPostOrderUtil(preorder,preorder[getPreIndex()],key,high,n)\n",
    "        print(root,end=\" \")\n",
    "\n",
    "def incrementPreIndex():\n",
    "    printPostOrder.preIndex+=1\n",
    "    \n",
    "def getPreIndex():\n",
    "    return printPostOrder.preIndex\n",
    "    \n",
    "def printPostOrder(preorder,key,low,high,n):\n",
    "    printPostOrder.preIndex=0\n",
    "    printPostOrderUtil(preorder,key,low,high,n)\n",
    "    \n",
    "if __name__==\"__main__\":\n",
    "    preorder=[10,5,1,7,40,50]\n",
    "    n=len(preorder)\n",
    "    printPostOrder(preorder,preorder[0],INTMIN,INTMAX,n)"
   ]
  },
  {
   "cell_type": "markdown",
   "metadata": {},
   "source": [
    "Time Complexity-> O(n)"
   ]
  },
  {
   "cell_type": "markdown",
   "metadata": {},
   "source": [
    "# Find all possible binary trees with given Inorder Traversal"
   ]
  },
  {
   "cell_type": "code",
   "execution_count": 58,
   "metadata": {},
   "outputs": [
    {
     "name": "stdout",
     "output_type": "stream",
     "text": [
      "4 5 7 \n",
      "4 7 5 \n",
      "5 4 7 \n",
      "7 4 5 \n",
      "7 5 4 \n"
     ]
    }
   ],
   "source": [
    "class Node:\n",
    "    def __init__(self,data):\n",
    "        self.data=data\n",
    "        self.left=None\n",
    "        self.right=None\n",
    "\n",
    "def getTrees(arr,start,end):\n",
    "    trees=[]\n",
    "    if start>end:\n",
    "        trees.append(None)\n",
    "        return trees\n",
    "    for i in range(start,end+1):\n",
    "        leftTrees=getTrees(arr,start,i-1)\n",
    "        rightTrees=getTrees(arr,i+1,end)\n",
    "        \n",
    "        for j in leftTrees:\n",
    "            for k in rightTrees:\n",
    "                root=Node(arr[i])\n",
    "                root.left=j\n",
    "                root.right=k\n",
    "                trees.append(root)\n",
    "    return trees\n",
    "\n",
    "def preorder(root):\n",
    "    if root is None:\n",
    "        return\n",
    "    print(root.data,end=\" \")\n",
    "    preorder(root.left)\n",
    "    preorder(root.right)\n",
    "\n",
    "if __name__ == \"__main__\":\n",
    "    arr=[4,5,7]\n",
    "#     arr=[1,2,3]\n",
    "    trees=getTrees(arr,0,len(arr)-1)\n",
    "    for i in trees:\n",
    "        preorder(i)\n",
    "        print()"
   ]
  },
  {
   "cell_type": "markdown",
   "metadata": {},
   "source": [
    "# Replace each node in binary tree with the sum of its inorder predecessor and successor"
   ]
  },
  {
   "cell_type": "code",
   "execution_count": 60,
   "metadata": {},
   "outputs": [
    {
     "name": "stdout",
     "output_type": "stream",
     "text": [
      "1 2 4 5 3 6 7 \n",
      "11 9 2 3 13 4 3 "
     ]
    }
   ],
   "source": [
    "class Node:\n",
    "\n",
    "    def __init__(self,data):\n",
    "        self.data=data\n",
    "        self.left=None\n",
    "        self.right=None\n",
    "\n",
    "def replaceNodeWithSumUtil(root,arr,i):\n",
    "    if root is None:\n",
    "        return\n",
    "    replaceNodeWithSumUtil(root.left,arr,i)\n",
    "    root.data=arr[i[0]-1]+arr[i[0]+1]\n",
    "    i[0]+=1\n",
    "    replaceNodeWithSumUtil(root.right,arr,i)\n",
    "\n",
    "\n",
    "def replaceNodeWithSum(root):\n",
    "    arr=[]\n",
    "    arr.append(0)\n",
    "    storeInorder(root,arr)\n",
    "    arr.append(0)\n",
    "    i=[1]\n",
    "    replaceNodeWithSumUtil(root,arr,i)\n",
    "\n",
    "def storeInorder(root,arr):\n",
    "    if root is None:\n",
    "        return\n",
    "    storeInorder(root.left,arr)\n",
    "    arr.append(root.data)\n",
    "    storeInorder(root.right,arr)\n",
    "\n",
    "def preorder(root):\n",
    "    if root is None:\n",
    "        return\n",
    "    print(root.data,end=\" \")\n",
    "    preorder(root.left)\n",
    "    preorder(root.right)\n",
    "\n",
    "\n",
    "if __name__ == '__main__':\n",
    "    root = Node(1) #         1\n",
    "    root.left = Node(2)     #     / \\\n",
    "    root.right = Node(3)     #     2     3\n",
    "    root.left.left = Node(4) # / \\ / \\\n",
    "    root.left.right = Node(5) # 4 5 6 7\n",
    "    root.right.left = Node(6)\n",
    "    root.right.right = Node(7)\n",
    "    preorder(root)\n",
    "    replaceNodeWithSum(root)\n",
    "    print()\n",
    "    preorder(root)\n"
   ]
  },
  {
   "cell_type": "markdown",
   "metadata": {},
   "source": [
    "# Populate Inorder Successor for all nodes"
   ]
  },
  {
   "cell_type": "code",
   "execution_count": 2,
   "metadata": {},
   "outputs": [
    {
     "name": "stdout",
     "output_type": "stream",
     "text": [
      "8 10 12 -1 "
     ]
    }
   ],
   "source": [
    "class Node:\n",
    "    def __init__(self,data):\n",
    "        self.data=data\n",
    "        self.left=None\n",
    "        self.right=None\n",
    "        self.next=None\n",
    "\n",
    "def storeInorder(root,arr):\n",
    "    if root is None:\n",
    "        return\n",
    "    storeInorder(root.left,arr)\n",
    "    arr.append(root.data)\n",
    "    storeInorder(root.right,arr)\n",
    "\n",
    "def replaceWithInorderUtil(root,arr,i):\n",
    "    if root is None:\n",
    "        return\n",
    "    replaceWithInorderUtil(root.left,arr,i)\n",
    "    root.next=arr[i[0]]\n",
    "    i[0]+=1\n",
    "    replaceWithInorderUtil(root.right,arr,i)\n",
    "\n",
    "def replaceWithInorder(root):\n",
    "    arr=[]\n",
    "    storeInorder(root,arr)\n",
    "    arr.append(-1)\n",
    "    size=len(arr)\n",
    "    i=[1]\n",
    "    replaceWithInorderUtil(root,arr,i)\n",
    "\n",
    "\n",
    "def inorder(root):\n",
    "    if root is None:\n",
    "        return\n",
    "    inorder(root.left)\n",
    "    print(root.next,end=\" \")\n",
    "    inorder(root.right)\n",
    "\n",
    "if __name__ == '__main__':\n",
    "    root=Node(10)\n",
    "    root.left=Node(8)\n",
    "    root.right=Node(12)\n",
    "    root.left.left=Node(3)\n",
    "    replaceWithInorder(root)\n",
    "    inorder(root)\n"
   ]
  },
  {
   "cell_type": "markdown",
   "metadata": {},
   "source": [
    "Time - O(n) and Space -O (n)"
   ]
  },
  {
   "cell_type": "markdown",
   "metadata": {},
   "source": [
    "Without using array. Use ReverseInorder Traversal"
   ]
  },
  {
   "cell_type": "code",
   "execution_count": 5,
   "metadata": {},
   "outputs": [
    {
     "name": "stdout",
     "output_type": "stream",
     "text": [
      "8 10 12 -1 "
     ]
    }
   ],
   "source": [
    "class Node:\n",
    "    def __init__(self,data):\n",
    "        self.data=data\n",
    "        self.left=None\n",
    "        self.right=None\n",
    "        self.next=None\n",
    "\n",
    "next=None\n",
    "\n",
    "def replaceWithInorder(root):\n",
    "    global next\n",
    "\n",
    "    if root is None:\n",
    "        return\n",
    "    replaceWithInorder(root.right)\n",
    "    root.next=next\n",
    "    next=root\n",
    "    replaceWithInorder(root.left)\n",
    "\n",
    "def inorder(root):\n",
    "    if root is None:\n",
    "        return\n",
    "    inorder(root.left)\n",
    "    if root.next is None:\n",
    "        print(-1,end=\" \")\n",
    "    else:\n",
    "        print(root.next.data,end=\" \")\n",
    "    inorder(root.right)\n",
    "\n",
    "if __name__ == '__main__':\n",
    "    root=Node(10)\n",
    "    root.left=Node(8)\n",
    "    root.right=Node(12)\n",
    "    root.left.left=Node(3)\n",
    "    replaceWithInorder(root)\n",
    "    inorder(root)\n"
   ]
  },
  {
   "cell_type": "markdown",
   "metadata": {},
   "source": [
    "Without using global/static variable"
   ]
  },
  {
   "cell_type": "code",
   "execution_count": 7,
   "metadata": {},
   "outputs": [
    {
     "name": "stdout",
     "output_type": "stream",
     "text": [
      "8 10 12 -1 "
     ]
    }
   ],
   "source": [
    "class Node:\n",
    "    def __init__(self,data):\n",
    "        self.data=data\n",
    "        self.left=None\n",
    "        self.right=None\n",
    "        self.next=None\n",
    "\n",
    "# next=None\n",
    "\n",
    "def replaceWithInorder(root,next):\n",
    "    # global next\n",
    "\n",
    "    if root is None:\n",
    "        return\n",
    "    replaceWithInorder(root.right,next)\n",
    "    root.next=next[0]\n",
    "    next[0]=root\n",
    "    replaceWithInorder(root.left,next)\n",
    "\n",
    "def inorder(root):\n",
    "    if root is None:\n",
    "        return\n",
    "    inorder(root.left)\n",
    "    if root.next is None:\n",
    "        print(-1,end=\" \")\n",
    "    else:\n",
    "        print(root.next.data,end=\" \")\n",
    "    inorder(root.right)\n",
    "\n",
    "if __name__ == '__main__':\n",
    "    root=Node(10)\n",
    "    root.left=Node(8)\n",
    "    root.right=Node(12)\n",
    "    root.left.left=Node(3)\n",
    "    replaceWithInorder(root,[None])\n",
    "    inorder(root)\n"
   ]
  },
  {
   "cell_type": "markdown",
   "metadata": {},
   "source": [
    "Time- O(n) Space-O(n) is function call stack considered"
   ]
  },
  {
   "cell_type": "markdown",
   "metadata": {},
   "source": [
    "# Inorder Successor of a node in Binary Tree"
   ]
  },
  {
   "cell_type": "markdown",
   "metadata": {},
   "source": [
    "We need to take care of 3 cases for any node to find its inorder successor as described below:\n",
    "\n",
    "Right child of node is not NULL. If the right child of the node is not NULL then the inorder successor of this node will be the leftmost node in it’s right subtree.\n",
    "Right Child of the node is NULL. If the right child of node is NULL. Then we keep finding the parent of the given node x, say p such that p->left = x. For example in the above given tree, inorder successor of node 5 will be 1. First parent of 5 is 2 but 2->left != 5. So next parent of 2 is 1, now 1->left = 2. Therefore, inorder successor of 5 is 1.\n",
    "Below is the algorithm for this case:\n",
    "Suppose the given node is x. Start traversing the tree from root node to find x recursively.\n",
    "If root == x, stop recursion otherwise find x recursively for left and right subtrees.\n",
    "Now after finding the node x, recur­sion will back­track to the root. Every recursive call will return the node itself to the calling function, we will store this in a temporary node say temp.Now, when it back­tracked to its par­ent which will be root now, check whether root.left = temp, if not , keep going up\n",
    ".\n",
    "\n",
    "If node is the rightmost node. If the node is the rightmost node in the given tree. For example, in the above tree node 6 is the right most node. In this case, there will be no inorder successor of this node. i.e. Inorder Successor of the rightmost node in a tree is NULL."
   ]
  },
  {
   "cell_type": "code",
   "execution_count": 2,
   "metadata": {},
   "outputs": [
    {
     "name": "stdout",
     "output_type": "stream",
     "text": [
      "1\n"
     ]
    }
   ],
   "source": [
    "class Node:\n",
    "    def __init__(self,data):\n",
    "        self.data=data\n",
    "        self.left=None\n",
    "        self.right=None\n",
    "\n",
    "def findInorderSuccessor(root,x):\n",
    "    if root is None:\n",
    "        return\n",
    "    if root.data==x:\n",
    "        return root\n",
    "    temp=findInorderSuccessor(root.left,x)\n",
    "    if temp is None:\n",
    "        temp=findInorderSuccessor(root.right,x)\n",
    "    if temp:\n",
    "        if root.left==temp:\n",
    "            print(root.data)\n",
    "        else:\n",
    "            return root\n",
    "\n",
    "if __name__ == '__main__':\n",
    "    root=Node(1)\n",
    "    root.left=Node(2)\n",
    "    root.right=Node(3)\n",
    "    root.left.left=Node(4)\n",
    "    root.left.right=Node(5)\n",
    "    root.right.right=Node(6)\n",
    "    findInorderSuccessor(root,5)\n"
   ]
  },
  {
   "cell_type": "code",
   "execution_count": 3,
   "metadata": {},
   "outputs": [],
   "source": [
    "# TO COMPLETE"
   ]
  },
  {
   "cell_type": "markdown",
   "metadata": {},
   "source": [
    "# Find n-th node of inorder traversal"
   ]
  },
  {
   "cell_type": "code",
   "execution_count": 5,
   "metadata": {},
   "outputs": [
    {
     "name": "stdout",
     "output_type": "stream",
     "text": [
      "50\n"
     ]
    }
   ],
   "source": [
    "class Node:\n",
    "    def __init__(self,data):\n",
    "        self.data=data\n",
    "        self.left=None\n",
    "        self.right=None\n",
    "\n",
    "count=1\n",
    "\n",
    "def findNode(root,n):\n",
    "    global count\n",
    "\n",
    "    if root is None:\n",
    "        return None\n",
    "\n",
    "    res=findNode(root.left,n)\n",
    "    if res:\n",
    "        return res\n",
    "    if count==n:\n",
    "        return root.data\n",
    "    count+=1\n",
    "    return findNode(root.right,n)\n",
    "\n",
    "\n",
    "if __name__ == '__main__':\n",
    "    root=Node(10)\n",
    "    root.left=Node(20)\n",
    "    root.left.left=Node(40)\n",
    "    root.left.right=Node(50)\n",
    "    root.right=Node(30)\n",
    "    # n=1\n",
    "    print(findNode(root,3))\n"
   ]
  },
  {
   "cell_type": "markdown",
   "metadata": {},
   "source": [
    "# Find n-th node in Postorder traversal of a Binary Tree"
   ]
  },
  {
   "cell_type": "code",
   "execution_count": 9,
   "metadata": {},
   "outputs": [
    {
     "name": "stdout",
     "output_type": "stream",
     "text": [
      "50\n"
     ]
    }
   ],
   "source": [
    "class Node:\n",
    "    def __init__(self,data):\n",
    "        self.data=data\n",
    "        self.left=None\n",
    "        self.right=None\n",
    "\n",
    "count=1\n",
    "\n",
    "def findNode(root,n):\n",
    "    global count\n",
    "\n",
    "    if root is None:\n",
    "        return\n",
    "\n",
    "    res=findNode(root.left,n)\n",
    "    if res:\n",
    "        return res\n",
    "    res=findNode(root.right,n)\n",
    "    if res:\n",
    "        return res\n",
    "    if count==n:\n",
    "        return root.data\n",
    "    count+=1\n",
    "\n",
    "if __name__ == '__main__':\n",
    "    root=Node(10)\n",
    "    root.left=Node(20)\n",
    "    root.left.left=Node(40)\n",
    "    root.left.right=Node(50)\n",
    "    root.right=Node(30)\n",
    "    n=2\n",
    "    print(findNode(root,n))\n"
   ]
  },
  {
   "cell_type": "markdown",
   "metadata": {},
   "source": [
    "# Level order traversal in spiral form"
   ]
  },
  {
   "cell_type": "markdown",
   "metadata": {},
   "source": [
    "The idea is to use two queues [more specificaly one queue and one stack]. We can use one queue for printing from left to right and other queue for printing from right to left. In every iteration, we have nodes of one level in one of the queues. We print the nodes, and push nodes of next level in other queue."
   ]
  },
  {
   "cell_type": "code",
   "execution_count": 8,
   "metadata": {},
   "outputs": [
    {
     "name": "stdout",
     "output_type": "stream",
     "text": [
      "1 2 3 7 6 5 4 8 9 10 11 12 13 14 15 "
     ]
    }
   ],
   "source": [
    "class Node:\n",
    "    def __init__(self,data):\n",
    "        self.data=data\n",
    "        self.left=None\n",
    "        self.right=None\n",
    "\n",
    "def LOTSpiral(root):\n",
    "    if root is None:\n",
    "        return\n",
    "    queue1=[]\n",
    "    queue2=[]\n",
    "    queue1.append(root)\n",
    "    rightToLeft=True\n",
    "    while queue1:\n",
    "        size=len(queue1)\n",
    "        for i in range(size):\n",
    "            temp=queue1.pop(0)\n",
    "            if rightToLeft is False:\n",
    "                print(temp.data,end=\" \")\n",
    "            else:\n",
    "                queue2.append(temp)\n",
    "            if temp.left:\n",
    "                queue1.append(temp.left)\n",
    "            if temp.right:\n",
    "                queue1.append(temp.right)\n",
    "        if rightToLeft is True:\n",
    "            while queue2:\n",
    "                temp=queue2.pop()\n",
    "                print(temp.data,end=\" \")\n",
    "        rightToLeft = not rightToLeft\n",
    "\n",
    "\n",
    "if __name__ == '__main__':\n",
    "    root = Node(1)\n",
    "    root.left = Node(2)\n",
    "    root.right = Node(3)\n",
    "    root.left.left = Node(4)\n",
    "    root.left.right = Node(5)\n",
    "    root.right.left = Node(6)\n",
    "    root.right.right = Node(7)\n",
    "\n",
    "    root.left.left.left = Node(8)\n",
    "    root.left.left.right = Node(9)\n",
    "    root.left.right.left = Node(10)\n",
    "    root.left.right.right = Node(11)\n",
    "    root.right.left.left = Node(12)\n",
    "    root.right.left.right = Node(13)\n",
    "    root.right.right.left = Node(14)\n",
    "    root.right.right.right = Node(15)\n",
    "    LOTSpiral(root)\n"
   ]
  },
  {
   "cell_type": "markdown",
   "metadata": {},
   "source": [
    "Time complexity - O(n) and space - O(2n)~O(n)"
   ]
  },
  {
   "cell_type": "markdown",
   "metadata": {},
   "source": [
    "# Level order traversal line by line"
   ]
  },
  {
   "cell_type": "code",
   "execution_count": 22,
   "metadata": {},
   "outputs": [
    {
     "name": "stdout",
     "output_type": "stream",
     "text": [
      "1 \n",
      "2 3 \n",
      "4 5 \n",
      "\n"
     ]
    }
   ],
   "source": [
    "class Node:\n",
    "    def __init__(self,data):\n",
    "        self.data=data\n",
    "        self.left=None\n",
    "        self.right=None\n",
    "\n",
    "def LOTLineByLine(root):\n",
    "    if root is None:\n",
    "        return\n",
    "    queue1=[]\n",
    "    queue2=[]\n",
    "    queue1.append(root)\n",
    "    while queue1 or queue2:\n",
    "\n",
    "        while queue1:\n",
    "            temp=queue1.pop(0)\n",
    "            print(temp.data,end=\" \")\n",
    "            if temp.left:\n",
    "                queue2.append(temp.left)\n",
    "            if temp.right:\n",
    "                queue2.append(temp.right)\n",
    "        print()\n",
    "        while queue2:\n",
    "            temp=queue2.pop(0)\n",
    "            print(temp.data,end=\" \")\n",
    "            if temp.left:\n",
    "                queue1.append(temp.left)\n",
    "            if temp.right:\n",
    "                queue1.append(temp.right)\n",
    "        print()\n",
    "if __name__ == '__main__':\n",
    "    root=Node(1)\n",
    "    root.left=Node(2)\n",
    "    root.right=Node(3)\n",
    "    root.left.left=Node(4)\n",
    "    root.left.right=Node(5)\n",
    "#     root.right.right=Node(4)\n",
    "#     root.right.left=Node(5)\n",
    "    LOTLineByLine(root)\n"
   ]
  },
  {
   "cell_type": "markdown",
   "metadata": {},
   "source": [
    "Different approach using one queue-><br>\n",
    "\n",
    "First insert the root and a null element into the queue. This null element acts as a delimiter. Next pop from the top of the queue and add its left and right nodes to the end of the queue and then print the top of the queue. Continue this process till the queues become empty."
   ]
  },
  {
   "cell_type": "code",
   "execution_count": 23,
   "metadata": {},
   "outputs": [
    {
     "name": "stdout",
     "output_type": "stream",
     "text": [
      "1 \n",
      "2 3 \n",
      "4 5 "
     ]
    }
   ],
   "source": [
    "class Node:\n",
    "    def __init__(self,data):\n",
    "        self.data=data\n",
    "        self.left=None\n",
    "        self.right=None\n",
    "\n",
    "def LOTLineByLine(root):\n",
    "    if root is None:\n",
    "        return\n",
    "    queue=[]\n",
    "    queue.append(root)\n",
    "    queue.append(None)\n",
    "    while queue:\n",
    "\n",
    "        temp=queue.pop(0)\n",
    "        if temp is None:\n",
    "            if len(queue)==0:\n",
    "                break\n",
    "            else:\n",
    "                print()\n",
    "                queue.append(None)\n",
    "        else:\n",
    "            \n",
    "            print(temp.data,end=\" \")\n",
    "            if temp.left:\n",
    "                queue.append(temp.left)\n",
    "            if temp.right:\n",
    "                queue.append(temp.right)\n",
    "        \n",
    "if __name__ == '__main__':\n",
    "    root=Node(1)\n",
    "    root.left=Node(2)\n",
    "    root.right=Node(3)\n",
    "    root.left.left=Node(4)\n",
    "    root.left.right=Node(5)\n",
    "#     root.right.right=Node(4)\n",
    "#     root.right.left=Node(5)\n",
    "    LOTLineByLine(root)\n"
   ]
  },
  {
   "cell_type": "markdown",
   "metadata": {},
   "source": [
    "Another Approach- Using length of the current level"
   ]
  },
  {
   "cell_type": "code",
   "execution_count": 26,
   "metadata": {},
   "outputs": [
    {
     "name": "stdout",
     "output_type": "stream",
     "text": [
      "1 \n",
      "2 3 \n",
      "4 5 \n"
     ]
    }
   ],
   "source": [
    "class Node:\n",
    "    def __init__(self,data):\n",
    "        self.data=data\n",
    "        self.left=None\n",
    "        self.right=None\n",
    "\n",
    "def LOTLineByLine(root):\n",
    "    if root is None:\n",
    "        return\n",
    "    queue=[]\n",
    "    queue.append(root)\n",
    "    while queue:\n",
    "        count=len(queue)\n",
    "        while count>0:\n",
    "            temp=queue.pop(0)\n",
    "            print(temp.data,end=\" \")\n",
    "            if temp.left:\n",
    "                queue.append(temp.left)\n",
    "            if temp.right:\n",
    "                queue.append(temp.right)\n",
    "            count-=1\n",
    "        print()\n",
    "\n",
    "if __name__ == '__main__':\n",
    "    root=Node(1)\n",
    "    root.left=Node(2)\n",
    "    root.right=Node(3)\n",
    "    root.left.left=Node(4)\n",
    "    root.left.right=Node(5)\n",
    "    LOTLineByLine(root)\n"
   ]
  },
  {
   "cell_type": "markdown",
   "metadata": {},
   "source": [
    "# Level order traversal with direction change after every two levels"
   ]
  },
  {
   "cell_type": "code",
   "execution_count": 28,
   "metadata": {},
   "outputs": [
    {
     "name": "stdout",
     "output_type": "stream",
     "text": [
      "1 \n",
      "2 3 \n",
      "7 6 5 4 \n",
      "2 7 2 4 1 3 9 8 \n",
      "16 17 18 19 \n"
     ]
    }
   ],
   "source": [
    "class Node:\n",
    "    def __init__(self,data):\n",
    "        self.data=data\n",
    "        self.left=None\n",
    "        self.right=None\n",
    "\n",
    "def LineByLineDirection(root):\n",
    "    if root is None:\n",
    "        return\n",
    "    queue1=[]\n",
    "    queue2=[]\n",
    "    queue1.append(root)\n",
    "    var=0\n",
    "    rightToLeft=False\n",
    "    while queue1:\n",
    "        var+=1\n",
    "        size=len(queue1)\n",
    "        for i in range(size):\n",
    "            temp=queue1.pop(0)\n",
    "            if rightToLeft is False:\n",
    "                print(temp.data,end=\" \")\n",
    "            else:\n",
    "                queue2.append(temp)\n",
    "            if temp.left:\n",
    "                queue1.append(temp.left)\n",
    "            if temp.right:\n",
    "                queue1.append(temp.right)\n",
    "        if rightToLeft is True:\n",
    "            while queue2:\n",
    "                temp=queue2.pop()\n",
    "                print(temp.data,end=\" \")\n",
    "        if var==2:\n",
    "            var=0\n",
    "            rightToLeft=not rightToLeft\n",
    "        print()    \n",
    "\n",
    "if __name__ == \"__main__\":\n",
    "    root=Node(1)\n",
    "    root.left=Node(2)\n",
    "    root.right=Node(3)\n",
    "    root.left.left=Node(4)\n",
    "    root.left.right=Node(5)\n",
    "    root.right.left=Node(6)\n",
    "    root.right.right=Node(7)\n",
    "    root.left.left.left=Node(8)\n",
    "    root.left.left.right=Node(9)\n",
    "    root.left.right.left=Node(3)\n",
    "    root.left.right.right=Node(1)\n",
    "    root.right.left.left=Node(4)\n",
    "    root.right.left.right=Node(2)\n",
    "    root.right.right.left=Node(7)\n",
    "    root.right.right.right=Node(2)\n",
    "    root.left.left.right.left=Node(16)\n",
    "    root.left.right.right.left=Node(17)\n",
    "    root.left.right.right.right=Node(18)\n",
    "    root.right.left.right.right=Node(19)\n",
    "    LineByLineDirection(root)"
   ]
  },
  {
   "cell_type": "markdown",
   "metadata": {},
   "source": [
    "Time Complexity - Every node is visited atmost twice O(n)"
   ]
  },
  {
   "cell_type": "markdown",
   "metadata": {},
   "source": [
    "# Reverse Level Order Traversal"
   ]
  },
  {
   "cell_type": "code",
   "execution_count": 30,
   "metadata": {},
   "outputs": [
    {
     "name": "stdout",
     "output_type": "stream",
     "text": [
      "4 5 2 3 1 "
     ]
    }
   ],
   "source": [
    "class Node:\n",
    "    def __init__(self,data):\n",
    "        self.data=data\n",
    "        self.left=None\n",
    "        self.right=None\n",
    "\n",
    "def reverseLOT(root):\n",
    "    if root is None:\n",
    "        return\n",
    "    queue1=[]\n",
    "    queue2=[]\n",
    "    queue1.append(root)\n",
    "    while queue1:\n",
    "        temp=queue1.pop(0)\n",
    "        queue2.append(temp)\n",
    "        if temp.right:\n",
    "            queue1.append(temp.right)\n",
    "        if temp.left:\n",
    "            queue1.append(temp.left)\n",
    "\n",
    "    while queue2:\n",
    "        val=queue2.pop()\n",
    "        print(val.data,end=\" \")\n",
    "\n",
    "if __name__ == '__main__':\n",
    "    root=Node(1)\n",
    "    root.left=Node(2)\n",
    "    root.right=Node(3)\n",
    "    root.left.left=Node(4)\n",
    "    root.left.right=Node(5)\n",
    "    reverseLOT(root)\n"
   ]
  },
  {
   "cell_type": "markdown",
   "metadata": {},
   "source": [
    "Here queue2 works as a stack. Time Complexity-> O(n)"
   ]
  },
  {
   "cell_type": "markdown",
   "metadata": {},
   "source": [
    "# Reverse tree path"
   ]
  },
  {
   "cell_type": "markdown",
   "metadata": {},
   "source": [
    "Given a tree and a node data, your task to reverse the path till that particular Node."
   ]
  },
  {
   "cell_type": "code",
   "execution_count": 35,
   "metadata": {},
   "outputs": [
    {
     "name": "stdout",
     "output_type": "stream",
     "text": [
      "4 6 3 7 2 5 1 \n",
      "4 6 3 2 7 5 1 "
     ]
    }
   ],
   "source": [
    "class Node:\n",
    "    def __init__(self,data):\n",
    "        self.data=data\n",
    "        self.left=None\n",
    "        self.right=None\n",
    "\n",
    "def reversePathUtil(root,value,map,nextPos,level):\n",
    "    if root is None:\n",
    "        return\n",
    "    if root.data==value:\n",
    "        map[level]=root.data\n",
    "        root.data=map[nextPos[0]]\n",
    "        nextPos[0]+=1\n",
    "        return root\n",
    "    map[level]=root.data\n",
    "    \n",
    "    left=None;right=None\n",
    "    left=reversePathUtil(root.left,value,map,nextPos,level+1)\n",
    "    if left is None:\n",
    "        right=reversePathUtil(root.right,value,map,nextPos,level+1)\n",
    "    \n",
    "    if left or right:\n",
    "        root.data=map[nextPos[0]]\n",
    "        nextPos[0]+=1\n",
    "        if left:\n",
    "            return left\n",
    "        if right:\n",
    "            return right\n",
    "        \n",
    "        \n",
    "def reversePath(root,value):\n",
    "    map={}\n",
    "    nextPos=[0]\n",
    "    reversePathUtil(root,value,map,nextPos,0)\n",
    "\n",
    "def inorder(root):\n",
    "    if root is None:\n",
    "        return\n",
    "    inorder(root.left)\n",
    "    print(root.data,end=\" \")\n",
    "    inorder(root.right)\n",
    "    \n",
    "if __name__==\"__main__\":\n",
    "    root=Node(7)\n",
    "    root.left=Node(6)\n",
    "    root.right=Node(5)\n",
    "    root.left.left=Node(4)\n",
    "    root.left.right=Node(3)\n",
    "    root.right.left=Node(2)\n",
    "    root.right.right=Node(1)\n",
    "    inorder(root)\n",
    "    reversePath(root,2)\n",
    "    print()\n",
    "    inorder(root)"
   ]
  },
  {
   "cell_type": "markdown",
   "metadata": {},
   "source": [
    "Using Queue"
   ]
  },
  {
   "cell_type": "code",
   "execution_count": 1,
   "metadata": {},
   "outputs": [
    {
     "data": {
      "text/plain": [
       "'\\nclass Node:\\n    def __init__(self,data):\\n        self.data=data\\n        self.left=None\\n        self.right=None\\n\\ndef reversePathUtil(root,value,queue,level):\\n    if root is None:\\n        return\\n    if root.data==value:\\n        queue.append(root.data)\\n        root.data=queue.pop(0)\\n        return root\\n    \\n    queue.append(root.data)\\n    \\n    left=None;right=None\\n    left=reversePathUtil(root.left,value,queue,level+1)\\n    if left is None:\\n        queue.pop(-1)\\n        right=reversePathUtil(root.right,value,queue,level+1)\\n        if right is None:\\n            queue.pop(-1)\\n    \\n    if left or right:\\n        root.data=queue.pop(0)\\n        if left:\\n            return left\\n        if right:\\n            return right\\n        \\ndef reversePath(root,value):\\n    queue=[]\\n    reversePathUtil(root,value,queue,0)\\n\\ndef inorder(root):\\n    if root is None:\\n        return\\n    inorder(root.left)\\n    print(root.data,end=\" \")\\n    inorder(root.right)\\n    \\nif __name__==\"__main__\":\\n    root=Node(7)\\n    root.left=Node(6)\\n    root.right=Node(5)\\n    root.left.left=Node(4)\\n    root.left.right=Node(3)\\n    root.right.left=Node(2)\\n    root.right.right=Node(1)\\n    inorder(root)\\n    reversePath(root,3)\\n    print()\\n    inorder(root)\\n'"
      ]
     },
     "execution_count": 1,
     "metadata": {},
     "output_type": "execute_result"
    }
   ],
   "source": [
    "'''\n",
    "class Node:\n",
    "    def __init__(self,data):\n",
    "        self.data=data\n",
    "        self.left=None\n",
    "        self.right=None\n",
    "\n",
    "def reversePathUtil(root,value,queue,level):\n",
    "    if root is None:\n",
    "        return\n",
    "    if root.data==value:\n",
    "        queue.append(root.data)\n",
    "        root.data=queue.pop(0)\n",
    "        return root\n",
    "    \n",
    "    queue.append(root.data)\n",
    "    \n",
    "    left=None;right=None\n",
    "    left=reversePathUtil(root.left,value,queue,level+1)\n",
    "    if left is None:\n",
    "        queue.pop(-1)\n",
    "        right=reversePathUtil(root.right,value,queue,level+1)\n",
    "        if right is None:\n",
    "            queue.pop(-1)\n",
    "    \n",
    "    if left or right:\n",
    "        root.data=queue.pop(0)\n",
    "        if left:\n",
    "            return left\n",
    "        if right:\n",
    "            return right\n",
    "        \n",
    "def reversePath(root,value):\n",
    "    queue=[]\n",
    "    reversePathUtil(root,value,queue,0)\n",
    "\n",
    "def inorder(root):\n",
    "    if root is None:\n",
    "        return\n",
    "    inorder(root.left)\n",
    "    print(root.data,end=\" \")\n",
    "    inorder(root.right)\n",
    "    \n",
    "if __name__==\"__main__\":\n",
    "    root=Node(7)\n",
    "    root.left=Node(6)\n",
    "    root.right=Node(5)\n",
    "    root.left.left=Node(4)\n",
    "    root.left.right=Node(3)\n",
    "    root.right.left=Node(2)\n",
    "    root.right.right=Node(1)\n",
    "    inorder(root)\n",
    "    reversePath(root,3)\n",
    "    print()\n",
    "    inorder(root)\n",
    "'''\n",
    "To Do"
   ]
  },
  {
   "cell_type": "markdown",
   "metadata": {},
   "source": [
    "# Perfect Binary Tree Specific Level Order Traversal"
   ]
  },
  {
   "cell_type": "markdown",
   "metadata": {},
   "source": [
    "Approach 1>"
   ]
  },
  {
   "cell_type": "code",
   "execution_count": 3,
   "metadata": {},
   "outputs": [
    {
     "name": "stdout",
     "output_type": "stream",
     "text": [
      "1 2 3 4 7 5 6 8 15 9 14 10 13 11 12 16 31 17 30 18 29 19 28 20 27 21 26 22 25 23 24 "
     ]
    }
   ],
   "source": [
    "class Node:\n",
    "\n",
    "    def __init__(self,data):\n",
    "        self.data=data\n",
    "        self.left=None\n",
    "        self.right=None\n",
    "\n",
    "def LOTSpecific(root):\n",
    "    if root is None:\n",
    "        return\n",
    "    queue1=[]\n",
    "    queue2=[]\n",
    "    queue1.append(root)\n",
    "    queue1.append(None)\n",
    "    while queue1:\n",
    "        temp=queue1.pop(0)\n",
    "        if temp:\n",
    "            queue2.append(temp)\n",
    "            if temp.left:\n",
    "                queue1.append(temp.left)\n",
    "            if temp.right:\n",
    "                queue1.append(temp.right)\n",
    "        else:\n",
    "            if len(queue1)>0:\n",
    "                queue1.append(None)\n",
    "            #queue1.append(None)\n",
    "            #print(queue1)\n",
    "            c=0\n",
    "            while queue2:\n",
    "                if c%2==0:\n",
    "                    val=queue2.pop(0)\n",
    "                else:\n",
    "                    val=queue2.pop()\n",
    "                print(val.data,end=\" \")\n",
    "                c+=1\n",
    "\n",
    "\n",
    "if __name__ == '__main__':\n",
    "    root = Node(1)\n",
    "\n",
    "    root.left= Node(2)\n",
    "    root.right   = Node(3)\n",
    "\n",
    "    root.left.left  = Node(4)\n",
    "    root.left.right = Node(5)\n",
    "    root.right.left  = Node(6)\n",
    "    root.right.right = Node(7)\n",
    "\n",
    "    root.left.left.left  = Node(8)\n",
    "    root.left.left.right  = Node(9)\n",
    "    root.left.right.left  = Node(10)\n",
    "    root.left.right.right  = Node(11)\n",
    "    root.right.left.left  = Node(12)\n",
    "    root.right.left.right  = Node(13)\n",
    "    root.right.right.left  = Node(14)\n",
    "    root.right.right.right  = Node(15)\n",
    "\n",
    "    root.left.left.left.left  = Node(16)\n",
    "    root.left.left.left.right  = Node(17)\n",
    "    root.left.left.right.left  = Node(18)\n",
    "    root.left.left.right.right  = Node(19)\n",
    "    root.left.right.left.left  = Node(20)\n",
    "    root.left.right.left.right  = Node(21)\n",
    "    root.left.right.right.left  = Node(22)\n",
    "    root.left.right.right.right  = Node(23)\n",
    "    root.right.left.left.left  = Node(24)\n",
    "    root.right.left.left.right  = Node(25)\n",
    "    root.right.left.right.left  = Node(26)\n",
    "    root.right.left.right.right  = Node(27)\n",
    "    root.right.right.left.left  = Node(28)\n",
    "    root.right.right.left.right  = Node(29)\n",
    "    root.right.right.right.left  = Node(30)\n",
    "    root.right.right.right.right  = Node(31)\n",
    "    \n",
    "    LOTSpecific(root)\n"
   ]
  },
  {
   "cell_type": "markdown",
   "metadata": {},
   "source": [
    "Approach 2> Without using the delimiter"
   ]
  },
  {
   "cell_type": "code",
   "execution_count": 4,
   "metadata": {},
   "outputs": [
    {
     "name": "stdout",
     "output_type": "stream",
     "text": [
      "1 \n",
      "\n",
      "2 3 \n",
      "\n",
      "4 7 5 6 \n",
      "\n",
      "8 15 9 14 10 13 11 12 \n",
      "\n",
      "16 31 17 30 18 29 19 28 20 27 21 26 22 25 23 24 \n",
      "\n"
     ]
    }
   ],
   "source": [
    "class Node:\n",
    "    def __init__(self,data):\n",
    "        self.data=data\n",
    "        self.left=None\n",
    "        self.right=None\n",
    "\n",
    "def LOTSpecific(root):\n",
    "    if root is None:\n",
    "        return\n",
    "    queue1=[]\n",
    "    queue2=[]\n",
    "    queue1.append(root)\n",
    "    while queue1:\n",
    "        count=len(queue1)\n",
    "        for i in range(count):\n",
    "            temp=queue1.pop(0)\n",
    "            queue2.append(temp)\n",
    "            if temp.left:\n",
    "                queue1.append(temp.left)\n",
    "            if temp.right:\n",
    "                queue1.append(temp.right)\n",
    "        c=0\n",
    "        while queue2:\n",
    "            if c%2==0:\n",
    "                temp=queue2.pop(0)\n",
    "                print(temp.data,end=\" \")\n",
    "            else:\n",
    "                temp=queue2.pop()\n",
    "                print(temp.data,end=\" \")\n",
    "            c+=1\n",
    "        print('\\n')\n",
    "\n",
    "\n",
    "if __name__ == '__main__':\n",
    "    root = Node(1)\n",
    "\n",
    "    root.left= Node(2)\n",
    "    root.right   = Node(3)\n",
    "\n",
    "    root.left.left  = Node(4)\n",
    "    root.left.right = Node(5)\n",
    "    root.right.left  = Node(6)\n",
    "    root.right.right = Node(7)\n",
    "    root.left.left.left  = Node(8)\n",
    "    root.left.left.right  = Node(9)\n",
    "    root.left.right.left  = Node(10)\n",
    "    root.left.right.right  = Node(11)\n",
    "    root.right.left.left  = Node(12)\n",
    "    root.right.left.right  = Node(13)\n",
    "    root.right.right.left  = Node(14)\n",
    "    root.right.right.right  = Node(15)\n",
    "\n",
    "    root.left.left.left.left  = Node(16)\n",
    "    root.left.left.left.right  = Node(17)\n",
    "    root.left.left.right.left  = Node(18)\n",
    "    root.left.left.right.right  = Node(19)\n",
    "    root.left.right.left.left  = Node(20)\n",
    "    root.left.right.left.right  = Node(21)\n",
    "    root.left.right.right.left  = Node(22)\n",
    "    root.left.right.right.right  = Node(23)\n",
    "    root.right.left.left.left  = Node(24)\n",
    "    root.right.left.left.right  = Node(25)\n",
    "    root.right.left.right.left  = Node(26)\n",
    "    root.right.left.right.right  = Node(27)\n",
    "    root.right.right.left.left  = Node(28)\n",
    "    root.right.right.left.right  = Node(29)\n",
    "    root.right.right.right.left  = Node(30)\n",
    "    root.right.right.right.right  = Node(31)\n",
    "    LOTSpecific(root)\n"
   ]
  },
  {
   "cell_type": "markdown",
   "metadata": {},
   "source": [
    "Approach 3> Processing two nodes at once"
   ]
  },
  {
   "cell_type": "code",
   "execution_count": 6,
   "metadata": {},
   "outputs": [
    {
     "name": "stdout",
     "output_type": "stream",
     "text": [
      "1 2 3 4 7 5 6 8 15 9 14 10 13 11 12 16 31 17 30 18 29 19 28 20 27 21 26 22 25 23 24 "
     ]
    }
   ],
   "source": [
    "class Node:\n",
    "    def __init__(self,data):\n",
    "        self.data=data\n",
    "        self.left=None\n",
    "        self.right=None\n",
    "\n",
    "def LOTSpecific(root):\n",
    "    if root is None:\n",
    "        return\n",
    "    print(root.data,end=\" \")\n",
    "    if root.left:\n",
    "        print(root.left.data,end=\" \")\n",
    "        print(root.right.data,end=\" \")\n",
    "    else:\n",
    "        return\n",
    "\n",
    "    if root.left.left is None:\n",
    "        return\n",
    "\n",
    "    queue=[]\n",
    "    queue.append(root.left)\n",
    "    queue.append(root.right)\n",
    "\n",
    "    while queue:\n",
    "        first=queue.pop(0)\n",
    "        second=queue.pop(0)\n",
    "\n",
    "        print(first.left.data,end=\" \")\n",
    "        print(second.right.data,end=\" \")\n",
    "        print(first.right.data,end=\" \")\n",
    "        print(second.left.data,end=\" \")\n",
    "\n",
    "        if first.left.left:\n",
    "            queue.append(first.left)\n",
    "            queue.append(second.right)\n",
    "            queue.append(first.right)\n",
    "            queue.append(second.left)\n",
    "\n",
    "if __name__ == '__main__':\n",
    "    root = Node(1)\n",
    "\n",
    "    root.left= Node(2)\n",
    "    root.right   = Node(3)\n",
    "\n",
    "    root.left.left  = Node(4)\n",
    "    root.left.right = Node(5)\n",
    "    root.right.left  = Node(6)\n",
    "    root.right.right = Node(7)\n",
    "\n",
    "    root.left.left.left  = Node(8)\n",
    "    root.left.left.right  = Node(9)\n",
    "    root.left.right.left  = Node(10)\n",
    "    root.left.right.right  = Node(11)\n",
    "    root.right.left.left  = Node(12)\n",
    "    root.right.left.right  = Node(13)\n",
    "    root.right.right.left  = Node(14)\n",
    "    root.right.right.right  = Node(15)\n",
    "\n",
    "    root.left.left.left.left  = Node(16)\n",
    "    root.left.left.left.right  = Node(17)\n",
    "    root.left.left.right.left  = Node(18)\n",
    "    root.left.left.right.right  = Node(19)\n",
    "    root.left.right.left.left  = Node(20)\n",
    "    root.left.right.left.right  = Node(21)\n",
    "    root.left.right.right.left  = Node(22)\n",
    "    root.left.right.right.right  = Node(23)\n",
    "    root.right.left.left.left  = Node(24)\n",
    "    root.right.left.left.right  = Node(25)\n",
    "    root.right.left.right.left  = Node(26)\n",
    "    root.right.left.right.right  = Node(27)\n",
    "    root.right.right.left.left  = Node(28)\n",
    "    root.right.right.left.right  = Node(29)\n",
    "    root.right.right.right.left  = Node(30)\n",
    "    root.right.right.right.right  = Node(31)\n",
    "    LOTSpecific(root)    \n"
   ]
  },
  {
   "cell_type": "markdown",
   "metadata": {},
   "source": [
    "<strong>What if the Tree is not perfect?</strong>-> Use approach 1 or apporach2 because we process each level without assuming it as a perfect tree. While we assume the tree is perfect in approach 3 "
   ]
  },
  {
   "cell_type": "markdown",
   "metadata": {},
   "source": [
    "# Perfect Binary Tree Specific Level Order Traversal Bottom To Top"
   ]
  },
  {
   "cell_type": "code",
   "execution_count": 2,
   "metadata": {},
   "outputs": [
    {
     "name": "stdout",
     "output_type": "stream",
     "text": [
      "16 31 17 30 18 29 19 28 20 27 21 26 22 25 23 24 8 15 9 14 10 13 11 12 4 7 5 6 2 3 1 "
     ]
    }
   ],
   "source": [
    "class Node:\n",
    "    def __init__(self,data):\n",
    "        self.data=data\n",
    "        self.left=None\n",
    "        self.right=None\n",
    "\n",
    "def LOTSpecific(root):\n",
    "    if root is None:\n",
    "        return\n",
    "\n",
    "    queue1=[]\n",
    "    queue2=[]\n",
    "    # print(root.data,end=\" \")\n",
    "    queue2.append(root)\n",
    "    if root.left:\n",
    "        queue2.append(root.right)\n",
    "        queue2.append(root.left)\n",
    "        # print(root.left.data,end=\" \")\n",
    "        # print(root.right.data,end=\" \")\n",
    "    else:\n",
    "        return\n",
    "\n",
    "    if root.left.left is None:\n",
    "        return\n",
    "\n",
    "    queue1.append(root.right)\n",
    "    queue1.append(root.left)\n",
    "\n",
    "    while queue1:\n",
    "        first=queue1.pop(0)\n",
    "        second=queue1.pop(0)\n",
    "\n",
    "        # print(first.left.data,end=\" \")\n",
    "        # print(second.right.data,end=\" \")\n",
    "        # print(first.right.data,end=\" \")\n",
    "        # print(second.left.data,end=\" \")\n",
    "        queue2.append(first.left)\n",
    "        queue2.append(second.right)\n",
    "        queue2.append(first.right)\n",
    "        queue2.append(second.left)\n",
    "\n",
    "        if first.left.left:\n",
    "            queue1.append(first.left)\n",
    "            queue1.append(second.right)\n",
    "            queue1.append(first.right)\n",
    "            queue1.append(second.left)\n",
    "    while queue2:\n",
    "        temp=queue2.pop(-1)\n",
    "        print(temp.data,end=\" \")\n",
    "\n",
    "if __name__ == '__main__':\n",
    "    root = Node(1)\n",
    "\n",
    "    root.left= Node(2)\n",
    "    root.right   = Node(3)\n",
    "\n",
    "    root.left.left  = Node(4)\n",
    "    root.left.right = Node(5)\n",
    "    root.right.left  = Node(6)\n",
    "    root.right.right = Node(7)\n",
    "\n",
    "    root.left.left.left  = Node(8)\n",
    "    root.left.left.right  = Node(9)\n",
    "    root.left.right.left  = Node(10)\n",
    "    root.left.right.right  = Node(11)\n",
    "    root.right.left.left  = Node(12)\n",
    "    root.right.left.right  = Node(13)\n",
    "    root.right.right.left  = Node(14)\n",
    "    root.right.right.right  = Node(15)\n",
    "\n",
    "    root.left.left.left.left  = Node(16)\n",
    "    root.left.left.left.right  = Node(17)\n",
    "    root.left.left.right.left  = Node(18)\n",
    "    root.left.left.right.right  = Node(19)\n",
    "    root.left.right.left.left  = Node(20)\n",
    "    root.left.right.left.right  = Node(21)\n",
    "    root.left.right.right.left  = Node(22)\n",
    "    root.left.right.right.right  = Node(23)\n",
    "    root.right.left.left.left  = Node(24)\n",
    "    root.right.left.left.right  = Node(25)\n",
    "    root.right.left.right.left  = Node(26)\n",
    "    root.right.left.right.right  = Node(27)\n",
    "    root.right.right.left.left  = Node(28)\n",
    "    root.right.right.left.right  = Node(29)\n",
    "    root.right.right.right.left  = Node(30)\n",
    "    root.right.right.right.right  = Node(31)\n",
    "    \n",
    "    LOTSpecific(root)\n"
   ]
  },
  {
   "cell_type": "markdown",
   "metadata": {},
   "source": [
    "Another approach-> Use List to store the output"
   ]
  },
  {
   "cell_type": "code",
   "execution_count": 4,
   "metadata": {},
   "outputs": [
    {
     "name": "stdout",
     "output_type": "stream",
     "text": [
      "16 31 17 30 18 29 19 28 20 27 21 26 22 25 23 24 8 15 9 14 10 13 11 12 4 7 5 6 2 3 1\n"
     ]
    }
   ],
   "source": [
    "class Node:\n",
    "\n",
    "    def __init__(self,data):\n",
    "        self.data=data\n",
    "        self.left=None\n",
    "        self.right=None\n",
    "\n",
    "def LOTSpecific(root):\n",
    "    if root is None:\n",
    "        return\n",
    "    queue1=[]\n",
    "    queue2=[]\n",
    "    res=[]\n",
    "    queue1.append(root)\n",
    "    queue1.append(None)\n",
    "    while queue1:\n",
    "        temp=queue1.pop(0)\n",
    "        if temp:\n",
    "            queue2.append(temp)\n",
    "            if temp.left:\n",
    "                queue1.append(temp.left)\n",
    "            if temp.right:\n",
    "                queue1.append(temp.right)\n",
    "        else:\n",
    "            if len(queue1)>0:\n",
    "                queue1.append(None)\n",
    "            #queue1.append(None)\n",
    "            #print(queue1)\n",
    "            c=0\n",
    "            ind=0\n",
    "            while queue2:\n",
    "                if c%2==0:\n",
    "                    val=queue2.pop(0)\n",
    "                else:\n",
    "                    val=queue2.pop()\n",
    "                res.insert(ind,val.data)\n",
    "                ind+=1\n",
    "                #print(val.data,end=\" \")\n",
    "                c+=1\n",
    "    print(\" \".join(map(str,res)))\n",
    "\n",
    "\n",
    "if __name__ == '__main__':\n",
    "    root = Node(1)\n",
    "\n",
    "    root.left= Node(2)\n",
    "    root.right   = Node(3)\n",
    "\n",
    "    root.left.left  = Node(4)\n",
    "    root.left.right = Node(5)\n",
    "    root.right.left  = Node(6)\n",
    "    root.right.right = Node(7)\n",
    "\n",
    "    root.left.left.left  = Node(8)\n",
    "    root.left.left.right  = Node(9)\n",
    "    root.left.right.left  = Node(10)\n",
    "    root.left.right.right  = Node(11)\n",
    "    root.right.left.left  = Node(12)\n",
    "\n",
    "    root.right.left.right  = Node(13)\n",
    "    root.right.right.left  = Node(14)\n",
    "    root.right.right.right  = Node(15)\n",
    "\n",
    "    root.left.left.left.left  = Node(16)\n",
    "    root.left.left.left.right  = Node(17)\n",
    "    root.left.left.right.left  = Node(18)\n",
    "    root.left.left.right.right  = Node(19)\n",
    "    root.left.right.left.left  = Node(20)\n",
    "    root.left.right.left.right  = Node(21)\n",
    "    root.left.right.right.left  = Node(22)\n",
    "    root.left.right.right.right  = Node(23)\n",
    "    root.right.left.left.left  = Node(24)\n",
    "    root.right.left.left.right  = Node(25)\n",
    "    root.right.left.right.left  = Node(26)\n",
    "    root.right.left.right.right  = Node(27)\n",
    "    root.right.right.left.left  = Node(28)\n",
    "    root.right.right.left.right  = Node(29)\n",
    "    root.right.right.right.left  = Node(30)\n",
    "    root.right.right.right.right  = Node(31)\n",
    "\n",
    "    LOTSpecific(root)\n"
   ]
  },
  {
   "cell_type": "markdown",
   "metadata": {},
   "source": [
    "# Reverse alternate levels of a perfect binary tree"
   ]
  },
  {
   "cell_type": "code",
   "execution_count": 6,
   "metadata": {},
   "outputs": [
    {
     "name": "stdout",
     "output_type": "stream",
     "text": [
      "a b c d e f g h i j k l m n o \n",
      "a c b d e f g o n m l k j i h "
     ]
    }
   ],
   "source": [
    "class Node:\n",
    "    def __init__(self,data):\n",
    "        self.data=data\n",
    "        self.left=None\n",
    "        self.right=None\n",
    "\n",
    "def traverse(root):\n",
    "    if root is None:\n",
    "        return\n",
    "    queue=[]\n",
    "    queue.append(root)\n",
    "    while queue:\n",
    "        temp=queue.pop(0)\n",
    "        print(temp.data,end=\" \")\n",
    "        if temp.left:\n",
    "            queue.append(temp.left)\n",
    "        if temp.right:\n",
    "            queue.append(temp.right)\n",
    "\n",
    "def replaceAlternate(root):\n",
    "    if root is None:\n",
    "        return\n",
    "    queue=[]\n",
    "    queue.append(root)\n",
    "    queue.append(None)\n",
    "    stack=[]\n",
    "    var=-1\n",
    "    while queue:\n",
    "        # print(queue)\n",
    "\n",
    "        temp=queue.pop(0)\n",
    "        if temp:\n",
    "            stack.append(temp)\n",
    "            if temp.left:\n",
    "                queue.append(temp.left)\n",
    "            if temp.right:\n",
    "                queue.append(temp.right)\n",
    "        else:\n",
    "            var+=1\n",
    "            if len(queue):\n",
    "                queue.append(None)\n",
    "            if var%2==0:\n",
    "                while stack:\n",
    "                    stack.pop(0)\n",
    "                    # print(d.data)\n",
    "            else:\n",
    "                # stack2=list(reversed(stack))\n",
    "                # for i in stack:\n",
    "                #     print(i.data,end=\" \")\n",
    "                # print()\n",
    "                # for i in stack2:\n",
    "                #     print(i.data,end=\" \")\n",
    "                # print()\n",
    "                while stack:\n",
    "                    first=stack.pop(0)\n",
    "                    # print(first.data)\n",
    "                    second=stack.pop(-1)\n",
    "                    # print(first.data,second.data)\n",
    "                    ele=first.data\n",
    "                    first.data=second.data\n",
    "                    second.data=ele\n",
    "                    # print(first.data,second.data)\n",
    "\n",
    "\n",
    "if __name__ == '__main__':\n",
    "    root=Node('a')\n",
    "    root.left = Node('b')\n",
    "    root.right = Node('c')\n",
    "    root.left.left = Node('d')\n",
    "    root.left.right = Node('e')\n",
    "    root.right.left = Node('f')\n",
    "    root.right.right = Node('g')\n",
    "    root.left.left.left = Node('h')\n",
    "    root.left.left.right = Node('i')\n",
    "    root.left.right.left = Node('j')\n",
    "    root.left.right.right = Node('k')\n",
    "    root.right.left.left = Node('l')\n",
    "    root.right.left.right = Node('m')\n",
    "    root.right.right.left = Node('n')\n",
    "    root.right.right.right = Node('o')\n",
    "    traverse(root)\n",
    "    print()\n",
    "    replaceAlternate(root)\n",
    "    traverse(root)\n"
   ]
  },
  {
   "cell_type": "markdown",
   "metadata": {},
   "source": [
    "Approach 2-> using 2 inorder traversals"
   ]
  },
  {
   "cell_type": "code",
   "execution_count": 7,
   "metadata": {},
   "outputs": [
    {
     "name": "stdout",
     "output_type": "stream",
     "text": [
      "a b c d e f g h i j k l m n o \n",
      "a c b d e f g o n m l k j i h "
     ]
    }
   ],
   "source": [
    "class Node:\n",
    "    def __init__(self,data):\n",
    "        self.data=data\n",
    "        self.left=None\n",
    "        self.right=None\n",
    "\n",
    "def storeNodes(root,arr,l):\n",
    "    if root is None:\n",
    "        return\n",
    "    storeNodes(root.left,arr,l+1)\n",
    "    if l%2==1:\n",
    "        arr.append(root.data)\n",
    "    storeNodes(root.right,arr,l+1)\n",
    "\n",
    "def modifyTree(root,arr,l):\n",
    "    if root is None:\n",
    "        return\n",
    "    modifyTree(root.left,arr,l+1)\n",
    "    if l%2==1:\n",
    "        root.data=arr.pop(0)\n",
    "    modifyTree(root.right,arr,l+1)\n",
    "\n",
    "\n",
    "def reverseAlternate(root):\n",
    "    if root is None:\n",
    "        return\n",
    "    if root.left is None and root.right is None:\n",
    "        return\n",
    "    arr=[]\n",
    "    storeNodes(root,arr,0)\n",
    "    # print(arr)\n",
    "    arr.reverse()\n",
    "    # print(arr)\n",
    "    modifyTree(root,arr,0)\n",
    "\n",
    "def traverse(root):\n",
    "    if root is None:\n",
    "        return\n",
    "    queue=[]\n",
    "    queue.append(root)\n",
    "    while queue:\n",
    "        temp=queue.pop(0)\n",
    "        print(temp.data,end=\" \")\n",
    "        if temp.left:\n",
    "            queue.append(temp.left)\n",
    "        if temp.right:\n",
    "            queue.append(temp.right)\n",
    "\n",
    "if __name__ == '__main__':\n",
    "    root=Node('a')\n",
    "    root.left = Node('b')\n",
    "    root.right = Node('c')\n",
    "    root.left.left = Node('d')\n",
    "    root.left.right = Node('e')\n",
    "    root.right.left = Node('f')\n",
    "    root.right.right = Node('g')\n",
    "    root.left.left.left = Node('h')\n",
    "    root.left.left.right = Node('i')\n",
    "    root.left.right.left = Node('j')\n",
    "    root.left.right.right = Node('k')\n",
    "    root.right.left.left = Node('l')\n",
    "    root.right.left.right = Node('m')\n",
    "    root.right.right.left = Node('n')\n",
    "    root.right.right.right = Node('o')\n",
    "    traverse(root)\n",
    "    reverseAlternate(root)\n",
    "    print()\n",
    "    traverse(root)\n"
   ]
  },
  {
   "cell_type": "markdown",
   "metadata": {},
   "source": [
    "approach 3-> using a single traversal"
   ]
  },
  {
   "cell_type": "code",
   "execution_count": 1,
   "metadata": {},
   "outputs": [
    {
     "name": "stdout",
     "output_type": "stream",
     "text": [
      "a b c d e f g h i j k l m n o \n",
      "a c b d e f g o n m l k j i h "
     ]
    }
   ],
   "source": [
    "class Node:\n",
    "    def __init__(self,data):\n",
    "        self.data=data\n",
    "        self.left=None\n",
    "        self.right=None\n",
    "\n",
    "def reverseAlternateUtil(root1,root2,l):\n",
    "    if root1 is None:\n",
    "        return\n",
    "    reverseAlternateUtil(root1.left,root2.right,l+1)\n",
    "    # print(root1.data,root2.data)\n",
    "    if l%2==1:\n",
    "        temp=root1.data\n",
    "        root1.data=root2.data\n",
    "        root2.data=temp\n",
    "    reverseAlternateUtil(root1.right,root2.left,l+1)\n",
    "\n",
    "def reverseAlternate(root):\n",
    "    reverseAlternateUtil(root.left,root.right,1)\n",
    "\n",
    "def traverse(root):\n",
    "    if root is None:\n",
    "        return\n",
    "    queue=[]\n",
    "    queue.append(root)\n",
    "    while queue:\n",
    "        ele=queue.pop(0)\n",
    "        print(ele.data,end=\" \")\n",
    "        if ele.left:\n",
    "            queue.append(ele.left)\n",
    "        if ele.right:\n",
    "            queue.append(ele.right)\n",
    "\n",
    "\n",
    "if __name__ == '__main__':\n",
    "    root=Node('a')\n",
    "    root.left = Node('b')\n",
    "    root.right = Node('c')\n",
    "    root.left.left = Node('d')\n",
    "    root.left.right = Node('e')\n",
    "    root.right.left = Node('f')\n",
    "    root.right.right = Node('g')\n",
    "    root.left.left.left = Node('h')\n",
    "    root.left.left.right = Node('i')\n",
    "    root.left.right.left = Node('j')\n",
    "    root.left.right.right = Node('k')\n",
    "    root.right.left.left = Node('l')\n",
    "    root.right.left.right = Node('m')\n",
    "    root.right.right.left = Node('n')\n",
    "    root.right.right.right = Node('o')\n",
    "    traverse(root)\n",
    "    print()\n",
    "    reverseAlternate(root)\n",
    "    traverse(root)\n"
   ]
  },
  {
   "cell_type": "markdown",
   "metadata": {},
   "source": [
    "# Morris traversal for Preorder"
   ]
  },
  {
   "cell_type": "code",
   "execution_count": 7,
   "metadata": {},
   "outputs": [
    {
     "name": "stdout",
     "output_type": "stream",
     "text": [
      "8 4 9 2 10 5 11 1 6 3 7 \n",
      "1 2 4 8 9 5 10 11 3 6 7 \n",
      "8 4 9 2 10 5 11 1 6 3 7 "
     ]
    }
   ],
   "source": [
    "class Node:\n",
    "    def __init__(self,data):\n",
    "        self.data=data\n",
    "        self.left=None\n",
    "        self.right=None\n",
    "\n",
    "def preorder(root):\n",
    "    if root is None:\n",
    "        return\n",
    "    \n",
    "    curr=root\n",
    "    while curr:\n",
    "        if curr.left is None:\n",
    "            print(curr.data,end=\" \")\n",
    "            curr=curr.right\n",
    "        else:\n",
    "            pre=curr.left\n",
    "            while pre.right is not None and pre.right is not curr:\n",
    "                pre=pre.right\n",
    "            if pre.right is None:\n",
    "                print(curr.data,end=\" \")\n",
    "                pre.right=curr\n",
    "                curr=curr.left\n",
    "            else:\n",
    "                pre.right=None\n",
    "                curr=curr.right\n",
    "\n",
    "def inorder(root):\n",
    "    if root is None:\n",
    "        return\n",
    "    inorder(root.left)\n",
    "    print(root.data,end=\" \")\n",
    "    inorder(root.right)\n",
    "\n",
    "if __name__ ==\"__main__\":\n",
    "    root = Node(1) \n",
    "    root.left = Node(2) \n",
    "    root.right = Node(3) \n",
    "  \n",
    "    root.left.left = Node(4) \n",
    "    root.left.right = Node(5) \n",
    "  \n",
    "    root.right.left= Node(6) \n",
    "    root.right.right = Node(7) \n",
    "  \n",
    "    root.left.left.left = Node(8) \n",
    "    root.left.left.right = Node(9) \n",
    "  \n",
    "    root.left.right.left = Node(10) \n",
    "    root.left.right.right = Node(11) \n",
    "    inorder(root)\n",
    "    print()\n",
    "    preorder(root)\n",
    "    print()\n",
    "    inorder(root)\n",
    "    "
   ]
  },
  {
   "cell_type": "markdown",
   "metadata": {},
   "source": [
    "<strong>Limitations:</strong><br>\n",
    "Morris traversal modifies the tree during the process. It establishes the right links while moving down the tree and resets the right links while moving up the tree. So the algorithm cannot be applied if write operations are not allowed."
   ]
  },
  {
   "cell_type": "markdown",
   "metadata": {},
   "source": [
    "# Iterative Preorder Traversal"
   ]
  },
  {
   "cell_type": "code",
   "execution_count": 9,
   "metadata": {},
   "outputs": [
    {
     "name": "stdout",
     "output_type": "stream",
     "text": [
      "10 8 3 5 2 2 "
     ]
    }
   ],
   "source": [
    "class Node:\n",
    "    def __init__(self,data):\n",
    "        self.data=data\n",
    "        self.left=None\n",
    "        self.right=None\n",
    "\n",
    "def preorder(root):\n",
    "    if root is None:\n",
    "        return\n",
    "    stack=[]\n",
    "    stack.append(root)\n",
    "    while stack:\n",
    "        temp=stack.pop()\n",
    "        print(temp.data,end=\" \")\n",
    "        if temp.right:\n",
    "            stack.append(temp.right)\n",
    "        if temp.left:\n",
    "            stack.append(temp.left)\n",
    "\n",
    "if __name__==\"__main__\":\n",
    "    root = Node(10) \n",
    "    root.left = Node(8) \n",
    "    root.right = Node(2) \n",
    "    root.left.left = Node(3) \n",
    "    root.left.right = Node(5) \n",
    "    root.right.left = Node(2)\n",
    "    preorder(root)"
   ]
  },
  {
   "cell_type": "markdown",
   "metadata": {},
   "source": [
    "Space Optimized Solution: The idea is to start traversing the tree from root node, and keep printing the left child while exists and simultaneously, push right child of every node in an auxiliary stack. Once we reach a null node, pop a right child from the auxiliary stack and repeat the process while the auxiliary stack is not-empty."
   ]
  },
  {
   "cell_type": "code",
   "execution_count": 10,
   "metadata": {},
   "outputs": [
    {
     "name": "stdout",
     "output_type": "stream",
     "text": [
      "1 2 4 8 9 5 10 11 3 6 7 "
     ]
    }
   ],
   "source": [
    "class Node:\n",
    "    def __init__(self,data):\n",
    "        self.data=data\n",
    "        self.left=None\n",
    "        self.right=None\n",
    "\n",
    "def preorder(root):\n",
    "    if root is None:\n",
    "        return\n",
    "    stack=[]\n",
    "    curr=root\n",
    "    while True:\n",
    "        if curr:\n",
    "            print(curr.data,end=\" \")\n",
    "            if curr.right:\n",
    "                stack.append(curr.right)\n",
    "            curr=curr.left\n",
    "        elif stack:\n",
    "            curr=stack.pop()\n",
    "        else:\n",
    "            break\n",
    "\n",
    "if __name__ == '__main__':\n",
    "    root = Node(1)\n",
    "    root.left = Node(2)\n",
    "    root.right = Node(3)\n",
    "\n",
    "    root.left.left = Node(4)\n",
    "    root.left.right = Node(5)\n",
    "\n",
    "    root.right.left= Node(6)\n",
    "    root.right.right = Node(7)\n",
    "\n",
    "    root.left.left.left = Node(8)\n",
    "    root.left.left.right = Node(9)\n",
    "\n",
    "    root.left.right.left = Node(10)\n",
    "    root.left.right.right = Node(11)\n",
    "    preorder(root)\n"
   ]
  },
  {
   "cell_type": "markdown",
   "metadata": {},
   "source": [
    "Time-O(n)\n",
    "Space-O(H), H is the height of the tree"
   ]
  },
  {
   "cell_type": "markdown",
   "metadata": {},
   "source": [
    "# Iterative Postorder Traversal"
   ]
  },
  {
   "cell_type": "markdown",
   "metadata": {},
   "source": [
    "Iterative postorder traversal is more complex than the other two traversals (due to its nature of non-tail recursion, there is an extra statement after the final recursive call to itself). Postorder traversal can easily be done using two stacks, though. The idea is to push reverse postorder traversal to a stack. Once we have the reversed postorder traversal in a stack, we can just pop all items one by one from the stack and print them; this order of printing will be in postorder because of the LIFO property of stacks. Now the question is, how to get reversed postorder elements in a stack – the second stack is used for this purpose. For example, in the following tree, we need to get 1, 3, 7, 6, 2, 5, 4 in a stack. If take a closer look at this sequence, we can observe that this sequence is very similar to the preorder traversal. The only difference is that the right child is visited before left child, and therefore the sequence is “root right left” instead of “root left right”."
   ]
  },
  {
   "cell_type": "code",
   "execution_count": 12,
   "metadata": {},
   "outputs": [
    {
     "name": "stdout",
     "output_type": "stream",
     "text": [
      "4 5 2 6 7 3 1 "
     ]
    }
   ],
   "source": [
    "class Node:\n",
    "    def __init__(self,data):\n",
    "        self.data=data\n",
    "        self.left=None\n",
    "        self.right=None\n",
    "\n",
    "def postorder(root):\n",
    "    if root is None:\n",
    "        return\n",
    "    stack1=[]\n",
    "    stack2=[]\n",
    "    curr=root\n",
    "    stack1.append(root)\n",
    "    while stack1:\n",
    "        temp=stack1.pop()\n",
    "        stack2.append(temp)\n",
    "        if temp.left:\n",
    "            stack1.append(temp.left)\n",
    "        if temp.right:\n",
    "            stack1.append(temp.right)\n",
    "    while stack2:\n",
    "        temp=stack2.pop()\n",
    "        print(temp.data,end=\" \")\n",
    "        \n",
    "            \n",
    "\n",
    "if __name__==\"__main__\":\n",
    "    root=Node(1)\n",
    "    root.left=Node(2)\n",
    "    root.right=Node(3)\n",
    "    root.left.left=Node(4)\n",
    "    root.left.right=Node(5)\n",
    "    root.right.left=Node(6)\n",
    "    root.right.right=Node(7)\n",
    "    postorder(root)"
   ]
  },
  {
   "cell_type": "markdown",
   "metadata": {},
   "source": [
    "# Iterative PostOrder using 1 stack"
   ]
  },
  {
   "cell_type": "code",
   "execution_count": 2,
   "metadata": {},
   "outputs": [
    {
     "name": "stdout",
     "output_type": "stream",
     "text": [
      "4 5 2 6 7 3 1 "
     ]
    }
   ],
   "source": [
    "class Node:\n",
    "    def __init__(self,data):\n",
    "        self.data=data\n",
    "        self.left=None\n",
    "        self.right=None\n",
    "\n",
    "def postorder(root):\n",
    "    if root is None:\n",
    "        return\n",
    "    stack=[]\n",
    "    while True:\n",
    "        while root:\n",
    "            stack.append(root)\n",
    "            stack.append(root)\n",
    "            root=root.left\n",
    "\n",
    "        if len(stack)<=0:\n",
    "            return\n",
    "        root=stack.pop()\n",
    "        if stack and stack[-1]==root:\n",
    "            root=root.right\n",
    "        else:\n",
    "            print(root.data,end=\" \")\n",
    "            root=None\n",
    "if __name__ == '__main__':\n",
    "    root=Node(1)\n",
    "    root.left=Node(2)\n",
    "    root.right=Node(3)\n",
    "    root.left.left=Node(4)\n",
    "    root.left.right=Node(5)\n",
    "    root.right.left=Node(6)\n",
    "    root.right.right=Node(7)\n",
    "    postorder(root)\n"
   ]
  },
  {
   "cell_type": "markdown",
   "metadata": {},
   "source": [
    "# Iterative postorder without stack and without recursion"
   ]
  },
  {
   "cell_type": "code",
   "execution_count": 4,
   "metadata": {},
   "outputs": [
    {
     "name": "stdout",
     "output_type": "stream",
     "text": [
      "4 5 2 6 7 3 1 "
     ]
    }
   ],
   "source": [
    "class Node:\n",
    "    def __init__(self,data):\n",
    "        self.data=data\n",
    "        self.left=None\n",
    "        self.right=None\n",
    "\n",
    "def postorder(root):\n",
    "    if root is None:\n",
    "        return\n",
    "    temp=root\n",
    "    visited=set()\n",
    "    while temp and temp not in visited:\n",
    "        if temp.left and temp.left not in visited:\n",
    "            temp=temp.left\n",
    "        elif temp.right and temp.right not in visited:\n",
    "            temp=temp.right\n",
    "        else:\n",
    "            print(temp.data,end=\" \")\n",
    "            visited.add(temp)\n",
    "            temp=root\n",
    "if __name__ == '__main__':\n",
    "    root=Node(1)\n",
    "    root.left=Node(2)\n",
    "    root.right=Node(3)\n",
    "    root.left.left=Node(4)\n",
    "    root.left.right=Node(5)\n",
    "    root.right.left=Node(6)\n",
    "    root.right.right=Node(7)\n",
    "    postorder(root)\n"
   ]
  },
  {
   "cell_type": "markdown",
   "metadata": {},
   "source": [
    "Time Complexity->O(n^2) O(n) solution to do"
   ]
  },
  {
   "cell_type": "markdown",
   "metadata": {},
   "source": [
    "# Diagonal Traversal of Binary Tree"
   ]
  },
  {
   "cell_type": "code",
   "execution_count": 12,
   "metadata": {},
   "outputs": [
    {
     "name": "stdout",
     "output_type": "stream",
     "text": [
      "8 10 14\n",
      "3 6 7 13\n",
      "1 4\n"
     ]
    }
   ],
   "source": [
    "class Node:\n",
    "    def __init__(self,data):\n",
    "        self.data=data\n",
    "        self.left=None\n",
    "        self.right=None\n",
    "        \n",
    "def getDiagonal(root):\n",
    "    diagonalMap={}\n",
    "    getDiagonalUtil(root,0,diagonalMap)\n",
    "#     print(diagonalMap)\n",
    "    for i in diagonalMap:\n",
    "        print(\" \".join(map(str,diagonalMap[i])))\n",
    "\n",
    "def getDiagonalUtil(root,level,diagonalMap):\n",
    "    if root is None:\n",
    "        return\n",
    "    try:\n",
    "        diagonalMap[level].append(root.data)\n",
    "    except KeyError:\n",
    "        diagonalMap[level]=[root.data]\n",
    "    getDiagonalUtil(root.left,level+1,diagonalMap)\n",
    "    getDiagonalUtil(root.right,level,diagonalMap)\n",
    "\n",
    "if __name__== \"__main__\":\n",
    "    root=Node(8)\n",
    "    root.right=Node(10)\n",
    "    root.left=Node(3)\n",
    "    root.left.left=Node(1)\n",
    "    root.right.left=Node(6)\n",
    "    root.right.right=Node(14)\n",
    "    root.right.left.left=Node(4)\n",
    "    root.right.left.right=Node(7)\n",
    "    root.right.right.left=Node(13)\n",
    "    getDiagonal(root)"
   ]
  },
  {
   "cell_type": "markdown",
   "metadata": {},
   "source": [
    "# Iterative Diagonal Traversal"
   ]
  },
  {
   "cell_type": "code",
   "execution_count": 16,
   "metadata": {},
   "outputs": [
    {
     "name": "stdout",
     "output_type": "stream",
     "text": [
      "8 10 14 \n",
      "3 6 7 13 \n",
      "1 4 \n"
     ]
    }
   ],
   "source": [
    "class Node:\n",
    "    def __init__(self,data):\n",
    "        self.data=data\n",
    "        self.left=None\n",
    "        self.right=None\n",
    "        \n",
    "def getDiagonal(root):\n",
    "    if root is None:\n",
    "        return\n",
    "    queue=[]\n",
    "    queue.append(root)\n",
    "    queue.append(None)\n",
    "    while queue:\n",
    "        temp=queue.pop(0)\n",
    "        if temp:\n",
    "            while temp:\n",
    "                print(temp.data,end=\" \")\n",
    "                if temp.left:\n",
    "                    queue.append(temp.left)\n",
    "                temp=temp.right\n",
    "        else:\n",
    "            if queue:\n",
    "                queue.append(None)\n",
    "            print()\n",
    "if __name__== \"__main__\":\n",
    "    root=Node(8)\n",
    "    root.right=Node(10)\n",
    "    root.left=Node(3)\n",
    "    root.left.left=Node(1)\n",
    "    root.right.left=Node(6)\n",
    "    root.right.right=Node(14)\n",
    "    root.right.left.left=Node(4)\n",
    "    root.right.left.right=Node(7)\n",
    "    root.right.right.left=Node(13)\n",
    "    getDiagonal(root)"
   ]
  },
  {
   "cell_type": "code",
   "execution_count": 1,
   "metadata": {},
   "outputs": [],
   "source": [
    "# Boundary Traversal of binary tree"
   ]
  },
  {
   "cell_type": "code",
   "execution_count": 8,
   "metadata": {},
   "outputs": [
    {
     "name": "stdout",
     "output_type": "stream",
     "text": [
      "20 8 4 10 14 25 22 "
     ]
    }
   ],
   "source": [
    "class Node:\n",
    "    def __init__(self,data):\n",
    "        self.data=data\n",
    "        self.left=None\n",
    "        self.right=None\n",
    "\n",
    "def printLeftBoundary(root):\n",
    "    if root is None:\n",
    "        return\n",
    "    if root.left:\n",
    "        print(root.data,end=\" \")\n",
    "        printLeftBoundary(root.left)\n",
    "    elif root.right:\n",
    "        print(root.data,end=\" \")\n",
    "        printLeftBoundary(root.right)\n",
    "\n",
    "def printRightBoundary(root):\n",
    "    if root is None:\n",
    "        return\n",
    "    if root.right: \n",
    "        printRightBoundary(root.right)\n",
    "        print(root.data,end=\" \")\n",
    "    elif root.left:\n",
    "        printRightBoundary(root.left)\n",
    "        print(root.data,end=\" \")\n",
    "        \n",
    "def printLeaves(root):\n",
    "    if root is None:\n",
    "        return\n",
    "    printLeaves(root.left)\n",
    "    if root.left is None and root.right is None:\n",
    "        print(root.data,end=\" \")\n",
    "    printLeaves(root.right)\n",
    "        \n",
    "def boundaryTraversal(root):\n",
    "    if root is None:\n",
    "        return\n",
    "    if root.left is None and root.right is None:\n",
    "        print(root.data,end=\" \")\n",
    "        return\n",
    "    print(root.data,end=\" \")\n",
    "    \n",
    "    printLeftBoundary(root.left)\n",
    "    printLeaves(root)\n",
    "    printRightBoundary(root.right)\n",
    "\n",
    "if __name__==\"__main__\":\n",
    "    root=Node(20)\n",
    "    root.left = Node(8) \n",
    "    root.left.left = Node(4) \n",
    "    root.left.right = Node(12) \n",
    "    root.left.right.left = Node(10) \n",
    "    root.left.right.right = Node(14) \n",
    "    root.right = Node(22) \n",
    "    root.right.right = Node(25)\n",
    "    boundaryTraversal(root)"
   ]
  },
  {
   "cell_type": "code",
   "execution_count": 1,
   "metadata": {},
   "outputs": [],
   "source": [
    "# Density of Binary Tree in One Traversal"
   ]
  },
  {
   "cell_type": "code",
   "execution_count": 13,
   "metadata": {},
   "outputs": [
    {
     "name": "stdout",
     "output_type": "stream",
     "text": [
      "[3] [3]\n",
      "1.0\n"
     ]
    }
   ],
   "source": [
    "class Node:\n",
    "    def __init__(self,data):\n",
    "        self.data=data\n",
    "        self.left=None\n",
    "        self.right=None\n",
    "\n",
    "def heightAndSize(root,level,size,height):\n",
    "    if root is None:\n",
    "        return 0\n",
    "    heightAndSize(root.left,level+1,size,height)\n",
    "    size[0]+=1\n",
    "    height[0]=max(height[0],level)\n",
    "    heightAndSize(root.right,level+1,size,height)\n",
    "\n",
    "def density(root):\n",
    "    if root is None:\n",
    "        return 0\n",
    "    size=[0]\n",
    "    height=[1]\n",
    "    heightAndSize(root,1,size,height)\n",
    "    print(size,height)\n",
    "    density=size[0]/height[0]\n",
    "    return density\n",
    "\n",
    "if __name__ == \"__main__\":\n",
    "    root=Node(10)\n",
    "    root.left=Node(20)\n",
    "    root.left.left=Node(30)\n",
    "    print(density(root))"
   ]
  },
  {
   "cell_type": "code",
   "execution_count": 14,
   "metadata": {},
   "outputs": [],
   "source": [
    "# Calculate depth of a full Binary tree from Preorder"
   ]
  },
  {
   "cell_type": "code",
   "execution_count": 17,
   "metadata": {},
   "outputs": [
    {
     "name": "stdout",
     "output_type": "stream",
     "text": [
      "2\n"
     ]
    }
   ],
   "source": [
    "def getDepthUtil(tree,n,index):\n",
    "    if index[0]>=n or tree[index[0]]=='l':\n",
    "        return 0\n",
    "    index[0]+=1\n",
    "    left=getDepthUtil(tree,n,index)\n",
    "    \n",
    "    index[0]+=1\n",
    "    right=getDepthUtil(tree,n,index)\n",
    "    return (max(left,right)+1)\n",
    "\n",
    "def getDepth(tree,n):\n",
    "    index=[0]\n",
    "    return getDepthUtil(tree,n,index)\n",
    "\n",
    "\n",
    "if __name__==\"__main__\":\n",
    "#     tree=\"nlnnlll\"\n",
    "    tree=\"nlnll\"\n",
    "    n=len(tree)\n",
    "    print(getDepth(tree,n))"
   ]
  },
  {
   "cell_type": "code",
   "execution_count": 18,
   "metadata": {},
   "outputs": [],
   "source": [
    "# Number of Binary Trees for given Preorder Sequence length"
   ]
  },
  {
   "cell_type": "markdown",
   "metadata": {},
   "source": [
    "Catalan Numbers"
   ]
  },
  {
   "cell_type": "code",
   "execution_count": 19,
   "metadata": {},
   "outputs": [],
   "source": [
    "# Modify a binary tree to get preorder traversal using right pointers only"
   ]
  },
  {
   "cell_type": "code",
   "execution_count": 20,
   "metadata": {},
   "outputs": [
    {
     "name": "stdout",
     "output_type": "stream",
     "text": [
      "10 8 3 5 2 "
     ]
    }
   ],
   "source": [
    "class Node:\n",
    "    def __init__(self,data):\n",
    "        self.data=data\n",
    "        self.left=None\n",
    "        self.right=None\n",
    "\n",
    "def Modify(root):\n",
    "    if root is None:\n",
    "        return\n",
    "    curr=root\n",
    "    while curr:\n",
    "        if curr.left is None:\n",
    "            curr=curr.right\n",
    "        else:\n",
    "            pre=curr.left\n",
    "            while pre.right is not None:\n",
    "                pre=pre.right\n",
    "\n",
    "            pre.right=curr.right\n",
    "\n",
    "            curr.right=curr.left\n",
    "            curr=curr.right\n",
    "\n",
    "def preOrder(root):\n",
    "    if root is None:\n",
    "        return\n",
    "    print(root.data,end=\" \")\n",
    "    preOrder(root.right)\n",
    "\n",
    "if __name__ == '__main__':\n",
    "    root=Node(10)\n",
    "    root.left=Node(8)\n",
    "    root.right=Node(2)\n",
    "    root.left.left=Node(3)\n",
    "    root.left.right=Node(5)\n",
    "    Modify(root)\n",
    "    preOrder(root)\n"
   ]
  },
  {
   "cell_type": "markdown",
   "metadata": {},
   "source": [
    "<h1><center>Construction and Conversion</center></h1>"
   ]
  },
  {
   "cell_type": "code",
   "execution_count": 21,
   "metadata": {},
   "outputs": [],
   "source": [
    "# Construct Tree from given Inorder and Preorder traversals"
   ]
  },
  {
   "cell_type": "code",
   "execution_count": 28,
   "metadata": {},
   "outputs": [
    {
     "name": "stdout",
     "output_type": "stream",
     "text": [
      "D B E A F C "
     ]
    }
   ],
   "source": [
    "class Node:\n",
    "    def __init__(self,data):\n",
    "        self.data=data\n",
    "        self.left=None\n",
    "        self.right=None\n",
    "\n",
    "def createTree(inorder,preorder,size):\n",
    "#     if size<=0:\n",
    "#         return None\n",
    "    if preorder[0] in inorder:\n",
    "        ind=inorder.index(preorder[0])\n",
    "        root=Node(preorder[0])\n",
    "    if ind!=0:\n",
    "        root.left=createTree(inorder[:ind],preorder[1:ind+1],len(inorder[:ind]))\n",
    "    if ind!=size-1:\n",
    "        root.right=createTree(inorder[ind+1:],preorder[ind+1:],len(inorder[ind+1:]))\n",
    "    return root\n",
    "\n",
    "def inorderTraverse(root):\n",
    "    if root is None:\n",
    "        return \n",
    "    inorderTraverse(root.left)\n",
    "    print(root.data,end=\" \")\n",
    "    inorderTraverse(root.right)\n",
    "    \n",
    "if __name__==\"__main__\":\n",
    "    inorder=['D', 'B', 'E', 'A', 'F', 'C' ]\n",
    "    preorder=['A', 'B', 'D', 'E', 'C', 'F']\n",
    "    root=createTree(inorder,preorder,len(inorder))\n",
    "    inorderTraverse(root)"
   ]
  },
  {
   "cell_type": "markdown",
   "metadata": {},
   "source": [
    "Time complexity - O(n^2)"
   ]
  },
  {
   "cell_type": "code",
   "execution_count": 29,
   "metadata": {},
   "outputs": [
    {
     "name": "stdout",
     "output_type": "stream",
     "text": [
      "D B E A F C "
     ]
    }
   ],
   "source": [
    "class Node:\n",
    "    def __init__(self,data):\n",
    "        self.data=data\n",
    "        self.left=None\n",
    "        self.right=None\n",
    "\n",
    "def getPreIndex():\n",
    "    return createTree.preIndex\n",
    "\n",
    "def incrementPreIndex():\n",
    "    createTree.preIndex+=1\n",
    "\n",
    "def createTreeUtil(inorder,preorder,map,low,high,size):\n",
    "    if getPreIndex()>=size or low>high:\n",
    "        return None\n",
    "    root=Node(preorder[getPreIndex()])\n",
    "    incrementPreIndex()\n",
    "    if low==high:\n",
    "        return root\n",
    "\n",
    "    if getPreIndex()<size:\n",
    "        ind=map[root.data]\n",
    "        root.left=createTreeUtil(inorder,preorder,map,low,ind-1,size)\n",
    "        root.right=createTreeUtil(inorder,preorder,map,ind+1,high,size)\n",
    "    return root\n",
    "\n",
    "def createTree(inorder,preorder):\n",
    "    createTree.preIndex=0\n",
    "    map={}\n",
    "    for i in range(len(inorder)):\n",
    "        map[inorder[i]]=i\n",
    "    low=0\n",
    "    high=len(inorder)-1\n",
    "    root=createTreeUtil(inorder,preorder,map,low,high,high+1)\n",
    "    return root\n",
    "\n",
    "def inorderTraverse(root):\n",
    "    if root is None:\n",
    "        return\n",
    "    inorderTraverse(root.left)\n",
    "    print(root.data,end=\" \")\n",
    "    inorderTraverse(root.right)\n",
    "\n",
    "if __name__ == '__main__':\n",
    "    inorder=['D', 'B', 'E', 'A', 'F', 'C']\n",
    "    preorder=['A', 'B', 'D', 'E', 'C', 'F']\n",
    "    root=createTree(inorder,preorder)\n",
    "    inorderTraverse(root)\n"
   ]
  },
  {
   "cell_type": "markdown",
   "metadata": {},
   "source": [
    "Time Complexity - O(n). Used hashing to store the indexes of the nodes in inorder sequence"
   ]
  },
  {
   "cell_type": "markdown",
   "metadata": {},
   "source": [
    "Stack set approach later"
   ]
  },
  {
   "cell_type": "code",
   "execution_count": 31,
   "metadata": {},
   "outputs": [],
   "source": [
    "# Construct a tree from Inorder and Level order traversals"
   ]
  },
  {
   "cell_type": "markdown",
   "metadata": {},
   "source": [
    "to do"
   ]
  },
  {
   "cell_type": "code",
   "execution_count": 1,
   "metadata": {},
   "outputs": [],
   "source": [
    "# Construct Complete Binary Tree from its Linked List Representation"
   ]
  },
  {
   "cell_type": "markdown",
   "metadata": {},
   "source": [
    "We are given a LOT in linked list form. We ca traverse the linked list and do a LOT at the same time and keep assigining the left and right subtrees"
   ]
  },
  {
   "cell_type": "code",
   "execution_count": 2,
   "metadata": {},
   "outputs": [
    {
     "name": "stdout",
     "output_type": "stream",
     "text": [
      "25 12 30 10 36 15 "
     ]
    }
   ],
   "source": [
    "class Node:\n",
    "    def __init__(self,data):\n",
    "        self.data=data\n",
    "        self.left=None\n",
    "        self.right=None\n",
    "\n",
    "\n",
    "def createTree(llist):\n",
    "    if llist.head is None:\n",
    "        return None\n",
    "    root=Node(llist.head.data)\n",
    "    temp=llist.head\n",
    "    temp=temp.next\n",
    "    queue=[]\n",
    "    queue.append(root)\n",
    "    while temp:\n",
    "        parent=queue.pop(0)\n",
    "        parent.left=Node(temp.data)\n",
    "        temp=temp.next\n",
    "        queue.append(parent.left)\n",
    "        if temp:\n",
    "            parent.right=Node(temp.data)\n",
    "            temp=temp.next\n",
    "            queue.append(parent.right)\n",
    "    return root\n",
    "\n",
    "class Lnode:\n",
    "    def __init__(self,data):\n",
    "        self.data=data\n",
    "        self.next=None\n",
    "\n",
    "class LinkedList:\n",
    "    def __init__(self):\n",
    "        self.head=None\n",
    "\n",
    "    def insert(self,key):\n",
    "        temp=Lnode(key)\n",
    "        if self.head is None:\n",
    "            self.head=temp\n",
    "            return\n",
    "        temp.next=self.head\n",
    "        self.head = temp\n",
    "\n",
    "    def traverse(self):\n",
    "        if self.head is None:\n",
    "            return\n",
    "        temp=self.head\n",
    "        while temp:\n",
    "            print(temp.data,end=\" \")\n",
    "            temp=temp.next\n",
    "        print()\n",
    "\n",
    "def inorder(root):\n",
    "    if root is None:\n",
    "        return\n",
    "    inorder(root.left)\n",
    "    print(root.data,end=\" \")\n",
    "    inorder(root.right)\n",
    "\n",
    "if __name__ == '__main__':\n",
    "    llist=LinkedList()\n",
    "    llist.insert(36)\n",
    "    llist.insert(30)\n",
    "    llist.insert(25)\n",
    "    llist.insert(15)\n",
    "    llist.insert(12)\n",
    "    llist.insert(10)\n",
    "    # llist.traverse()\n",
    "    root=createTree(llist)\n",
    "    inorder(root)\n"
   ]
  },
  {
   "cell_type": "code",
   "execution_count": 3,
   "metadata": {},
   "outputs": [],
   "source": [
    "# Construct a complete binary tree from given array in level order fashion"
   ]
  },
  {
   "cell_type": "markdown",
   "metadata": {},
   "source": [
    "Similar approach as above"
   ]
  },
  {
   "cell_type": "code",
   "execution_count": 4,
   "metadata": {},
   "outputs": [
    {
     "name": "stdout",
     "output_type": "stream",
     "text": [
      "6 4 6 2 6 5 1 6 3 6 "
     ]
    }
   ],
   "source": [
    "class Node:\n",
    "    def __init__(self,data):\n",
    "        self.data=data\n",
    "        self.left=None\n",
    "        self.right=None\n",
    "\n",
    "def convert(arr):\n",
    "    if len(arr)==0:\n",
    "        return None\n",
    "    i=0\n",
    "    root=Node(arr[i])\n",
    "    i+=1\n",
    "    queue=[]\n",
    "    queue.append(root)\n",
    "    while i<len(arr):\n",
    "        parent=queue.pop(0)\n",
    "        parent.left=Node(arr[i])\n",
    "        i+=1\n",
    "        queue.append(parent.left)\n",
    "        if i<len(arr):\n",
    "            parent.right=Node(arr[i])\n",
    "            i+=1\n",
    "            queue.append(parent.right)\n",
    "\n",
    "    return root\n",
    "\n",
    "def inorder(root):\n",
    "    if root is None:\n",
    "        return\n",
    "    inorder(root.left)\n",
    "    print(root.data,end=\" \")\n",
    "    inorder(root.right)\n",
    "\n",
    "if __name__ == '__main__':\n",
    "    arr=[1, 2, 3, 4, 5, 6, 6, 6, 6, 6]\n",
    "    root=convert(arr)\n",
    "    inorder(root)\n"
   ]
  },
  {
   "cell_type": "markdown",
   "metadata": {},
   "source": [
    "Another approach-> We know the array representation of the binary tree. If the parent is at index i, then the left child will be at index 2*i+1 and right child will be at 2*i+2"
   ]
  },
  {
   "cell_type": "code",
   "execution_count": 5,
   "metadata": {},
   "outputs": [
    {
     "name": "stdout",
     "output_type": "stream",
     "text": [
      "4 2 5 1 6 3 "
     ]
    }
   ],
   "source": [
    "class Node:\n",
    "    def __init__(self,data):\n",
    "        self.data=data\n",
    "        self.left=None\n",
    "        self.right=None\n",
    "\n",
    "def createTreeUtil(arr,root,i):\n",
    "    if i<len(arr):\n",
    "        root=Node(arr[i])\n",
    "\n",
    "        root.left=createTreeUtil(arr,root.left,2*i+1)\n",
    "        root.right=createTreeUtil(arr,root.right,2*i+2)\n",
    "    return root\n",
    "\n",
    "def createTree(arr):\n",
    "    root=None\n",
    "    root=createTreeUtil(arr,root,0)\n",
    "    return root\n",
    "\n",
    "def inorder(root):\n",
    "    if root is None:\n",
    "        return\n",
    "    inorder(root.left)\n",
    "    print(root.data,end=\" \")\n",
    "    inorder(root.right)\n",
    "\n",
    "if __name__ == '__main__':\n",
    "    arr=[1, 2, 3, 4, 5, 6]\n",
    "    root=createTree(arr)\n",
    "    inorder(root)\n"
   ]
  },
  {
   "cell_type": "markdown",
   "metadata": {},
   "source": [
    "Time complexity- O(n) and space complexity- O(n) if function call stack taken into consideration"
   ]
  },
  {
   "cell_type": "code",
   "execution_count": 6,
   "metadata": {},
   "outputs": [],
   "source": [
    "# Construct Full Binary Tree from given preorder and postorder traversals"
   ]
  },
  {
   "cell_type": "markdown",
   "metadata": {},
   "source": [
    "It is not possible to construct a general Binary Tree from preorder and postorder traversals\n",
    "Consider two trees with inorder as BA and AB.The preorder (AB), postorder (BA) and levelorder (AB) for bothr the trees is same. If one of the traversal methods is Inorder then the tree can be constructed, otherwise not.\n",
    "Because they cannot uniquely identify both the trees. So, even if three of them (Pre, Post and Level) are given, the tree can not be constructed."
   ]
  },
  {
   "cell_type": "markdown",
   "metadata": {},
   "source": [
    "But if we know that the tree is full, we can construct the binary tree without any ambiguity.\n",
    "Let us consider the two given arrays as pre[] = {1, 2, 4, 8, 9, 5, 3, 6, 7} and post[] = {8, 9, 4, 5, 2, 6, 7, 3, 1}<br><br>\n",
    "In pre[], the leftmost element is root of tree. Since the tree is full and array size is more than 1. The value next to 1 in pre[], must be left child of root. So we know 1 is root and 2 is left child. How to find the all nodes in left subtree? We know 2 is root of all nodes in left subtree. All nodes before 2 in post[] must be in left subtree. Now we know 1 is root, elements {8, 9, 4, 5, 2} are in left subtree, and the elements {6, 7, 3} are in right subtree."
   ]
  },
  {
   "cell_type": "code",
   "execution_count": 7,
   "metadata": {},
   "outputs": [
    {
     "name": "stdout",
     "output_type": "stream",
     "text": [
      "8 4 9 2 5 1 6 3 7 "
     ]
    }
   ],
   "source": [
    "class Node:\n",
    "    def __init__(self,data):\n",
    "        self.data=data\n",
    "        self.left=None\n",
    "        self.right=None\n",
    "\n",
    "def getPreIndex():\n",
    "    return createTree.preIndex\n",
    "\n",
    "def incrementPreIndex():\n",
    "    createTree.preIndex+=1\n",
    "\n",
    "def createTreeUtil(preorder,postorder,map,low,high,size):\n",
    "    if getPreIndex()>=size or low>high:\n",
    "        return\n",
    "    root=Node(preorder[getPreIndex()])\n",
    "    incrementPreIndex()\n",
    "\n",
    "    if low==high:\n",
    "        return root\n",
    "    i=map[preorder[getPreIndex()]]\n",
    "    root.left=createTreeUtil(preorder,postorder,map,low,i,size)\n",
    "    root.right=createTreeUtil(preorder,postorder,map,i+1,high-1,size)\n",
    "    return root\n",
    "\n",
    "def createTree(preorder,postorder):\n",
    "    map={}\n",
    "    for i in range(len(postorder)):\n",
    "        map[postorder[i]]=i\n",
    "    createTree.preIndex=0\n",
    "    root=createTreeUtil(preorder,postorder,map,0,len(preorder)-1,len(preorder))\n",
    "    return root\n",
    "\n",
    "def inorder(root):\n",
    "    if root is None:\n",
    "        return\n",
    "    inorder(root.left)\n",
    "    print(root.data,end=\" \")\n",
    "    inorder(root.right)\n",
    "\n",
    "if __name__ == '__main__':\n",
    "    preorder=[1, 2, 4, 8, 9, 5, 3, 6, 7]\n",
    "    postorder=[8, 9, 4, 5, 2, 6, 7, 3, 1]\n",
    "    root=createTree(preorder,postorder)\n",
    "    inorder(root)\n"
   ]
  },
  {
   "cell_type": "markdown",
   "metadata": {},
   "source": [
    "Time complexity - O(n)"
   ]
  },
  {
   "cell_type": "code",
   "execution_count": 8,
   "metadata": {},
   "outputs": [],
   "source": [
    "# Construct Full Binary Tree using its Preorder traversal and Preorder traversal of its mirror tree"
   ]
  },
  {
   "cell_type": "markdown",
   "metadata": {},
   "source": [
    "Let us consider the two given arrays as preOrder[] = {1, 2, 4, 5, 3, 6, 7} and preOrderMirror[] = {1 ,3 ,7 ,6 ,2 ,5 ,4}.<br>\n",
    "In both preOrder[] and preOrderMirror[], the leftmost element is root of tree. Since the tree is full and array size is more than 1. The value next to 1 in preOrder[], must be left child of root and value next to 1 in preOrderMirror[] must be right child of root. So we know 1 is root and 2 is left child and 3 is the right child. How to find the all nodes in left subtree? We know 2 is root of all nodes in left subtree and 3 is root of all nodes in right subtree. All nodes from and 2 in preOrderMirror[] must be in left subtree of root node 1 and all node after 3 and before 2 in preOrderMirror[] must be in right subtree of root node 1. Now we know 1 is root, elements {2, 5, 4} are in left subtree, and the elements {3, 7, 6} are in the right subtree."
   ]
  },
  {
   "cell_type": "code",
   "execution_count": 9,
   "metadata": {},
   "outputs": [
    {
     "name": "stdout",
     "output_type": "stream",
     "text": [
      "4 2 5 1 6 3 7 "
     ]
    }
   ],
   "source": [
    "class Node:\n",
    "    def __init__(self,data):\n",
    "        self.data=data\n",
    "        self.left=None\n",
    "        self.right=None\n",
    "\n",
    "def getPreIndex():\n",
    "    return createTree.preIndex\n",
    "\n",
    "def incrementPreIndex():\n",
    "    createTree.preIndex+=1\n",
    "\n",
    "def createTreeUtil(pre,preM,map,low,high,size):\n",
    "    if getPreIndex()>=size or low>high:\n",
    "        return None\n",
    "    root=Node(pre[getPreIndex()])\n",
    "    incrementPreIndex()\n",
    "\n",
    "    if low==high:\n",
    "        return root\n",
    "    i=map[pre[getPreIndex()]]\n",
    "    root.left=createTreeUtil(pre,preM,map, i, high,size)\n",
    "    root.right=createTreeUtil(pre,preM,map, low+1, i-1,size)\n",
    "    return root\n",
    "\n",
    "def createTree(pre,preM):\n",
    "    map={}\n",
    "    for i in range(len(preM)):\n",
    "        map[preM[i]]=i\n",
    "    createTree.preIndex=0\n",
    "    root=createTreeUtil(pre,preM,map,0,len(pre)-1,len(pre))\n",
    "    return root\n",
    "\n",
    "def inorder(root):\n",
    "    if root is None:\n",
    "        return\n",
    "\n",
    "    inorder(root.left)\n",
    "    print(root.data,end=\" \")\n",
    "    inorder(root.right)\n",
    "\n",
    "if __name__ == '__main__':\n",
    "    pre=[1,2,4,5,3,6,7]\n",
    "    preM=[1,3,7,6,2,5,4]\n",
    "    root=createTree(pre,preM)\n",
    "    inorder(root)\n"
   ]
  },
  {
   "cell_type": "markdown",
   "metadata": {},
   "source": [
    "Another approach-> preorder mirror reversed is the postorder traversal. We can create a full binary tree from the preorder and postorder traversal as discussed before"
   ]
  },
  {
   "cell_type": "markdown",
   "metadata": {},
   "source": [
    "Time complexity- O(n)"
   ]
  },
  {
   "cell_type": "code",
   "execution_count": 10,
   "metadata": {},
   "outputs": [],
   "source": [
    "# Construct a special tree from given preorder traversal"
   ]
  },
  {
   "cell_type": "markdown",
   "metadata": {},
   "source": [
    "Given an array ‘pre[]’ that represents Preorder traversal of a spacial binary tree where every node has either 0 or 2 children. One more array ‘preLN[]’ is given which has only two possible values ‘L’ and ‘N’. The value ‘L’ in ‘preLN[]’ indicates that the corresponding node in Binary Tree is a leaf node and value ‘N’ indicates that the corresponding node is non-leaf node. Write a function to construct the tree from the given two arrays."
   ]
  },
  {
   "cell_type": "code",
   "execution_count": 11,
   "metadata": {},
   "outputs": [
    {
     "name": "stdout",
     "output_type": "stream",
     "text": [
      "20 30 5 10 15 "
     ]
    }
   ],
   "source": [
    "class Node:\n",
    "    def __init__(self,data):\n",
    "        self.data=data\n",
    "        self.left=None\n",
    "        self.right=None\n",
    "\n",
    "\n",
    "def createTree(arr,pre,index,n):\n",
    "    if index[0]>=n:\n",
    "        return\n",
    "    root=Node(pre[index[0]])\n",
    "    if arr[index[0]]=='L':\n",
    "        return root\n",
    "    index[0]+=1\n",
    "    root.left=createTree(arr,pre,index,n)\n",
    "    index[0]+=1\n",
    "    root.right=createTree(arr,pre,index,n)\n",
    "    return root\n",
    "\n",
    "def inorder(root):\n",
    "    if root is None:\n",
    "        return\n",
    "    inorder(root.left)\n",
    "    print(root.data,end=\" \")\n",
    "    inorder(root.right)\n",
    "\n",
    "if __name__ == '__main__':\n",
    "    arr=['N', 'N', 'L', 'L', 'L']\n",
    "    pre=[10, 30, 20, 5, 15]\n",
    "    root=createTree(arr,pre,[0],len(arr))\n",
    "    inorder(root)\n"
   ]
  },
  {
   "cell_type": "code",
   "execution_count": 12,
   "metadata": {},
   "outputs": [],
   "source": [
    "# Construct tree from ancestor matrix"
   ]
  },
  {
   "cell_type": "code",
   "execution_count": 13,
   "metadata": {},
   "outputs": [
    {
     "name": "stdout",
     "output_type": "stream",
     "text": [
      "0 1 4 5 3 2 "
     ]
    }
   ],
   "source": [
    "class Node:\n",
    "    def __init__(self,data):\n",
    "        self.data=data\n",
    "        self.left=None\n",
    "        self.right=None\n",
    "\n",
    "def createTree(ancestor,n):\n",
    "    parentFound=[False]*n\n",
    "    map={}\n",
    "    root = None\n",
    "    for i in range(len(ancestor)):\n",
    "        if i in map:\n",
    "            parent=map[i]\n",
    "        else:\n",
    "            parent=Node(i)\n",
    "            map[i]=parent\n",
    "        for j in range(len(ancestor)):\n",
    "            if ancestor[i][j]==1:\n",
    "                if parentFound[j]==False:\n",
    "                    if j in map:\n",
    "                        child=map[j]\n",
    "                    else:\n",
    "                        child=Node(j)\n",
    "                        map[j]=child\n",
    "                    if parent.left is None:\n",
    "                        parent.left=child\n",
    "                    else:\n",
    "                        parent.right=child\n",
    "                parentFound[j]=True\n",
    "    ind=parentFound.index(False)\n",
    "    return map[ind]\n",
    "\n",
    "def inorder(root):\n",
    "    if root is None:\n",
    "        return\n",
    "    inorder(root.left)\n",
    "    print(root.data,end=\" \")\n",
    "    inorder(root.right)\n",
    "\n",
    "if __name__ == '__main__':\n",
    "    ancestor=[[0, 0, 0, 0, 0, 0],\n",
    "              [1, 0, 0, 0, 1, 0],\n",
    "              [0, 0, 0, 1, 0, 0],\n",
    "              [0, 0, 0, 0, 0, 0],\n",
    "              [0, 0, 0, 0, 0, 0],\n",
    "              [1, 1, 1, 1, 1, 0]]\n",
    "    root=createTree(ancestor,len(ancestor))\n",
    "    inorder(root)\n"
   ]
  },
  {
   "cell_type": "code",
   "execution_count": 14,
   "metadata": {},
   "outputs": [],
   "source": [
    "# Construct Ancestor Matrix from a Given Binary Tree"
   ]
  },
  {
   "cell_type": "code",
   "execution_count": 16,
   "metadata": {},
   "outputs": [
    {
     "name": "stdout",
     "output_type": "stream",
     "text": [
      "[0, 0, 0, 0, 0, 0]\n",
      "[1, 0, 0, 0, 1, 0]\n",
      "[0, 0, 0, 1, 0, 0]\n",
      "[0, 0, 0, 0, 0, 0]\n",
      "[0, 0, 0, 0, 0, 0]\n",
      "[1, 1, 1, 1, 1, 0]\n"
     ]
    }
   ],
   "source": [
    "class Node:\n",
    "    def  __init__(self,data):\n",
    "        self.data=data\n",
    "        self.left=None\n",
    "        self.right=None\n",
    "\n",
    "def getSize(root,size):\n",
    "    if root is None:\n",
    "        return 0\n",
    "    getSize(root.left,size)\n",
    "    size[0]+=1\n",
    "    getSize(root.right,size)\n",
    "\n",
    "def getAncestorMatrixUtil(root,ancestor,n,arr):\n",
    "    if root is None:\n",
    "        return\n",
    "    arr.append(root)\n",
    "    getAncestorMatrixUtil(root.left,ancestor,n,arr)\n",
    "    getAncestorMatrixUtil(root.right,ancestor,n,arr)\n",
    "    arr.pop()\n",
    "    for i in arr:\n",
    "        ancestor[i.data][root.data]=1\n",
    "\n",
    "\n",
    "\n",
    "\n",
    "def getAncestorMatrix(root):\n",
    "    n=[0]\n",
    "    getSize(root,n)\n",
    "    ancestor=[[0 for j in range(n[0])]for i in range(n[0])]\n",
    "    arr=[]\n",
    "    getAncestorMatrixUtil(root,ancestor,n[0],arr)\n",
    "    for i in ancestor:\n",
    "        print(i)\n",
    "if __name__ == '__main__':\n",
    "    root=Node(5)\n",
    "    root.left=Node(1)\n",
    "    root.right=Node(2)\n",
    "    root.left.left=Node(0)\n",
    "    root.left.right=Node(4)\n",
    "    root.right.left=Node(3)\n",
    "    getAncestorMatrix(root)\n"
   ]
  },
  {
   "cell_type": "code",
   "execution_count": 17,
   "metadata": {},
   "outputs": [],
   "source": [
    "# Construct Special Binary Tree from given Inorder traversal"
   ]
  },
  {
   "cell_type": "markdown",
   "metadata": {},
   "source": [
    "Given Inorder Traversal of a Special Binary Tree in which key of every node is greater than keys in left and right children, construct the Binary Tree and return root."
   ]
  },
  {
   "cell_type": "code",
   "execution_count": 18,
   "metadata": {},
   "outputs": [
    {
     "name": "stdout",
     "output_type": "stream",
     "text": [
      "40 10 5 30 28 "
     ]
    }
   ],
   "source": [
    "class Node:\n",
    "    def __init__(self,data):\n",
    "        self.data=data\n",
    "        self.left=None\n",
    "        self.right=None\n",
    "\n",
    "def getMax(inorder,low,high):\n",
    "    maxValue=float('-infinity')\n",
    "    index=0\n",
    "    for i in range(low,high+1):\n",
    "        if maxValue<inorder[i]:\n",
    "            maxValue=inorder[i]\n",
    "            index=i\n",
    "    return index\n",
    "\n",
    "def createTreeUtil(inorder,low,high):\n",
    "    if low>high:\n",
    "        return\n",
    "    i=getMax(inorder,low,high)\n",
    "\n",
    "    root=Node(inorder[i])\n",
    "    if low==high:\n",
    "        return root\n",
    "    root.left=createTreeUtil(inorder,low,i-1)\n",
    "    root.right=createTreeUtil(inorder,i+1,high)\n",
    "    return root\n",
    "\n",
    "def createTree(inorder):\n",
    "    root=createTreeUtil(inorder,0,len(inorder)-1)\n",
    "    return root\n",
    "\n",
    "def preorderTraverse(root):\n",
    "    if root is None:\n",
    "        return\n",
    "    print(root.data,end=\" \")\n",
    "    preorderTraverse(root.left)\n",
    "    preorderTraverse(root.right)\n",
    "\n",
    "if __name__ == '__main__':\n",
    "    inorder=[5, 10, 40, 30, 28]\n",
    "    root=createTree(inorder)\n",
    "    preorderTraverse(root)\n"
   ]
  },
  {
   "cell_type": "code",
   "execution_count": 19,
   "metadata": {},
   "outputs": [],
   "source": [
    "# Construct Binary Tree from given Parent Array representation"
   ]
  },
  {
   "cell_type": "markdown",
   "metadata": {},
   "source": [
    "Given an array that represents a tree in such a way that array indexes are values in tree nodes and array values give the parent node of that particular index (or node). The value of the root node index would always be -1 as there is no parent for root. Construct the standard linked representation of given Binary Tree from this given representation."
   ]
  },
  {
   "cell_type": "code",
   "execution_count": 20,
   "metadata": {},
   "outputs": [
    {
     "name": "stdout",
     "output_type": "stream",
     "text": [
      "0 1 5 6 3 2 4 "
     ]
    }
   ],
   "source": [
    "class Node:\n",
    "    def __init__(self,data):\n",
    "        self.data=data\n",
    "        self.left=None\n",
    "        self.right=None\n",
    "\n",
    "def createTree(arr):\n",
    "    if len(arr)==0:\n",
    "        return None\n",
    "    map={}\n",
    "    for i in range(len(arr)):\n",
    "        if i in map:\n",
    "            child=map[i]\n",
    "        else:\n",
    "            child=Node(i)\n",
    "            map[i]=child\n",
    "        if arr[i]!=-1:\n",
    "            if arr[i] in map:\n",
    "                parent=map[arr[i]]\n",
    "            else:\n",
    "                parent=Node(arr[i])\n",
    "                map[arr[i]]=parent\n",
    "            if parent.left is None:\n",
    "                parent.left=child\n",
    "            else:\n",
    "                parent.right=child\n",
    "        # else:\n",
    "        #     if i in map:\n",
    "        #         root=map[i]\n",
    "        #     else\n",
    "\n",
    "\n",
    "    ind=arr.index(-1)\n",
    "    return map[ind]\n",
    "\n",
    "def inorder(root):\n",
    "    if root is None:\n",
    "        return\n",
    "    inorder(root.left)\n",
    "    print(root.data,end=\" \")\n",
    "    inorder(root.right)\n",
    "\n",
    "if __name__ == '__main__':\n",
    "    arr=[1, 5, 5, 2, 2, -1, 3]\n",
    "    root=createTree(arr)\n",
    "    inorder(root)\n"
   ]
  },
  {
   "cell_type": "code",
   "execution_count": 21,
   "metadata": {},
   "outputs": [],
   "source": [
    "# Construct a Binary Tree from Postorder and Inorder"
   ]
  },
  {
   "cell_type": "markdown",
   "metadata": {},
   "source": [
    "Same approach as inorder and preorder"
   ]
  },
  {
   "cell_type": "code",
   "execution_count": 22,
   "metadata": {},
   "outputs": [],
   "source": [
    "# Create a Doubly Linked List from a Ternary Tree"
   ]
  },
  {
   "cell_type": "markdown",
   "metadata": {},
   "source": [
    "Given a ternary tree, create a doubly linked list out of it. A ternary tree is just like binary tree but instead of having two nodes, it has three nodes i.e. left, middle, right.\n",
    "<br><br>\n",
    "The doubly linked list should holds following properties –\n",
    "<br><br>\n",
    "Left pointer of ternary tree should act as prev pointer of doubly linked list.<br><br>\n",
    "Middle pointer of ternary tree should not point to anything.<br><br>\n",
    "Right pointer of ternary tree should act as next pointer of doubly linked list.<br><br>\n",
    "Each node of ternary tree is inserted into doubly linked list before its subtrees and for any node, its left child will be inserted first, followed by mid and right child (if any)."
   ]
  },
  {
   "cell_type": "code",
   "execution_count": 23,
   "metadata": {},
   "outputs": [
    {
     "name": "stdout",
     "output_type": "stream",
     "text": [
      "30 5 1 4 8 11 6 7 15 63 31 55 65 "
     ]
    }
   ],
   "source": [
    "class Node:\n",
    "    def __init__(self,data):\n",
    "        self.data=data\n",
    "        self.left=None\n",
    "        self.middle=None\n",
    "        self.right=None\n",
    "\n",
    "head=None\n",
    "tail=None\n",
    "\n",
    "def convertToDLL(root):\n",
    "    global head,tail\n",
    "    if root is None:\n",
    "        return\n",
    "    left=root.left\n",
    "    middle=root.middle\n",
    "    right=root.right\n",
    "    if head is None:\n",
    "        head=root\n",
    "        tail=root\n",
    "        head.left=None\n",
    "        head.right=None\n",
    "    else:\n",
    "        root.left=tail\n",
    "        tail.right=root\n",
    "        tail=root\n",
    "        tail.right=None\n",
    "\n",
    "    convertToDLL(left)\n",
    "    convertToDLL(middle)\n",
    "    convertToDLL(right)\n",
    "\n",
    "def traverse(head):\n",
    "    if head is None:\n",
    "        return\n",
    "    temp=head\n",
    "    while temp:\n",
    "        # if temp.left and temp.right:\n",
    "        #     print(temp.data,temp.left.data,temp.right.data)\n",
    "        # elif temp.left:\n",
    "        #     print(temp.data,temp.left.data,temp.right)\n",
    "        # else:\n",
    "        #     print(temp.data,temp.left,temp.right.data)\n",
    "        # print()\n",
    "        print(temp.data,end=\" \")\n",
    "        temp=temp.right\n",
    "\n",
    "if __name__ == '__main__':\n",
    "    root=Node(30)\n",
    "    root.left=Node(5)\n",
    "    root.middle=Node(11)\n",
    "    root.right=Node(63)\n",
    "\n",
    "    root.left.left=Node(1)\n",
    "    root.left.middle=Node(4)\n",
    "    root.left.right=Node(8)\n",
    "\n",
    "    root.middle.left=Node(6)\n",
    "    root.middle.middle=Node(7)\n",
    "    root.middle.right=Node(15)\n",
    "\n",
    "    root.right.left=Node(31)\n",
    "    root.right.middle=Node(55)\n",
    "    root.right.right=Node(65)\n",
    "\n",
    "    convertToDLL(root)\n",
    "    # traverse(head)\n",
    "    traverse(head)\n",
    "    # print()\n",
    "    # print(head.right.left.data)\n"
   ]
  },
  {
   "cell_type": "code",
   "execution_count": 1,
   "metadata": {},
   "outputs": [],
   "source": [
    "# Left-Child Right-Sibling Representation of Tree"
   ]
  },
  {
   "cell_type": "markdown",
   "metadata": {},
   "source": [
    "An n-ary tree in computer science is a collection of nodes normally represented hierarchically in the following fashion.\n",
    "<br><br>\n",
    "The tree starts at the root node.<br>\n",
    "Each node of the tree holds a list of references to its child nodes.<br>\n",
    "The number of children a node has is less than or equal to n.<br>\n",
    "A typical representation of n-ary tree uses an array of n references (or pointers) to store children (Note that n is an upper bound on number of children). Can we do better? the idea of Left-Child Right- Sibling representation is to store only two pointers in every node.\n",
    "<br><br>\n",
    "<strong>Left Child Right Sibling Representation</strong>\n",
    "<br><br>\n",
    "It is a different representation of an n-ary tree where instead of holding a reference to each and every child node, a node holds just two references, first a reference to it’s first child, and the other to it’s immediate next sibling. This new transformation not only removes the need of advance knowledge of the number of children a node has, but also limits the number of references to a maximum of two, thereby making it so much easier to code. One thing to note is that in the previous representation a link between two nodes denoted a parent-child relationship whereas in this representation a link between two nodes may denote a parent-child relationship or a sibling-sibling relationship.\n",
    "<br><br>\n",
    "<strong>Advantages :</strong><br>\n",
    "1. This representation saves up memory by limiting the maximum number of references required per node to two.<br>\n",
    "2. It is easier to code.<br>\n",
    "<br><br>\n",
    "<strong>Disadvantages :</strong><br>\n",
    "1. Basic operations like searching/insertion/deletion tend to take a longer time because in order to find the appropriate position we would have to traverse through all the siblings of the node to be searched/inserted/deleted (in the worst case)."
   ]
  },
  {
   "cell_type": "code",
   "execution_count": 2,
   "metadata": {},
   "outputs": [
    {
     "name": "stdout",
     "output_type": "stream",
     "text": [
      "J\n"
     ]
    }
   ],
   "source": [
    "class Node:\n",
    "    def __init__(self,data):\n",
    "        self.data=data\n",
    "        self.child=[None]*10\n",
    "\n",
    "def getKchild(root,node,k):\n",
    "    if root.data==node:\n",
    "        if root.child[k-1] is None:\n",
    "            print('Child Does not exists')\n",
    "        else:\n",
    "            print(root.child[k-1].data)\n",
    "    for i in range(10):\n",
    "        if root.child[i]:\n",
    "            getKchild(root.child[i],node,k)\n",
    "\n",
    "if __name__ == '__main__':\n",
    "    root=Node('A')\n",
    "    root.child[0]=Node('B')\n",
    "    root.child[1]=Node('C')\n",
    "    root.child[2]=Node('D')\n",
    "    root.child[3]=Node('E')\n",
    "    root.child[0].child[0] = Node('F')\n",
    "    root.child[0].child[1] = Node('G')\n",
    "    root.child[2].child[0] = Node('H')\n",
    "    root.child[0].child[0].child[0] = Node('I')\n",
    "    root.child[0].child[0].child[1] = Node('J')\n",
    "    root.child[0].child[0].child[2] = Node('K')\n",
    "    root.child[2].child[0].child[0] = Node('L')\n",
    "    root.child[2].child[0].child[1] = Node('M')\n",
    "    getKchild(root,'F',2)\n"
   ]
  },
  {
   "cell_type": "markdown",
   "metadata": {},
   "source": [
    "In the above tree, had there been a node which had say, 15 children, then this code would have given a Segmentation fault.(array index out of bound)"
   ]
  },
  {
   "cell_type": "markdown",
   "metadata": {},
   "source": [
    "Using left child right sibling relation"
   ]
  },
  {
   "cell_type": "code",
   "execution_count": 3,
   "metadata": {},
   "outputs": [
    {
     "name": "stdout",
     "output_type": "stream",
     "text": [
      "M\n"
     ]
    }
   ],
   "source": [
    "class Node:\n",
    "    def __init__(self,data):\n",
    "        self.data=data\n",
    "        self.left=None\n",
    "        self.next=None\n",
    "\n",
    "def getChild(root,node,k):\n",
    "    if root is None:\n",
    "        return\n",
    "    if root.data==node:\n",
    "        t=root.left\n",
    "        i=1\n",
    "        while t and i<k:\n",
    "            t=t.next\n",
    "            i+=1\n",
    "        if t is None:\n",
    "            print('Child does not exists')\n",
    "        else:\n",
    "            print(t.data)\n",
    "            return\n",
    "\n",
    "    getChild(root.left,node,k)\n",
    "    getChild(root.next,node,k)\n",
    "\n",
    "if __name__ == '__main__':\n",
    "    root=Node('A')\n",
    "    root.left=Node('B')\n",
    "    root.left.next=Node('C')\n",
    "    root.left.next.next=Node('D')\n",
    "    root.left.next.next.next=Node('E')\n",
    "    root.left.left=Node('F')\n",
    "    root.left.left.next=Node('G')\n",
    "    root.left.left.left=Node('I')\n",
    "    root.left.left.left.next=Node('J')\n",
    "    root.left.left.left.next.next=Node('K')\n",
    "    root.left.next.next.left=Node('H')\n",
    "    root.left.next.next.left.left=Node('L')\n",
    "    root.left.next.next.left.left.next=Node('M')\n",
    "    getChild(root,'H',2)\n"
   ]
  },
  {
   "cell_type": "code",
   "execution_count": 4,
   "metadata": {},
   "outputs": [],
   "source": [
    "# Creating a tree with Left-Child Right-Sibling Representation"
   ]
  },
  {
   "cell_type": "code",
   "execution_count": 5,
   "metadata": {},
   "outputs": [
    {
     "name": "stdout",
     "output_type": "stream",
     "text": [
      "10 2 3 4 6 5 7 8 9 "
     ]
    }
   ],
   "source": [
    "class Node:\n",
    "    def __init__(self,data):\n",
    "        self.data=data\n",
    "        self.left=None\n",
    "        self.next=None\n",
    "\n",
    "def addChild(root,data):\n",
    "    if root is None:\n",
    "        return None\n",
    "    if root.left is None:\n",
    "        root.left=Node(data)\n",
    "        return root.left\n",
    "    else:\n",
    "        return addSibling(root.left,data)\n",
    "\n",
    "def addSibling(root,data):\n",
    "    if root is None:\n",
    "        return\n",
    "    temp=root\n",
    "    while temp.next:\n",
    "        temp=temp.next\n",
    "    temp.next=Node(data)\n",
    "    return temp.next\n",
    "\n",
    "def traverse(root):\n",
    "    if root is None:\n",
    "        return\n",
    "    while root:\n",
    "        print(root.data,end=\" \")\n",
    "        if root.left:\n",
    "            traverse(root.left)\n",
    "        root=root.next\n",
    "\n",
    "\n",
    "if __name__ == '__main__':\n",
    "    root=Node(10)\n",
    "    n1 = addChild(root, 2)\n",
    "    n2 = addChild(root, 3)\n",
    "    n3 = addChild(root, 4)\n",
    "    n4 = addChild(n3, 6)\n",
    "    n5 = addChild(root, 5)\n",
    "    n6 = addChild(n5, 7)\n",
    "    n7 = addChild(n5, 8)\n",
    "    n8 = addChild(n5, 9)\n",
    "    traverse(root)\n"
   ]
  },
  {
   "cell_type": "markdown",
   "metadata": {},
   "source": [
    "The above approach follows DFS. Below is the Level order traversal"
   ]
  },
  {
   "cell_type": "code",
   "execution_count": 8,
   "metadata": {},
   "outputs": [
    {
     "name": "stdout",
     "output_type": "stream",
     "text": [
      "10 2 3 4 5 6 7 8 9 "
     ]
    }
   ],
   "source": [
    "class Node:\n",
    "    def __init__(self,data):\n",
    "        self.data=data\n",
    "        self.left=None\n",
    "        self.next=None\n",
    "\n",
    "def addChild(root,data):\n",
    "    if root is None:\n",
    "        return\n",
    "    if root.left is None:\n",
    "        root.left=Node(data)\n",
    "        return root.left\n",
    "    else:\n",
    "        return addSibling(root.left,data)\n",
    "\n",
    "def addSibling(root,data):\n",
    "    if root is None:\n",
    "        return\n",
    "    temp=root\n",
    "    while temp.next:\n",
    "        temp=temp.next\n",
    "    temp.next=Node(data)\n",
    "    return temp.next\n",
    "\n",
    "def traverse(root):\n",
    "    if root is None:\n",
    "        return\n",
    "    queue=[]\n",
    "    queue.append(root)\n",
    "    while queue:\n",
    "        temp=queue.pop(0)\n",
    "        while temp:\n",
    "            print(temp.data,end=\" \")\n",
    "            if temp.left:\n",
    "                queue.append(temp.left)\n",
    "            temp=temp.next\n",
    "\n",
    "if __name__==\"__main__\":\n",
    "    root=Node(10)\n",
    "    n1 = addChild(root, 2)\n",
    "    n2 = addChild(root, 3)\n",
    "    n3 = addChild(root, 4)\n",
    "    n4 = addChild(n3, 6)\n",
    "    n5 = addChild(root, 5)\n",
    "    n6 = addChild(n5, 7)\n",
    "    n7 = addChild(n5, 8)\n",
    "    n8 = addChild(n5, 9)\n",
    "    traverse(root)    "
   ]
  },
  {
   "cell_type": "code",
   "execution_count": 9,
   "metadata": {},
   "outputs": [],
   "source": [
    "# If you are given two traversal sequences, can you construct the binary tree?"
   ]
  },
  {
   "cell_type": "markdown",
   "metadata": {},
   "source": [
    "Done previously"
   ]
  },
  {
   "cell_type": "code",
   "execution_count": 10,
   "metadata": {},
   "outputs": [],
   "source": [
    "# Prufer Code to Tree Creation"
   ]
  },
  {
   "cell_type": "markdown",
   "metadata": {},
   "source": [
    "TO DO"
   ]
  },
  {
   "cell_type": "code",
   "execution_count": 7,
   "metadata": {},
   "outputs": [
    {
     "data": {
      "text/plain": [
       "3"
      ]
     },
     "execution_count": 7,
     "metadata": {},
     "output_type": "execute_result"
    }
   ],
   "source": [
    "# Formula to get the height of the full k-ary tree where n is the total nodes and k is the no of children\n",
    "\n",
    "from math import ceil,log\n",
    "int(ceil(log(float(10) * (3 - 1) + 1) /  log(float(3))))"
   ]
  },
  {
   "cell_type": "markdown",
   "metadata": {},
   "source": [
    "# Construct the full k-ary tree from its preorder traversal"
   ]
  },
  {
   "cell_type": "code",
   "execution_count": 8,
   "metadata": {},
   "outputs": [
    {
     "name": "stdout",
     "output_type": "stream",
     "text": [
      "5 6 7 2 8 9 10 3 4 1 "
     ]
    }
   ],
   "source": [
    "from math import ceil,log\n",
    "\n",
    "class Node:\n",
    "    def __init__(self,data):\n",
    "        self.data=data\n",
    "        self.child=[]\n",
    "\n",
    "def createTreeUtil(preorder,n,k,h,ind):\n",
    "    if n<=0:\n",
    "        return None\n",
    "\n",
    "    root=Node(preorder[ind[0]])\n",
    "    if root is None:\n",
    "        return root\n",
    "\n",
    "    for i in range(k):\n",
    "        if ind[0]<n-1 and h>1:\n",
    "            ind[0]+=1\n",
    "            root.child.append(createTreeUtil(preorder,n,k,h-1,ind))\n",
    "        else:\n",
    "            root.child.append(None)\n",
    "    return root\n",
    "\n",
    "def createTree(preorder,k):\n",
    "    ind=[0]\n",
    "    n=len(preorder)\n",
    "    height=int(ceil(log(float(n)*(k-1)+1)/log(float(k))))\n",
    "    return createTreeUtil(preorder,n,k,height,ind)\n",
    "\n",
    "def postorder(root,k):\n",
    "    if root is None:\n",
    "        return\n",
    "    for i in range(k):\n",
    "        if root.child[i]:\n",
    "            postorder(root.child[i],k)\n",
    "    print(root.data,end=\" \")\n",
    "\n",
    "\n",
    "if __name__ == '__main__':\n",
    "    preorder=[1, 2, 5, 6, 7, 3, 8, 9, 10, 4]\n",
    "    k=3\n",
    "    root=createTree(preorder,k)\n",
    "    # print(root.child[0].child[0].child)\n",
    "    postorder(root,k)\n"
   ]
  },
  {
   "cell_type": "code",
   "execution_count": 9,
   "metadata": {},
   "outputs": [],
   "source": [
    "# Construct Binary Tree from String with bracket representation"
   ]
  },
  {
   "cell_type": "markdown",
   "metadata": {},
   "source": [
    "Construct a binary tree from a string consisting of parenthesis and integers. The whole input represents a binary tree. It contains an integer followed by zero, one or two pairs of parenthesis. The integer represents the root’s value and a pair of parenthesis contains a child binary tree with the same structure. Always start to construct the left child node of the parent first if it exists.\n",
    "<p>\n",
    "Input : \"1(2)(3)\" \n",
    "Output : 1 2 3\n",
    "\n",
    "           1\n",
    "          / \\\n",
    "         2   3\n",
    "</p>"
   ]
  },
  {
   "cell_type": "code",
   "execution_count": 10,
   "metadata": {},
   "outputs": [
    {
     "name": "stdout",
     "output_type": "stream",
     "text": [
      "3 2 1 4 5 6 "
     ]
    }
   ],
   "source": [
    "class Node:\n",
    "    def __init__(self,data):\n",
    "        self.data=data\n",
    "        self.left=None\n",
    "        self.right=None\n",
    "\n",
    "def findIndex(s,start,end):\n",
    "    if start>end:\n",
    "        return -1\n",
    "    stack=[]\n",
    "    for i in range(start,end+1):\n",
    "        if s[i]==\"(\":\n",
    "            stack.append(s[i])\n",
    "        elif s[i]==\")\":\n",
    "            stack.pop()\n",
    "            if len(stack)==0:\n",
    "                return i\n",
    "    return -1\n",
    "\n",
    "\n",
    "def createTree(s,start,end):\n",
    "    if start>end:\n",
    "        return\n",
    "    root=Node(s[start])\n",
    "    ind=-1\n",
    "    if start+1<=end and s[start+1]=='(':\n",
    "        ind=findIndex(s,start+1,end)\n",
    "    if ind!=-1:\n",
    "        # print(start,ind,end)\n",
    "        root.left=createTree(s,start+2,ind-1)\n",
    "        root.right=createTree(s,ind+2,end-1)\n",
    "    return root\n",
    "\n",
    "def inorder(root):\n",
    "    if root is None:\n",
    "        return\n",
    "    inorder(root.left)\n",
    "    print(root.data,end=\" \")\n",
    "    inorder(root.right)\n",
    "\n",
    "if __name__ == '__main__':\n",
    "    s=\"4(2(3)(1))(6(5))\"\n",
    "    root=createTree(s,0,len(s)-1)\n",
    "    inorder(root)\n"
   ]
  },
  {
   "cell_type": "code",
   "execution_count": 1,
   "metadata": {},
   "outputs": [],
   "source": [
    "# Linked complete binary tree & its creation"
   ]
  },
  {
   "cell_type": "markdown",
   "metadata": {},
   "source": [
    "Complete binary trees are generally represented using arrays. The array representation is better because it doesn’t contain any empty slot. Given parent index i, its left child is given by 2 * i + 1 and its right child is given by 2 * i + 2. So no extra space is wasted and space to store left and right pointers is saved. However, it may be an interesting programming question to create a Complete Binary Tree using linked representation. Here Linked mean a non-array representation where left and right pointers(or references) are used to refer left and right children respectively. How to write an insert function that always adds a new node in the last level and at the leftmost available position?\n",
    "To create a linked complete binary tree, we need to keep track of the nodes in a level order fashion such that the next node to be inserted lies in the leftmost position. A queue data structure can be used to keep track of the inserted nodes."
   ]
  },
  {
   "cell_type": "code",
   "execution_count": 2,
   "metadata": {},
   "outputs": [
    {
     "name": "stdout",
     "output_type": "stream",
     "text": [
      "0 1 2 3 4 5 6 7 8 9 "
     ]
    }
   ],
   "source": [
    "class Node:\n",
    "    def __init__(self,data):\n",
    "        self.data=data\n",
    "        self.left=None\n",
    "        self.right=None\n",
    "\n",
    "def levelOrder(root):\n",
    "    if root is None:\n",
    "        return\n",
    "    queue=[]\n",
    "    queue.append(root)\n",
    "    while queue:\n",
    "        temp=queue.pop(0)\n",
    "        print(temp.data,end=\" \")\n",
    "        if temp.left:\n",
    "            queue.append(temp.left)\n",
    "        if temp.right:\n",
    "            queue.append(temp.right)\n",
    "\n",
    "def insert(root,data):\n",
    "    if root is None:\n",
    "        root=Node(data)\n",
    "        return root\n",
    "    queue=[]\n",
    "    queue.append(root)\n",
    "    while queue:\n",
    "        parent=queue.pop(0)\n",
    "        if parent.left is None:\n",
    "            parent.left=Node(data)\n",
    "            break\n",
    "        else:\n",
    "            queue.append(parent.left)\n",
    "        if parent.right is None:\n",
    "            parent.right=Node(data)\n",
    "            break\n",
    "        else:\n",
    "            queue.append(parent.right)\n",
    "    return root\n",
    "\n",
    "\n",
    "if __name__ == '__main__':\n",
    "    root=None\n",
    "    for i in range(10):\n",
    "        root=insert(root,i)\n",
    "    levelOrder(root)\n"
   ]
  },
  {
   "cell_type": "code",
   "execution_count": 5,
   "metadata": {},
   "outputs": [],
   "source": [
    "# Convert a given Binary Tree to Doubly Linked List"
   ]
  },
  {
   "cell_type": "markdown",
   "metadata": {},
   "source": [
    "Approach 1 : Reverse Inorder "
   ]
  },
  {
   "cell_type": "code",
   "execution_count": 6,
   "metadata": {},
   "outputs": [
    {
     "name": "stdout",
     "output_type": "stream",
     "text": [
      "25 12 30 10 36 15 \n"
     ]
    }
   ],
   "source": [
    "class Node:\n",
    "    def __init__(self,data):\n",
    "        self.data=data\n",
    "        self.left=None\n",
    "        self.right=None\n",
    "\n",
    "head=None\n",
    "\n",
    "def convertToDLL(root):\n",
    "    global head\n",
    "    if root is None:\n",
    "        return\n",
    "    convertToDLL(root.right)\n",
    "    root.right=head\n",
    "    if head is not None:\n",
    "        head.left=root\n",
    "    head=root\n",
    "    convertToDLL(root.left)\n",
    "\n",
    "def traverse(head):\n",
    "    if head is None:\n",
    "        return\n",
    "    temp=head\n",
    "    while temp:\n",
    "        print(temp.data,end=\" \")\n",
    "        temp=temp.right\n",
    "    print()\n",
    "\n",
    "if __name__ == '__main__':\n",
    "    root=Node(10)\n",
    "    root.left=Node(12)\n",
    "    root.right=Node(15)\n",
    "    root.left.left=Node(25)\n",
    "    root.left.right=Node(30)\n",
    "    root.right.left=Node(36)\n",
    "    convertToDLL(root)\n",
    "    traverse(head)\n"
   ]
  },
  {
   "cell_type": "markdown",
   "metadata": {},
   "source": [
    "Another Approach - Using inorder predecessor"
   ]
  },
  {
   "cell_type": "code",
   "execution_count": 8,
   "metadata": {},
   "outputs": [
    {
     "name": "stdout",
     "output_type": "stream",
     "text": [
      "25 12 30 10 36 15 \n"
     ]
    }
   ],
   "source": [
    "class Node:\n",
    "    def __init__(self,data):\n",
    "        self.data=data\n",
    "        self.left=None\n",
    "        self.right=None\n",
    "\n",
    "def convertToDLLUtil(root):\n",
    "    if root is None:\n",
    "        return None\n",
    "    if root.left:\n",
    "        left=convertToDLLUtil(root.left)\n",
    "        while left.right:\n",
    "            left=left.right\n",
    "        left.right=root\n",
    "        root.left=left\n",
    "        \n",
    "    if root.right:\n",
    "        right=convertToDLLUtil(root.right)\n",
    "        while right.left:\n",
    "            right=right.left\n",
    "        right.left=root\n",
    "        root.right=right\n",
    "\n",
    "    return root\n",
    "\n",
    "def convertToDLL(root):\n",
    "    if root is None:\n",
    "        return None\n",
    "    convertToDLLUtil(root)\n",
    "    while root.left:\n",
    "        root=root.left\n",
    "    return root\n",
    "\n",
    "def traverse(head):\n",
    "    if head is None:\n",
    "        return None\n",
    "    temp=head\n",
    "    while temp:\n",
    "        print(temp.data,end=\" \")\n",
    "        temp=temp.right\n",
    "    print()\n",
    "\n",
    "if __name__ == '__main__':\n",
    "    root=Node(10)\n",
    "    root.left = Node(12)\n",
    "    root.right = Node(15)\n",
    "    root.left.left = Node(25)\n",
    "    root.left.right = Node(30)\n",
    "    root.right.left = Node(36)\n",
    "    head=convertToDLL(root)\n",
    "    traverse(head)"
   ]
  },
  {
   "cell_type": "markdown",
   "metadata": {},
   "source": [
    "Another Approach-> \n",
    "<br><br>\n",
    "1) <strong>Fix Left Pointers:</strong> In this step, we change left pointers to point to previous nodes in DLL. The idea is simple, we do inorder traversal of tree. In inorder traversal, we keep track of previous visited node and change left pointer to the previous node. See fixPrevPtr() in below implementation.\n",
    "<br><br>\n",
    "2) <strong>Fix Right Pointers:</strong> The above is intuitive and simple. How to change right pointers to point to next node in DLL? The idea is to use left pointers fixed in step 1. We start from the rightmost node in Binary Tree (BT). The rightmost node is the last node in DLL. Since left pointers are changed to point to previous node in DLL, we can linearly traverse the complete DLL using these pointers. The traversal would be from last to first node. While traversing the DLL, we keep track of the previously visited node and change the right pointer to the previous node. See fixNextPtr() in below implementation."
   ]
  },
  {
   "cell_type": "code",
   "execution_count": 9,
   "metadata": {},
   "outputs": [
    {
     "name": "stdout",
     "output_type": "stream",
     "text": [
      "25 12 30 10 36 15 \n"
     ]
    }
   ],
   "source": [
    "class Node:\n",
    "    def __init__(self,data):\n",
    "        self.data=data\n",
    "        self.left=None\n",
    "        self.right=None\n",
    "\n",
    "\n",
    "def fixLeftPointer(root):\n",
    "    if root is None:\n",
    "        return\n",
    "    fixLeftPointer(root.left)\n",
    "    root.left=convertToDLL.pre\n",
    "    convertToDLL.pre=root\n",
    "    fixLeftPointer(root.right)\n",
    "\n",
    "def fixRightPointer(root):\n",
    "    if root is None:\n",
    "        return\n",
    "    while root.right:\n",
    "        root=root.right\n",
    "    prev=None\n",
    "    while root.left:\n",
    "        next=root\n",
    "        root=root.left\n",
    "        # print(next.data,root.data)\n",
    "        root.right=next\n",
    "    # print(root.data)\n",
    "    return root\n",
    "\n",
    "def convertToDLL(root):\n",
    "    convertToDLL.pre=None\n",
    "    fixLeftPointer(root)\n",
    "    return fixRightPointer(root)\n",
    "\n",
    "def traverse(head):\n",
    "    if head is None:\n",
    "        return\n",
    "    temp=head\n",
    "    while temp:\n",
    "        print(temp.data,end=\" \")\n",
    "        temp=temp.right\n",
    "    print()\n",
    "\n",
    "if __name__ == '__main__':\n",
    "    root=Node(10)\n",
    "    root.left = Node(12)\n",
    "    root.right = Node(15)\n",
    "    root.left.left = Node(25)\n",
    "    root.left.right = Node(30)\n",
    "    root.right.left = Node(36)\n",
    "    head=convertToDLL(root)\n",
    "    traverse(head)\n"
   ]
  },
  {
   "cell_type": "markdown",
   "metadata": {},
   "source": [
    "Another Approach -> Using Inorder traversal and maintaining the previous node. Make right of prev to root and left of root to previous"
   ]
  },
  {
   "cell_type": "code",
   "execution_count": 10,
   "metadata": {},
   "outputs": [
    {
     "name": "stdout",
     "output_type": "stream",
     "text": [
      "25 12 30 10 36 15 \n"
     ]
    }
   ],
   "source": [
    "class Node:\n",
    "    def __init__(self,data):\n",
    "        self.data=data\n",
    "        self.left=None\n",
    "        self.right=None\n",
    "\n",
    "prev=None;head=None\n",
    "\n",
    "def convertToDLL(root):\n",
    "    global prev,head\n",
    "    if root is None:\n",
    "        return\n",
    "    convertToDLL(root.left)\n",
    "    if prev is None:\n",
    "        head=root\n",
    "        head.left=prev\n",
    "    else:\n",
    "        prev.right=root\n",
    "        root.left=prev\n",
    "    prev=root\n",
    "    convertToDLL(root.right)\n",
    "\n",
    "def traverse(head):\n",
    "    if head is None:\n",
    "        return\n",
    "    temp=head\n",
    "    while temp:\n",
    "        print(temp.data,end=\" \")\n",
    "        temp=temp.right\n",
    "    print()\n",
    "\n",
    "if __name__ == '__main__':\n",
    "    root=Node(10)\n",
    "    root.left=Node(12)\n",
    "    root.right=Node(15)\n",
    "    root.left.left=Node(25)\n",
    "    root.left.right=Node(30)\n",
    "    root.right.left=Node(36)\n",
    "    convertToDLL(root)\n",
    "    traverse(head)\n"
   ]
  },
  {
   "cell_type": "code",
   "execution_count": 11,
   "metadata": {},
   "outputs": [],
   "source": [
    "# Convert an arbitrary Binary Tree to a tree that holds Children Sum Property"
   ]
  },
  {
   "cell_type": "markdown",
   "metadata": {},
   "source": [
    "Given an arbitrary binary tree, convert it to a binary tree that holds Children Sum Property. You can only increment data values in any node (You cannot change the structure of the tree and cannot decrement the value of any node)\n",
    "<br><br>\n",
    "Traverse the given tree in post order to convert it, i.e., first change left and right children to hold the children sum property then change the parent node.\n",
    "<br><br>\n",
    "Let difference between node’s data and children sum be diff.\n",
    "<br>\n",
    "     diff = node’s children sum - node’s data  \n",
    "If diff is 0 then nothing needs to be done.\n",
    "<br>\n",
    "If diff > 0 ( node’s data is smaller than node’s children sum) increment the node’s data by diff.\n",
    "<br>\n",
    "If diff < 0 (node’s data is greater than the node's children sum) then increment one child’s data. We can choose to increment either left or right child if they both are not NULL. Let us always first increment the left child. Incrementing a child changes the subtree’s children sum property so we need to change left subtree also. So we recursively increment the left child. If left child is empty then we recursively call increment() for right child."
   ]
  },
  {
   "cell_type": "code",
   "execution_count": 12,
   "metadata": {},
   "outputs": [
    {
     "name": "stdout",
     "output_type": "stream",
     "text": [
      "3 7 5 50 1 2 30 \n",
      "14 19 5 50 1 31 30 "
     ]
    }
   ],
   "source": [
    "class Node:\n",
    "    def __init__(self,data):\n",
    "        self.data=data\n",
    "        self.left=None\n",
    "        self.right=None\n",
    "\n",
    "def convertTree(root):\n",
    "    leftVal=0\n",
    "    rightVal=0\n",
    "    diff=0\n",
    "    if root is None:\n",
    "        return\n",
    "    convertTree(root.left)\n",
    "    convertTree(root.right)\n",
    "\n",
    "    if root.left:\n",
    "        leftVal=root.left.data\n",
    "    if root.right:\n",
    "        rightVal=root.right.data\n",
    "\n",
    "    diff=leftVal+rightVal-root.data\n",
    "\n",
    "    if diff>0:\n",
    "        root.data+=diff\n",
    "    elif diff<0:\n",
    "        incrementChild(root,-diff)\n",
    "\n",
    "def incrementChild(root,diff):\n",
    "    if root.left:\n",
    "        root.left.data+=diff\n",
    "        incrementChild(root.left,diff)\n",
    "    elif root.right:\n",
    "        root.right.data+=diff\n",
    "        incrementChild(root.right,diff)\n",
    "\n",
    "def inorder(root):\n",
    "    if root is None:\n",
    "        return\n",
    "    inorder(root.left)\n",
    "    print(root.data,end=\" \")\n",
    "    inorder(root.right)\n",
    "\n",
    "if __name__ == '__main__':\n",
    "    root=Node(50)\n",
    "    root.left=Node(7)\n",
    "    root.right=Node(2)\n",
    "    root.left.left=Node(3)\n",
    "    root.left.right=Node(5)\n",
    "    root.right.left=Node(1)\n",
    "    root.right.right=Node(30)\n",
    "    inorder(root)\n",
    "    print()\n",
    "    convertTree(root)\n",
    "    inorder(root)\n"
   ]
  },
  {
   "cell_type": "code",
   "execution_count": 13,
   "metadata": {},
   "outputs": [],
   "source": [
    "# Check if the tree holds children sum property"
   ]
  },
  {
   "cell_type": "code",
   "execution_count": 14,
   "metadata": {},
   "outputs": [
    {
     "name": "stdout",
     "output_type": "stream",
     "text": [
      "True\n"
     ]
    }
   ],
   "source": [
    "class Node:\n",
    "    def __init__(self,data):\n",
    "        self.data=data\n",
    "        self.left=None\n",
    "        self.right=None\n",
    "\n",
    "def isChildSum(root):\n",
    "    if root is None:\n",
    "        return True\n",
    "    if root.left is None and root.right is None:\n",
    "        return True\n",
    "    if root.left is None:\n",
    "        return root.data==root.right.data and isChildSum(root.right)\n",
    "    if root.right is None:\n",
    "        return root.data==root.left.data and isChildSum(root.left)\n",
    "    return root.data==root.left.data+root.right.data and isChildSum(root.left) and isChildSum(root.right)\n",
    "\n",
    "\n",
    "if __name__ == '__main__':\n",
    "    root=Node(10)\n",
    "    root.left=Node(8)\n",
    "    root.right=Node(2)\n",
    "    root.left.left=Node(3)\n",
    "    root.left.right=Node(5)\n",
    "    root.right.left=Node(2)\n",
    "    print(isChildSum(root))\n"
   ]
  },
  {
   "cell_type": "markdown",
   "metadata": {},
   "source": [
    "Time Complexity: O(n^2), Worst case complexity is for a skewed tree such that nodes are in decreasing order from root to leaf."
   ]
  },
  {
   "cell_type": "code",
   "execution_count": 15,
   "metadata": {},
   "outputs": [],
   "source": [
    "# Convert left-right representation of a binary tree to down-right"
   ]
  },
  {
   "cell_type": "code",
   "execution_count": 16,
   "metadata": {},
   "outputs": [
    {
     "name": "stdout",
     "output_type": "stream",
     "text": [
      "1 2 3 4 6 5 7 8 "
     ]
    }
   ],
   "source": [
    "class Node:\n",
    "    def __init__(self,data):\n",
    "        self.data=data\n",
    "        self.left=None\n",
    "        self.right=None\n",
    "\n",
    "def convertTree(root):\n",
    "    if root is None:\n",
    "        return\n",
    "    left=convertTree(root.left)\n",
    "    right=convertTree(root.right)\n",
    "    if root.left is None and root.right:\n",
    "        root.left=right\n",
    "        root.right=None\n",
    "    elif root.left and root.right:\n",
    "        left.right=right\n",
    "        root.right=None\n",
    "    return root\n",
    "\n",
    "def traverse(root):\n",
    "    if root is None:\n",
    "        return\n",
    "    print(root.data,end=\" \")\n",
    "    traverse(root.left)\n",
    "    traverse(root.right)\n",
    "\n",
    "if __name__ == '__main__':\n",
    "    root=Node(1)\n",
    "    root.left=Node(2)\n",
    "    root.right=Node(3)\n",
    "    root.right.left=Node(4)\n",
    "    root.right.right=Node(5)\n",
    "    root.right.left.left=Node(6)\n",
    "    root.right.right.left=Node(7)\n",
    "    root.right.right.right=Node(8)\n",
    "    convertTree(root)\n",
    "    traverse(root)\n"
   ]
  },
  {
   "cell_type": "code",
   "execution_count": 1,
   "metadata": {},
   "outputs": [],
   "source": [
    "# Convert a given tree to its Sum Tree"
   ]
  },
  {
   "cell_type": "code",
   "execution_count": 2,
   "metadata": {},
   "outputs": [
    {
     "name": "stdout",
     "output_type": "stream",
     "text": [
      "20 4 12 0 0 0 0 "
     ]
    }
   ],
   "source": [
    "class Node:\n",
    "    def __init__(self,data):\n",
    "        self.data=data\n",
    "        self.left=None\n",
    "        self.right=None\n",
    "\n",
    "def convertTree(root):\n",
    "    if root is None:\n",
    "        return 0\n",
    "    leftval=0\n",
    "    rightval=0\n",
    "    leftval=convertTree(root.left)\n",
    "    rightval=convertTree(root.right)\n",
    "    temp=root.data\n",
    "    root.data=leftval+rightval\n",
    "    return root.data+temp\n",
    "\n",
    "def traverse(root):\n",
    "    if root is None:\n",
    "        return\n",
    "    queue=[]\n",
    "    queue.append(root)\n",
    "    while queue:\n",
    "        temp=queue.pop(0)\n",
    "        print(temp.data,end=\" \")\n",
    "        if temp.left:\n",
    "            queue.append(temp.left)\n",
    "        if temp.right:\n",
    "            queue.append(temp.right)\n",
    "\n",
    "if __name__ == '__main__':\n",
    "    root=Node(10)\n",
    "    root.left=Node(-2)\n",
    "    root.right=Node(6)\n",
    "    root.left.left=Node(8)\n",
    "    root.left.right=Node(-4)\n",
    "    root.right.left=Node(7)\n",
    "    root.right.right=Node(5)\n",
    "    convertTree(root)\n",
    "    traverse(root)\n"
   ]
  },
  {
   "cell_type": "code",
   "execution_count": 3,
   "metadata": {},
   "outputs": [],
   "source": [
    "# Change a Binary Tree so that every node stores sum of all nodes in left subtree"
   ]
  },
  {
   "cell_type": "markdown",
   "metadata": {},
   "source": [
    "Given a Binary Tree, change the value in each node to sum of all the values in the nodes in the left subtree including its own"
   ]
  },
  {
   "cell_type": "code",
   "execution_count": 5,
   "metadata": {},
   "outputs": [
    {
     "name": "stdout",
     "output_type": "stream",
     "text": [
      "1 2 3 4 5 6 \n",
      "12 6 3 4 5 6 "
     ]
    }
   ],
   "source": [
    "class Node:\n",
    "    def __init__(self,data):\n",
    "        self.data=data\n",
    "        self.left=None\n",
    "        self.right=None\n",
    "\n",
    "\n",
    "def convertTree(root):\n",
    "    if root is None:\n",
    "        return 0\n",
    "    leftval=convertTree(root.left)\n",
    "    rightval=convertTree(root.right)\n",
    "    root.data+=leftval\n",
    "    return root.data+rightval\n",
    "\n",
    "\n",
    "def traverse(root):\n",
    "    if root is None:\n",
    "        return\n",
    "    queue=[]\n",
    "    queue.append(root)\n",
    "    while queue:\n",
    "        temp=queue.pop(0)\n",
    "        print(temp.data,end=\" \")\n",
    "        if temp.left:\n",
    "            queue.append(temp.left)\n",
    "        if temp.right:\n",
    "            queue.append(temp.right)\n",
    "\n",
    "\n",
    "if __name__ == '__main__':\n",
    "    root=Node(1)\n",
    "    root.left=Node(2)\n",
    "    root.right=Node(3)\n",
    "    root.left.left=Node(4)\n",
    "    root.left.right=Node(5)\n",
    "    root.right.right=Node(6)\n",
    "    traverse(root)\n",
    "    print()\n",
    "    convertTree(root)\n",
    "    traverse(root)\n"
   ]
  },
  {
   "cell_type": "code",
   "execution_count": 6,
   "metadata": {},
   "outputs": [],
   "source": [
    "# Convert a Binary Tree into its Mirror Tree"
   ]
  },
  {
   "cell_type": "code",
   "execution_count": 7,
   "metadata": {},
   "outputs": [
    {
     "name": "stdout",
     "output_type": "stream",
     "text": [
      "3 1 5 2 4 \n",
      "4 2 5 1 3 "
     ]
    }
   ],
   "source": [
    "class Node:\n",
    "    def __init__(self,data):\n",
    "        self.data=data\n",
    "        self.left=None\n",
    "        self.right=None\n",
    "\n",
    "def convertToMirror(root):\n",
    "    if root is None:\n",
    "        return\n",
    "    convertToMirror(root.left)\n",
    "    convertToMirror(root.right)\n",
    "    temp=root.left\n",
    "    root.left=root.right\n",
    "    root.right=temp\n",
    "\n",
    "def inorder(root):\n",
    "    if root is None:\n",
    "        return\n",
    "    inorder(root.left)\n",
    "    print(root.data,end=\" \")\n",
    "    inorder(root.right)\n",
    "\n",
    "if __name__ == '__main__':\n",
    "    root=Node(1)\n",
    "    root.left=Node(3)\n",
    "    root.right=Node(2)\n",
    "    root.right.left=Node(5)\n",
    "    root.right.right=Node(4)\n",
    "    inorder(root)\n",
    "    convertToMirror(root)\n",
    "    print()\n",
    "    inorder(root)\n"
   ]
  },
  {
   "cell_type": "code",
   "execution_count": 9,
   "metadata": {},
   "outputs": [],
   "source": [
    "# Convert a Binary Tree into Doubly Linked List in spiral fashion"
   ]
  },
  {
   "cell_type": "code",
   "execution_count": 10,
   "metadata": {},
   "outputs": [
    {
     "name": "stdout",
     "output_type": "stream",
     "text": [
      "1 2 3 7 6 5 4 8 9 10 11 12 13 14 15 "
     ]
    }
   ],
   "source": [
    "class Node:\n",
    "    def __init__(self,data):\n",
    "        self.data=data\n",
    "        self.left=None\n",
    "        self.right=None\n",
    "\n",
    "def convertToDLL(root):\n",
    "    if root is None:\n",
    "        return\n",
    "    head,tail=None,None\n",
    "    queue1=[]\n",
    "    queue2=[]\n",
    "    queue1.append(root)\n",
    "    rightToLeft=True\n",
    "    while queue1:\n",
    "        size=len(queue1)\n",
    "        for i in range(size):\n",
    "            temp=queue1.pop(0)\n",
    "\n",
    "            if temp.left:\n",
    "                queue1.append(temp.left)\n",
    "            if temp.right:\n",
    "                queue1.append(temp.right)\n",
    "            if rightToLeft is False:\n",
    "                # print(temp.data,end=\" \")\n",
    "                if head is None:\n",
    "                    head = temp\n",
    "                    tail=head\n",
    "                else:\n",
    "                    tail.right=temp\n",
    "                    temp.left=tail\n",
    "                    tail=temp\n",
    "            else:\n",
    "                queue2.append(temp)\n",
    "        if rightToLeft is True:\n",
    "            while queue2:\n",
    "                temp=queue2.pop()\n",
    "                # print(temp.data,end=\" \")\n",
    "                if head is None:\n",
    "                    head = temp\n",
    "                    tail=head\n",
    "                else:\n",
    "                    tail.right=temp\n",
    "                    temp.left=tail\n",
    "                    tail=temp\n",
    "        rightToLeft = not rightToLeft\n",
    "    return head\n",
    "\n",
    "def traverse(head):\n",
    "    if head is None:\n",
    "        return\n",
    "    temp=head\n",
    "    while temp:\n",
    "        print(temp.data,end=\" \")\n",
    "        temp=temp.right\n",
    "\n",
    "if __name__ == '__main__':\n",
    "    root = Node(1)\n",
    "    root.left = Node(2)\n",
    "    root.right = Node(3)\n",
    "    root.left.left = Node(4)\n",
    "    root.left.right = Node(5)\n",
    "    root.right.left = Node(6)\n",
    "    root.right.right = Node(7)\n",
    "\n",
    "    root.left.left.left = Node(8)\n",
    "    root.left.left.right = Node(9)\n",
    "    root.left.right.left = Node(10)\n",
    "    root.left.right.right = Node(11)\n",
    "    root.right.left.left = Node(12)\n",
    "    root.right.left.right = Node(13)\n",
    "    root.right.right.left = Node(14)\n",
    "    root.right.right.right = Node(15)\n",
    "    head=convertToDLL(root)\n",
    "    traverse(head)\n"
   ]
  },
  {
   "cell_type": "code",
   "execution_count": 11,
   "metadata": {},
   "outputs": [],
   "source": [
    "# Convert a Binary Tree to a Circular Doubly Link List"
   ]
  },
  {
   "cell_type": "code",
   "execution_count": 12,
   "metadata": {},
   "outputs": [
    {
     "name": "stdout",
     "output_type": "stream",
     "text": [
      "8 4 9 2 10 5 11 1 12 6 13 3 14 7 15\n",
      "\n"
     ]
    }
   ],
   "source": [
    "class Node:\n",
    "    def __init__(self,data):\n",
    "        self.data=data\n",
    "        self.left=None\n",
    "        self.right=None\n",
    "\n",
    "prev,head,tail=None,None,None\n",
    "\n",
    "def convertToCLL(root):\n",
    "    global head,tail\n",
    "    convertToCLLUtil(root)\n",
    "    # print(head.data)\n",
    "    # print(tail.data)\n",
    "    tail.right=head\n",
    "    head.left=tail\n",
    "\n",
    "def convertToCLLUtil(root):\n",
    "    global prev,head,tail\n",
    "    if root is None:\n",
    "        return\n",
    "    convertToCLLUtil(root.left)\n",
    "    if head is None:\n",
    "        head=root\n",
    "        head.left=prev\n",
    "    else:\n",
    "        prev.right=root\n",
    "        root.left=prev\n",
    "    tail=root\n",
    "    prev=root\n",
    "    # print(head.data,tail.data)\n",
    "    convertToCLLUtil(root.right)\n",
    "\n",
    "def traverse(head):\n",
    "    if head is None:\n",
    "        return\n",
    "    temp=head\n",
    "    while temp.right is not head:\n",
    "        print(temp.data,end=\" \")\n",
    "        temp=temp.right\n",
    "    print(temp.data)\n",
    "    print()\n",
    "\n",
    "if __name__ == '__main__':\n",
    "    root = Node(1)\n",
    "    root.left = Node(2)\n",
    "    root.right = Node(3)\n",
    "    root.left.left = Node(4)\n",
    "    root.left.right = Node(5)\n",
    "    root.right.left = Node(6)\n",
    "    root.right.right = Node(7)\n",
    "\n",
    "    root.left.left.left = Node(8)\n",
    "    root.left.left.right = Node(9)\n",
    "    root.left.right.left = Node(10)\n",
    "    root.left.right.right = Node(11)\n",
    "    root.right.left.left = Node(12)\n",
    "    root.right.left.right = Node(13)\n",
    "    root.right.right.left = Node(14)\n",
    "    root.right.right.right = Node(15)\n",
    "    convertToCLL(root)\n",
    "    traverse(head)\n"
   ]
  },
  {
   "cell_type": "markdown",
   "metadata": {},
   "source": [
    "# Checking and Printing"
   ]
  },
  {
   "cell_type": "code",
   "execution_count": 1,
   "metadata": {},
   "outputs": [],
   "source": [
    "# Check for Children Sum Property in a Binary Tree"
   ]
  },
  {
   "cell_type": "code",
   "execution_count": 2,
   "metadata": {},
   "outputs": [
    {
     "name": "stdout",
     "output_type": "stream",
     "text": [
      "True\n"
     ]
    }
   ],
   "source": [
    "class Node:\n",
    "    def __init__(self,data):\n",
    "        self.data=data\n",
    "        self.left=None\n",
    "        self.right=None\n",
    "\n",
    "def isChildSum(root):\n",
    "    if root is None:\n",
    "        return True\n",
    "    if root.left is None and root.right is None:\n",
    "        return True\n",
    "    if root.left is None:\n",
    "        return root.data==root.right.data and isChildSum(root.right)\n",
    "    if root.right is None:\n",
    "        return root.data==root.left.data and isChildSum(root.left)\n",
    "    return root.data==(root.left.data+root.right.data) and isChildSum(root.left) and isChildSum(root.right)\n",
    "\n",
    "\n",
    "if __name__ == '__main__':\n",
    "    root=Node(10)\n",
    "    root.left=Node(8)\n",
    "    root.right=Node(2)\n",
    "    root.left.left=Node(3)\n",
    "    root.left.right=Node(5)\n",
    "    root.right.left=Node(2)\n",
    "    print(isChildSum(root))\n"
   ]
  },
  {
   "cell_type": "markdown",
   "metadata": {},
   "source": [
    "Iterative Approach->"
   ]
  },
  {
   "cell_type": "code",
   "execution_count": 3,
   "metadata": {},
   "outputs": [
    {
     "name": "stdout",
     "output_type": "stream",
     "text": [
      "True\n"
     ]
    }
   ],
   "source": [
    "class Node:\n",
    "    def __init__(self,data):\n",
    "        self.data=data\n",
    "        self.left=None\n",
    "        self.right=None\n",
    "\n",
    "def isChildSum(root):\n",
    "    if root is None:\n",
    "        return True\n",
    "    if root.left is None and root.right is None:\n",
    "        return True\n",
    "    queue=[]\n",
    "    queue.append(root)\n",
    "    while queue:\n",
    "        parent=queue.pop(0)\n",
    "        if parent.left:\n",
    "            left=parent.left.data\n",
    "            queue.append(parent.left)\n",
    "        else:\n",
    "            left=0\n",
    "        if parent.right:\n",
    "            right=parent.right.data\n",
    "            queue.append(parent.right)\n",
    "        else:\n",
    "            right=0\n",
    "        if parent.left is None and parent.right is None:\n",
    "            continue\n",
    "        if parent.data!=(left+right):\n",
    "            # print(parent.data,left,right)\n",
    "            return False\n",
    "    return True\n",
    "\n",
    "\n",
    "if __name__ == '__main__':\n",
    "    root=Node(10)\n",
    "    root.left=Node(8)\n",
    "    root.right=Node(2)\n",
    "    root.left.left=Node(3)\n",
    "    root.left.right=Node(5)\n",
    "    root.right.left=Node(2)\n",
    "    print(isChildSum(root))\n"
   ]
  },
  {
   "cell_type": "markdown",
   "metadata": {},
   "source": [
    "Same iterative approach can be used for n ary tree if the pointers are given otherwise use left child right sibling representation"
   ]
  },
  {
   "cell_type": "code",
   "execution_count": 4,
   "metadata": {},
   "outputs": [],
   "source": [
    "# Check if a given Binary Tree is SumTree"
   ]
  },
  {
   "cell_type": "markdown",
   "metadata": {},
   "source": [
    "Get the sum of nodes in left subtree and right subtree. Check if the sum calculated is equal to root’s data. Also, recursively check if the left and right subtrees are SumTrees. O(n^2)"
   ]
  },
  {
   "cell_type": "code",
   "execution_count": 5,
   "metadata": {},
   "outputs": [
    {
     "name": "stdout",
     "output_type": "stream",
     "text": [
      "True\n"
     ]
    }
   ],
   "source": [
    "class Node:\n",
    "    def __init__(self,data):\n",
    "        self.data=data\n",
    "        self.left=None\n",
    "        self.right=None\n",
    "\n",
    "def isSumTree(root):\n",
    "    if root is None:\n",
    "        return 0\n",
    "    left=0\n",
    "    right=0\n",
    "    left=isSumTree(root.left)\n",
    "    right=isSumTree(root.right)\n",
    "    if left ==0 and right==0:\n",
    "        return root.data\n",
    "    if left is False or right is False:\n",
    "        return False\n",
    "    if root.data!=left+right:\n",
    "        return False\n",
    "    return root.data+left+right\n",
    "\n",
    "if __name__ == '__main__':\n",
    "    root=Node(26)\n",
    "    root.left=Node(10)\n",
    "    root.right=Node(3)\n",
    "    root.left.left=Node(4)\n",
    "    root.left.right=Node(6)\n",
    "    root.right.right=Node(3)\n",
    "    # print(isSumTree(root))\n",
    "    if isSumTree(root):\n",
    "        print(True)\n",
    "    else:\n",
    "        print(False)\n"
   ]
  },
  {
   "cell_type": "markdown",
   "metadata": {},
   "source": [
    "Better programming standard"
   ]
  },
  {
   "cell_type": "code",
   "execution_count": 7,
   "metadata": {},
   "outputs": [
    {
     "name": "stdout",
     "output_type": "stream",
     "text": [
      "True\n"
     ]
    }
   ],
   "source": [
    "class Node:\n",
    "    def __init__(self,data):\n",
    "        self.data=data\n",
    "        self.left=None\n",
    "        self.right=None\n",
    "\n",
    "def isLeaf(root):\n",
    "     if root is None:\n",
    "         return True\n",
    "     if root.left is None and root.right is None:\n",
    "         return True\n",
    "     return False\n",
    "\n",
    "def isSumTree(root):\n",
    "    if root is None or isLeaf(root):\n",
    "        return True\n",
    "    left=0\n",
    "    right=0\n",
    "    if isSumTree(root.left)==True and isSumTree(root.right)==True:\n",
    "        if root.left is None:\n",
    "            left=0\n",
    "        elif isLeaf(root.left):\n",
    "            left=root.left.data\n",
    "        else:\n",
    "            left=2*root.left.data\n",
    "\n",
    "        if root.right is None:\n",
    "            right=0\n",
    "        elif isLeaf(root.left):\n",
    "            right=root.right.data\n",
    "        else:\n",
    "            right=2*root.right.data\n",
    "\n",
    "        if root.data==left+right:\n",
    "            return True\n",
    "        return False\n",
    "\n",
    "    return False\n",
    "\n",
    "\n",
    "\n",
    "if __name__ == '__main__':\n",
    "    root=Node(26)\n",
    "    root.left=Node(10)\n",
    "    root.right=Node(3)\n",
    "    root.left.left=Node(4)\n",
    "    root.left.right=Node(6)\n",
    "    root.right.right=Node(3)\n",
    "    print(isSumTree(root))\n"
   ]
  },
  {
   "cell_type": "code",
   "execution_count": 8,
   "metadata": {},
   "outputs": [],
   "source": [
    "# Check sum of Covered and Uncovered nodes of Binary Tree"
   ]
  },
  {
   "cell_type": "markdown",
   "metadata": {},
   "source": [
    "Given a binary tree, you need to check whether sum of all covered elements is equal to sum of all uncovered elements or not.\n",
    "In a binary tree, a node is called Uncovered if it appears either on left boundary or right boundary. Rest of the nodes are called covered."
   ]
  },
  {
   "cell_type": "markdown",
   "metadata": {},
   "source": [
    "For calculating sum of Uncovered nodes we will follow below steps:\n",
    "<br><br>\n",
    "1) Start from root, go to left and keep going until left child is available, if not go to right child and again follow same procedure until you reach a leaf node.\n",
    "<br><br>\n",
    "2) After step 1 sum of left boundary will be stored, now for right part again do the same procedure but now keep going to right until right child is available, if not then go to left child and follow same procedure until you reach a leaf node.\n",
    "<br><br>\n",
    "After above 2 steps sum of all Uncovered node will be stored, we can subtract it from total sum and get sum of covered elements and check for equines of binary tree."
   ]
  },
  {
   "cell_type": "code",
   "execution_count": 9,
   "metadata": {},
   "outputs": [
    {
     "name": "stdout",
     "output_type": "stream",
     "text": [
      "False\n"
     ]
    }
   ],
   "source": [
    "class Node:\n",
    "    def __init__(self,data):\n",
    "        self.data=data\n",
    "        self.left=None\n",
    "        self.right=None\n",
    "\n",
    "def getTotalSum(root,total):\n",
    "    if root is None:\n",
    "        return\n",
    "    getTotalSum(root.left,total)\n",
    "    total[0]+=root.data\n",
    "    getTotalSum(root.right,total)\n",
    "\n",
    "def getLeftBoundarySum(root,boundarySum):\n",
    "    if root is None:\n",
    "        return\n",
    "    if root.left is None and root.right is None:\n",
    "        boundarySum[0]+=root.data\n",
    "    elif root.left:\n",
    "        boundarySum[0]+=root.data\n",
    "        getLeftBoundarySum(root.left,boundarySum)\n",
    "    elif root.right:\n",
    "        boundarySum[0]+=root.data\n",
    "        getLeftBoundarySum(root.right,boundarySum)\n",
    "\n",
    "def getRightBoundarySum(root,boundarySum):\n",
    "    if root is None:\n",
    "        return\n",
    "    if root.left is None and root.right is None:\n",
    "        boundarySum[0]+=root.data\n",
    "    elif root.right:\n",
    "        boundarySum[0]+=root.data\n",
    "        getLeftBoundarySum(root.right,boundarySum)\n",
    "    elif root.left:\n",
    "        boundarySum[0]+=root.data\n",
    "        getLeftBoundarySum(root.left,boundarySum)\n",
    "\n",
    "def checkSum(root):\n",
    "    if root is None:\n",
    "        return True\n",
    "    total=[0]\n",
    "    getTotalSum(root,total)\n",
    "    # print(total[0])\n",
    "    boundarySum=[0]\n",
    "    boundarySum[0]+=root.data\n",
    "    getLeftBoundarySum(root.left,boundarySum)\n",
    "    # print(boundarySum[0])\n",
    "    getRightBoundarySum(root.right,boundarySum)\n",
    "    # print(boundarySum[0])\n",
    "    sumCoveredNodes=total[0]-boundarySum[0]\n",
    "    if sumCoveredNodes==boundarySum[0]:\n",
    "        return True\n",
    "    return False\n",
    "\n",
    "if __name__ == '__main__':\n",
    "    root=Node(9)\n",
    "    root.left=Node(4)\n",
    "    root.right=Node(17)\n",
    "    root.left.left=Node(3)\n",
    "    root.left.right=Node(6)\n",
    "    root.left.right.left=Node(5)\n",
    "    root.left.right.right=Node(7)\n",
    "    root.right.right=Node(22)\n",
    "    root.right.right.left=Node(20)\n",
    "    print(checkSum(root))\n"
   ]
  },
  {
   "cell_type": "code",
   "execution_count": 10,
   "metadata": {},
   "outputs": [],
   "source": [
    "# Check if two nodes are cousins in a Binary Tree"
   ]
  },
  {
   "cell_type": "markdown",
   "metadata": {},
   "source": [
    "Two nodes are cousins of each other if they are at same level and have different parents"
   ]
  },
  {
   "cell_type": "code",
   "execution_count": 11,
   "metadata": {},
   "outputs": [
    {
     "name": "stdout",
     "output_type": "stream",
     "text": [
      "True\n"
     ]
    }
   ],
   "source": [
    "class Node:\n",
    "    def __init__(self,data):\n",
    "        self.data=data\n",
    "        self.left=None\n",
    "        self.right=None\n",
    "\n",
    "def getlevel(root,a,level):\n",
    "    if root is None:\n",
    "        return\n",
    "    ans=getlevel(root.left,a,level+1)\n",
    "    if ans:\n",
    "        return ans\n",
    "    else:\n",
    "        if root==a:\n",
    "            return level\n",
    "    return getlevel(root.right,b,level+1)\n",
    "\n",
    "def isSibling(root,a,b):\n",
    "    if root is None:\n",
    "        return False\n",
    "    if root.left==a and root.right==b:\n",
    "        return True\n",
    "    elif root.left==b and root.right==a:\n",
    "        return True\n",
    "    return isSibling(root.left,a,b) or isSibling(root.right,a,b)\n",
    "\n",
    "def isCousin(root,a,b):\n",
    "    if root is None:\n",
    "        return False\n",
    "    return getlevel(root,a,0)==getlevel(root,b,0) and not isSibling(root,a,b)\n",
    "\n",
    "if __name__ == '__main__':\n",
    "    root=Node(6)\n",
    "    root.left=Node(3)\n",
    "    root.right=Node(5)\n",
    "    root.left.left=Node(7)\n",
    "    root.left.right=Node(8)\n",
    "    root.right.left=Node(1)\n",
    "    root.right.right=Node(3)\n",
    "    a=root.left.left\n",
    "    b=root.right.right\n",
    "    print(isCousin(root,a,b))\n"
   ]
  },
  {
   "cell_type": "markdown",
   "metadata": {},
   "source": [
    "Problem can also be solved using level order traversal in one go"
   ]
  },
  {
   "cell_type": "code",
   "execution_count": 12,
   "metadata": {},
   "outputs": [
    {
     "name": "stdout",
     "output_type": "stream",
     "text": [
      "1 1 3 5\n",
      "True\n"
     ]
    }
   ],
   "source": [
    "class Node:\n",
    "    def __init__(self,data):\n",
    "        self.data=data\n",
    "        self.left=None\n",
    "        self.right=None\n",
    "\n",
    "def isCousin(root,a,b):\n",
    "    if root is None:\n",
    "        return False\n",
    "    level_a=None\n",
    "    level_b=None\n",
    "    parent_a=None\n",
    "    parent_b=None\n",
    "    queue=[]\n",
    "    queue.append(root)\n",
    "    level=-1\n",
    "    while queue:\n",
    "        level+=1\n",
    "        size=len(queue)\n",
    "        for i in range(size):\n",
    "\n",
    "            parent=queue.pop(0)\n",
    "            if parent.left:\n",
    "                if parent.left==a:\n",
    "                    level_a=level\n",
    "                    parent_a=parent\n",
    "                elif parent.left==b:\n",
    "                    level_b=level\n",
    "                    parent_b=parent\n",
    "                queue.append(parent.left)\n",
    "            if parent.right:\n",
    "                if parent.right==a:\n",
    "                    level_a=level\n",
    "                    parent_a=parent\n",
    "                elif parent.right==b:\n",
    "                    level_b=level\n",
    "                    parent_b=parent\n",
    "                queue.append(parent.right)\n",
    "        if level_a and level_b:\n",
    "            break\n",
    "    print(level_a,level_b,parent_a.data,parent_b.data)\n",
    "    if level_a==level_b and parent_a!=parent_b:\n",
    "        return True\n",
    "    return False\n",
    "\n",
    "if __name__ == '__main__':\n",
    "    root=Node(6)\n",
    "    root.left=Node(3)\n",
    "    root.right=Node(5)\n",
    "    root.left.left=Node(7)\n",
    "    root.left.right=Node(8)\n",
    "    root.right.left=Node(1)\n",
    "    root.right.right=Node(3)\n",
    "    a=root.left.left\n",
    "    b=root.right.right\n",
    "    print(isCousin(root,a,b))\n"
   ]
  },
  {
   "cell_type": "code",
   "execution_count": 13,
   "metadata": {},
   "outputs": [],
   "source": [
    "# Check if all leaves are at same level"
   ]
  },
  {
   "cell_type": "code",
   "execution_count": 14,
   "metadata": {},
   "outputs": [
    {
     "name": "stdout",
     "output_type": "stream",
     "text": [
      "True\n"
     ]
    }
   ],
   "source": [
    "class Node:\n",
    "    def __init__(self,data):\n",
    "        self.left=None\n",
    "        self.right=None\n",
    "        self.data=data\n",
    "\n",
    "def areLeavesAtSameLevelUtil(root,level):\n",
    "    if root is None:\n",
    "        return True\n",
    "\n",
    "    if root.left is None and root.right is None:\n",
    "        if areLeavesAtSameLevel.level==0:\n",
    "            areLeavesAtSameLevel.level=level\n",
    "            return True\n",
    "        return areLeavesAtSameLevel.level==level\n",
    "\n",
    "    return areLeavesAtSameLevelUtil(root.left,level+1) and areLeavesAtSameLevelUtil(root.right,level+1)\n",
    "\n",
    "def areLeavesAtSameLevel(root):\n",
    "    areLeavesAtSameLevel.level=0\n",
    "    level=0\n",
    "    return areLeavesAtSameLevelUtil(root,level)\n",
    "\n",
    "if __name__ == '__main__':\n",
    "    root=Node(12)\n",
    "    root.left=Node(5)\n",
    "    root.right=Node(7)\n",
    "    root.left.left=Node(3)\n",
    "    root.right.right=Node(1)\n",
    "    result=areLeavesAtSameLevel(root)\n",
    "    print(result)\n"
   ]
  },
  {
   "cell_type": "code",
   "execution_count": 1,
   "metadata": {},
   "outputs": [],
   "source": [
    "# Check if removing an edge can divide a Binary Tree in two halves"
   ]
  },
  {
   "cell_type": "markdown",
   "metadata": {},
   "source": [
    "Simple Approach - Find the total number of nodes. Then find nodes for each subtree. If c=n-c then property is satisfied"
   ]
  },
  {
   "cell_type": "code",
   "execution_count": 2,
   "metadata": {},
   "outputs": [
    {
     "name": "stdout",
     "output_type": "stream",
     "text": [
      "True\n"
     ]
    }
   ],
   "source": [
    "class Node:\n",
    "    def __init__(self,data):\n",
    "        self.data=data\n",
    "        self.left=None\n",
    "        self.right=None\n",
    "\n",
    "def count(root):\n",
    "     if root is None:\n",
    "         return 0\n",
    "     return count(root.left)+count(root.right)+1\n",
    "\n",
    "def checkUtil(root,n):\n",
    "    if root is None:\n",
    "        return False\n",
    "    if count(root)==n-count(root):\n",
    "        return True\n",
    "    return checkUtil(root.left,n) or checkUtil(root.right,n)\n",
    "\n",
    "def check(root):\n",
    "    n=count(root)\n",
    "    return checkUtil(root,n)\n",
    "\n",
    "if __name__ == '__main__':\n",
    "    root=Node(5)\n",
    "    root.left=Node(1)\n",
    "    root.right=Node(6)\n",
    "    root.left.left=Node(3)\n",
    "    root.right.left=Node(7)\n",
    "    root.right.right=Node(4)\n",
    "    print(check(root))\n"
   ]
  },
  {
   "cell_type": "markdown",
   "metadata": {},
   "source": [
    "Time Complexity - O(n^2) as count for each node is to be found"
   ]
  },
  {
   "cell_type": "markdown",
   "metadata": {},
   "source": [
    "Another Approach - Traverse the tree in bottom up fashion and keep track of the number of nodes in the subtree, return true if the condition is true"
   ]
  },
  {
   "cell_type": "code",
   "execution_count": 3,
   "metadata": {},
   "outputs": [
    {
     "name": "stdout",
     "output_type": "stream",
     "text": [
      "True\n"
     ]
    }
   ],
   "source": [
    "class Node:\n",
    "    def __init__(self,data):\n",
    "        self.data=data\n",
    "        self.left=None\n",
    "        self.right=None\n",
    "\n",
    "def count(root):\n",
    "    if root is None:\n",
    "        return 0\n",
    "    return count(root.left)+1+count(root.right)\n",
    "\n",
    "result=False\n",
    "\n",
    "def checkUtil(root,n):\n",
    "    global result\n",
    "    if root is None:\n",
    "        return 0\n",
    "    c=checkUtil(root.left,n)+1+checkUtil(root.right,n)\n",
    "    if c==n-c:\n",
    "        # print(root.data)\n",
    "        result=True\n",
    "    return c\n",
    "\n",
    "\n",
    "def check(root):\n",
    "    n=count(root)\n",
    "    checkUtil(root,n)\n",
    "    return result\n",
    "\n",
    "if __name__ == '__main__':\n",
    "    root=Node(5)\n",
    "    root.left=Node(1)\n",
    "    root.right=Node(6)\n",
    "    root.left.left=Node(3)\n",
    "    root.right.left=Node(7)\n",
    "    root.right.right=Node(4)\n",
    "    print(check(root))\n"
   ]
  },
  {
   "cell_type": "code",
   "execution_count": 4,
   "metadata": {},
   "outputs": [],
   "source": [
    "# Check if given Preorder, Inorder and Postorder traversals are of same tree"
   ]
  },
  {
   "cell_type": "markdown",
   "metadata": {},
   "source": [
    "The most basic approach to solve this problem will be to first construct a tree using two of the three given traversals and then do the third traversal on this constructed tree and compare it with the given traversal. If both of the traversals are same then print Yes otherwise print No."
   ]
  },
  {
   "cell_type": "code",
   "execution_count": 5,
   "metadata": {},
   "outputs": [
    {
     "name": "stdout",
     "output_type": "stream",
     "text": [
      "True\n"
     ]
    }
   ],
   "source": [
    "class Node:\n",
    "    def __init__(self,data):\n",
    "        self.data=data\n",
    "        self.left=None\n",
    "        self.right=None\n",
    "\n",
    "def getPreIndex():\n",
    "    return createTree.preIndex\n",
    "\n",
    "def incrementPreIndex():\n",
    "    createTree.preIndex+=1\n",
    "\n",
    "def createTreeUtil(inorder,preorder,map,low,high,size):\n",
    "    if getPreIndex()>=size or low>high:\n",
    "        return\n",
    "    root=Node(preorder[getPreIndex()])\n",
    "    incrementPreIndex()\n",
    "\n",
    "    if low==high:\n",
    "        return root\n",
    "    if getPreIndex()<size:\n",
    "        ind=map[root.data]\n",
    "        root.left=createTreeUtil(inorder,preorder,map,low,ind-1,size)\n",
    "        root.right=createTreeUtil(inorder,preorder,map,ind+1,high,size)\n",
    "\n",
    "    return root\n",
    "\n",
    "\n",
    "def createTree(inorder,preorder):\n",
    "    createTree.preIndex=0\n",
    "    size=len(inorder)\n",
    "    map={}\n",
    "    for i in range(size):\n",
    "        map[inorder[i]]=i\n",
    "    root=createTreeUtil(inorder,preorder,map,0,size-1,size)\n",
    "    return root\n",
    "\n",
    "def checkUtil(root,postorder,index):\n",
    "    if root is None:\n",
    "        return\n",
    "    checkUtil(root.left,postorder,index)\n",
    "    checkUtil(root.right,postorder,index)\n",
    "    if root.data==postorder[index[0]]:\n",
    "        index[0]+=1\n",
    "\n",
    "def check(inorder,preorder,postorder):\n",
    "    root=createTree(inorder,preorder)\n",
    "    index=[0]\n",
    "    checkUtil(root,postorder,index)\n",
    "    # print(index[0])\n",
    "    if index[0]==len(postorder):\n",
    "        return True\n",
    "    return False\n",
    "\n",
    "if __name__ == '__main__':\n",
    "    inorder=[4,2,5,1,3]\n",
    "    preorder=[1,2,4,5,3]\n",
    "    postorder=[4,5,2,3,1]\n",
    "    print(check(inorder,preorder,postorder))\n"
   ]
  },
  {
   "cell_type": "markdown",
   "metadata": {},
   "source": [
    "Another Approach without creating the tree"
   ]
  },
  {
   "cell_type": "markdown",
   "metadata": {},
   "source": [
    "Search for the first element of preorder array in the inorder array and store it’s index as idx, if it doesn’t exist then return False.\n",
    "<br><br>\n",
    "Everything from 0th index for inorder and postorder and from 1st index for preorder of length idx becomes left subtree for first element of the preorder array.\n",
    "<br><br>\n",
    "Everything from position idx+1 for inorder and preorder and from idx for postorder of length (length-idx-1) becomes right subtree for first element of preorder array.\n",
    "<br><br>\n",
    "Repeat the steps 1 to 3 recursively until length of arrays become either 0 (in which case we\n",
    "return true) or 1 (in which case we return True only if all three arrays are equal, else False)."
   ]
  },
  {
   "cell_type": "code",
   "execution_count": 1,
   "metadata": {},
   "outputs": [
    {
     "name": "stdout",
     "output_type": "stream",
     "text": [
      "True\n"
     ]
    }
   ],
   "source": [
    "class Node:\n",
    "    def __init__(self,data):\n",
    "        self.data=data\n",
    "        self.left=None\n",
    "        self.right=None\n",
    "\n",
    "def checkUtil(inorder,preorder,postorder,map,l):\n",
    "    if l==0:\n",
    "        return True\n",
    "    if l==1:\n",
    "        if inorder[0]==preorder[0] and preorder[0]==postorder[0]:\n",
    "            return True\n",
    "    index=-1\n",
    "    index=map[preorder[0]]\n",
    "    if index==-1:\n",
    "        return False\n",
    "    left=checkUtil(inorder,preorder[1:],postorder,map,index)\n",
    "    right=checkUtil(inorder[index+1:],preorder[index+1:],postorder[index:],map,l-index-1)\n",
    "\n",
    "    return left and right\n",
    "\n",
    "def check(inorder,preorder,postorder,l):\n",
    "    map={}\n",
    "    for i in range(l):\n",
    "        map[inorder[i]]=i\n",
    "    return checkUtil(inorder,preorder,postorder,map,l)\n",
    "\n",
    "if __name__ == '__main__':\n",
    "    inorder=[4,2,5,1,3]\n",
    "    preorder=[1,2,4,5,3]\n",
    "    postorder=[4,5,2,3,1]\n",
    "    print(check(inorder,preorder,postorder,len(inorder)))\n"
   ]
  },
  {
   "cell_type": "code",
   "execution_count": 2,
   "metadata": {},
   "outputs": [],
   "source": [
    "# Given level order traversal of a Binary Tree, check if the Tree is a Min-Heap"
   ]
  },
  {
   "cell_type": "markdown",
   "metadata": {},
   "source": [
    "Given the level order traversal of a Complete Binary Tree, determine whether the Binary Tree is a valid Min-Heap"
   ]
  },
  {
   "cell_type": "code",
   "execution_count": 3,
   "metadata": {},
   "outputs": [
    {
     "name": "stdout",
     "output_type": "stream",
     "text": [
      "True\n"
     ]
    }
   ],
   "source": [
    "def isMinHeap(levelOrder):\n",
    "\n",
    "    if len(levelOrder)==0 or len(levelOrder)==1:\n",
    "        return True\n",
    "    n=len(levelOrder)\n",
    "    for i in range(n):\n",
    "        l=2*i+1\n",
    "        r=2*i+2\n",
    "        if l<n and levelOrder[i]>levelOrder[l]:\n",
    "            return False\n",
    "        if r<n and levelOrder[i]>levelOrder[r]:\n",
    "            return False\n",
    "    return True\n",
    "\n",
    "if __name__ == '__main__':\n",
    "    levelOrder=[10, 15, 14, 25, 30]\n",
    "    print(isMinHeap(levelOrder))\n"
   ]
  },
  {
   "cell_type": "markdown",
   "metadata": {},
   "source": [
    "One optimization can be made to iterate only till the non leaf node i.e n//2-1"
   ]
  },
  {
   "cell_type": "code",
   "execution_count": 1,
   "metadata": {},
   "outputs": [],
   "source": [
    "# Check if leaf traversal of two Binary Trees is same"
   ]
  },
  {
   "cell_type": "markdown",
   "metadata": {},
   "source": [
    "One Solution can be to traverse one tree and store the leaves in an array. Now traverse another tree and compare the leaf nodes for equality. Time Complexity will be O(n) and space complexity will be O(m)"
   ]
  },
  {
   "cell_type": "markdown",
   "metadata": {},
   "source": [
    "Check with O(h1 + h2) space<br>\n",
    "The idea is use iterative traversal. Traverse both trees simultaneously, look for a leaf node in both trees and compare the found leaves. All leaves must match."
   ]
  },
  {
   "cell_type": "code",
   "execution_count": 2,
   "metadata": {},
   "outputs": [
    {
     "name": "stdout",
     "output_type": "stream",
     "text": [
      "True\n"
     ]
    }
   ],
   "source": [
    "class Node:\n",
    "    def __init__(self,data):\n",
    "        self.data=data\n",
    "        self.left=None\n",
    "        self.right=None\n",
    "\n",
    "def isLeaf(root):\n",
    "    if root.left is None and root.right is None:\n",
    "        return True\n",
    "    return False\n",
    "\n",
    "def checkLeafTraversal(root1,root2):\n",
    "    stack1=[]\n",
    "    stack2=[]\n",
    "\n",
    "    stack1.append(root1)\n",
    "    stack2.append(root2)\n",
    "\n",
    "    while len(stack1)!=0 or len(stack2)!=0:\n",
    "        if len(stack1)==0 or len(stack2)==0:\n",
    "            return False\n",
    "\n",
    "        temp1=stack1.pop()\n",
    "        temp2=stack2.pop()\n",
    "\n",
    "        while temp1 and not isLeaf(temp1):\n",
    "            if temp1.right:\n",
    "                stack1.append(temp1.right)\n",
    "            if temp1.left:\n",
    "                stack1.append(temp1.left)\n",
    "            temp1=stack1.pop()\n",
    "\n",
    "        while temp2 and not isLeaf(temp2):\n",
    "            if temp2.right:\n",
    "                stack2.append(temp2.right)\n",
    "            if temp2.left:\n",
    "                stack2.append(temp2.left)\n",
    "            temp2=stack2.pop()\n",
    "\n",
    "        if temp1==None and temp2!=None:\n",
    "            return False\n",
    "        if temp1!=None and temp2==None:\n",
    "            return False\n",
    "        if temp1.data!=temp2.data:\n",
    "            return False\n",
    "\n",
    "    return True\n",
    "\n",
    "if __name__ == '__main__':\n",
    "    root1 = Node(1)\n",
    "    root1.left = Node(2)\n",
    "    root1.right = Node(3)\n",
    "    root1.left.left = Node(4)\n",
    "    root1.right.left = Node(6)\n",
    "    root1.right.right = Node(7)\n",
    "\n",
    "    root2 = Node(0)\n",
    "    root2.left = Node(1)\n",
    "    root2.right = Node(5)\n",
    "    root2.left.right = Node(4)\n",
    "    root2.right.left = Node(6)\n",
    "    root2.right.right = Node(7)\n",
    "\n",
    "    print(checkLeafTraversal(root1,root2))\n"
   ]
  },
  {
   "cell_type": "code",
   "execution_count": 3,
   "metadata": {},
   "outputs": [],
   "source": [
    "# Check if a given Binary Tree is SumTree"
   ]
  },
  {
   "cell_type": "code",
   "execution_count": 4,
   "metadata": {},
   "outputs": [
    {
     "name": "stdout",
     "output_type": "stream",
     "text": [
      "True\n"
     ]
    }
   ],
   "source": [
    "class Node:\n",
    "    def __init__(self,data):\n",
    "        self.data=data\n",
    "        self.left=None\n",
    "        self.right=None\n",
    "\n",
    "def isLeaf(root):\n",
    "    if root.left is None and root.right is None:\n",
    "        return True\n",
    "    return False\n",
    "\n",
    "def calculateSum(root):\n",
    "    if root is None:\n",
    "        return 0\n",
    "    return calculateSum(root.left)+root.data+calculateSum(root.right)\n",
    "\n",
    "def isSumTree(root):\n",
    "    if root is None or isLeaf(root):\n",
    "        return True\n",
    "    leftSum=calculateSum(root.left)\n",
    "    rightSum=calculateSum(root.right)\n",
    "\n",
    "    if root.data==leftSum+rightSum and isSumTree(root.left) and isSumTree(root.right):\n",
    "        return True\n",
    "    return False\n",
    "\n",
    "if __name__ == '__main__':\n",
    "    root=Node(26)\n",
    "    root.left=Node(10)\n",
    "    root.right=Node(3)\n",
    "    root.left.left=Node(4)\n",
    "    root.left.right=Node(6)\n",
    "    root.right.right=Node(3)\n",
    "    print(isSumTree(root))\n"
   ]
  },
  {
   "cell_type": "markdown",
   "metadata": {},
   "source": [
    "O(n^2) Approach as for each and every node sum odf left subtree and sum of right sub tree is calculated"
   ]
  },
  {
   "cell_type": "markdown",
   "metadata": {},
   "source": [
    "Another Approach -> O(n) approach using bottom up approach [postorder]"
   ]
  },
  {
   "cell_type": "code",
   "execution_count": 5,
   "metadata": {},
   "outputs": [
    {
     "name": "stdout",
     "output_type": "stream",
     "text": [
      "True\n"
     ]
    }
   ],
   "source": [
    "class Node:\n",
    "    def __init__(self,data):\n",
    "        self.data=data\n",
    "        self.left=None\n",
    "        self.right=None\n",
    "\n",
    "def isLeaf(root):\n",
    "    if root.left is None and root.right is None:\n",
    "        return True\n",
    "    return False\n",
    "\n",
    "def isSumTree(root):\n",
    "    if root is None or isLeaf(root):\n",
    "        return True\n",
    "    leftSum=0\n",
    "    rightSum=0\n",
    "    if isSumTree(root.left) is True and isSumTree(root.right) is True:\n",
    "        if root.left is None:\n",
    "            leftSum=0\n",
    "        elif isLeaf(root.left):\n",
    "            leftSum=root.left.data\n",
    "        else:\n",
    "            leftSum=2*root.left.data\n",
    "\n",
    "        if root.right is None:\n",
    "            rightSum=0\n",
    "        elif isLeaf(root.right):\n",
    "            rightSum=root.right.data\n",
    "        else:\n",
    "            rightSum=2*root.right.data\n",
    "\n",
    "        if root.data==(leftSum+rightSum):\n",
    "            return True\n",
    "        return False\n",
    "    return False\n",
    "\n",
    "if __name__ == '__main__':\n",
    "    root=Node(26)\n",
    "    root.left=Node(10)\n",
    "    root.right=Node(3)\n",
    "    root.left.left=Node(4)\n",
    "    root.left.right=Node(6)\n",
    "    root.right.right=Node(3)\n",
    "    print(isSumTree(root))\n"
   ]
  },
  {
   "cell_type": "code",
   "execution_count": 6,
   "metadata": {},
   "outputs": [],
   "source": [
    "# Check whether a given binary tree is perfect or not"
   ]
  },
  {
   "cell_type": "markdown",
   "metadata": {},
   "source": [
    "A Perfect Binary Tree of height h (where height is number of nodes on path from root to leaf) has 2h – 1 nodes."
   ]
  },
  {
   "cell_type": "code",
   "execution_count": 7,
   "metadata": {},
   "outputs": [
    {
     "name": "stdout",
     "output_type": "stream",
     "text": [
      "True\n"
     ]
    }
   ],
   "source": [
    "class Node:\n",
    "    def __init__(self,data):\n",
    "        self.data=data\n",
    "        self.left=None\n",
    "        self.right=None\n",
    "\n",
    "def isPerfectTreeUtil(root,depth,tnodes,level):\n",
    "    if root is None:\n",
    "        return\n",
    "    isPerfectTreeUtil(root.left,depth,tnodes,level+1)\n",
    "    tnodes[0]+=1\n",
    "    depth[0]=max(depth[0],level)\n",
    "    isPerfectTreeUtil(root.right,depth,tnodes,level+1)\n",
    "\n",
    "def isPerfectTree(root):\n",
    "    if root is None:\n",
    "        return True\n",
    "    if root.left is None and root.right is None:\n",
    "        return True\n",
    "    depth=[0]\n",
    "    tnodes=[0]\n",
    "    isPerfectTreeUtil(root,depth,tnodes,0)\n",
    "    # print(tnodes,depth[0])\n",
    "    if tnodes[0]==(2**(depth[0]+1))-1:\n",
    "        return True\n",
    "    return False\n",
    "\n",
    "if __name__ == '__main__':\n",
    "    root=Node(10)\n",
    "    root.left=Node(20)\n",
    "    root.right=Node(30)\n",
    "    root.left.left=Node(40)\n",
    "    root.left.right=Node(50)\n",
    "    root.right.left=Node(60)\n",
    "    root.right.right=Node(70)\n",
    "    print(isPerfectTree(root))\n"
   ]
  },
  {
   "cell_type": "markdown",
   "metadata": {},
   "source": [
    "Another Approach"
   ]
  },
  {
   "cell_type": "code",
   "execution_count": 8,
   "metadata": {},
   "outputs": [
    {
     "name": "stdout",
     "output_type": "stream",
     "text": [
      "True\n"
     ]
    }
   ],
   "source": [
    "class Node:\n",
    "    def __init__(self,data):\n",
    "        self.data=data\n",
    "        self.left=None\n",
    "        self.right=None\n",
    "\n",
    "\n",
    "def findDepth(root,level):\n",
    "    if root is None:\n",
    "        return 0\n",
    "    while root.left:\n",
    "        level+=1\n",
    "        root=root.left\n",
    "    return level+1\n",
    "\n",
    "def isPerfectTreeUtil(root,depth,level):\n",
    "    if root is None:\n",
    "        return True\n",
    "    if root.left is None and root.right is None:\n",
    "        if depth==level+1:\n",
    "            return True\n",
    "        else:\n",
    "            return False\n",
    "    elif root.left is None or root.right is None:\n",
    "        return False\n",
    "    if isPerfectTreeUtil(root.left,depth,level+1)==True and isPerfectTreeUtil(root.right,depth,level+1) is True:\n",
    "        return True\n",
    "    return False\n",
    "\n",
    "def isPerfectTree(root):\n",
    "    depth=findDepth(root,0)\n",
    "    return isPerfectTreeUtil(root,depth,0)\n",
    "\n",
    "if __name__ == '__main__':\n",
    "    root=Node(10)\n",
    "    root.left=Node(20)\n",
    "    root.right=Node(30)\n",
    "    root.left.left=Node(40)\n",
    "    root.left.right=Node(50)\n",
    "    root.right.left=Node(60)\n",
    "    root.right.right=Node(70)\n",
    "    print(isPerfectTree(root))\n"
   ]
  },
  {
   "cell_type": "code",
   "execution_count": 9,
   "metadata": {},
   "outputs": [],
   "source": [
    "# Check whether a binary tree is a full binary tree or not"
   ]
  },
  {
   "cell_type": "markdown",
   "metadata": {},
   "source": [
    "A full binary tree is defined as a binary tree in which all nodes have either zero or two child nodes"
   ]
  },
  {
   "cell_type": "code",
   "execution_count": 10,
   "metadata": {},
   "outputs": [
    {
     "name": "stdout",
     "output_type": "stream",
     "text": [
      "True\n"
     ]
    }
   ],
   "source": [
    "class Node:\n",
    "    def __init__(self,data):\n",
    "        self.data=data\n",
    "        self.left=None\n",
    "        self.right=None\n",
    "\n",
    "\n",
    "def isFullTree(root):\n",
    "    if root is None:\n",
    "        return True\n",
    "    if root.left is None and root.right is None:\n",
    "        return True\n",
    "    if root.left is None or root.right is None:\n",
    "        return False\n",
    "    return isFullTree(root.left) and isFullTree(root.right)\n",
    "\n",
    "if __name__ == '__main__':\n",
    "    root=Node(1)\n",
    "    root.left=Node(2)\n",
    "    root.right=Node(3)\n",
    "    root.left.left=Node(4)\n",
    "    root.left.right=Node(5)\n",
    "    print(isFullTree(root))\n"
   ]
  },
  {
   "cell_type": "markdown",
   "metadata": {},
   "source": [
    "Iterative Approach"
   ]
  },
  {
   "cell_type": "code",
   "execution_count": 11,
   "metadata": {},
   "outputs": [
    {
     "name": "stdout",
     "output_type": "stream",
     "text": [
      "True\n"
     ]
    }
   ],
   "source": [
    "class Node:\n",
    "    def __init__(self,data):\n",
    "        self.data=data\n",
    "        self.left=None\n",
    "        self.right=None\n",
    "\n",
    "\n",
    "def isFullTree(root):\n",
    "    if root is None:\n",
    "        return True\n",
    "    stack=[]\n",
    "    stack.append(root)\n",
    "    while stack:\n",
    "        temp=stack.pop()\n",
    "        if temp.left is None and temp.right is not None:\n",
    "            return False\n",
    "        if temp.left is not None and temp.right is None:\n",
    "            return False\n",
    "        if temp.right:\n",
    "            stack.append(temp.right)\n",
    "        if temp.left:\n",
    "            stack.append(temp.left)\n",
    "    return True\n",
    "\n",
    "if __name__ == '__main__':\n",
    "    root=Node(1)\n",
    "    root.left=Node(2)\n",
    "    root.right=Node(3)\n",
    "    root.left.left=Node(4)\n",
    "    root.left.right=Node(5)\n",
    "    print(isFullTree(root))\n"
   ]
  },
  {
   "cell_type": "code",
   "execution_count": 12,
   "metadata": {},
   "outputs": [],
   "source": [
    "# Check whether a given Binary Tree is Complete or not | Set 1 (Iterative Solution)"
   ]
  },
  {
   "cell_type": "markdown",
   "metadata": {},
   "source": [
    "First Approach - Store levelorder traversal in array and then check if the tree is complete or not using the 2i+1 and 2i+2 logic"
   ]
  },
  {
   "cell_type": "code",
   "execution_count": 13,
   "metadata": {},
   "outputs": [
    {
     "name": "stdout",
     "output_type": "stream",
     "text": [
      "True\n"
     ]
    }
   ],
   "source": [
    "class Node:\n",
    "    def __init__(self,data):\n",
    "        self.data=data\n",
    "        self.left=None\n",
    "        self.right=None\n",
    "\n",
    "def storeLevelOrder(root,arr):\n",
    "    if root is None:\n",
    "        return\n",
    "    queue=[]\n",
    "    queue.append(root)\n",
    "    while queue:\n",
    "        temp=queue.pop(0)\n",
    "        arr.append(temp)\n",
    "        if temp.left:\n",
    "            queue.append(temp.left)\n",
    "        if temp.right:\n",
    "            queue.append(temp.right)\n",
    "\n",
    "def isCompleteTree(root):\n",
    "    arr=[]\n",
    "    storeLevelOrder(root,arr)\n",
    "    n=len(arr)\n",
    "    for i in range(n//2+1):\n",
    "        # print(arr[i].data)\n",
    "        if 2*i+1<n:\n",
    "            # print(arr[2*i+1].data)\n",
    "            if arr[i].left!=arr[2*i+1]:\n",
    "                return False\n",
    "        if 2*i+2<n:\n",
    "            # print(arr[2*i+2].data)\n",
    "            if arr[i].right!=arr[2*i+2]:\n",
    "                return False\n",
    "        # print()\n",
    "    return True\n",
    "\n",
    "if __name__ == '__main__':\n",
    "    root=Node(1)\n",
    "    root.left=Node(2)\n",
    "    root.right=Node(3)\n",
    "    root.left.left=Node(4)\n",
    "    print(isCompleteTree(root))\n"
   ]
  },
  {
   "cell_type": "markdown",
   "metadata": {},
   "source": [
    "Another approach without using th array"
   ]
  },
  {
   "cell_type": "code",
   "execution_count": 1,
   "metadata": {},
   "outputs": [
    {
     "name": "stdout",
     "output_type": "stream",
     "text": [
      "True\n"
     ]
    }
   ],
   "source": [
    "class Node:\n",
    "    def __init__(self,data):\n",
    "        self.data=data\n",
    "        self.left=None\n",
    "        self.right=None\n",
    "\n",
    "def isComplete(root):\n",
    "    if root is None:\n",
    "        return True\n",
    "    queue=[]\n",
    "    queue.append(root)\n",
    "    flag=False\n",
    "    while queue:\n",
    "        temp=queue.pop(0)\n",
    "        if temp.left:\n",
    "            if flag==True:\n",
    "                return False\n",
    "            queue.append(temp.left)\n",
    "        else:\n",
    "            flag=True\n",
    "        if temp.right:\n",
    "            if flag==True:\n",
    "                return False\n",
    "            queue.append(temp.right)\n",
    "        else:\n",
    "            flag=True\n",
    "    return True\n",
    "\n",
    "\n",
    "if __name__ == '__main__':\n",
    "    root=Node(1)\n",
    "    root.left=Node(2)\n",
    "    root.right=Node(3)\n",
    "    root.left.left=Node(4)\n",
    "    root.left.right=Node(5)\n",
    "    root.right.left=Node(6)\n",
    "    print(isComplete(root))\n"
   ]
  },
  {
   "cell_type": "code",
   "execution_count": 1,
   "metadata": {},
   "outputs": [],
   "source": [
    "# Check if a given Binary Tree is height balanced like a Red-Black Tree"
   ]
  },
  {
   "cell_type": "markdown",
   "metadata": {},
   "source": [
    "After RB Tree"
   ]
  },
  {
   "cell_type": "code",
   "execution_count": 2,
   "metadata": {},
   "outputs": [],
   "source": [
    "# Check if a binary tree is subtree of another binary tree "
   ]
  },
  {
   "cell_type": "markdown",
   "metadata": {},
   "source": [
    "First find if the root node exists in the big tree. if not return false. If Found then check if the subtree is present or not. Then we can check if the subtree is identical. NOTE-here only identical property is checked"
   ]
  },
  {
   "cell_type": "markdown",
   "metadata": {},
   "source": [
    "The simplest O(n^2) approach would be to check every node for identical property"
   ]
  },
  {
   "cell_type": "code",
   "execution_count": 5,
   "metadata": {},
   "outputs": [
    {
     "name": "stdout",
     "output_type": "stream",
     "text": [
      "True\n"
     ]
    }
   ],
   "source": [
    "class Node:\n",
    "    def __init__(self,data):\n",
    "        self.data=data\n",
    "        self.left=None\n",
    "        self.right=None\n",
    "\n",
    "def findNode(root1,root2):\n",
    "    if root2 is None:\n",
    "        return None\n",
    "    if root1.data==root2.data:\n",
    "        return root2\n",
    "    return findNode(root1,root2.left) or findNode(root1,root2.right)\n",
    "\n",
    "def isIdentical(root1,keyNode,total,n):\n",
    "    # if total[0]==n:\n",
    "    #     return True\n",
    "    if root1 is None and keyNode is None:\n",
    "        return True\n",
    "    if root1 is None or keyNode is None:\n",
    "        return False\n",
    "    # if root1.data==keyNode.data:\n",
    "    #     total[0]+=1\n",
    "    # else:\n",
    "    #     return False\n",
    "    return root1.data==keyNode.data and isIdentical(root1.left,keyNode.left,total,n) and isIdentical(root1.right,keyNode.right,total,n)\n",
    "\n",
    "def countTotal(root):\n",
    "    if root  is None:\n",
    "        return 0\n",
    "    return countTotal(root.left)+1+countTotal(root.right)\n",
    "\n",
    "def checkSubTree(root1,root2):\n",
    "    keyNode=findNode(root1,root2)\n",
    "    n=countTotal(root1)\n",
    "    total=[0]\n",
    "    # print(keyNode)\n",
    "    return isIdentical(root1,keyNode,total,n)\n",
    "\n",
    "if __name__ == '__main__':\n",
    "    root1=Node(28)\n",
    "    root1.left=Node(1)\n",
    "    root1.right=Node(2)\n",
    "    root1.left.right=Node(3)\n",
    "    # root1.left.left=Node(6)\n",
    "\n",
    "    root2=Node(29)\n",
    "    root2.left=Node(28)\n",
    "    root2.right=Node(5)\n",
    "    root2.left.left=Node(1)\n",
    "    root2.left.right=Node(2)\n",
    "    # root2.left.right.right=Node(21)\n",
    "    root2.left.left.right=Node(3)\n",
    "    root2.right.right=Node(19)\n",
    "\n",
    "    # root1=Node('a')\n",
    "    # root1.left=Node('b')\n",
    "    # root1.right=Node('d')\n",
    "    # root1.left.left=Node('c')\n",
    "    #\n",
    "    # root2=Node('a')\n",
    "    # root2.left=Node('b')\n",
    "    # root2.right=Node('d')\n",
    "    # root2.left.left=Node('c')\n",
    "    # root2.right.right=Node('e')\n",
    "\n",
    "    print(checkSubTree(root1,root2))\n"
   ]
  },
  {
   "cell_type": "markdown",
   "metadata": {},
   "source": [
    "To avoid checking for identical tree. Do level order traversal on the basis of smaller tree."
   ]
  },
  {
   "cell_type": "code",
   "execution_count": 6,
   "metadata": {},
   "outputs": [
    {
     "name": "stdout",
     "output_type": "stream",
     "text": [
      "True\n"
     ]
    }
   ],
   "source": [
    "class Node:\n",
    "    def __init__(self,data):\n",
    "        self.data=data\n",
    "        self.left=None\n",
    "        self.right=None\n",
    "\n",
    "def findNode(root1,root2):\n",
    "    if root2 is None:\n",
    "        return None\n",
    "    if root1.data==root2.data:\n",
    "        return root2\n",
    "    return findNode(root1,root2.left) or findNode(root1,root2.right)\n",
    "\n",
    "def isIdentical(root1,keyNode):\n",
    "    if root1 is None and keyNode is None:\n",
    "        return True\n",
    "    if root1 is None or keyNode is None:\n",
    "        return False\n",
    "    if root1.data!=keyNode.data:\n",
    "        return False\n",
    "    queue1=[]\n",
    "    queue2=[]\n",
    "    queue1.append(root1)\n",
    "    queue2.append(keyNode)\n",
    "    while queue1:\n",
    "        temp1=queue1.pop(0)\n",
    "        temp2=queue2.pop(0)\n",
    "        # if temp1.data!=temp2.data:\n",
    "        #     return False\n",
    "        if temp1.left:\n",
    "            queue1.append(temp1.left)\n",
    "            if temp2.left:\n",
    "                queue2.append(temp2.left)\n",
    "            else:\n",
    "                return False\n",
    "        if temp1.right:\n",
    "            queue1.append(temp1.right)\n",
    "            if temp2.right:\n",
    "                queue2.append(temp2.right)\n",
    "            else:\n",
    "                return False\n",
    "    return True\n",
    "\n",
    "\n",
    "# def isIdentical(root1,keyNode,total,n):\n",
    "#     # if total[0]==n:\n",
    "#     #     return True\n",
    "#     if root1 is None and keyNode is None:\n",
    "#         return True\n",
    "#     if root1 is None or keyNode is None:\n",
    "#         return False\n",
    "#     # if root1.data==keyNode.data:\n",
    "#     #     total[0]+=1\n",
    "#     # else:\n",
    "#     #     return False\n",
    "#     return root1.data==keyNode.data and isIdentical(root1.left,keyNode.left,total,n) and isIdentical(root1.right,keyNode.right,total,n)\n",
    "\n",
    "def countTotal(root):\n",
    "    if root  is None:\n",
    "        return 0\n",
    "    return countTotal(root.left)+1+countTotal(root.right)\n",
    "\n",
    "def checkSubTree(root1,root2):\n",
    "    keyNode=findNode(root1,root2)\n",
    "    # n=countTotal(root1)\n",
    "    # total=[0]\n",
    "    # print(keyNode)\n",
    "    # return isIdentical(root1,keyNode,total,n)\n",
    "    return isIdentical(root1,keyNode)\n",
    "\n",
    "if __name__ == '__main__':\n",
    "    root1=Node(28)\n",
    "    root1.left=Node(1)\n",
    "    root1.right=Node(2)\n",
    "    root1.left.right=Node(3)\n",
    "    # root1.left.left=Node(6)\n",
    "\n",
    "    root2=Node(29)\n",
    "    root2.left=Node(28)\n",
    "    root2.right=Node(5)\n",
    "    root2.left.left=Node(1)\n",
    "    root2.left.right=Node(2)\n",
    "    # root2.left.right.right=Node(21)\n",
    "    root2.left.left.right=Node(3)\n",
    "    root2.right.right=Node(19)\n",
    "    root2.left.left.left=Node(6)\n",
    "\n",
    "    # root1=Node('a')\n",
    "    # root1.left=Node('b')\n",
    "    # root1.right=Node('d')\n",
    "    # root1.left.left=Node('c')\n",
    "    #\n",
    "    # root2=Node('a')\n",
    "    # root2.left=Node('b')\n",
    "    # root2.right=Node('d')\n",
    "    # root2.left.left=Node('c')\n",
    "    # root2.right.right=Node('e')\n",
    "\n",
    "    print(checkSubTree(root1,root2))\n"
   ]
  },
  {
   "cell_type": "code",
   "execution_count": 7,
   "metadata": {},
   "outputs": [],
   "source": [
    "# Check if a Binary Tree (not BST) has duplicate values"
   ]
  },
  {
   "cell_type": "markdown",
   "metadata": {},
   "source": [
    "A simple solution is to store inorder traversal of given binary tree in an array. Then check if array has duplicates or not. We can avoid the use of array and solve the problem in O(n) time. The idea is to use hashing. We traverse the given tree, for every node, we check if it already exists in hash table. If exists, we return true (found duplicate). If it does not exist, we insert into hash table."
   ]
  },
  {
   "cell_type": "code",
   "execution_count": 8,
   "metadata": {},
   "outputs": [
    {
     "name": "stdout",
     "output_type": "stream",
     "text": [
      "True\n"
     ]
    }
   ],
   "source": [
    "from collections import defaultdict\n",
    "\n",
    "class Node:\n",
    "    def __init__(self,data):\n",
    "        self.data=data\n",
    "        self.left=None\n",
    "        self.right=None\n",
    "\n",
    "def checkForDuplicatesUtil(root,map):\n",
    "    if root is None:\n",
    "        return\n",
    "    checkForDuplicatesUtil(root.left,map)\n",
    "\n",
    "    if map[root.data]>=1:\n",
    "        checkForDuplicates.flag=True\n",
    "    map[root.data]+=1\n",
    "    # print(root.data,map[root.data])\n",
    "    # print(map)\n",
    "    checkForDuplicatesUtil(root.right,map)\n",
    "\n",
    "def checkForDuplicates(root):\n",
    "    checkForDuplicates.flag=False\n",
    "    map=defaultdict(int)\n",
    "    checkForDuplicatesUtil(root,map)\n",
    "    # print(checkForDuplicates.flag)\n",
    "    return checkForDuplicates.flag\n",
    "\n",
    "if __name__ == '__main__':\n",
    "    root=Node(1)\n",
    "    root.left=Node(2)\n",
    "    root.right=Node(3)\n",
    "    root.right.right=Node(2)\n",
    "    print(checkForDuplicates(root))\n"
   ]
  },
  {
   "cell_type": "markdown",
   "metadata": {},
   "source": [
    "Used default dict in my case. We can also use set"
   ]
  },
  {
   "cell_type": "markdown",
   "metadata": {},
   "source": [
    "# Concept - Serialize and Deserialize a Binary Tree"
   ]
  },
  {
   "cell_type": "markdown",
   "metadata": {},
   "source": [
    "Later"
   ]
  },
  {
   "cell_type": "code",
   "execution_count": 1,
   "metadata": {},
   "outputs": [],
   "source": [
    "# Check if a given graph is tree or not"
   ]
  },
  {
   "cell_type": "markdown",
   "metadata": {},
   "source": [
    "<pre>\n",
    "An undirected graph is tree if it has following properties.\n",
    "1) There is no cycle.\n",
    "2) The graph is connected.\n",
    "\n",
    "For an undirected graph we can either use BFS or DFS to detect above two properties.\n",
    "\n",
    "How to detect cycle in an undirected graph?\n",
    "We can either use BFS or DFS. For every visited vertex ‘v’, if there is an adjacent ‘u’ such that u is already visited and u is not parent of v, then there is a cycle in graph. If we don’t find such an adjacent for any vertex, we say that there is no cycle (See Detect cycle in an undirected graph for more details).\n",
    "\n",
    "How to check for connectivity?\n",
    "# Since the graph is undirected, we can start BFS or DFS from any vertex and check if all vertices are reachable or not. If all vertices are reachable, then graph is connected, otherwise not.\n",
    "</pre>"
   ]
  },
  {
   "cell_type": "code",
   "execution_count": 2,
   "metadata": {},
   "outputs": [
    {
     "name": "stdout",
     "output_type": "stream",
     "text": [
      "The given graph is a Tree\n"
     ]
    }
   ],
   "source": [
    "from collections import defaultdict\n",
    "\n",
    "class Graph:\n",
    "    def __init__(self,v):\n",
    "        self.v=v\n",
    "        self.graph=defaultdict(list)\n",
    "\n",
    "    def addEdge(self,u,v):\n",
    "        self.graph[u].append(v)\n",
    "        self.graph[v].append(u)\n",
    "\n",
    "\n",
    "    def isCyclicUtil(self,v,visited,parent):\n",
    "        visited[v]=True\n",
    "        for i in self.graph[v]:\n",
    "            if visited[i]==False:\n",
    "                if self.isCyclicUtil(i,visited,v):\n",
    "                    return True\n",
    "            else:\n",
    "                if parent!=i:\n",
    "                    return True\n",
    "        return False\n",
    "\n",
    "\n",
    "    def isCyclic(self,visited):\n",
    "        for i in range(self.v):\n",
    "            if visited[i]==False:\n",
    "                if self.isCyclicUtil(i,visited,-1)==True:\n",
    "                    return True\n",
    "        return False\n",
    "\n",
    "    def isTree(self):\n",
    "        visited=[False]*self.v\n",
    "        if self.isCyclic(visited):\n",
    "            return False\n",
    "\n",
    "        for i in range(len(visited)):\n",
    "            if visited[i]==False:\n",
    "                return False\n",
    "        return True\n",
    "\n",
    "if __name__ == '__main__':\n",
    "    g=Graph(5)\n",
    "    g.addEdge(1,0)\n",
    "    g.addEdge(0,2)\n",
    "    # g.addEdge(2,1)\n",
    "    g.addEdge(0,3)\n",
    "    g.addEdge(3,4)\n",
    "    if g.isTree():\n",
    "        print('The given graph is a Tree')\n",
    "    else:\n",
    "        print('The given graph is not a Tree')\n"
   ]
  },
  {
   "cell_type": "code",
   "execution_count": 3,
   "metadata": {},
   "outputs": [],
   "source": [
    "# Check if two trees are Mirror"
   ]
  },
  {
   "cell_type": "code",
   "execution_count": 4,
   "metadata": {},
   "outputs": [
    {
     "name": "stdout",
     "output_type": "stream",
     "text": [
      "True\n"
     ]
    }
   ],
   "source": [
    "class Node:\n",
    "    def __init__(self,data):\n",
    "        self.data=data\n",
    "        self.left=None\n",
    "        self.right=None\n",
    "\n",
    "\n",
    "def isMirror(root1,root2):\n",
    "    if root1 is None and root2 is None:\n",
    "        return True\n",
    "    if root1 is None or root2 is None:\n",
    "        return False\n",
    "\n",
    "    return (root1.data==root2.data) and isMirror(root1.left,root2.right) and isMirror(root1.right,root2.left)\n",
    "\n",
    "\n",
    "\n",
    "if __name__ == '__main__':\n",
    "    root1=Node(1)\n",
    "    root1.left=Node(3)\n",
    "    root1.right=Node(2)\n",
    "    root1.right.left=Node(5)\n",
    "    root1.right.right=Node(4)\n",
    "\n",
    "    root2=Node(1)\n",
    "    root2.left=Node(2)\n",
    "    root2.right=Node(3)\n",
    "    root2.left.left =Node(4)\n",
    "    root2.left.right=Node(5)\n",
    "\n",
    "    print(isMirror(root1,root2))\n"
   ]
  },
  {
   "cell_type": "code",
   "execution_count": 5,
   "metadata": {},
   "outputs": [],
   "source": [
    "# Iterative method to check if two trees are mirror of each other"
   ]
  },
  {
   "cell_type": "markdown",
   "metadata": {},
   "source": [
    "Use stacks "
   ]
  },
  {
   "cell_type": "code",
   "execution_count": 6,
   "metadata": {},
   "outputs": [
    {
     "name": "stdout",
     "output_type": "stream",
     "text": [
      "True\n"
     ]
    }
   ],
   "source": [
    "class Node:\n",
    "    def __init__(self,data):\n",
    "        self.data=data\n",
    "        self.left=None\n",
    "        self.right=None\n",
    "\n",
    "def isMirror(root1,root2):\n",
    "    if root1 is None and root2 is None:\n",
    "        return True\n",
    "    if root1 is None or root2 is None:\n",
    "        return False\n",
    "    stack1=[]\n",
    "    stack2=[]\n",
    "    stack1.append(root1)\n",
    "    stack2.append(root2)\n",
    "    while stack1 or stack2:\n",
    "        temp1=stack1.pop()\n",
    "        temp2=stack2.pop()\n",
    "\n",
    "        if temp1.data!=temp2.data:\n",
    "            return False\n",
    "\n",
    "        if temp1.left is None and temp2.right is not None or temp2.right is None and temp1.left is not None:\n",
    "            return False\n",
    "        if temp1.left:\n",
    "            stack1.append(temp1.left)\n",
    "            stack2.append(temp2.right)\n",
    "\n",
    "        if temp2.left is None and temp1.right is not None or temp1.right is None and temp2.left is not None:\n",
    "            return False\n",
    "        if temp2.left:\n",
    "            stack1.append(temp1.right)\n",
    "            stack2.append(temp2.left)\n",
    "    return True\n",
    "\n",
    "if __name__ == '__main__':\n",
    "    root1=Node(1)\n",
    "    root1.left=Node(3)\n",
    "    root1.right=Node(2)\n",
    "    root1.right.left=Node(5)\n",
    "    root1.right.right=Node(4)\n",
    "\n",
    "    root2=Node(1)\n",
    "    root2.left=Node(2)\n",
    "    root2.right=Node(3)\n",
    "    root2.left.left=Node(4)\n",
    "    root2.left.right=Node(5)\n",
    "\n",
    "    print(isMirror(root1,root2))\n"
   ]
  },
  {
   "cell_type": "markdown",
   "metadata": {},
   "source": [
    "Another Approach- Do inorder traversal on one tree and reverse inorder on another. If the node data is different, then return false. If at any point of time one root becomes null while other is not none then return false\n"
   ]
  },
  {
   "cell_type": "code",
   "execution_count": 7,
   "metadata": {},
   "outputs": [
    {
     "name": "stdout",
     "output_type": "stream",
     "text": [
      "True\n"
     ]
    }
   ],
   "source": [
    "class Node:\n",
    "    def __init__(self,data):\n",
    "        self.data=data\n",
    "        self.left=None\n",
    "        self.right=None\n",
    "\n",
    "def isMirror(root1,root2):\n",
    "    if root1 is None and root2 is None:\n",
    "        return True\n",
    "    if root1 is None or root2 is None:\n",
    "        return False\n",
    "    stack1=[]\n",
    "    stack2=[]\n",
    "    stack1.append(root1)\n",
    "    stack2.append(root2)\n",
    "    curr1=root1\n",
    "    curr2=root2\n",
    "    while True:\n",
    "        while curr1 and curr2:\n",
    "            stack1.append(curr1)\n",
    "            stack2.append(curr2)\n",
    "            curr1=curr1.left\n",
    "            curr2=curr2.right\n",
    "        if not (curr1 is None and curr2 is None):\n",
    "            return False\n",
    "        if len(stack1) and len(stack2):\n",
    "            curr1=stack1.pop()\n",
    "            curr2=stack2.pop()\n",
    "            if curr1.data!=curr2.data:\n",
    "                return False\n",
    "            else:\n",
    "                curr1=curr1.right\n",
    "                curr2=curr2.left\n",
    "        else:\n",
    "            break\n",
    "    return True\n",
    "\n",
    "if __name__ == '__main__':\n",
    "    root1=Node(1)\n",
    "    root1.left=Node(3)\n",
    "    root1.right=Node(2)\n",
    "    root1.right.left=Node(5)\n",
    "    root1.right.right=Node(4)\n",
    "\n",
    "    root2=Node(1)\n",
    "    root2.left=Node(2)\n",
    "    root2.right=Node(3)\n",
    "    root2.left.left=Node(4)\n",
    "    root2.left.right=Node(5)\n",
    "\n",
    "    print(isMirror(root1,root2))\n"
   ]
  },
  {
   "cell_type": "code",
   "execution_count": 8,
   "metadata": {},
   "outputs": [],
   "source": [
    "# Write Code to Determine if Two Trees are Identical"
   ]
  },
  {
   "cell_type": "code",
   "execution_count": 9,
   "metadata": {},
   "outputs": [
    {
     "name": "stdout",
     "output_type": "stream",
     "text": [
      "True\n"
     ]
    }
   ],
   "source": [
    "class Node:\n",
    "    def __init__(self,data):\n",
    "        self.data=data\n",
    "        self.left=None\n",
    "        self.right=None\n",
    "\n",
    "def isIdentical(root1,root2):\n",
    "    if root1 is None and root2 is None:\n",
    "        return True\n",
    "    if root1 is None or root2 is None:\n",
    "        return False\n",
    "    return root1.data==root2.data and isIdentical(root1.left,root2.left) and isIdentical(root1.right,root2.right)\n",
    "\n",
    "\n",
    "if __name__ == '__main__':\n",
    "    root1=Node(1)\n",
    "    root1.left=Node(2)\n",
    "    root1.right=Node(3)\n",
    "    root1.left.left=Node(4)\n",
    "    root1.left.right=Node(5)\n",
    "\n",
    "    root2=Node(1)\n",
    "    root2.left=Node(2)\n",
    "    root2.right=Node(3)\n",
    "    root2.left.left=Node(4)\n",
    "    root2.left.right=Node(5)\n",
    "\n",
    "    print(isIdentical(root1,root2))\n"
   ]
  },
  {
   "cell_type": "code",
   "execution_count": 10,
   "metadata": {},
   "outputs": [],
   "source": [
    "# Iterative function to check if two trees are identical "
   ]
  },
  {
   "cell_type": "markdown",
   "metadata": {},
   "source": [
    "Using the level order traversal"
   ]
  },
  {
   "cell_type": "code",
   "execution_count": 11,
   "metadata": {},
   "outputs": [
    {
     "name": "stdout",
     "output_type": "stream",
     "text": [
      "True\n"
     ]
    }
   ],
   "source": [
    "class Node:\n",
    "    def __init__(self,data):\n",
    "        self.data=data\n",
    "        self.left=None\n",
    "        self.right=None\n",
    "\n",
    "def isIdentical(root1,root2):\n",
    "    if root1 is None and root2 is None:\n",
    "        return True\n",
    "    if root1 is None or root2 is None:\n",
    "        return False\n",
    "    queue1=[]\n",
    "    queue2=[]\n",
    "    queue1.append(root1)\n",
    "    queue2.append(root2)\n",
    "    while queue1 and queue2:\n",
    "        temp1=queue1.pop(0)\n",
    "        temp2=queue2.pop(0)\n",
    "\n",
    "        if temp1.data!=temp2.data:\n",
    "            return False\n",
    "\n",
    "        if temp1.left:\n",
    "            queue1.append(temp1.left)\n",
    "        if temp1.right:\n",
    "            queue1.append(temp1.right)\n",
    "        if temp2.left:\n",
    "            queue2.append(temp2.left)\n",
    "        if temp2.right:\n",
    "            queue2.append(temp2.right)\n",
    "    if len(queue1) or len(queue2):\n",
    "        return False\n",
    "    return True\n",
    "\n",
    "\n",
    "\n",
    "if __name__ == '__main__':\n",
    "    root1=Node(1)\n",
    "    root1.left=Node(2)\n",
    "    root1.right=Node(3)\n",
    "    root1.left.left=Node(4)\n",
    "    root1.left.right=Node(5)\n",
    "\n",
    "    root2=Node(1)\n",
    "    root2.left=Node(2)\n",
    "    root2.right=Node(3)\n",
    "    root2.left.left=Node(4)\n",
    "    root2.left.right=Node(5)\n",
    "\n",
    "    print(isIdentical(root1,root2))\n"
   ]
  },
  {
   "cell_type": "code",
   "execution_count": 12,
   "metadata": {},
   "outputs": [],
   "source": [
    "# Check for Symmetric Binary Tree (Iterative Approach)"
   ]
  },
  {
   "cell_type": "markdown",
   "metadata": {},
   "source": [
    "For left subtree and right subtree check if these are mirror images of each other.\n",
    "User inorder and reverse inorder technique."
   ]
  },
  {
   "cell_type": "code",
   "execution_count": 13,
   "metadata": {},
   "outputs": [
    {
     "name": "stdout",
     "output_type": "stream",
     "text": [
      "True\n"
     ]
    }
   ],
   "source": [
    "class Node:\n",
    "    def __init__(self,data):\n",
    "        self.data=data\n",
    "        self.left=None\n",
    "        self.right=None\n",
    "\n",
    "def isSymmetricUtil(a,b):\n",
    "    if a is None and  b is None:\n",
    "        return True\n",
    "    if a is None or b is None:\n",
    "        return False\n",
    "    stack1=[]\n",
    "    stack2=[]\n",
    "    while True:\n",
    "        while a and b:\n",
    "            stack1.append(a)\n",
    "            stack2.append(b)\n",
    "            a=a.left\n",
    "            b=b.right\n",
    "        if not (a is None and b is None):\n",
    "            return False\n",
    "        if len(stack1) and len(stack2):\n",
    "            temp1=stack1.pop()\n",
    "            temp2=stack2.pop()\n",
    "            if temp1.data!=temp2.data:\n",
    "                return False\n",
    "            a=temp1.right\n",
    "            b=temp2.left\n",
    "        elif len(stack1) or len(stack2):\n",
    "            return False\n",
    "        else:\n",
    "            break\n",
    "    return True\n",
    "\n",
    "\n",
    "def isSymmetric(root):\n",
    "    if root is None:\n",
    "        return True\n",
    "    return isSymmetricUtil(root.left,root.right)\n",
    "\n",
    "if __name__ == '__main__':\n",
    "    root=Node(1)\n",
    "    root.left=Node(2)\n",
    "    root.right=Node(2)\n",
    "    root.left.left=Node(3)\n",
    "    root.left.right=Node(4)\n",
    "    root.right.left=Node(4)\n",
    "    root.right.right=Node(3)\n",
    "    print(isSymmetric(root))\n"
   ]
  },
  {
   "cell_type": "code",
   "execution_count": 1,
   "metadata": {},
   "outputs": [],
   "source": [
    "# Check if there is a root to leaf path with given sequence"
   ]
  },
  {
   "cell_type": "markdown",
   "metadata": {},
   "source": [
    "Given a binary tree and an array, the task is to find if the given array sequence is present as a root to leaf path in given tree"
   ]
  },
  {
   "cell_type": "markdown",
   "metadata": {},
   "source": [
    "Approach is to store the path from root to leaf in an array. Last node in an array is the leaf node.\n",
    "Once we have the path array we just need to match the two arrays"
   ]
  },
  {
   "cell_type": "code",
   "execution_count": 2,
   "metadata": {},
   "outputs": [
    {
     "name": "stdout",
     "output_type": "stream",
     "text": [
      "True\n"
     ]
    }
   ],
   "source": [
    "class Node:\n",
    "    def __init__(self,data):\n",
    "        self.data=data\n",
    "        self.left=None\n",
    "        self.right=None\n",
    "\n",
    "def findPath(root,path,leaf):\n",
    "    if root is None:\n",
    "        return False\n",
    "    path.append(root.data)\n",
    "    if root.data==leaf:\n",
    "        return True\n",
    "    if (root.left and findPath(root.left,path,leaf)) or (root.right and findPath(root.right,path,leaf)):\n",
    "        return True\n",
    "    path.pop()\n",
    "    return False\n",
    "\n",
    "def doesSequenceExists(root,arr):\n",
    "    if root is None:\n",
    "        return False\n",
    "    leaf=arr[-1]\n",
    "    path=[]\n",
    "    if not findPath(root,path,leaf):\n",
    "        return False\n",
    "    if len(path)!=len(arr):\n",
    "        return False\n",
    "    for i in range(len(path)):\n",
    "        if path[i]!=arr[i]:\n",
    "            return False\n",
    "    return True\n",
    "\n",
    "if __name__ == '__main__':\n",
    "    root=Node(5)\n",
    "    root.left=Node(2)\n",
    "    root.right=Node(3)\n",
    "    root.left.left=Node(1)\n",
    "    root.left.right=Node(4)\n",
    "    root.left.right.left=Node(6)\n",
    "    root.left.right.right=Node(8)\n",
    "    arr=[5,2,4,8]\n",
    "    print(doesSequenceExists(root,arr))\n"
   ]
  },
  {
   "cell_type": "markdown",
   "metadata": {},
   "source": [
    "Another Approach - Without using the array"
   ]
  },
  {
   "cell_type": "code",
   "execution_count": 3,
   "metadata": {},
   "outputs": [
    {
     "name": "stdout",
     "output_type": "stream",
     "text": [
      "True\n"
     ]
    }
   ],
   "source": [
    "class Node:\n",
    "    def __init__(self,data):\n",
    "        self.data=data\n",
    "        self.left=None\n",
    "        self.right=None\n",
    "\n",
    "def doesSequenceExists(root,arr):\n",
    "    index=[0]\n",
    "    n=len(arr)\n",
    "    return doesSequenceExistsUtil(root,arr,index,n)\n",
    "\n",
    "def doesSequenceExistsUtil(root,arr,index,n):\n",
    "    if index[0]==n:\n",
    "        return True\n",
    "    if root is None:\n",
    "        return False\n",
    "    if root.data!=arr[index[0]]:\n",
    "        return False\n",
    "    index[0]+=1\n",
    "    return doesSequenceExistsUtil(root.left,arr,index,n) or doesSequenceExistsUtil(root.right,arr,index,n)\n",
    "\n",
    "\n",
    "if __name__ == '__main__':\n",
    "    root=Node(5)\n",
    "    root.left=Node(2)\n",
    "    root.right=Node(3)\n",
    "    root.left.left=Node(1)\n",
    "    root.left.right=Node(4)\n",
    "    root.left.right.left=Node(6)\n",
    "    root.left.right.right=Node(8)\n",
    "    arr=[5,2,4,8]\n",
    "    n=len(arr)\n",
    "    print(doesSequenceExists(root,arr))\n",
    "\n",
    "    "
   ]
  },
  {
   "cell_type": "code",
   "execution_count": 4,
   "metadata": {},
   "outputs": [],
   "source": [
    "# Print middle level of perfect binary tree without finding height"
   ]
  },
  {
   "cell_type": "markdown",
   "metadata": {},
   "source": [
    "<pre>\n",
    "Consider every root to leaf path as a linked list and follow the same approach as you do while finding the middle in linked list\n",
    "\n",
    "Use fast and slow (or tortoise) pointers in each route of a the tree.\n",
    "1. Advance fast pointer towards leaf by 2.\n",
    "2. Advance slow pointer towards lead by 1.\n",
    "3. If fast pointer reaches the leaf print value at slow pointer\n",
    "4. Call recursively the next route.\n",
    "</pre>"
   ]
  },
  {
   "cell_type": "code",
   "execution_count": 5,
   "metadata": {},
   "outputs": [
    {
     "name": "stdout",
     "output_type": "stream",
     "text": [
      "4 5 6 7 "
     ]
    }
   ],
   "source": [
    "class Node:\n",
    "    def __init__(self,data):\n",
    "        self.data=data\n",
    "        self.left=None\n",
    "        self.right=None\n",
    "\n",
    "def printMiddleUtil(a,b):\n",
    "    if a is None:\n",
    "        return\n",
    "    if b is None:\n",
    "        print(a.data,end=\" \")\n",
    "        return\n",
    "    if b.left is None and b.right is None:\n",
    "        print(a.data,end=\" \")\n",
    "    printMiddleUtil(a.left,b.left.left)\n",
    "    printMiddleUtil(a.right,b.left.left)\n",
    "\n",
    "def printMiddle(root):\n",
    "    printMiddleUtil(root,root)\n",
    "\n",
    "if __name__ == '__main__':\n",
    "    root=Node(1)\n",
    "    root.left=Node(2)\n",
    "    root.right=Node(3)\n",
    "    root.left.left=Node(4)\n",
    "    root.left.right=Node(5)\n",
    "    root.right.left=Node(6)\n",
    "    root.right.right=Node(7)\n",
    "    root.left.left.left=Node(8)\n",
    "    root.left.left.right=Node(9)\n",
    "    root.left.right.left=Node(10)\n",
    "    root.left.right.right=Node(11)\n",
    "    root.right.left.left=Node(12)\n",
    "    root.right.left.right=Node(13)\n",
    "    root.right.right.left=Node(14)\n",
    "    root.right.right.right=Node(15)\n",
    "    printMiddle(root)\n"
   ]
  },
  {
   "cell_type": "code",
   "execution_count": 6,
   "metadata": {},
   "outputs": [],
   "source": [
    "# Print cousins of a given node in Binary Tree"
   ]
  },
  {
   "cell_type": "markdown",
   "metadata": {},
   "source": [
    "The idea is to first find the level of the node and its parent. Then if the level is same and the parent is different then that node is regarded as the cousin"
   ]
  },
  {
   "cell_type": "code",
   "execution_count": 7,
   "metadata": {},
   "outputs": [
    {
     "name": "stdout",
     "output_type": "stream",
     "text": [
      "8 9 10 11 14 15 "
     ]
    }
   ],
   "source": [
    "class Node:\n",
    "    def __init__(self,data):\n",
    "        self.data=data\n",
    "        self.left=None\n",
    "        self.right=None\n",
    "\n",
    "def findLevel(root,key,level,parent):\n",
    "    if root is None:\n",
    "        return\n",
    "    if root.data==key:\n",
    "        return (level,parent)\n",
    "\n",
    "    return findLevel(root.left,key,level+1,root) or findLevel(root.right,key,level+1,root)\n",
    "\n",
    "def printCousins(root,reqlevel,notParent,level,parent):\n",
    "    if root is None:\n",
    "        return\n",
    "    if level==reqlevel and parent!=notParent:\n",
    "        print(root.data,end=\" \")\n",
    "    printCousins(root.left,reqlevel,notParent,level+1,root)\n",
    "    printCousins(root.right,reqlevel,notParent,level+1,root)\n",
    "\n",
    "\n",
    "def findCousins(root,key):\n",
    "    if root is None:\n",
    "        return\n",
    "    level=findLevel(root,key,0,None)\n",
    "    # print(level[0],level[1].data)\n",
    "    if level[0]==0:\n",
    "        return\n",
    "    printCousins(root,level[0],level[1],0,None)\n",
    "\n",
    "if __name__ == '__main__':\n",
    "    root=Node(1)\n",
    "    root.left=Node(2)\n",
    "    root.right=Node(3)\n",
    "    root.left.left=Node(4)\n",
    "    root.left.right=Node(5)\n",
    "    root.right.left=Node(6)\n",
    "    root.right.right=Node(7)\n",
    "    root.left.left.left=Node(8)\n",
    "    root.left.left.right=Node(9)\n",
    "    root.left.right.left=Node(10)\n",
    "    root.left.right.right=Node(11)\n",
    "    root.right.left.left=Node(12)\n",
    "    root.right.left.right=Node(13)\n",
    "    root.right.right.left=Node(14)\n",
    "    root.right.right.right=Node(15)\n",
    "    findCousins(root,13)\n"
   ]
  },
  {
   "cell_type": "code",
   "execution_count": 8,
   "metadata": {},
   "outputs": [],
   "source": [
    "# Given a binary tree, print out all of its root-to-leaf paths one per line."
   ]
  },
  {
   "cell_type": "markdown",
   "metadata": {},
   "source": [
    "Same approach as discussed in root to a particular leaf path"
   ]
  },
  {
   "cell_type": "code",
   "execution_count": 9,
   "metadata": {},
   "outputs": [
    {
     "name": "stdout",
     "output_type": "stream",
     "text": [
      "1 2 4\n",
      "1 2 5\n",
      "1 3 6\n",
      "1 3 7\n"
     ]
    }
   ],
   "source": [
    "class Node:\n",
    "    def __init__(self,data):\n",
    "        self.data=data\n",
    "        self.left=None\n",
    "        self.right=None\n",
    "\n",
    "def printRootToLeafPathUtil(root,path):\n",
    "    if root is None:\n",
    "        return\n",
    "    path.append(str(root.data))\n",
    "    if root.left is None and root.right is None:\n",
    "        print(\" \".join(path))\n",
    "    printRootToLeafPathUtil(root.left,path)\n",
    "    printRootToLeafPathUtil(root.right,path)\n",
    "    path.pop()\n",
    "\n",
    "def printRootToLeafPath(root):\n",
    "    if root is None:\n",
    "        return\n",
    "    path=[]\n",
    "    printRootToLeafPathUtil(root,path)\n",
    "\n",
    "if __name__ == '__main__':\n",
    "    root=Node(1)\n",
    "    root.left=Node(2)\n",
    "    root.right=Node(3)\n",
    "    root.left.left=Node(4)\n",
    "    root.left.right=Node(5)\n",
    "    root.right.left=Node(6)\n",
    "    root.right.right=Node(7)\n",
    "    printRootToLeafPath(root)\n"
   ]
  },
  {
   "cell_type": "code",
   "execution_count": 10,
   "metadata": {},
   "outputs": [],
   "source": [
    "# Print path from root to a given node in a binary tree"
   ]
  },
  {
   "cell_type": "markdown",
   "metadata": {},
   "source": [
    "Same approach as Check if there is a root to leaf path with given sequence"
   ]
  },
  {
   "cell_type": "code",
   "execution_count": 11,
   "metadata": {},
   "outputs": [],
   "source": [
    "# Print the nodes at odd levels of a tree"
   ]
  },
  {
   "cell_type": "code",
   "execution_count": 12,
   "metadata": {},
   "outputs": [
    {
     "name": "stdout",
     "output_type": "stream",
     "text": [
      "1 4 5 6 "
     ]
    }
   ],
   "source": [
    "class Node:\n",
    "    def __init__(self,data):\n",
    "        self.data=data\n",
    "        self.left=None\n",
    "        self.right=None\n",
    "\n",
    "def printOddLevel(root):\n",
    "    if root is None:\n",
    "        return\n",
    "    queue=[]\n",
    "    queue.append(root)\n",
    "    var=0\n",
    "    while queue:\n",
    "        var+=1\n",
    "        size=len(queue)\n",
    "        for i in range(size):\n",
    "            temp=queue.pop(0)\n",
    "            if var%2!=0:\n",
    "                print(temp.data,end=\" \")\n",
    "            if temp.left:\n",
    "                queue.append(temp.left)\n",
    "            if temp.right:\n",
    "                queue.append(temp.right)\n",
    "\n",
    "\n",
    "if __name__ == '__main__':\n",
    "    root=Node(1)\n",
    "    root.left=Node(2)\n",
    "    root.right=Node(3)\n",
    "    root.left.left=Node(4)\n",
    "    root.left.right=Node(5)\n",
    "    root.left.right.left=Node(7)\n",
    "    root.left.right.right=Node(8)\n",
    "    root.right.right=Node(6)\n",
    "    root.right.right.left=Node(9)\n",
    "    printOddLevel(root)\n"
   ]
  },
  {
   "cell_type": "code",
   "execution_count": 13,
   "metadata": {},
   "outputs": [],
   "source": [
    "# Print all full nodes in a Binary Tree"
   ]
  },
  {
   "cell_type": "code",
   "execution_count": 14,
   "metadata": {},
   "outputs": [
    {
     "name": "stdout",
     "output_type": "stream",
     "text": [
      "1 3 "
     ]
    }
   ],
   "source": [
    "class Node:\n",
    "    def __init__(self,data):\n",
    "        self.data=data\n",
    "        self.left=None\n",
    "        self.right=None\n",
    "\n",
    "def printFullNode(root):\n",
    "    if root is None:\n",
    "        return\n",
    "    if root.left and root.right:\n",
    "        print(root.data,end=\" \")\n",
    "    printFullNode(root.left)\n",
    "    printFullNode(root.right)\n",
    "\n",
    "if __name__ == '__main__':\n",
    "    # root=Node(10)\n",
    "    # root.left=Node(8)\n",
    "    # root.right=Node(2)\n",
    "    # root.left.left=Node(3)\n",
    "    # root.left.right=Node(5)\n",
    "    # root.right.left=Node(7)\n",
    "\n",
    "    root=Node(1)\n",
    "    root.left=Node(2)\n",
    "    root.right=Node(3)\n",
    "    root.right.left=Node(4)\n",
    "    root.right.right=Node(6)\n",
    "    # root.right.left=Node(7)\n",
    "    printFullNode(root)\n"
   ]
  },
  {
   "cell_type": "markdown",
   "metadata": {},
   "source": [
    "# Summation"
   ]
  },
  {
   "cell_type": "code",
   "execution_count": 15,
   "metadata": {},
   "outputs": [],
   "source": [
    "# Sum of all nodes in a binary tree"
   ]
  },
  {
   "cell_type": "code",
   "execution_count": 16,
   "metadata": {},
   "outputs": [],
   "source": [
    "# Sum of all the parent nodes having child node x"
   ]
  },
  {
   "cell_type": "code",
   "execution_count": 17,
   "metadata": {},
   "outputs": [
    {
     "name": "stdout",
     "output_type": "stream",
     "text": [
      "11\n"
     ]
    }
   ],
   "source": [
    "class Node:\n",
    "    def __init__(self,data):\n",
    "        self.data=data\n",
    "        self.left=None\n",
    "        self.right=None\n",
    "\n",
    "def getSumUtil(root,key,total):\n",
    "    if root is None:\n",
    "        return\n",
    "    if (root.left and root.left.data==key) or (root.right and root.right.data==key):\n",
    "        total[0]+=root.data\n",
    "    getSumUtil(root.left,key,total)\n",
    "    getSumUtil(root.right,key,total)\n",
    "\n",
    "\n",
    "def getSum(root,key):\n",
    "    total=[0]\n",
    "    getSumUtil(root,key,total)\n",
    "    return total[0]\n",
    "\n",
    "if __name__ == '__main__':\n",
    "    root=Node(4)\n",
    "    root.left=Node(2)\n",
    "    root.right=Node(5)\n",
    "    root.left.left=Node(7)\n",
    "    root.left.right=Node(2)\n",
    "    root.right.left=Node(2)\n",
    "    root.right.right=Node(3)\n",
    "    print(getSum(root,2))\n"
   ]
  },
  {
   "cell_type": "code",
   "execution_count": 18,
   "metadata": {},
   "outputs": [],
   "source": [
    "# Find sum of all left leaves in a given Binary Tree"
   ]
  },
  {
   "cell_type": "code",
   "execution_count": 19,
   "metadata": {},
   "outputs": [
    {
     "name": "stdout",
     "output_type": "stream",
     "text": [
      "78\n"
     ]
    }
   ],
   "source": [
    "class Node:\n",
    "    def __init__(self,data):\n",
    "        self.data=data\n",
    "        self.left=None\n",
    "        self.right=None\n",
    "\n",
    "def isLeaf(root):\n",
    "    if root.left is None and root.right is None:\n",
    "        return True\n",
    "\n",
    "def getLeftSumUtil(root,total):\n",
    "    if root is None:\n",
    "        return\n",
    "    if (root.left and isLeaf(root.left)):\n",
    "        total[0]+=root.left.data\n",
    "    getLeftSumUtil(root.left,total)\n",
    "    getLeftSumUtil(root.right,total)\n",
    "\n",
    "\n",
    "def getLeftSum(root):\n",
    "    total=[0]\n",
    "    getLeftSumUtil(root,total)\n",
    "    return total[0]\n",
    "\n",
    "if __name__ == '__main__':\n",
    "    # root=Node(9)\n",
    "    # root.left=Node(8)\n",
    "    # root.right=Node(6)\n",
    "    # root.left.left=Node(5)\n",
    "    # root.left.right=Node(2)\n",
    "    # root.right.left=Node(1)\n",
    "    root = Node(20)\n",
    "    root.left = Node(9)\n",
    "    root.right = Node(49)\n",
    "    root.right.left = Node(23)\n",
    "    root.right.right = Node(52)\n",
    "    root.right.right.left = Node(50)\n",
    "    root.left.left = Node(5)\n",
    "    root.left.right = Node(12)\n",
    "    root.left.right.right = Node(12) \n",
    "    print(getLeftSum(root))\n"
   ]
  },
  {
   "cell_type": "markdown",
   "metadata": {},
   "source": [
    "Another Approach can be to use iterative preorder traversal to avoid function call stack"
   ]
  },
  {
   "cell_type": "code",
   "execution_count": 20,
   "metadata": {},
   "outputs": [],
   "source": [
    "# Find sum of all right leaves in a given Binary Tree"
   ]
  },
  {
   "cell_type": "code",
   "execution_count": 21,
   "metadata": {},
   "outputs": [
    {
     "name": "stdout",
     "output_type": "stream",
     "text": [
      "14\n"
     ]
    }
   ],
   "source": [
    "class Node:\n",
    "    def __init__(self,data):\n",
    "        self.data=data\n",
    "        self.left=None\n",
    "        self.right=None\n",
    "\n",
    "def isLeaf(root):\n",
    "    if root.left is None and root.right is None:\n",
    "        return True\n",
    "\n",
    "def getRightSumUtil(root,total):\n",
    "    if root is None:\n",
    "        return\n",
    "    if (root.right and isLeaf(root.right)):\n",
    "        total[0]+=root.right.data\n",
    "    getRightSumUtil(root.left,total)\n",
    "    getRightSumUtil(root.right,total)\n",
    "\n",
    "\n",
    "def getRightSum(root):\n",
    "    total=[0]\n",
    "    getRightSumUtil(root,total)\n",
    "    return total[0]\n",
    "\n",
    "if __name__ == '__main__':\n",
    "    # root=Node(9)\n",
    "    # root.left=Node(8)\n",
    "    # root.right=Node(6)\n",
    "    # root.left.left=Node(5)\n",
    "    # root.left.right=Node(2)\n",
    "    # root.right.left=Node(1)\n",
    "    root = Node(1)\n",
    "    root.left = Node(2)\n",
    "    root.left.left = Node(4)\n",
    "    root.left.right = Node(5)\n",
    "    root.left.left.right = Node(2)\n",
    "    root.right = Node(3)\n",
    "    root.right.right = Node(8)\n",
    "    root.right.right.left = Node(6)\n",
    "    root.right.right.right = Node(7)\n",
    "    print(getRightSum(root))\n"
   ]
  },
  {
   "cell_type": "markdown",
   "metadata": {},
   "source": [
    "# Find sum of all nodes of the given perfect binary tree\n",
    "Given a positive integer L which represents the number of levels in a perfect binary tree. Given that the leaf nodes in this perfect binary tree are numbered starting from 1 to n, where n is the number of leaf nodes. And the parent node is the sum of the two child nodes. Our task is to write a program to print the sum of all of the nodes of this perfect binary tree."
   ]
  },
  {
   "cell_type": "markdown",
   "metadata": {},
   "source": [
    "The simplest solution is to first generate the value of all of the nodes of the perfect binary tree and then calculate the sum of all of the nodes. We can first generate all of the leaf nodes and then proceed in the bottom-up fashion to generate rest of the nodes. We know that in a perfect binary tree, the number of leaf nodes can be given by 2L-1, where L is the number of levels. "
   ]
  },
  {
   "cell_type": "code",
   "execution_count": 22,
   "metadata": {},
   "outputs": [
    {
     "name": "stdout",
     "output_type": "stream",
     "text": [
      "680\n"
     ]
    }
   ],
   "source": [
    "def getSum(level):\n",
    "    totalLeaf=2**(level-1)\n",
    "    queue=list(range(1,totalLeaf+1))\n",
    "    total=0\n",
    "    while len(queue)>1:\n",
    "        left=queue.pop(0)\n",
    "        right=queue.pop(0)\n",
    "        total+=left+right\n",
    "        queue.append(left+right)\n",
    "    total+=queue.pop(0)\n",
    "    return total\n",
    "\n",
    "if __name__ == '__main__':\n",
    "    L=5\n",
    "    print(getSum(L))\n"
   ]
  },
  {
   "cell_type": "markdown",
   "metadata": {},
   "source": [
    "Another Approach-> An efficient approach is to observe that we only need to find the sum of all of the nodes. We can easily get the sum of all nodes at the last level using the formula of sum of first n natural numbers. Also, it can be seen that, as it is a perfect binary tree and parent nodes will be the sum of children nodes so the sum of nodes at all of the levels will be same. Therefore, we just need to find the sum of nodes at last level and multiply it by the total number of levels."
   ]
  },
  {
   "cell_type": "code",
   "execution_count": 23,
   "metadata": {},
   "outputs": [
    {
     "name": "stdout",
     "output_type": "stream",
     "text": [
      "680\n"
     ]
    }
   ],
   "source": [
    "def getSum(level):\n",
    "    totalLeaf=2**(level-1)\n",
    "    totalSum=totalLeaf*(totalLeaf+1)//2\n",
    "    return totalSum*level\n",
    "\n",
    "if __name__ == '__main__':\n",
    "    L=5\n",
    "    print(getSum(L))\n"
   ]
  },
  {
   "cell_type": "code",
   "execution_count": null,
   "metadata": {},
   "outputs": [],
   "source": []
  }
 ],
 "metadata": {
  "kernelspec": {
   "display_name": "Python 3",
   "language": "python",
   "name": "python3"
  },
  "language_info": {
   "codemirror_mode": {
    "name": "ipython",
    "version": 3
   },
   "file_extension": ".py",
   "mimetype": "text/x-python",
   "name": "python",
   "nbconvert_exporter": "python",
   "pygments_lexer": "ipython3",
   "version": "3.7.6"
  }
 },
 "nbformat": 4,
 "nbformat_minor": 4
}
