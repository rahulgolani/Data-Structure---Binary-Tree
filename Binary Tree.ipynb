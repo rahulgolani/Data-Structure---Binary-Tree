{
 "cells": [
  {
   "cell_type": "markdown",
   "metadata": {},
   "source": [
    "A tree whose elements have at most 2 children is called a binary tree"
   ]
  },
  {
   "cell_type": "markdown",
   "metadata": {},
   "source": [
    "Trees are hierarchical data structures."
   ]
  },
  {
   "cell_type": "markdown",
   "metadata": {},
   "source": [
    "# Why Trees?"
   ]
  },
  {
   "cell_type": "markdown",
   "metadata": {},
   "source": [
    "1. One reason to use trees might be because you want to store information that naturally forms a hierarchy. For example, the file system on a computer:\n",
    "file system\n",
    "<p>-----------</p>\n",
    "<p>     /    <-- root</p>\n",
    "<p>  /      \\</p>\n",
    "<p>...       home</p>\n",
    "<p>      /          \\</p>\n",
    "<p>   ugrad        course</p>\n",
    "<p>    /       /      |     \\</p>\n",
    "<p>  ...      cs101  cs112  cs113</p>  \n",
    "2. Trees (with some ordering e.g., BST) provide moderate access/search (quicker than Linked List and slower than arrays).\n",
    "3. Trees provide moderate insertion/deletion (quicker than Arrays and slower than Unordered Linked Lists).\n",
    "4. Like Linked Lists and unlike Arrays, Trees don’t have an upper limit on number of nodes as nodes are linked using pointers."
   ]
  },
  {
   "cell_type": "markdown",
   "metadata": {},
   "source": [
    "Main applications of trees include:\n",
    "1. Manipulate hierarchical data.\n",
    "2. Make information easy to search (see tree traversal).\n",
    "3. Router algorithms"
   ]
  },
  {
   "cell_type": "markdown",
   "metadata": {},
   "source": [
    "# Node Structure"
   ]
  },
  {
   "cell_type": "code",
   "execution_count": 9,
   "metadata": {},
   "outputs": [],
   "source": [
    "class Node:\n",
    "    def __init__(self,data):\n",
    "        self.data=data\n",
    "        self.left=None\n",
    "        self.right=None"
   ]
  },
  {
   "cell_type": "markdown",
   "metadata": {},
   "source": [
    "# Properties of Binary Tree"
   ]
  },
  {
   "cell_type": "markdown",
   "metadata": {},
   "source": [
    "1) The maximum number of nodes at level ‘i’ of a binary tree is 2^i [if i starts from 0 and i-1 if i starts from 1].<br><br>\n",
    "Here level is number of nodes on path from root to the node (including root and node). Level of root is 0.\n",
    "This can be proved by induction.\n",
    "For root, l = 0, number of nodes = 2^0 = 1\n",
    "Assume that maximum number of nodes on level l is 2^l\n",
    "Since in Binary tree every node has at most 2 children, next level would have twice nodes, i.e. 2 * 2^l"
   ]
  },
  {
   "cell_type": "markdown",
   "metadata": {},
   "source": [
    "2) Maximum number of nodes in a binary tree of height ‘h’ is 2^h – 1.<br><br>\n",
    "Here height of a tree is maximum number of nodes on root to leaf path. Height of a tree with single node is considered as 1.\n",
    "This result can be derived from point 2 above. A tree has maximum nodes if all levels have maximum nodes. So maximum number of nodes in a binary tree of height h is 1 + 2 + 4 + .. + 2h-1. This is a simple geometric series with h terms and sum of this series is 2h – 1.\n",
    "In some books, height of the root is considered as 0. In this convention, the above formula becomes 2h+1 – 1"
   ]
  },
  {
   "cell_type": "markdown",
   "metadata": {},
   "source": [
    "3) In a Binary Tree with N nodes, minimum possible height or minimum number of levels is Log2(N+1)"
   ]
  },
  {
   "cell_type": "markdown",
   "metadata": {},
   "source": [
    "4) In Binary tree where every node has 0 or 2 children, number of leaf nodes is always one more than nodes with two children.\n",
    "<br><br>\n",
    "   L = T + 1\n",
    "Where L = Number of leaf nodes\n",
    "      T = Number of internal nodes with two children"
   ]
  },
  {
   "cell_type": "markdown",
   "metadata": {},
   "source": [
    "# Types of Binary Tree"
   ]
  },
  {
   "cell_type": "markdown",
   "metadata": {},
   "source": [
    "Full Binary Tree - A Binary Tree is full if every node has 0 or 2 children. Following are examples of a full binary tree. We can also say a full binary tree is a binary tree in which all nodes except leaves have two children."
   ]
  },
  {
   "cell_type": "markdown",
   "metadata": {},
   "source": [
    "Complete Binary Tree - A Binary Tree is complete Binary Tree if all levels are completely filled except possibly the last level and the last level has all keys as left as possible"
   ]
  },
  {
   "cell_type": "markdown",
   "metadata": {},
   "source": [
    "Perfect Binary Tree - A Binary tree is Perfect Binary Tree in which all internal nodes have two children and all leaves are at the same level."
   ]
  },
  {
   "cell_type": "markdown",
   "metadata": {},
   "source": [
    "Balanced Binary Tree - \n",
    "A binary tree is balanced if the height of the tree is O(Log n) where n is the number of nodes. For Example, AVL tree maintains O(Log n) height by making sure that the difference between heights of left and right subtrees is atmost 1. Red-Black trees maintain O(Log n) height by making sure that the number of Black nodes on every root to leaf paths are same and there are no adjacent red nodes. Balanced Binary Search trees are performance wise good as they provide O(log n) time for search, insert and delete.\n",
    "\n"
   ]
  },
  {
   "cell_type": "markdown",
   "metadata": {},
   "source": [
    "A degenerate (or pathological) tree - A Tree where every internal node has one child. Such trees are performance-wise same as linked list.(skewed)"
   ]
  },
  {
   "cell_type": "markdown",
   "metadata": {},
   "source": [
    "# Handshaking Lemma and Interesting Tree Properties"
   ]
  },
  {
   "cell_type": "markdown",
   "metadata": {},
   "source": [
    "What is Handshaking Lemma?<br><br>\n",
    "Handshaking lemma is about undirected graph. In every finite undirected graph number of vertices with odd degree is always even. The handshaking lemma is a consequence of the degree sum formula (also sometimes called the handshaking lemma)<br><br>\n",
    "Summation of  deg(v) = 2 * |E|<br><br>\n",
    "deg(even vertices) + deg(odd vertices)= even(since 2*E will always be even)<br><br>\n",
    "we know summation of even degree will be even<br><br>\n",
    "so even + ___ = even<br><br>\n",
    "so the summation of degree of odd degree vertices has to be even . Therefore odd + odd=even.\n",
    "Hence we conclude hat vertices with odd degree is always even."
   ]
  },
  {
   "cell_type": "markdown",
   "metadata": {},
   "source": [
    "<strong>How is Handshaking Lemma useful in Tree Data structure?</strong>\n",
    "<br><br>\n",
    "Following are some interesting facts that can be proved using Handshaking lemma.\n",
    "<br><br>\n",
    "<b>1) In a k-ary tree where every node has either 0 or k children, following property is always true.</b>\n",
    "<br><br>\n",
    "<p>\n",
    "<b>L = (k - 1)*I + 1</b><br>\n",
    "Where L = Number of leaf nodes\n",
    "      I = Number of internal nodes  <br><br>\n",
    "Proof:\n",
    "Proof can be divided in two cases.\n",
    "\n",
    "Case 1 (Root is Leaf):There is only one node in tree. The above formula is true for single node as L = 1, I = 0.\n",
    "\n",
    "Case 2 (Root is Internal Node): For trees with more than 1 nodes, root is always internal node. The above formula can be proved using Handshaking Lemma for this case. A tree is an undirected acyclic graph.\n",
    "\n",
    "Total number of edges in Tree is number of nodes minus 1, i.e., |E| = L + I – 1.\n",
    "\n",
    "All internal nodes except root in the given type of tree have degree k + 1. Root has degree k. All leaves have degree 1. Applying the Handshaking lemma to such trees, we get following relation.\n",
    "\n",
    "  Sum of all degrees  = 2 * (Sum of Edges)\n",
    "\n",
    "  Sum of degrees of leaves + \n",
    "  Sum of degrees for Internal Node except root + \n",
    "  Root's degree = 2 * (No. of nodes - 1)\n",
    "\n",
    "  Putting values of above terms,   \n",
    "  L + (I-1)*(k+1) + k = 2 * (L + I - 1) \n",
    "  L + k*I - k + I -1 + k = 2*L  + 2I - 2\n",
    "  L + K*I + I - 1 = 2*L + 2*I - 2\n",
    "  K*I + 1 - I = L\n",
    "  (K-1)*I + 1 = L   </p>"
   ]
  },
  {
   "cell_type": "markdown",
   "metadata": {},
   "source": [
    "<b>2) In Binary tree, number of leaf nodes is always one more than nodes with two children.</b>"
   ]
  },
  {
   "cell_type": "markdown",
   "metadata": {},
   "source": [
    "Can be proved from above by putting k=2"
   ]
  },
  {
   "cell_type": "code",
   "execution_count": 10,
   "metadata": {},
   "outputs": [],
   "source": [
    "# Enumeration of Binary Trees"
   ]
  },
  {
   "cell_type": "markdown",
   "metadata": {},
   "source": [
    "A Binary Tree is labeled if every node is assigned a label and a Binary Tree is unlabeled if nodes are not assigned any label."
   ]
  },
  {
   "cell_type": "markdown",
   "metadata": {},
   "source": [
    "How many different Unlabeled Binary Trees can be there with n nodes?"
   ]
  },
  {
   "cell_type": "markdown",
   "metadata": {},
   "source": [
    "The idea is to consider all possible pair of counts for nodes in left and right subtrees and multiply the counts for a particular pair. Finally add results of all pairs.<br><br>\n",
    "<p>\n",
    "For example, let T(n) be count for n nodes.\n",
    "T(0) = 1  [There is only 1 empty tree]\n",
    "T(1) = 1\n",
    "T(2) = 2\n",
    "\n",
    "T(3) =  T(0)*T(2) + T(1)*T(1) + T(2)*T(0) = 1*2 + 1*1 + 2*1 = 5\n",
    "\n",
    "T(4) =  T(0)*T(3) + T(1)*T(2) + T(2)*T(1) + T(3)*T(0)\n",
    "     =  1*5 + 1*2 + 2*1 + 5*1 \n",
    "     =  14 \n",
    "\n",
    "T(n)=E{i=1} to {n} T(i-1)T(n-i)=E{i=0} to {n-1}  T(i)T(n-i-1)=C_n\n",
    "Here,\n",
    "T(i-1) represents number of nodes on the left-sub-tree\n",
    "T(n−i-1) represents number of nodes on the right-sub-tree\n",
    "\n",
    "n’th Catalan Number can also be evaluated using direct formula.\n",
    "\n",
    "   T(n) = (2n)! / (n+1)!n!\n",
    "\n",
    "How many labeled Binary Trees can be there with n nodes?\n",
    "To count labeled trees, we can use above count for unlabeled trees. The idea is simple, every unlabeled tree with n nodes can create n! different labeled trees by assigning different permutations of labels to all nodes.\n",
    "\n",
    "Therefore,\n",
    "\n",
    "Number of Labeled Tees = (Number of unlabeled trees) * n!\n",
    "                       = [(2n)! / (n+1)!n!]  × n!    \n",
    "    \n",
    "</p>"
   ]
  },
  {
   "cell_type": "code",
   "execution_count": 12,
   "metadata": {},
   "outputs": [
    {
     "name": "stdout",
     "output_type": "stream",
     "text": [
      "14\n"
     ]
    }
   ],
   "source": [
    "#Enumerate Unlabelled Binary Trees\n",
    "\n",
    "def getNumber(n):\n",
    "    res=[0 for i in range(n+1)]\n",
    "    res[0]=1 #empty tree\n",
    "    res[1]=1 #1 tree\n",
    "    res[2]=2 #2 trees with 1 node as left child and another node as right child\n",
    "    for i in range(3,n+1):\n",
    "        for j in range(i):\n",
    "            res[i]+=res[j]*res[i-j-1]  #Catalan Number equation.Cn=Summation of Cn*Cn-i-1\n",
    "\n",
    "    return res[i]\n",
    "\n",
    "if __name__ == '__main__':\n",
    "    n=4\n",
    "    print(getNumber(n))\n"
   ]
  },
  {
   "cell_type": "code",
   "execution_count": 13,
   "metadata": {},
   "outputs": [],
   "source": [
    "# Insertion in Binary Tree"
   ]
  },
  {
   "cell_type": "code",
   "execution_count": 14,
   "metadata": {},
   "outputs": [
    {
     "name": "stdout",
     "output_type": "stream",
     "text": [
      "7 11 10 15 9 8 \n",
      "7 11 12 10 15 9 8 "
     ]
    }
   ],
   "source": [
    "class Node:\n",
    "    def __init__(self,data):\n",
    "        self.data=data\n",
    "        self.left=None\n",
    "        self.right=None\n",
    "\n",
    "def inorder(root):\n",
    "    if root is None:\n",
    "        return\n",
    "    inorder(root.left)\n",
    "    print(root.data,end=\" \")\n",
    "    inorder(root.right)\n",
    "\n",
    "\n",
    "def insert(root,data):\n",
    "    if root is None:\n",
    "        root=Node(data)\n",
    "        return\n",
    "    q=[]\n",
    "    q.append(root)\n",
    "    while q:\n",
    "        temp=q.pop(0)\n",
    "        if temp.left is None:\n",
    "            temp.left=Node(data)\n",
    "            break\n",
    "        else:\n",
    "            q.append(temp.left)\n",
    "        if temp.right is None:\n",
    "            temp.right=Node(data)\n",
    "            break\n",
    "        else:\n",
    "            q.append(temp.right)\n",
    "\n",
    "if __name__ == '__main__':\n",
    "    root = Node(10)\n",
    "    root.left = Node(11)\n",
    "    root.left.left = Node(7)\n",
    "    root.right = Node(9)\n",
    "    root.right.left = Node(15)\n",
    "    root.right.right = Node(8)\n",
    "    inorder(root)\n",
    "    insert(root,12)\n",
    "    print()\n",
    "    inorder(root)\n"
   ]
  },
  {
   "cell_type": "markdown",
   "metadata": {},
   "source": [
    "Time-O(n)"
   ]
  },
  {
   "cell_type": "code",
   "execution_count": 15,
   "metadata": {},
   "outputs": [],
   "source": [
    "# Deletion in a Binary Tree"
   ]
  },
  {
   "cell_type": "markdown",
   "metadata": {},
   "source": [
    "Given a binary tree, delete a node from it by making sure that tree shrinks from the bottom (i.e. the deleted node is replaced by bottom most and rightmost node). Here we do not have any order among elements, so we replace with last element."
   ]
  },
  {
   "cell_type": "code",
   "execution_count": 16,
   "metadata": {},
   "outputs": [
    {
     "name": "stdout",
     "output_type": "stream",
     "text": [
      "7 11 12 10 15 9 8 \n",
      "7 8 12 10 15 9 "
     ]
    }
   ],
   "source": [
    "class Node:\n",
    "    def __init__(self,data):\n",
    "        self.data=data\n",
    "        self.left=None\n",
    "        self.right=None\n",
    "\n",
    "def delete(root,key):\n",
    "    if root is None:\n",
    "        return None\n",
    "    if root.data==key and root.left is None and root.right is None:\n",
    "        root=None\n",
    "        return root\n",
    "    queue=[]\n",
    "    queue.append(root)\n",
    "    keyNode=None\n",
    "    while queue:\n",
    "        node=queue.pop(0)\n",
    "        if node.data==key:\n",
    "            keyNode=node\n",
    "        if node.left:\n",
    "            queue.append(node.left)\n",
    "        if node.right:\n",
    "            queue.append(node.right)\n",
    "    # print(keyNode.data)\n",
    "    # print(node.data)\n",
    "    if keyNode:\n",
    "        x=node.data\n",
    "        deleteDeepest(root,x)\n",
    "        keyNode.data=x\n",
    "    else:\n",
    "        print('Key Not Found')\n",
    "    return root\n",
    "\n",
    "def deleteDeepest(root,dNode):\n",
    "    queue=[]\n",
    "    queue.append(root)\n",
    "    while queue:\n",
    "        node=queue.pop(0)\n",
    "        if node.left:\n",
    "            if node.left.data==dNode:\n",
    "                node.left=None\n",
    "                return\n",
    "            else:\n",
    "                queue.append(node.left)\n",
    "        if node.right:\n",
    "            if node.right.data==dNode:\n",
    "                node.right=None\n",
    "                return\n",
    "            else:\n",
    "                queue.append(node.right)\n",
    "\n",
    "def inorder(root):\n",
    "    if root is None:\n",
    "        return\n",
    "    inorder(root.left)\n",
    "    print(root.data,end=\" \")\n",
    "    inorder(root.right)\n",
    "\n",
    "\n",
    "if __name__ == '__main__':\n",
    "    root=Node(10)\n",
    "    root.left = Node(11)\n",
    "    root.left.left = Node(7)\n",
    "    root.left.right = Node(12)\n",
    "    root.right = Node(9)\n",
    "    root.right.left = Node(15)\n",
    "    root.right.right = Node(8)\n",
    "    inorder(root)\n",
    "    print()\n",
    "    delete(root,11)\n",
    "    inorder(root)\n"
   ]
  },
  {
   "cell_type": "markdown",
   "metadata": {},
   "source": [
    "We can also replace node’s data that is to be deleted with any node whose left and right child points to NULL [Just in case of BST] but we only use deepest node in order to maintain the Balance of a binary tree"
   ]
  },
  {
   "cell_type": "markdown",
   "metadata": {},
   "source": [
    "Time Complexity- O(n) to find the node and O(n) to delete the node -- O(n)"
   ]
  },
  {
   "cell_type": "code",
   "execution_count": 17,
   "metadata": {},
   "outputs": [],
   "source": [
    "# BFS vs DFS for Binary Tree"
   ]
  },
  {
   "cell_type": "markdown",
   "metadata": {},
   "source": [
    "Breadth First Traversal (Or Level Order Traversal)"
   ]
  },
  {
   "cell_type": "markdown",
   "metadata": {},
   "source": [
    "Depth First Traversals\n",
    "Inorder Traversal (Left-Root-Right)\n",
    "Preorder Traversal (Root-Left-Right)\n",
    "Postorder Traversal (Left-Right-Root)"
   ]
  },
  {
   "cell_type": "markdown",
   "metadata": {},
   "source": [
    "<strong>Is there any difference in terms of Time Complexity?</strong>\n",
    "All four traversals require O(n) time as they visit every node exactly once."
   ]
  },
  {
   "cell_type": "markdown",
   "metadata": {},
   "source": [
    "<strong>Is there any difference in terms of Extra Space?</strong><br>\n",
    "There is difference in terms of extra space required.\n",
    "\n",
    "Extra Space required for Level Order Traversal is O(w) where w is maximum width of Binary Tree. In level order traversal, queue one by one stores nodes of different level.\n",
    "Extra Space required for Depth First Traversals is O(h) where h is maximum height of Binary Tree. In Depth First Traversals, stack (or function call stack) stores all ancestors of a node."
   ]
  },
  {
   "cell_type": "markdown",
   "metadata": {},
   "source": [
    "Maximum Width of a Binary Tree at depth (or height) h can be 2h where h starts from 0. So the maximum number of nodes can be at the last level. And worst case occurs when Binary Tree is a perfect Binary Tree with numbers of nodes like 1, 3, 7, 15, …etc. In worst case, value of 2h is Ceil(n/2).\n",
    "<br>\n",
    "Height for a Balanced Binary Tree is O(Log n). Worst case occurs for skewed tree and worst case height becomes O(n).\n",
    "<br>\n",
    "So in worst case extra space required is O(n) for both. But worst cases occur for different types of trees."
   ]
  },
  {
   "cell_type": "markdown",
   "metadata": {},
   "source": [
    "<strong>It is evident from above points that extra space required for Level order traversal is likely to be more when tree is more balanced and extra space for Depth First Traversal is likely to be more when tree is less balanced.</strong>"
   ]
  },
  {
   "cell_type": "markdown",
   "metadata": {},
   "source": [
    "So if our problem is to search something that is more likely to closer to root, we would prefer BFS. And if the target node is close to a leaf, we would prefer DFS."
   ]
  },
  {
   "cell_type": "code",
   "execution_count": 18,
   "metadata": {},
   "outputs": [],
   "source": [
    "# Binary Tree (Array implementation)"
   ]
  },
  {
   "cell_type": "markdown",
   "metadata": {},
   "source": [
    "Parent will be put in index p.<br>\n",
    "Left Child will be put in 2*p+1<br>\n",
    "Right Cild will be put in 2*p+2<br>"
   ]
  },
  {
   "cell_type": "code",
   "execution_count": 21,
   "metadata": {},
   "outputs": [
    {
     "name": "stdout",
     "output_type": "stream",
     "text": [
      "A B C D E F - - - - "
     ]
    }
   ],
   "source": [
    "class Tree:\n",
    "\n",
    "    def __init__(self,size):\n",
    "        self.tree=[None for i in range(size)]\n",
    "\n",
    "    def setRoot(self,key):\n",
    "        self.tree[0]=key\n",
    "\n",
    "    def setLeft(self,key,parent):\n",
    "        if self.tree[parent]!=None:\n",
    "            self.tree[2*parent+1]=key\n",
    "        else:\n",
    "            print('Cannot set child as no parent found')\n",
    "\n",
    "    def setRight(self,key,parent):\n",
    "        if self.tree[parent]!=None:\n",
    "            self.tree[2*parent+2]=key\n",
    "        else:\n",
    "            print('Cannot set child as no parent found')\n",
    "\n",
    "    def printTree(self):\n",
    "        for i in self.tree:\n",
    "            if i!=None:\n",
    "                print(i,end=\" \")\n",
    "            else:\n",
    "                print('-',end=\" \")\n",
    "\n",
    "if __name__ == '__main__':\n",
    "    tree=Tree(10)\n",
    "    tree.setRoot('A')\n",
    "    tree.setLeft('B',0)\n",
    "    tree.setRight('C',0)\n",
    "    tree.setLeft('D',1)\n",
    "    tree.setRight('E',1)\n",
    "    tree.setLeft('F',2)\n",
    "\n",
    "    tree.printTree()\n",
    "# Index starts from 0"
   ]
  },
  {
   "cell_type": "markdown",
   "metadata": {},
   "source": [
    "# Applications of tree data structure"
   ]
  },
  {
   "cell_type": "markdown",
   "metadata": {},
   "source": [
    "Store hierarchical data, like folder structure, organization structure, XML/HTML data.<br>\n",
    "Binary Search Tree is a tree that allows fast search, insert, delete on a sorted data. It also allows finding closest item<br>\n",
    "Heap is a tree data structure which is implemented using arrays and used to implement priority queues.<br>\n",
    "B-Tree and B+ Tree : They are used to implement indexing in databases.<br>\n",
    "Syntax Tree: Used in Compilers.<br>\n",
    "K-D Tree: A space partitioning tree used to organize points in K dimensional space.<br>\n",
    "Trie : Used to implement dictionaries with prefix lookup.<br>\n",
    "Suffix Tree : For quick pattern searching in a fixed text.<br>\n",
    "Spanning Trees and shortest path trees are used in routers and bridges respectively in computer networks<br>"
   ]
  },
  {
   "cell_type": "markdown",
   "metadata": {},
   "source": [
    "# Applications of Minimum Spanning Tree Problem"
   ]
  },
  {
   "cell_type": "markdown",
   "metadata": {},
   "source": [
    "Network design.<br><br>\n",
    "– telephone, electrical, hydraulic, TV cable, computer, road\n",
    "<br>\n",
    "The standard application is to a problem like phone network design. You have a business with several offices; you want to lease phone lines to connect them up with each other; and the phone company charges different amounts of money to connect different pairs of cities. You want a set of lines that connects all your offices with a minimum total cost. It should be a spanning tree, since if a network isn’t a tree you can always remove some edges and save money."
   ]
  },
  {
   "cell_type": "markdown",
   "metadata": {},
   "source": [
    "Cluster analysis\n",
    "<br>\n",
    "k clustering problem can be viewed as finding an MST and deleting the k-1 most\n",
    "expensive edges."
   ]
  },
  {
   "cell_type": "markdown",
   "metadata": {},
   "source": [
    "# Continuous Tree"
   ]
  },
  {
   "cell_type": "markdown",
   "metadata": {},
   "source": [
    "A tree is Continuous tree if in each root to leaf path, absolute difference between keys of two adjacent is 1. We are given a binary tree, we need to check if tree is continuous or not."
   ]
  },
  {
   "cell_type": "code",
   "execution_count": 28,
   "metadata": {},
   "outputs": [
    {
     "name": "stdout",
     "output_type": "stream",
     "text": [
      "1 2 3 3 4 5 True\n",
      "6 5 4 7 8 10 False\n"
     ]
    }
   ],
   "source": [
    "class Node:\n",
    "    def __init__(self,data):\n",
    "        self.data=data\n",
    "        self.left=None\n",
    "        self.right=None\n",
    "\n",
    "def inorder(root):\n",
    "    if root is None:\n",
    "        return\n",
    "    inorder(root.left)\n",
    "    print(root.data,end=\" \")\n",
    "    inorder(root.right)\n",
    "\n",
    "def isContinuous(root):\n",
    "    if root is None:\n",
    "        return True\n",
    "    if root.left is None and root.right is None:\n",
    "        return True\n",
    "    if root.left is None:\n",
    "        return abs(root.data-root.right.data)==1 and isContinuous(root.right)\n",
    "    if root.right is None:\n",
    "        return abs(root.data-root.left.data)==1 and isContinuous(root.left)\n",
    "    return abs(root.data-root.left.data)==1 and abs(root.data-root.right.data)==1 and isContinuous(root.right) and isContinuous(root.left)\n",
    "\n",
    "if __name__==\"__main__\":\n",
    "    root=Node(3)\n",
    "    root.left=Node(2)\n",
    "    root.right=Node(4)\n",
    "    root.left.left=Node(1)\n",
    "    root.left.right=Node(3)\n",
    "    root.right.right=Node(5)\n",
    "    inorder(root)\n",
    "    print(isContinuous(root))\n",
    "    root=Node(7)\n",
    "    root.left=Node(5)\n",
    "    root.right=Node(8)\n",
    "    root.left.left=Node(6)\n",
    "    root.left.right=Node(4)\n",
    "    root.right.right=Node(10)\n",
    "    inorder(root)\n",
    "    print(isContinuous(root))"
   ]
  },
  {
   "cell_type": "markdown",
   "metadata": {},
   "source": [
    "# Foldable Binary Trees"
   ]
  },
  {
   "cell_type": "markdown",
   "metadata": {},
   "source": [
    "A tree can be folded if left and right subtrees of the tree are structure wise mirror image of each other. An empty tree is considered as foldable."
   ]
  },
  {
   "cell_type": "code",
   "execution_count": 34,
   "metadata": {},
   "outputs": [
    {
     "name": "stdout",
     "output_type": "stream",
     "text": [
      "7 9 10 11 15 \n",
      "True\n"
     ]
    }
   ],
   "source": [
    "class Node:\n",
    "    def __init__(self,data):\n",
    "        self.data=data\n",
    "        self.left=None\n",
    "        self.right=None\n",
    "\n",
    "def isFoldable(root):\n",
    "    if root is None:\n",
    "        return True\n",
    "    if root.left is None and root.right is None:\n",
    "        return True\n",
    "    return isFoldableUtil(root.left,root.right)\n",
    "\n",
    "def isFoldableUtil(a,b):\n",
    "    if a is None and b is None:\n",
    "        return True\n",
    "    if a is not None and b is not None:\n",
    "        return isFoldableUtil(a.left,b.right) and isFoldableUtil(a.right,b.left)\n",
    "    return False\n",
    "\n",
    "def inorder(root):\n",
    "    if root is None:\n",
    "        return \n",
    "    inorder(root.left)\n",
    "    print(root.data,end=\" \")\n",
    "    inorder(root.right)\n",
    "    \n",
    "if __name__==\"__main__\":\n",
    "    root=Node(10)\n",
    "    root.left=Node(7)\n",
    "    root.right=Node(15)\n",
    "    root.left.right=Node(9)\n",
    "    root.right.left=Node(11)\n",
    "    inorder(root)\n",
    "    print()\n",
    "    print(isFoldable(root))"
   ]
  },
  {
   "cell_type": "markdown",
   "metadata": {},
   "source": [
    "Another approach could be to convert the left sub tree to its mirror image and see ig the left and righ sub trees have the same structure"
   ]
  },
  {
   "cell_type": "code",
   "execution_count": 37,
   "metadata": {},
   "outputs": [
    {
     "name": "stdout",
     "output_type": "stream",
     "text": [
      "7 9 10 11 15 \n",
      "True\n"
     ]
    }
   ],
   "source": [
    "class Node:\n",
    "    def __init__(self,data):\n",
    "        self.data=data\n",
    "        self.left=None\n",
    "        self.right=None\n",
    "\n",
    "def toMirror(root):\n",
    "    if root is None:\n",
    "        return\n",
    "    toMirror(root.left)\n",
    "    toMirror(root.right)\n",
    "    temp=root.left\n",
    "    root.left=root.right\n",
    "    root.right=temp\n",
    "        \n",
    "        \n",
    "def isFoldable(root):\n",
    "    if root is None:\n",
    "        return True\n",
    "    if root.left is None and root.right is None:\n",
    "        return True\n",
    "    toMirror(root.left)\n",
    "    result= isStructSame(root.left,root.right)\n",
    "    toMirror(root.left)\n",
    "    return result\n",
    "\n",
    "def isStructSame(a,b):\n",
    "    if a is None and b is None:\n",
    "        return True\n",
    "    if a is not None and b is not None:\n",
    "        return isStructSame(a.left,b.left) and isStructSame(a.right,b.right)\n",
    "    return False\n",
    "\n",
    "def inorder(root):\n",
    "    if root is None:\n",
    "        return \n",
    "    inorder(root.left)\n",
    "    print(root.data,end=\" \")\n",
    "    inorder(root.right)\n",
    "    \n",
    "if __name__==\"__main__\":\n",
    "    root=Node(10)\n",
    "    root.left=Node(7)\n",
    "    root.right=Node(15)\n",
    "    root.left.right=Node(9)\n",
    "    root.right.left=Node(11)\n",
    "    inorder(root)\n",
    "    print()\n",
    "    print(isFoldable(root))"
   ]
  },
  {
   "cell_type": "markdown",
   "metadata": {},
   "source": [
    "Time Complexity-O(n)"
   ]
  },
  {
   "cell_type": "code",
   "execution_count": null,
   "metadata": {},
   "outputs": [],
   "source": []
  }
 ],
 "metadata": {
  "kernelspec": {
   "display_name": "Python 3",
   "language": "python",
   "name": "python3"
  },
  "language_info": {
   "codemirror_mode": {
    "name": "ipython",
    "version": 3
   },
   "file_extension": ".py",
   "mimetype": "text/x-python",
   "name": "python",
   "nbconvert_exporter": "python",
   "pygments_lexer": "ipython3",
   "version": "3.7.6"
  }
 },
 "nbformat": 4,
 "nbformat_minor": 4
}
